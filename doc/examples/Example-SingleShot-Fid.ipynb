{
 "cells": [
  {
   "cell_type": "markdown",
   "metadata": {},
   "source": [
    "# Example Q7: Single Shot Fidelity\n",
    "This example notebook shows how to run single shot fidelity experiments\n",
    "\n",
    "© Raytheon BBN Technologies 2021"
   ]
  },
  {
   "cell_type": "code",
   "execution_count": 1,
   "metadata": {},
   "outputs": [
    {
     "name": "stdout",
     "output_type": "stream",
     "text": [
      "auspex-WARNING: 2021-04-14 22:42:31,718 ----> You may not have the libusb backend: please install it!\n",
      "auspex-WARNING: 2021-04-14 22:42:32,035 ----> Could not load channelizer library; falling back to python methods.\n"
     ]
    }
   ],
   "source": [
    "from QGL import *\n",
    "from auspex.qubit import *"
   ]
  },
  {
   "cell_type": "code",
   "execution_count": 2,
   "metadata": {},
   "outputs": [],
   "source": [
    "cl = ChannelLibrary(\":memory:\")\n",
    "\n",
    "q1 = cl.new_qubit(\"q1\")\n",
    "aps2_1 = cl.new_APS2(\"BBNAPSa\", address=\"192.168.2.4\", trigger_interval=200e-6) \n",
    "aps2_2 = cl.new_APS2(\"BBNAPSb\", address=\"192.168.2.2\")\n",
    "dig_1  = cl.new_X6(\"Dig_1\", address=\"1\", sampling_rate=500e6, record_length=1024)\n",
    "h1 = cl.new_source(\"Holz_1\", \"HolzworthHS9000\", \"HS9004A-009-1\", reference='10MHz', power=-30)\n",
    "h2 = cl.new_source(\"Holz_2\", \"HolzworthHS9000\", \"HS9004A-009-2\", reference='10MHz', power=-30)\n",
    "\n",
    "cl.set_measure(q1, aps2_1, dig_1.ch(1), trig_channel=aps2_1.ch(\"m2\"), gate=False, generator=h1)\n",
    "cl.set_control(q1, aps2_2, generator=h2)\n",
    "cl.set_master(aps2_1, aps2_1.ch(\"m1\"))\n",
    "cl[\"q1\"].measure_chan.frequency = 0e6\n",
    "cl[\"q1\"].measure_chan.autodyne_freq = 10e6"
   ]
  },
  {
   "cell_type": "code",
   "execution_count": 3,
   "metadata": {},
   "outputs": [],
   "source": [
    "# setup the pipeline\n",
    "def create_fidelity_pipeline():\n",
    "    pl = PipelineManager()\n",
    "    pl.create_default_pipeline(qubits=(cl['q1'],))\n",
    "    for ql in ['q1']:\n",
    "        qb = cl[ql]\n",
    "        pl[ql].clear_pipeline()\n",
    "        pl[ql].stream_type = \"raw\"\n",
    "        pl[ql].create_default_pipeline(buffers=False) \n",
    "        pl[ql].if_freq = qb.measure_chan.autodyne_freq\n",
    "        pl[ql][\"Demodulate\"].frequency = qb.measure_chan.autodyne_freq\n",
    "        pl[ql].add(FidelityKernel(save_kernel=True, logistic_regression=False, set_threshold=True, label=f\"Q{ql[-1]}_SSF\"))\n",
    "        pl[ql][\"Demodulate\"][\"Integrate\"].simple_kernel = True\n",
    "        pl[ql][\"Demodulate\"][\"Integrate\"].box_car_start = 0.4e-7\n",
    "        pl[ql][\"Demodulate\"][\"Integrate\"].box_car_stop = 1.2e-6\n",
    "        #pl[ql][\"Demodulate\"][\"Integrate\"].add(Write(label=\"RR-Writer\", groupname=ql+\"-int\"))\n",
    "        pl[ql][\"Demodulate\"][\"Integrate\"][\"Average\"].add(Display(label=ql+\" - Final Average\", plot_dims=0))\n",
    "        pl[ql][\"Demodulate\"][\"Integrate\"][\"Average\"].add(Display(label=ql+\" - Partial Average\", plot_dims=0), connector_out=\"partial_average\")\n",
    "    return pl"
   ]
  },
  {
   "cell_type": "code",
   "execution_count": 4,
   "metadata": {},
   "outputs": [
    {
     "name": "stdout",
     "output_type": "stream",
     "text": [
      "auspex-INFO: 2021-04-14 22:42:42,780 ----> Could not find an existing pipeline. Creating a blank pipeline.\n"
     ]
    },
    {
     "data": {
      "text/html": [
       "\n",
       "            <style>\n",
       "                .hover_tooltip table { border-collapse: collapse; padding: 8px; }\n",
       "                .hover_tooltip th, .hover_tooltip td { text-align: left; padding: 8px; }\n",
       "                .hover_tooltip tr:nth-child(even) { background-color: #cccccc; padding: 8px; }\n",
       "            </style>\n",
       "            "
      ],
      "text/plain": [
       "<IPython.core.display.HTML object>"
      ]
     },
     "metadata": {},
     "output_type": "display_data"
    },
    {
     "data": {
      "application/vnd.jupyter.widget-view+json": {
       "model_id": "3bb2829909fe430fbdfd7b3a85c9e6de",
       "version_major": 2,
       "version_minor": 0
      },
      "text/plain": [
       "Figure(fig_margin={'top': 60, 'bottom': 60, 'left': 60, 'right': 60}, layout=Layout(height='500px', width='960…"
      ]
     },
     "metadata": {},
     "output_type": "display_data"
    }
   ],
   "source": [
    "pl = create_fidelity_pipeline()\n",
    "pl.show_pipeline()"
   ]
  },
  {
   "cell_type": "code",
   "execution_count": 5,
   "metadata": {},
   "outputs": [
    {
     "name": "stdout",
     "output_type": "stream",
     "text": [
      "Compiled 2 sequences.\n",
      "auspex-INFO: 2021-04-14 22:42:46,209 ----> Creating a new sample in the calibration database.\n"
     ]
    }
   ],
   "source": [
    "exp = SingleShotFidelityExperiment(q1, averages=20000, exp_name=\"Q1_SSF\")\n",
    "# f = 6.800e9 - cl[qubit].measure_chan.autodyne_freq\n",
    "# f = cl['Autodyne_Mq1'].frequency = 6.6895e9 # 6688895477 # 6689263627 # 6689631777 # 6.6893e9\n",
    "# span = 1e6\n",
    "# exp = QubitExperiment(PulsedSpec(cl[qubit], specOn=False), averages=256)\n",
    "# exp.add_instrument_sweep('Autodyne_M' + 'q1', 'frequency', np.arange(f-span, f+span, 0.1e6))\n",
    "# exp.add_instrument_sweep('Autodyne_M' + 'q1', '')\n",
    "# exp.run_sweeps()"
   ]
  },
  {
   "cell_type": "code",
   "execution_count": null,
   "metadata": {},
   "outputs": [],
   "source": []
  }
 ],
 "metadata": {
  "kernelspec": {
   "display_name": "Python 3",
   "language": "python",
   "name": "python3"
  },
  "language_info": {
   "codemirror_mode": {
    "name": "ipython",
    "version": 3
   },
   "file_extension": ".py",
   "mimetype": "text/x-python",
   "name": "python",
   "nbconvert_exporter": "python",
   "pygments_lexer": "ipython3",
   "version": "3.7.7"
  },
  "latex_envs": {
   "bibliofile": "biblio.bib",
   "cite_by": "apalike",
   "current_citInitial": 1,
   "eqLabelWithNumbers": true,
   "eqNumInitial": 0
  },
  "nav_menu": {},
  "toc": {
   "navigate_menu": true,
   "number_sections": true,
   "sideBar": true,
   "threshold": 6,
   "toc_cell": false,
   "toc_section_display": "block",
   "toc_window_display": false
  }
 },
 "nbformat": 4,
 "nbformat_minor": 2
}
