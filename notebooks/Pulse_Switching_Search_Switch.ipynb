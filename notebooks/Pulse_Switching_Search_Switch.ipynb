{
 "cells": [
  {
   "cell_type": "code",
   "execution_count": null,
   "metadata": {
    "collapsed": true
   },
   "outputs": [],
   "source": [
    "# Experimental Topology\n",
    "# lockin AO 2 -> Analog Attenuator Vdd\n",
    "# lockin AO 3 -> Analog Attenuator Vc (Control Voltages)\n",
    "# Keithley Output -> Voltage divider with 1 MOhm, DAQmx AI1\n",
    "# AWG Sync Marker Out -> DAQmx PFI0\n",
    "# AWG Samp. Marker Out -> PSPL Trigger"
   ]
  },
  {
   "cell_type": "code",
   "execution_count": 1,
   "metadata": {
    "collapsed": false
   },
   "outputs": [
    {
     "name": "stdout",
     "output_type": "stream",
     "text": [
      "C:\\Users\\qlab\\Documents\\GitHub\\pycontrol\n"
     ]
    }
   ],
   "source": [
    "cd .."
   ]
  },
  {
   "cell_type": "code",
   "execution_count": 2,
   "metadata": {
    "collapsed": true
   },
   "outputs": [],
   "source": [
    "from pycontrol.filters.io import WriteToHDF5, ProgressBar\n",
    "import numpy as np\n",
    "import matplotlib.pyplot as plt\n",
    "from analysis.h5shell import h5shell"
   ]
  },
  {
   "cell_type": "code",
   "execution_count": 3,
   "metadata": {
    "collapsed": true
   },
   "outputs": [],
   "source": [
    "from experiments.Pulse_Switching_Search_Switch import SwitchSearchExperiment"
   ]
  },
  {
   "cell_type": "code",
   "execution_count": 4,
   "metadata": {
    "collapsed": false
   },
   "outputs": [
    {
     "data": {
      "text/plain": [
       "<SweptParameter: pulse_duration>"
      ]
     },
     "execution_count": 4,
     "metadata": {},
     "output_type": "execute_result"
    }
   ],
   "source": [
    "exp = SwitchSearchExperiment()\n",
    "exp.sample = \"CSHE2-C4R2\"\n",
    "exp.field.value = 0.0133\n",
    "exp.measure_current = 3e-6\n",
    "exp.init_streams()\n",
    "volts = np.arange(-0.7, -0.1, 0.1)\n",
    "volts = np.append(volts, -1*np.flipud(volts))\n",
    "volts = np.append(-volts, np.flipud(volts))\n",
    "durs = 1e-9*np.array([3,5])\n",
    "exp.add_sweep(exp.pulse_voltage, volts)\n",
    "exp.add_sweep(exp.pulse_duration, durs)"
   ]
  },
  {
   "cell_type": "code",
   "execution_count": 5,
   "metadata": {
    "collapsed": true
   },
   "outputs": [],
   "source": [
    "# Set up measurement network\n",
    "wr = WriteToHDF5(\"data\\CSHE-Switching\\CSHE-Die2-C4R2\\CSHE2-C4R2-Search_Switch_2016-06-30.h5\")\n",
    "pbar = ProgressBar(num=2, notebook=True)\n",
    "edges = [(exp.daq_buffer, wr.data), (exp.daq_buffer, pbar.data)]\n",
    "# edges = [(exp.daq_buffer, wr.data)]\n",
    "exp.set_graph(edges)\n",
    "exp.init_instruments()"
   ]
  },
  {
   "cell_type": "code",
   "execution_count": 6,
   "metadata": {
    "collapsed": false
   },
   "outputs": [],
   "source": [
    "exp.run_sweeps()\n",
    "exp.shutdown_instruments()"
   ]
  },
  {
   "cell_type": "code",
   "execution_count": 7,
   "metadata": {
    "collapsed": true
   },
   "outputs": [],
   "source": [
    "# Get data\n",
    "f = h5shell(wr.filename,'r')\n",
    "dset= f[f.grep('data')[-1]]\n",
    "buffers = dset.value\n",
    "f.close()"
   ]
  },
  {
   "cell_type": "code",
   "execution_count": 8,
   "metadata": {
    "collapsed": true
   },
   "outputs": [],
   "source": [
    "# Plot the result\n",
    "buff_mean = np.mean(buffers, axis=(2,3))\n",
    "figs = []\n",
    "for res, dur in zip(buff_mean, durs):\n",
    "    figs.append(plt.figure())\n",
    "    plt.plot(volts, 1e-3*res/max(exp.measure_current,1e-7),'-o')\n",
    "    plt.xlabel(\"AWG amplitude (V)\", size=14);\n",
    "    plt.ylabel(\"Resistance (kOhm)\", size=14);\n",
    "    plt.title(\"PSPL Switch Volt Search (dur={})\".format(dur))\n",
    "plt.show()"
   ]
  },
  {
   "cell_type": "code",
   "execution_count": null,
   "metadata": {
    "collapsed": true
   },
   "outputs": [],
   "source": []
  }
 ],
 "metadata": {
  "kernelspec": {
   "display_name": "Python 3",
   "language": "python",
   "name": "python3"
  },
  "language_info": {
   "codemirror_mode": {
    "name": "ipython",
    "version": 3
   },
   "file_extension": ".py",
   "mimetype": "text/x-python",
   "name": "python",
   "nbconvert_exporter": "python",
   "pygments_lexer": "ipython3",
   "version": "3.5.1"
  }
 },
 "nbformat": 4,
 "nbformat_minor": 0
}
