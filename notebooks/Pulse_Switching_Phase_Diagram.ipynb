{
 "cells": [
  {
   "cell_type": "code",
   "execution_count": null,
   "metadata": {
    "collapsed": true
   },
   "outputs": [],
   "source": [
    "# Experimental Topology\n",
    "# lockin AO 2 -> Analog Attenuator Vdd\n",
    "# lockin AO 3 -> Analog Attenuator Vc (Control Voltages)\n",
    "# Keithley Output -> Voltage divider with 1 MOhm, DAQmx AI1\n",
    "# AWG Sync Marker Out -> DAQmx PFI0\n",
    "# AWG Samp. Marker Out -> PSPL Trigger"
   ]
  },
  {
   "cell_type": "code",
   "execution_count": 1,
   "metadata": {
    "collapsed": false
   },
   "outputs": [
    {
     "name": "stdout",
     "output_type": "stream",
     "text": [
      "C:\\Users\\qlab\\Documents\\GitHub\\pycontrol\n"
     ]
    }
   ],
   "source": [
    "cd .."
   ]
  },
  {
   "cell_type": "code",
   "execution_count": 2,
   "metadata": {
    "collapsed": true
   },
   "outputs": [],
   "source": [
    "from pycontrol.filters.io import WriteToHDF5, ProgressBar\n",
    "import numpy as np\n",
    "import itertools\n",
    "import time\n",
    "import matplotlib.pyplot as plt\n",
    "import analysis.switching as sw\n",
    "from adapt import refine\n",
    "from analysis.h5shell import h5shell"
   ]
  },
  {
   "cell_type": "code",
   "execution_count": 3,
   "metadata": {
    "collapsed": true
   },
   "outputs": [],
   "source": [
    "from experiments.Pulse_Switching_CSHE import SwitchingExperiment"
   ]
  },
  {
   "cell_type": "code",
   "execution_count": 4,
   "metadata": {
    "collapsed": false
   },
   "outputs": [],
   "source": [
    "exp = SwitchingExperiment()\n",
    "exp.sample = \"CSHE2-C4R2\"\n",
    "exp.comment = \"Phase Diagram -  AP to P - Interations = 3\"\n",
    "exp.polarity = 1 # 1: AP to P; -1: P to AP\n",
    "exp.iteration = 3\n",
    "exp.field.value = 0.0133\n",
    "exp.measure_current = 3e-6\n",
    "exp.init_instruments()"
   ]
  },
  {
   "cell_type": "code",
   "execution_count": 5,
   "metadata": {
    "collapsed": true
   },
   "outputs": [],
   "source": [
    "wr = WriteToHDF5(\"data\\CSHE-Switching\\CSHE-Die2-C4R2\\CSHE2-C4R2-AP2P_2016-06-29.h5\")\n",
    "pbar = ProgressBar(num=1, notebook=True)\n",
    "edges = [(exp.daq_buffer, wr.data), (exp.daq_buffer, pbar.data)]\n",
    "# edges = [(exp.daq_buffer, wr.data)]\n",
    "exp.set_graph(edges)"
   ]
  },
  {
   "cell_type": "code",
   "execution_count": 6,
   "metadata": {
    "collapsed": true
   },
   "outputs": [],
   "source": [
    "coarse_ts = 1e-9*np.linspace(0.1, 5, 5) # List of durations\n",
    "coarse_vs = np.linspace(0.3, 0.7, 5)\n",
    "points    = [coarse_ts, coarse_vs]\n",
    "points    = list(itertools.product(*points))\n",
    "\n",
    "main_sweep = exp.add_unstructured_sweep([exp.pulse_duration, exp.pulse_voltage], points)"
   ]
  },
  {
   "cell_type": "code",
   "execution_count": 7,
   "metadata": {
    "collapsed": false
   },
   "outputs": [
    {
     "name": "stderr",
     "output_type": "stream",
     "text": [
      "C:\\Users\\qlab\\Anaconda3\\lib\\site-packages\\sklearn\\cluster\\k_means_.py:821: RuntimeWarning: Explicit initial center position passed: performing only one init in k-means instead of n_init=10\n",
      "  n_jobs=self.n_jobs)\n"
     ]
    },
    {
     "name": "stdout",
     "output_type": "stream",
     "text": [
      "11 new points added.\n",
      "Added 11 new points.\n",
      "Elapsed time: 0.22328650951385498\n",
      "\n",
      "11 new points added.\n",
      "Added 11 new points.\n",
      "Elapsed time: 0.3343453884124756\n",
      "\n",
      "20 new points added.\n",
      "Added 20 new points.\n",
      "Elapsed time: 0.44807287454605105\n"
     ]
    }
   ],
   "source": [
    "figs = []\n",
    "t1 = time.time()\n",
    "for i in range(exp.iteration):\n",
    "    exp.reset()\n",
    "    exp.run_sweeps()\n",
    "    points, mean = sw.load_switching_data(wr.filename)\n",
    "    figs.append(sw.phase_diagram_mesh(points, mean, title=\"Iteration={}\".format(i)))\n",
    "    new_points = refine.refine_scalar_field(points, mean, all_points=False,\n",
    "                                criterion=\"integral\", threshold = \"one_sigma\")\n",
    "    if new_points is None:\n",
    "        print(\"No more points can be added.\")\n",
    "        break\n",
    "    #\n",
    "    print(\"Elapsed time: {} min.\".format((time.time()-t1)/60))\n",
    "    main_sweep.update_values(new_points)"
   ]
  },
  {
   "cell_type": "code",
   "execution_count": 8,
   "metadata": {
    "collapsed": false
   },
   "outputs": [
    {
     "name": "stdout",
     "output_type": "stream",
     "text": [
      "Warning: failed to stop task (this normally happens with no consequences when taking multiple samples per trigger).\n"
     ]
    }
   ],
   "source": [
    "t2 = time.time()\n",
    "# Shut down\n",
    "exp.shutdown_instruments()\n",
    "# For evaluation of adaptive method, plot the mesh\n",
    "mesh, scale_factors = sw.scaled_Delaunay(points)\n",
    "fig_mesh = sw.phase_diagram_mesh(points, mean, shading='gouraud')\n",
    "plt.triplot(mesh.points[:,0]/scale_factors[0],\n",
    "            mesh.points[:,1]/scale_factors[1], mesh.simplices.copy());\n",
    "plt.show()"
   ]
  },
  {
   "cell_type": "code",
   "execution_count": null,
   "metadata": {
    "collapsed": true
   },
   "outputs": [],
   "source": []
  }
 ],
 "metadata": {
  "kernelspec": {
   "display_name": "Python 3",
   "language": "python",
   "name": "python3"
  },
  "language_info": {
   "codemirror_mode": {
    "name": "ipython",
    "version": 3
   },
   "file_extension": ".py",
   "mimetype": "text/x-python",
   "name": "python",
   "nbconvert_exporter": "python",
   "pygments_lexer": "ipython3",
   "version": "3.5.1"
  }
 },
 "nbformat": 4,
 "nbformat_minor": 0
}
