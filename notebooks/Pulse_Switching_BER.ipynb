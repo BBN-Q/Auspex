{
 "cells": [
  {
   "cell_type": "code",
   "execution_count": null,
   "metadata": {
    "collapsed": true
   },
   "outputs": [],
   "source": [
    "# Experimental Topology\n",
    "# lockin AO 2 -> Analog Attenuator Vdd\n",
    "# lockin AO 3 -> Analog Attenuator Vc (Control Voltages)\n",
    "# Keithley Output -> Voltage divider with 1 MOhm, DAQmx AI1\n",
    "# AWG Sync Marker Out -> DAQmx PFI0\n",
    "# AWG Samp. Marker Out -> PSPL Trigger"
   ]
  },
  {
   "cell_type": "code",
   "execution_count": 1,
   "metadata": {
    "collapsed": false
   },
   "outputs": [
    {
     "name": "stdout",
     "output_type": "stream",
     "text": [
      "C:\\Users\\qlab\\Documents\\GitHub\\pycontrol\n"
     ]
    }
   ],
   "source": [
    "cd .."
   ]
  },
  {
   "cell_type": "code",
   "execution_count": 2,
   "metadata": {
    "collapsed": true
   },
   "outputs": [],
   "source": [
    "from pycontrol.filters.io import WriteToHDF5\n",
    "import numpy as np\n",
    "import time\n",
    "from tqdm import tqdm_notebook\n",
    "import matplotlib.pyplot as plt\n",
    "import analysis.switching as sw"
   ]
  },
  {
   "cell_type": "code",
   "execution_count": 3,
   "metadata": {
    "collapsed": true
   },
   "outputs": [],
   "source": [
    "from experiments.Pulse_Switching_CSHE_BER import BERExperiment"
   ]
  },
  {
   "cell_type": "code",
   "execution_count": 4,
   "metadata": {
    "collapsed": true
   },
   "outputs": [],
   "source": [
    "exp = BERExperiment()\n",
    "exp.sample = \"CSHE5 - C1R3\"\n",
    "exp.comment = \"Bit Error Rate - AP to P - 9ns - Settle delay 200us - Reset 0.2V 5ns\"\n",
    "exp.polarity = -1 # -1: AP to P; 1: P to AP\n",
    "exp.field.value = -0.0074\n",
    "exp.pulse_duration.value = 9e-9 # Fixed\n",
    "exp.reset_amplitude = 0.2\n",
    "exp.reset_duration  = 5.0e-9\n",
    "exp.settle_delay    = 200e-6\n",
    "exp.init_instruments()"
   ]
  },
  {
   "cell_type": "code",
   "execution_count": 5,
   "metadata": {
    "collapsed": true
   },
   "outputs": [],
   "source": [
    "wr = WriteToHDF5(\"data\\CSHE-Switching\\CSHE-Die5-C1R3\\CSHE5-C1R3-AP2P_2016-07-21_BER_9ns.h5\")\n",
    "edges = [(exp.daq_buffer, wr.data)]\n",
    "exp.set_graph(edges)"
   ]
  },
  {
   "cell_type": "code",
   "execution_count": 6,
   "metadata": {
    "collapsed": false
   },
   "outputs": [
    {
     "name": "stdout",
     "output_type": "stream",
     "text": [
      "Estimated time: 181.53472 min.\n",
      "Now at (65536,0.45).\n",
      "Elapsed time: 0.6508428970972697 min.\n",
      "Now at (262144,0.475).\n",
      "Elapsed time: 2.532727785905202 min.\n",
      "Now at (1048576,0.5).\n",
      "Elapsed time: 10.04906089703242 min.\n",
      "Now at (4194304,0.525).\n",
      "Elapsed time: 40.113547178109485 min.\n",
      "Now at (4194304,0.55).\n",
      "Elapsed time: 40.12255169550578 min.\n",
      "Now at (4194304,0.575).\n",
      "Elapsed time: 40.111667740345 min.\n",
      "Now at (4194304,0.6).\n",
      "Elapsed time: 40.117519724369046 min.\n",
      "\n",
      "Warning: failed to stop task (this normally happens with no consequences when taking multiple samples per trigger).\n",
      "Total elapsed time: 173.6979179183642 min.\n"
     ]
    }
   ],
   "source": [
    "# attempts_list = [1 << int(x) for x in np.linspace(14,20,7)]\n",
    "attempts_list = [1 << int(x) for x in [16,18,20,22,22,22,22]]\n",
    "voltages_list = np.linspace(0.45,0.6,7)\n",
    "print(\"Estimated time: {} min.\".format(np.sum(attempts_list)/1e5))\n",
    "t1 = [] # Keep track of time\n",
    "t2 = []\n",
    "for att, vol in tqdm_notebook(zip(attempts_list, voltages_list), total=len(voltages_list)):\n",
    "    print(\"Now at ({},{}).\".format(att,vol))\n",
    "    t1.append(time.time())\n",
    "    exp.pulse_voltage.value = vol\n",
    "    exp.attempts.value = att\n",
    "    exp.init_streams()\n",
    "    exp.reset()\n",
    "    exp.run_loop()\n",
    "    t2.append(time.time())\n",
    "    print(\"Elapsed time: {} min.\".format((t2[-1]-t1[-1])/60))\n",
    "\n",
    "exp.shutdown_instruments()\n",
    "print(\"Total elapsed time: {} min.\".format((t2[-1]-t1[0])/60))"
   ]
  },
  {
   "cell_type": "code",
   "execution_count": 7,
   "metadata": {
    "collapsed": false
   },
   "outputs": [
    {
     "name": "stderr",
     "output_type": "stream",
     "text": [
      "C:\\Users\\qlab\\Anaconda3\\lib\\site-packages\\sklearn\\cluster\\k_means_.py:821: RuntimeWarning: Explicit initial center position passed: performing only one init in k-means instead of n_init=10\n",
      "  n_jobs=self.n_jobs)\n"
     ]
    }
   ],
   "source": [
    "# Plot data\n",
    "volts, data_mean = sw.load_BER_data(wr.filename)\n",
    "fig = sw.plot_BER(volts, data_mean)\n",
    "plt.show()"
   ]
  },
  {
   "cell_type": "code",
   "execution_count": null,
   "metadata": {
    "collapsed": true
   },
   "outputs": [],
   "source": []
  }
 ],
 "metadata": {
  "kernelspec": {
   "display_name": "Python 3",
   "language": "python",
   "name": "python3"
  },
  "language_info": {
   "codemirror_mode": {
    "name": "ipython",
    "version": 3
   },
   "file_extension": ".py",
   "mimetype": "text/x-python",
   "name": "python",
   "nbconvert_exporter": "python",
   "pygments_lexer": "ipython3",
   "version": "3.5.1"
  }
 },
 "nbformat": 4,
 "nbformat_minor": 0
}
