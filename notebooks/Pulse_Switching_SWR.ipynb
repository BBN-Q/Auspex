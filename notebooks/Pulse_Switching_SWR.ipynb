{
 "cells": [
  {
   "cell_type": "code",
   "execution_count": null,
   "metadata": {
    "collapsed": true
   },
   "outputs": [],
   "source": [
    "# Experimental Topology\n",
    "# lockin AO 2 -> Analog Attenuator Vdd\n",
    "# lockin AO 3 -> Analog Attenuator Vc (Control Voltages)\n",
    "# Keithley Output -> Voltage divider with 1 MOhm, DAQmx AI1\n",
    "# AWG Sync Marker Out -> DAQmx PFI0\n",
    "# AWG Samp. Marker Out -> PSPL Trigger"
   ]
  },
  {
   "cell_type": "code",
   "execution_count": 1,
   "metadata": {
    "collapsed": false
   },
   "outputs": [
    {
     "name": "stdout",
     "output_type": "stream",
     "text": [
      "C:\\Users\\qlab\\Documents\\GitHub\\pycontrol\n"
     ]
    }
   ],
   "source": [
    "cd .."
   ]
  },
  {
   "cell_type": "code",
   "execution_count": 2,
   "metadata": {
    "collapsed": true
   },
   "outputs": [],
   "source": [
    "from pycontrol.filters.io import WriteToHDF5\n",
    "import numpy as np\n",
    "import time\n",
    "from tqdm import tqdm_notebook\n",
    "import matplotlib.pyplot as plt\n",
    "import analysis.switching as sw"
   ]
  },
  {
   "cell_type": "code",
   "execution_count": 3,
   "metadata": {
    "collapsed": true
   },
   "outputs": [],
   "source": [
    "from experiments.Pulse_Switching_CSHE_SWR import *"
   ]
  },
  {
   "cell_type": "code",
   "execution_count": 4,
   "metadata": {
    "collapsed": true
   },
   "outputs": [],
   "source": [
    "exp = SWRExperiment()\n",
    "exp.sample = \"CSHE5 - C2R3\"\n",
    "exp.comment = \"Switching Probability - P to AP - 5ns\"\n",
    "exp.polarity = -1 # 1: AP to P; -1: P to AP\n",
    "exp.field.value = 0.0081\n",
    "exp.attempts = 1 << 14\n",
    "exp.pulse_duration.value = 5e-9 # Fixed\n",
    "exp.reset_amplitude = 0.7\n",
    "exp.reset_duration = 5e-9\n",
    "exp.settle_delay = 200e-6\n",
    "exp.init_instruments()"
   ]
  },
  {
   "cell_type": "code",
   "execution_count": 5,
   "metadata": {
    "collapsed": true
   },
   "outputs": [],
   "source": [
    "wr = WriteToHDF5(\"data\\CSHE-Switching\\CSHE-Die5-C2R3\\CSHE5-C2R3-P2AP_2016-07-27_SWR_5ns.h5\")\n",
    "edges = [(exp.daq_buffer, wr.data)]\n",
    "exp.set_graph(edges)"
   ]
  },
  {
   "cell_type": "code",
   "execution_count": 6,
   "metadata": {
    "collapsed": true
   },
   "outputs": [],
   "source": [
    "V0 = 0.5\n",
    "voltages_list = V0*np.arange(1.0,0.2,-0.1)\n",
    "max_points = 1<<18\n",
    "threshold = 0.36\n",
    "start_state = 0 if exp.polarity<0 else 1"
   ]
  },
  {
   "cell_type": "code",
   "execution_count": 7,
   "metadata": {
    "collapsed": false
   },
   "outputs": [
    {
     "name": "stdout",
     "output_type": "stream",
     "text": [
      "=========================\n",
      "Now at: 0.5.\n",
      "Measurement count = 1\n",
      "Done one series. Elapsed time: 0.1991751233736674 min\n",
      "=========================\n",
      "Now at: 0.45.\n",
      "Measurement count = 1\n",
      "Done one series. Elapsed time: 0.19839480717976887 min\n",
      "=========================\n",
      "Now at: 0.4.\n",
      "Measurement count = 1\n",
      "Measurement count = 2\n",
      "Measurement count = 3\n",
      "Measurement count = 4\n",
      "Measurement count = 5\n",
      "Measurement count = 6\n",
      "Measurement count = 7\n",
      "Measurement count = 8\n",
      "Measurement count = 9\n",
      "Measurement count = 10\n",
      "Measurement count = 11\n",
      "Measurement count = 12\n",
      "Measurement count = 13\n",
      "Measurement count = 14\n",
      "Measurement count = 15\n",
      "Measurement count = 16\n",
      "Done one series. Elapsed time: 3.3470255732536316 min\n",
      "Reached maximum points. Exit.\n",
      "\n",
      "Warning: failed to stop task (this normally happens with no consequences when taking multiple samples per trigger).\n",
      "Done measurement.\n"
     ]
    }
   ],
   "source": [
    "finish = False\n",
    "for volt in tqdm_notebook(voltages_list, total=len(voltages_list)):\n",
    "    if finish:\n",
    "        print(\"Reached maximum points. Exit.\")\n",
    "        break\n",
    "    print(\"=========================\")\n",
    "    print(\"Now at: {}.\".format(volt))\n",
    "    t1 = time.time()\n",
    "    exp.pulse_voltage.value = volt\n",
    "    forward = False\n",
    "    count = 0\n",
    "    while not forward:\n",
    "        count = count + 1\n",
    "        print(\"Measurement count = %d\" %count)\n",
    "        exp.init_streams()\n",
    "        exp.reset()\n",
    "        exp.run_loop()\n",
    "        time.sleep(1) # Wait for filters\n",
    "        data = data_at_volt(wr.filename, volt)\n",
    "        finish = data.size >= max_points*2\n",
    "        forward = stop_measure(data, start_state=start_state, threshold=threshold) or finish\n",
    "    t2 = time.time()\n",
    "    print(\"Done one series. Elapsed time: {} min\".format((t2-t1)/60))\n",
    "\n",
    "exp.shutdown_instruments()\n",
    "print(\"Done measurement.\")"
   ]
  },
  {
   "cell_type": "code",
   "execution_count": 8,
   "metadata": {
    "collapsed": false
   },
   "outputs": [],
   "source": [
    "# Plot data\n",
    "volts, data = load_SWR_data(wr.filename)\n",
    "results = [sw.switching_BER(datum, start_state=start_state, threshold=threshold) for datum in data]\n",
    "fig = plot_SWR(volts, results)\n",
    "plt.show()"
   ]
  },
  {
   "cell_type": "code",
   "execution_count": null,
   "metadata": {
    "collapsed": true
   },
   "outputs": [],
   "source": []
  }
 ],
 "metadata": {
  "kernelspec": {
   "display_name": "Python 3",
   "language": "python",
   "name": "python3"
  },
  "language_info": {
   "codemirror_mode": {
    "name": "ipython",
    "version": 3
   },
   "file_extension": ".py",
   "mimetype": "text/x-python",
   "name": "python",
   "nbconvert_exporter": "python",
   "pygments_lexer": "ipython3",
   "version": "3.5.1"
  }
 },
 "nbformat": 4,
 "nbformat_minor": 0
}
