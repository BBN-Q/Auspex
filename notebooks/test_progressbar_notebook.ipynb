{
 "cells": [
  {
   "cell_type": "code",
   "execution_count": 1,
   "metadata": {
    "collapsed": false
   },
   "outputs": [
    {
     "data": {
      "text/plain": [
       "'\\n    One needs to open \\'_tqdm_notebook.py\\'\\n    search for \\'n = int(s[:npos])\\'\\n    then replace it with \\'n = float(s[:npos])\\'\\n    \\n    search for \"self.sp(bar_style=\\'success\\')\"\\n    then insert \\'self.sp(close=True)\\' below it\\n'"
      ]
     },
     "execution_count": 1,
     "metadata": {},
     "output_type": "execute_result"
    }
   ],
   "source": [
    "\"\"\"\n",
    "    One needs to open '_tqdm_notebook.py'\n",
    "    search for 'n = int(s[:npos])'\n",
    "    then replace it with 'n = float(s[:npos])'\n",
    "\"\"\""
   ]
  },
  {
   "cell_type": "code",
   "execution_count": 1,
   "metadata": {
    "collapsed": false
   },
   "outputs": [
    {
     "name": "stdout",
     "output_type": "stream",
     "text": [
      "C:\\Users\\qlab\\Documents\\GitHub\\pycontrol\n"
     ]
    }
   ],
   "source": [
    "cd .."
   ]
  },
  {
   "cell_type": "code",
   "execution_count": 2,
   "metadata": {
    "collapsed": false
   },
   "outputs": [],
   "source": [
    "from pycontrol.experiment import Parameter, FloatParameter, IntParameter, Experiment\n",
    "from pycontrol.stream import DataStream, DataAxis, DataStreamDescriptor, OutputConnector\n",
    "from pycontrol.filters.io import ProgressBar\n",
    "\n",
    "import numpy as np\n",
    "\n",
    "\n",
    "from pycontrol.filters.filter import Filter\n",
    "from pycontrol.stream import InputConnector\n",
    "from tqdm import tqdm, tqdm_notebook\n",
    "import time"
   ]
  },
  {
   "cell_type": "code",
   "execution_count": 3,
   "metadata": {
    "collapsed": true
   },
   "outputs": [],
   "source": [
    "class ProgressBarExperiment(Experiment):\n",
    "\n",
    "    # Parameters\n",
    "    field          = FloatParameter(default=0.0, unit=\"T\")\n",
    "    measure_current= FloatParameter(default=3e-6, unit=\"A\")\n",
    "    voltage        = FloatParameter(default=0.0, unit=\"V\")\n",
    "\n",
    "    # Things coming back\n",
    "    resistance = OutputConnector()\n",
    "\n",
    "    def init_instruments(self):\n",
    "        pass\n",
    "\n",
    "    def init_streams(self):\n",
    "        # Baked in data axes\n",
    "        descrip = DataStreamDescriptor()\n",
    "        self.resistance.set_descriptor(descrip)\n",
    "\n",
    "    def run(self):\n",
    "        \"\"\"This is run for each step in a sweep.\"\"\"\n",
    "        res = np.random.random(1)\n",
    "        self.resistance.push(res)\n",
    "        # Seemingly we need to give the filters some time to catch up here...\n",
    "        time.sleep(0.2)\n",
    "\n",
    "    def shutdown_instruments(self):\n",
    "        print(\"Shutted down.\")"
   ]
  },
  {
   "cell_type": "code",
   "execution_count": 4,
   "metadata": {
    "collapsed": false
   },
   "outputs": [
    {
     "data": {
      "text/plain": [
       "<SweptParameter: voltage>"
      ]
     },
     "execution_count": 4,
     "metadata": {},
     "output_type": "execute_result"
    }
   ],
   "source": [
    "exp = ProgressBarExperiment()\n",
    "exp.sample = \"Test ProgressBar\"\n",
    "exp.comment = \"Test\"\n",
    "# wr = WriteToHDF5(\"test_data.h5\")\n",
    "progbar = ProgressBar(num=3, notebook=True)\n",
    "# edges = [(exp.resistance, wr.data),(exp.resistance,progbar.data)]\n",
    "edges = [(exp.resistance,progbar.data)]\n",
    "exp.set_graph(edges)\n",
    "exp.init_instruments()\n",
    "exp.init_streams()\n",
    "main_sweep = exp.add_sweep(exp.field,np.linspace(0,-0.02,4))\n",
    "exp.add_sweep(exp.measure_current,np.linspace(0,6,5))\n",
    "exp.add_sweep(exp.voltage,np.linspace(1,5,3))"
   ]
  },
  {
   "cell_type": "code",
   "execution_count": 5,
   "metadata": {
    "collapsed": false
   },
   "outputs": [
    {
     "name": "stdout",
     "output_type": "stream",
     "text": [
      "Shutted down.\n"
     ]
    }
   ],
   "source": [
    "exp.run_sweeps()\n",
    "exp.shutdown_instruments()"
   ]
  }
 ],
 "metadata": {
  "kernelspec": {
   "display_name": "Python 3",
   "language": "python",
   "name": "python3"
  },
  "language_info": {
   "codemirror_mode": {
    "name": "ipython",
    "version": 3
   },
   "file_extension": ".py",
   "mimetype": "text/x-python",
   "name": "python",
   "nbconvert_exporter": "python",
   "pygments_lexer": "ipython3",
   "version": "3.5.1"
  }
 },
 "nbformat": 4,
 "nbformat_minor": 0
}
