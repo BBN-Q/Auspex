{
 "cells": [
  {
   "cell_type": "markdown",
   "metadata": {},
   "source": [
    "# Example Q2: Save and Loading Channel Library Versions\n",
    "This example notebook shows how one may save and load versions of the channel library.\n",
    "\n",
    "(c) Raytheon BBN Technologies 2018"
   ]
  },
  {
   "cell_type": "markdown",
   "metadata": {},
   "source": [
    "### Saving Channel Library Versions"
   ]
  },
  {
   "cell_type": "markdown",
   "metadata": {},
   "source": [
    "We initialize the channel library as shown in tutorial *Q1*:"
   ]
  },
  {
   "cell_type": "code",
   "execution_count": 1,
   "metadata": {},
   "outputs": [],
   "source": [
    "from QGL import *\n",
    "\n",
    "cl = ChannelLibrary(db_resource_name=\":memory:\")\n",
    "q1 = cl.new_qubit(\"q1\")\n",
    "aps2_1 = cl.new_APS2(\"BBNAPS1\", address=\"192.168.5.101\") \n",
    "aps2_2 = cl.new_APS2(\"BBNAPS2\", address=\"192.168.5.102\")\n",
    "dig_1  = cl.new_X6(\"X6_1\", address=0)\n",
    "h1 = cl.new_source(\"Holz1\", \"HolzworthHS9000\", \"HS9004A-009-1\", power=-30)\n",
    "h2 = cl.new_source(\"Holz2\", \"HolzworthHS9000\", \"HS9004A-009-2\", power=-30) \n",
    "cl.set_control(q1, aps2_1, generator=h1)\n",
    "cl.set_measure(q1, aps2_2, dig_1[\"raw-1-1\"], generator=h2)\n",
    "cl.set_master(aps2_1, aps2_1.ch(\"m2\"))\n",
    "cl[\"q1\"].measure_chan.frequency = 0e6\n",
    "cl.commit()"
   ]
  },
  {
   "cell_type": "markdown",
   "metadata": {},
   "source": [
    "Let us save this channel library for posterity:"
   ]
  },
  {
   "cell_type": "code",
   "execution_count": 2,
   "metadata": {},
   "outputs": [],
   "source": [
    "cl.save_as(\"NoSidebanding\")"
   ]
  },
  {
   "cell_type": "markdown",
   "metadata": {},
   "source": [
    "Now we adjust some parameters and save another version of the channel library"
   ]
  },
  {
   "cell_type": "code",
   "execution_count": 3,
   "metadata": {},
   "outputs": [],
   "source": [
    "cl[\"q1\"].measure_chan.frequency = 50e6\n",
    "cl.commit()\n",
    "cl.save_as(\"50MHz-Sidebanding\")"
   ]
  },
  {
   "cell_type": "markdown",
   "metadata": {},
   "source": [
    "Maybe we forgot to change something. No worries! We can just update the parameter and create a new copy."
   ]
  },
  {
   "cell_type": "code",
   "execution_count": 4,
   "metadata": {},
   "outputs": [
    {
     "data": {
      "text/html": [
       "<table><tr><th>id</th><th>Year</th><th>Date</th><th>Time</th><th>Name</th></tr><tr><tr><td>1</td><td>2019</td><td>Feb. 27</td><td>01:43:11 PM</td><td>working</td></tr><tr><td>2</td><td>2019</td><td>Feb. 27</td><td>01:43:13 PM</td><td>NoSidebanding</td></tr><tr><td>3</td><td>2019</td><td>Feb. 27</td><td>01:43:13 PM</td><td>50MHz-Sidebanding</td></tr><tr><td>4</td><td>2019</td><td>Feb. 27</td><td>01:43:14 PM</td><td>50MHz-Sidebanding</td></tr></tr></table>"
      ],
      "text/plain": [
       "<IPython.core.display.HTML object>"
      ]
     },
     "metadata": {},
     "output_type": "display_data"
    }
   ],
   "source": [
    "cl[\"q1\"].pulse_params['length'] = 400e-9\n",
    "cl.commit()\n",
    "cl.save_as(\"50MHz-Sidebanding\")\n",
    "cl.ls()"
   ]
  },
  {
   "cell_type": "markdown",
   "metadata": {},
   "source": [
    "We see the various versions of the channel library here. Note that the user is *always* modifying the working version of the database: all other versions are archival, but they can be *restored* to the current working version as shown below."
   ]
  },
  {
   "cell_type": "markdown",
   "metadata": {},
   "source": [
    "### Loading Channel Library Versions"
   ]
  },
  {
   "cell_type": "markdown",
   "metadata": {},
   "source": [
    "Let us load a previous version of the channel library, noting that the former value of our parameter is restored in the working copy. **CRUCIAL POINT**: do not use the old reference `q1`, which is no longer pointing to the database since the working db has been replaced with the saved version. Instead use dictionary access `cl[\"q1\"]` on the channel library to return the first qubit: "
   ]
  },
  {
   "cell_type": "code",
   "execution_count": 5,
   "metadata": {},
   "outputs": [
    {
     "data": {
      "text/plain": [
       "0.0"
      ]
     },
     "execution_count": 5,
     "metadata": {},
     "output_type": "execute_result"
    }
   ],
   "source": [
    "cl.load(\"NoSidebanding\")\n",
    "cl[\"q1\"].measure_chan.frequency"
   ]
  },
  {
   "cell_type": "markdown",
   "metadata": {},
   "source": [
    "Now let's load the *second oldest* version of the 50MHz-sidebanding library:"
   ]
  },
  {
   "cell_type": "code",
   "execution_count": 6,
   "metadata": {},
   "outputs": [
    {
     "data": {
      "text/plain": [
       "(2e-08, 50000000.0)"
      ]
     },
     "execution_count": 6,
     "metadata": {},
     "output_type": "execute_result"
    }
   ],
   "source": [
    "cl.load(\"50MHz-Sidebanding\", -1)\n",
    "cl[\"q1\"].pulse_params['length'], cl[\"q1\"].measure_chan.frequency"
   ]
  },
  {
   "cell_type": "code",
   "execution_count": 7,
   "metadata": {},
   "outputs": [
    {
     "name": "stdout",
     "output_type": "stream",
     "text": [
      "Compiled 11 sequences.\n"
     ]
    },
    {
     "data": {
      "application/vnd.jupyter.widget-view+json": {
       "model_id": "e8d5c1f27a3d4c5d8da78f80cc35ca25",
       "version_major": 2,
       "version_minor": 0
      },
      "text/plain": [
       "VBox(children=(IntSlider(value=1, description='Segment', max=11, min=1), Figure(animation_duration=50, axes=[A…"
      ]
     },
     "metadata": {},
     "output_type": "display_data"
    }
   ],
   "source": [
    "# q1 = QubitFactory(\"q1\")\n",
    "plot_pulse_files(RabiAmp(cl[\"q1\"], np.linspace(-1, 1, 11)), time=True)"
   ]
  },
  {
   "cell_type": "code",
   "execution_count": 8,
   "metadata": {},
   "outputs": [
    {
     "data": {
      "text/html": [
       "<table><tr><th>id</th><th>Year</th><th>Date</th><th>Time</th><th>Name</th></tr><tr><tr><td>2</td><td>2019</td><td>Feb. 06</td><td>01:43:55 PM</td><td>NoSidebanding</td></tr><tr><td>3</td><td>2019</td><td>Feb. 06</td><td>01:43:55 PM</td><td>50MHz-Sidebanding</td></tr><tr><td>4</td><td>2019</td><td>Feb. 06</td><td>01:43:57 PM</td><td>50MHz-Sidebanding</td></tr><tr><td>5</td><td>2019</td><td>Feb. 06</td><td>01:43:55 PM</td><td>working</td></tr></tr></table>"
      ],
      "text/plain": [
       "<IPython.core.display.HTML object>"
      ]
     },
     "metadata": {},
     "output_type": "display_data"
    }
   ],
   "source": [
    "cl.ls()"
   ]
  },
  {
   "cell_type": "code",
   "execution_count": 9,
   "metadata": {},
   "outputs": [],
   "source": [
    "cl.rm(\"NoSidebanding\")"
   ]
  },
  {
   "cell_type": "code",
   "execution_count": 10,
   "metadata": {},
   "outputs": [
    {
     "data": {
      "text/html": [
       "<table><tr><th>id</th><th>Year</th><th>Date</th><th>Time</th><th>Name</th></tr><tr><tr><td>3</td><td>2019</td><td>Feb. 06</td><td>01:43:55 PM</td><td>50MHz-Sidebanding</td></tr><tr><td>4</td><td>2019</td><td>Feb. 06</td><td>01:43:57 PM</td><td>50MHz-Sidebanding</td></tr><tr><td>5</td><td>2019</td><td>Feb. 06</td><td>01:43:55 PM</td><td>working</td></tr></tr></table>"
      ],
      "text/plain": [
       "<IPython.core.display.HTML object>"
      ]
     },
     "metadata": {},
     "output_type": "display_data"
    }
   ],
   "source": [
    "cl.ls()"
   ]
  },
  {
   "cell_type": "code",
   "execution_count": 11,
   "metadata": {
    "collapsed": true
   },
   "outputs": [],
   "source": [
    "cl.rm(\"50MHz-Sidebanding\")"
   ]
  },
  {
   "cell_type": "code",
   "execution_count": 12,
   "metadata": {},
   "outputs": [
    {
     "data": {
      "text/html": [
       "<table><tr><th>id</th><th>Year</th><th>Date</th><th>Time</th><th>Name</th></tr><tr><tr><td>5</td><td>2019</td><td>Feb. 06</td><td>01:43:55 PM</td><td>working</td></tr></tr></table>"
      ],
      "text/plain": [
       "<IPython.core.display.HTML object>"
      ]
     },
     "metadata": {},
     "output_type": "display_data"
    }
   ],
   "source": [
    "cl.ls()"
   ]
  }
 ],
 "metadata": {
  "kernelspec": {
   "display_name": "Python 3",
   "language": "python",
   "name": "python3"
  },
  "language_info": {
   "codemirror_mode": {
    "name": "ipython",
    "version": 3
   },
   "file_extension": ".py",
   "mimetype": "text/x-python",
   "name": "python",
   "nbconvert_exporter": "python",
   "pygments_lexer": "ipython3",
   "version": "3.7.1"
  }
 },
 "nbformat": 4,
 "nbformat_minor": 2
}
