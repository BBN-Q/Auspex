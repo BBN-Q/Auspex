{
 "cells": [
  {
   "cell_type": "code",
   "execution_count": null,
   "metadata": {
    "collapsed": true
   },
   "outputs": [],
   "source": [
    "\"\"\"\n",
    "    One needs to open '_tqdm_notebook.py'\n",
    "    search for 'n = int(s[:npos])'\n",
    "    then replace it with 'n = float(s[:npos])'\n",
    "    \n",
    "    search for \"self.sp(bar_style='success')\"\n",
    "    then insert 'self.sp(close=True)' below it\n",
    "\"\"\""
   ]
  },
  {
   "cell_type": "code",
   "execution_count": 1,
   "metadata": {
    "collapsed": false
   },
   "outputs": [],
   "source": [
    "from pycontrol.experiment import Parameter, FloatParameter, IntParameter, Experiment\n",
    "from pycontrol.stream import DataStream, DataAxis, DataStreamDescriptor, OutputConnector\n",
    "from pycontrol.filters.io import WriteToHDF5\n",
    "\n",
    "import itertools\n",
    "import numpy as np\n",
    "import asyncio\n",
    "import time, sys\n",
    "import h5py\n",
    "import matplotlib.pyplot as plt\n",
    "\n",
    "from pycontrol.filters.filter import Filter\n",
    "from pycontrol.stream import InputConnector\n",
    "from tqdm import tqdm, tqdm_notebook\n",
    "import time"
   ]
  },
  {
   "cell_type": "code",
   "execution_count": 2,
   "metadata": {
    "collapsed": true
   },
   "outputs": [],
   "source": [
    "class ProgressBarExperiment(Experiment):\n",
    "\n",
    "    # Parameters\n",
    "    field          = FloatParameter(default=0.0, unit=\"T\")\n",
    "    measure_current= FloatParameter(default=3e-6, unit=\"A\")\n",
    "    voltage        = FloatParameter(default=0.0, unit=\"V\")\n",
    "\n",
    "    # Things coming back\n",
    "    resistance = OutputConnector()\n",
    "\n",
    "    def init_instruments(self):\n",
    "        pass\n",
    "\n",
    "    def init_streams(self):\n",
    "        # Baked in data axes\n",
    "        descrip = DataStreamDescriptor()\n",
    "        self.resistance.set_descriptor(descrip)\n",
    "\n",
    "    async def run(self):\n",
    "        \"\"\"This is run for each step in a sweep.\"\"\"\n",
    "        res = np.random.random(1)\n",
    "        await self.resistance.push(res)\n",
    "        # Seemingly we need to give the filters some time to catch up here...\n",
    "        await asyncio.sleep(0.2)\n",
    "\n",
    "    def shutdown_instruments(self):\n",
    "        print(\"Shutted down.\")"
   ]
  },
  {
   "cell_type": "code",
   "execution_count": 14,
   "metadata": {
    "collapsed": true
   },
   "outputs": [],
   "source": [
    "class ProgressBar_notebook(Filter):\n",
    "    \"\"\" Display progress bar(s) on the terminal.\n",
    "\n",
    "    n: number of progress bars to be display, \\\n",
    "    corresponding to the number of axes (counting from outer most)\n",
    "    \"\"\"\n",
    "    data = InputConnector()\n",
    "    def __init__(self, num=1):\n",
    "        super(ProgressBar_notebook,self).__init__()\n",
    "        self.num    = num\n",
    "        self.bars   = []\n",
    "        self.w_id   = 0\n",
    "\n",
    "    async def run(self):\n",
    "        self.stream = self.data.input_streams[0]\n",
    "        axes = self.stream.descriptor.axes\n",
    "        num_axes = len(axes)\n",
    "        totals = [self.stream.descriptor.num_points_through_axis(axis) for axis in range(num_axes)]\n",
    "        chunk_sizes = [max(1,self.stream.descriptor.num_points_through_axis(axis+1)) for axis in range(num_axes)]\n",
    "        self.num = min(self.num, num_axes)\n",
    "\n",
    "        for i in range(self.num):\n",
    "            self.bars.append(tqdm_notebook(total=totals[i]/chunk_sizes[i]))\n",
    "\n",
    "        while True:\n",
    "            if self.stream.done() and self.w_id==self.stream.num_points():\n",
    "                break\n",
    "\n",
    "            new_data = np.array(await self.stream.queue.get()).flatten()\n",
    "\n",
    "            while self.stream.queue.qsize() > 0:\n",
    "                new_data = np.append(new_data, np.array(self.stream.queue.get_nowait()).flatten())\n",
    "            self.w_id += new_data.size\n",
    "            num_data = self.stream.points_taken\n",
    "            for i in range(self.num):\n",
    "                if num_data == 0:\n",
    "                    self.bars[i].n = self.bars[i].total # Mark as complete\n",
    "                    self.bars[i].close()\n",
    "                    # Reset the progress bar with a new one\n",
    "                    self.bars[i] = tqdm_notebook(total=totals[i]/chunk_sizes[i])\n",
    "                pos = int(10*num_data / chunk_sizes[i])/10.0 # One decimal is good enough\n",
    "                if pos > self.bars[i].n:\n",
    "                    self.bars[i].update(pos - self.bars[i].n)\n",
    "                num_data = num_data % chunk_sizes[i]"
   ]
  },
  {
   "cell_type": "code",
   "execution_count": 15,
   "metadata": {
    "collapsed": false
   },
   "outputs": [
    {
     "data": {
      "text/plain": [
       "<SweptParameter: voltage>"
      ]
     },
     "execution_count": 15,
     "metadata": {},
     "output_type": "execute_result"
    }
   ],
   "source": [
    "exp = ProgressBarExperiment()\n",
    "exp.sample = \"Test ProgressBar\"\n",
    "exp.comment = \"Test\"\n",
    "# wr = WriteToHDF5(\"test_data.h5\")\n",
    "progbar = ProgressBar_notebook(num=3)\n",
    "# edges = [(exp.resistance, wr.data),(exp.resistance,progbar.data)]\n",
    "edges = [(exp.resistance,progbar.data)]\n",
    "exp.set_graph(edges)\n",
    "exp.init_instruments()\n",
    "exp.init_streams()\n",
    "main_sweep = exp.add_sweep(exp.field,np.linspace(0,-0.02,4))\n",
    "exp.add_sweep(exp.measure_current,np.linspace(0,6,5))\n",
    "exp.add_sweep(exp.voltage,np.linspace(1,5,3))"
   ]
  },
  {
   "cell_type": "code",
   "execution_count": 16,
   "metadata": {
    "collapsed": false
   },
   "outputs": [
    {
     "name": "stdout",
     "output_type": "stream",
     "text": [
      "Shutted down.\n"
     ]
    }
   ],
   "source": [
    "exp.run_sweeps()\n",
    "exp.shutdown_instruments()"
   ]
  },
  {
   "cell_type": "code",
   "execution_count": null,
   "metadata": {
    "collapsed": true
   },
   "outputs": [],
   "source": []
  }
 ],
 "metadata": {
  "kernelspec": {
   "display_name": "Python 3",
   "language": "python",
   "name": "python3"
  },
  "language_info": {
   "codemirror_mode": {
    "name": "ipython",
    "version": 3
   },
   "file_extension": ".py",
   "mimetype": "text/x-python",
   "name": "python",
   "nbconvert_exporter": "python",
   "pygments_lexer": "ipython3",
   "version": "3.5.1"
  }
 },
 "nbformat": 4,
 "nbformat_minor": 0
}
