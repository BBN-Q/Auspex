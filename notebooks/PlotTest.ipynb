{
 "cells": [
  {
   "cell_type": "markdown",
   "metadata": {},
   "source": [
    "# Example Usage of Procedures within Jupyter #   \n",
    "Graham Rowlands  \n",
    "Raytheon BBN Technologies 2016\n",
    "\n",
    "By using the Bokeh server application we can construct plots within the pycontrol measurement loop and stream them back to plots within the Jupyter notebook environment. This is accomplished by providing the relevant flag to the sweep class:\n",
    "```python\n",
    "sweep.run(notebook=True)\n",
    "```\n",
    "This will produce, for the time being, an hplot containing the various requested elements. Presently other sorts of containers: e.g. tabs, present extreme performance setbacks compared to their exectuion outside of the Jupyter environment.\n"
   ]
  },
  {
   "cell_type": "code",
   "execution_count": 1,
   "metadata": {
    "collapsed": false
   },
   "outputs": [],
   "source": [
    "import sys\n",
    "sys.path.append(\"C:/Users/qlab/Documents/GitHub/pycontrol/src\")"
   ]
  },
  {
   "cell_type": "code",
   "execution_count": null,
   "metadata": {
    "collapsed": false
   },
   "outputs": [],
   "source": [
    "cd \"C:/Users/qlab/Documents/GitHub/pycontrol\""
   ]
  },
  {
   "cell_type": "code",
   "execution_count": 3,
   "metadata": {
    "collapsed": false
   },
   "outputs": [
    {
     "data": {
      "text/html": [
       "\n",
       "    <div class=\"bk-banner\">\n",
       "        <a href=\"http://bokeh.pydata.org\" target=\"_blank\" class=\"bk-logo bk-logo-small bk-logo-notebook\"></a>\n",
       "        <span id=\"f4d78f14-ba13-45dc-a107-0740ba9e68cf\">Loading BokehJS ...</span>\n",
       "    </div>"
      ]
     },
     "metadata": {},
     "output_type": "display_data"
    },
    {
     "data": {
      "application/javascript": [
       "\n",
       "(function(global) {\n",
       "  function now() {\n",
       "    return new Date();\n",
       "  }\n",
       "\n",
       "  if (typeof (window._bokeh_onload_callbacks) === \"undefined\") {\n",
       "    window._bokeh_onload_callbacks = [];\n",
       "  }\n",
       "\n",
       "  function run_callbacks() {\n",
       "    window._bokeh_onload_callbacks.forEach(function(callback) { callback() });\n",
       "    delete window._bokeh_onload_callbacks\n",
       "    console.info(\"Bokeh: all callbacks have finished\");\n",
       "  }\n",
       "\n",
       "  function load_libs(js_urls, callback) {\n",
       "    window._bokeh_onload_callbacks.push(callback);\n",
       "    if (window._bokeh_is_loading > 0) {\n",
       "      console.log(\"Bokeh: BokehJS is being loaded, scheduling callback at\", now());\n",
       "      return null;\n",
       "    }\n",
       "    if (js_urls == null || js_urls.length === 0) {\n",
       "      run_callbacks();\n",
       "      return null;\n",
       "    }\n",
       "    console.log(\"Bokeh: BokehJS not loaded, scheduling load and callback at\", now());\n",
       "    window._bokeh_is_loading = js_urls.length;\n",
       "    for (var i = 0; i < js_urls.length; i++) {\n",
       "      var url = js_urls[i];\n",
       "      var s = document.createElement('script');\n",
       "      s.src = url;\n",
       "      s.async = false;\n",
       "      s.onreadystatechange = s.onload = function() {\n",
       "        window._bokeh_is_loading--;\n",
       "        if (window._bokeh_is_loading === 0) {\n",
       "          console.log(\"Bokeh: all BokehJS libraries loaded\");\n",
       "          run_callbacks()\n",
       "        }\n",
       "      };\n",
       "      s.onerror = function() {\n",
       "        console.warn(\"failed to load library \" + url);\n",
       "      };\n",
       "      console.log(\"Bokeh: injecting script tag for BokehJS library: \", url);\n",
       "      document.getElementsByTagName(\"head\")[0].appendChild(s);\n",
       "    }\n",
       "  };\n",
       "\n",
       "  var js_urls = ['https://cdn.pydata.org/bokeh/release/bokeh-0.11.1.min.js', 'https://cdn.pydata.org/bokeh/release/bokeh-widgets-0.11.1.min.js', 'https://cdn.pydata.org/bokeh/release/bokeh-compiler-0.11.1.min.js'];\n",
       "\n",
       "  var inline_js = [\n",
       "    function(Bokeh) {\n",
       "      Bokeh.set_log_level(\"info\");\n",
       "    },\n",
       "    \n",
       "    function(Bokeh) {\n",
       "      Bokeh.$(\"#f4d78f14-ba13-45dc-a107-0740ba9e68cf\").text(\"BokehJS successfully loaded\");\n",
       "    },\n",
       "    function(Bokeh) {\n",
       "      console.log(\"Bokeh: injecting CSS: https://cdn.pydata.org/bokeh/release/bokeh-0.11.1.min.css\");\n",
       "      Bokeh.embed.inject_css(\"https://cdn.pydata.org/bokeh/release/bokeh-0.11.1.min.css\");\n",
       "      console.log(\"Bokeh: injecting CSS: https://cdn.pydata.org/bokeh/release/bokeh-widgets-0.11.1.min.css\");\n",
       "      Bokeh.embed.inject_css(\"https://cdn.pydata.org/bokeh/release/bokeh-widgets-0.11.1.min.css\");\n",
       "    }\n",
       "  ];\n",
       "\n",
       "  function run_inline_js() {\n",
       "    for (var i = 0; i < inline_js.length; i++) {\n",
       "      inline_js[i](window.Bokeh);\n",
       "    }\n",
       "  }\n",
       "\n",
       "  if (window._bokeh_is_loading === 0) {\n",
       "    console.log(\"Bokeh: BokehJS loaded, going straight to plotting\");\n",
       "    run_inline_js();\n",
       "  } else {\n",
       "    load_libs(js_urls, function() {\n",
       "      console.log(\"Bokeh: BokehJS plotting callback run at\", now());\n",
       "      run_inline_js();\n",
       "    });\n",
       "  }\n",
       "}(this));"
      ]
     },
     "metadata": {},
     "output_type": "display_data"
    },
    {
     "data": {
      "text/html": [
       "\n",
       "                        <html>\n",
       "                        <head></head>\n",
       "                        <body>\n",
       "                        \n",
       "<script\n",
       "    src=\"http://localhost:5006/autoload.js?bokeh-autoload-element=92daeebf-4af3-47d7-a298-73fecae6857c&bokeh-session-id=UtlTSXkhlm8f1vBwktYBVpyzMA3Mpye2yOXYNivw6wCq\"\n",
       "    id=\"92daeebf-4af3-47d7-a298-73fecae6857c\"\n",
       "    data-bokeh-model-id=\"\"\n",
       "    data-bokeh-doc-id=\"\"\n",
       "></script>\n",
       "                        </body>\n",
       "                        </html>\n",
       "                        "
      ],
      "text/plain": [
       "<IPython.core.display.HTML object>"
      ]
     },
     "metadata": {},
     "output_type": "display_data"
    },
    {
     "name": "stdout",
     "output_type": "stream",
     "text": [
      "Killing bokeh server thread 73303\n"
     ]
    }
   ],
   "source": [
    "from test.plotting_test import TestProcedure\n",
    "from pycontrol.sweep import Sweep\n",
    "from functools import partial\n",
    "import numpy as np\n",
    "\n",
    "# Create an instance of the procedure\n",
    "proc = TestProcedure()\n",
    "\n",
    "# Define a sweep over prarameters\n",
    "sweep1 = Sweep(proc)\n",
    "field_x = sweep1.add_parameter(proc.field_y, np.arange(-100, 101, 5))\n",
    "field_y = sweep1.add_parameter(proc.field_x, np.arange(-100, 101, 5))\n",
    "\n",
    "plot1 = sweep1.add_plotter(\"ResistanceL Vs Field\", proc.field_x, proc.resistance_long,\n",
    "                           color=\"firebrick\", line_width=2)\n",
    "plot2 = sweep1.add_multiplotter(\"Resistances Vs Field\", [proc.field_x, proc.field_x],\n",
    "                                [proc.resistance_trans, proc.resistance_long],\n",
    "                                line_color=[\"firebrick\",\"navy\"], line_width=2)\n",
    "\n",
    "# Hooks for clearing the plots at the end of a sub-sweep\n",
    "proc.field_y.add_post_push_hook(plot1.clear)\n",
    "proc.field_y.add_post_push_hook(plot2.clear)\n",
    "\n",
    "# Make sure we update the data at the end of a trace\n",
    "proc.field_y.add_pre_push_hook(partial(plot1.update, force=True))\n",
    "proc.field_y.add_pre_push_hook(partial(plot2.update, force=True))\n",
    "\n",
    "sweep1.run(notebook=True)"
   ]
  },
  {
   "cell_type": "code",
   "execution_count": null,
   "metadata": {
    "collapsed": true
   },
   "outputs": [],
   "source": []
  }
 ],
 "metadata": {
  "kernelspec": {
   "display_name": "Python 3",
   "language": "python",
   "name": "python3"
  },
  "language_info": {
   "codemirror_mode": {
    "name": "ipython",
    "version": 3
   },
   "file_extension": ".py",
   "mimetype": "text/x-python",
   "name": "python",
   "nbconvert_exporter": "python",
   "pygments_lexer": "ipython3",
   "version": "3.5.1"
  }
 },
 "nbformat": 4,
 "nbformat_minor": 0
}
