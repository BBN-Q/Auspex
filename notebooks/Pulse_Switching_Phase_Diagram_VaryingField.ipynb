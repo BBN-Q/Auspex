{
 "cells": [
  {
   "cell_type": "markdown",
   "metadata": {},
   "source": [
    "## Switching Phase Diagram with varying bias field ##\n",
    "### for both AP->P and P->AP polarity ###\n",
    "**Note: Data for each bias field and polarity will be written in a separate HDF5 file**"
   ]
  },
  {
   "cell_type": "code",
   "execution_count": null,
   "metadata": {
    "collapsed": true
   },
   "outputs": [],
   "source": [
    "# Experimental Topology\n",
    "# lockin AO 2 -> Analog Attenuator Vdd\n",
    "# lockin AO 3 -> Analog Attenuator Vc (Control Voltages)\n",
    "# Keithley Output -> Voltage divider with 1 MOhm, DAQmx AI1\n",
    "# AWG Sync Marker Out -> DAQmx PFI0\n",
    "# AWG Samp. Marker Out -> PSPL Trigger"
   ]
  },
  {
   "cell_type": "code",
   "execution_count": 1,
   "metadata": {
    "collapsed": false
   },
   "outputs": [
    {
     "name": "stdout",
     "output_type": "stream",
     "text": [
      "C:\\Users\\qlab\\Documents\\GitHub\\pycontrol\n"
     ]
    }
   ],
   "source": [
    "cd .."
   ]
  },
  {
   "cell_type": "code",
   "execution_count": 2,
   "metadata": {
    "collapsed": true
   },
   "outputs": [],
   "source": [
    "from pycontrol.filters.io import WriteToHDF5\n",
    "import numpy as np\n",
    "import itertools\n",
    "import time\n",
    "import matplotlib.pyplot as plt\n",
    "import analysis.switching as sw\n",
    "from adapt import refine\n",
    "from analysis.h5shell import h5shell\n",
    "from tqdm import tqdm_notebook"
   ]
  },
  {
   "cell_type": "code",
   "execution_count": 3,
   "metadata": {
    "collapsed": false
   },
   "outputs": [],
   "source": [
    "from experiments.Pulse_Switching_CSHE import SwitchingExperiment"
   ]
  },
  {
   "cell_type": "code",
   "execution_count": 4,
   "metadata": {
    "collapsed": true
   },
   "outputs": [],
   "source": [
    "polarities = [-1,1]\n",
    "# fields = np.linspace(0,160,9)*1e-4\n",
    "fields = np.linspace(81,71,2)*1e-4\n",
    "\n",
    "coarse_ts = 1e-9*np.linspace(0.1, 10, 5) # List of durations\n",
    "coarse_vs = np.linspace(0.3, 1.0, 5)"
   ]
  },
  {
   "cell_type": "code",
   "execution_count": 5,
   "metadata": {
    "collapsed": false
   },
   "outputs": [],
   "source": [
    "exp = SwitchingExperiment()\n",
    "exp.sample = \"CSHE5-C2R3\"\n",
    "exp.iteration = 2\n",
    "exp.measure_current = 3e-6\n",
    "exp.reset_amplitude = 0.7\n",
    "exp.reset_duration  = 5.0e-9\n",
    "exp.settle_delay    = 200e-6\n",
    "exp.pspl_atten      = 5\n",
    "\n",
    "folder = \"data\\CSHE-Switching\\CSHE-Die5-C2R3\\Phase_Diagram_FieldVary_2016-07-27\\\\\"\n",
    "ftracks = []\n",
    "figs = []\n",
    "points    = [coarse_ts, coarse_vs]\n",
    "points    = list(itertools.product(*points))\n",
    "exp.init_streams()\n",
    "main_sweep = exp.add_unstructured_sweep([exp.pulse_duration, exp.pulse_voltage], points)"
   ]
  },
  {
   "cell_type": "code",
   "execution_count": 6,
   "metadata": {
    "collapsed": false
   },
   "outputs": [
    {
     "name": "stdout",
     "output_type": "stream",
     "text": [
      "Start measurement with field = 0.0081T and polarity =  P to AP\n",
      "10 new points added.\n",
      "14 new points added.\n",
      "Done one measurement.\n",
      "Total points: 35\n",
      "Total elapsed time: 0.5529570500055949 min.\n",
      "Data file: data\\CSHE-Switching\\CSHE-Die5-C2R3\\test\\CSHE5-C2R3_FieldVary_2016-07-27-0005.h5\n",
      "=========\n",
      "Start measurement with field = 0.0081T and polarity =  AP to P\n",
      "8 new points added.\n",
      "21 new points added.\n",
      "Done one measurement.\n",
      "Total points: 33\n",
      "Total elapsed time: 0.5470046718915303 min.\n",
      "Data file: data\\CSHE-Switching\\CSHE-Die5-C2R3\\test\\CSHE5-C2R3_FieldVary_2016-07-27-0006.h5\n",
      "=========\n",
      "Start measurement with field = 0.0071T and polarity =  P to AP\n",
      "10 new points added.\n",
      "16 new points added.\n",
      "Done one measurement.\n",
      "Total points: 35\n",
      "Total elapsed time: 0.6823741436004639 min.\n",
      "Data file: data\\CSHE-Switching\\CSHE-Die5-C2R3\\test\\CSHE5-C2R3_FieldVary_2016-07-27-0007.h5\n",
      "=========\n",
      "Start measurement with field = 0.0071T and polarity =  AP to P\n",
      "8 new points added.\n",
      "21 new points added.\n",
      "Done one measurement.\n",
      "Total points: 33\n",
      "Total elapsed time: 0.6695360541343689 min.\n",
      "Data file: data\\CSHE-Switching\\CSHE-Die5-C2R3\\test\\CSHE5-C2R3_FieldVary_2016-07-27-0008.h5\n",
      "=========\n",
      "\n",
      "Warning: failed to stop task (this normally happens with no consequences when taking multiple samples per trigger).\n",
      "Finished measurement. Shutted down.\n"
     ]
    }
   ],
   "source": [
    "for field in tqdm_notebook(fields, total=len(fields)):\n",
    "    for polarity in polarities:\n",
    "        exp.comment = \"Phase Diagram -  Varying Field - Interations = 1 - Settle delay = 200us - Reset 0.7V 5ns\"\n",
    "        exp.comment = exp.comment + \" - Field = \" + str(field) + \"T\"\n",
    "        polarity_str = \" AP to P\" if polarity==1 else \" P to AP\"\n",
    "        exp.comment = exp.comment + polarity_str\n",
    "        exp.polarity = polarity\n",
    "        exp.field.value = field\n",
    "        \n",
    "        print(\"Start measurement with field = {}T and polarity = {}\".format(field,polarity_str))\n",
    "        \n",
    "        wr = WriteToHDF5(folder + \"CSHE5-C2R3_FieldVary_2016-07-27.h5\")\n",
    "        edges = [(exp.daq_buffer, wr.data)]\n",
    "        exp.set_graph(edges)\n",
    "        \n",
    "        # Keep track of filenames\n",
    "        track = {}\n",
    "        track['filename'] = wr.filename\n",
    "        track['polarity'] = exp.polarity\n",
    "        track['polarity_str'] = exp.polarity_str\n",
    "        track['field'] = field\n",
    "        track['comment'] = exp.comment\n",
    "        ftracks.append(track)\n",
    "        \n",
    "        points    = [coarse_ts, coarse_vs]\n",
    "        points    = list(itertools.product(*points))\n",
    "        main_sweep.update_values(points)\n",
    "        exp.init_instruments()\n",
    "        t1 = time.time()\n",
    "        for i in tqdm_notebook(range(exp.iteration), total=exp.iteration):\n",
    "            exp.reset()\n",
    "#             exp.init_progressbar(1, notebook=True)\n",
    "            exp.run_sweeps()\n",
    "            points, mean = sw.load_switching_data(wr.filename, threshold=0.36)\n",
    "            new_points = refine.refine_scalar_field(points, mean, all_points=False,\n",
    "                                        criterion=\"integral\", threshold = \"one_sigma\")\n",
    "            if new_points is None:\n",
    "                print(\"No more points can be added.\")\n",
    "                break\n",
    "            main_sweep.update_values(new_points)\n",
    "            exp.progressbar.close()\n",
    "        t2 = time.time()\n",
    "        print(\"Done one measurement.\")\n",
    "        print(\"Total points: {}\".format(len(points)))\n",
    "        print(\"Total elapsed time: {} min.\".format((t2-t1)/60))\n",
    "        print(\"Data file: %s\" %wr.filename)\n",
    "        fig_title = exp.sample  +polarity_str + \" at field=\" + str(exp.field.value) + \"T\"\n",
    "        figs.append(sw.phase_diagram_mesh(points, mean, title=fig_title))\n",
    "        print(\"=========\")\n",
    "        \n",
    "exp.shutdown_instruments()\n",
    "print(\"Finished measurement. Shutted down.\")"
   ]
  },
  {
   "cell_type": "code",
   "execution_count": 7,
   "metadata": {
    "collapsed": true
   },
   "outputs": [],
   "source": [
    "plt.show()"
   ]
  },
  {
   "cell_type": "code",
   "execution_count": 8,
   "metadata": {
    "collapsed": false
   },
   "outputs": [
    {
     "data": {
      "text/plain": [
       "<module 'analysis.switching' from 'C:\\\\Users\\\\qlab\\\\Documents\\\\GitHub\\\\pycontrol\\\\analysis\\\\switching.py'>"
      ]
     },
     "execution_count": 8,
     "metadata": {},
     "output_type": "execute_result"
    }
   ],
   "source": [
    "import importlib\n",
    "importlib.reload(sw)"
   ]
  },
  {
   "cell_type": "code",
   "execution_count": null,
   "metadata": {
    "collapsed": true
   },
   "outputs": [],
   "source": []
  }
 ],
 "metadata": {
  "kernelspec": {
   "display_name": "Python 3",
   "language": "python",
   "name": "python3"
  },
  "language_info": {
   "codemirror_mode": {
    "name": "ipython",
    "version": 3
   },
   "file_extension": ".py",
   "mimetype": "text/x-python",
   "name": "python",
   "nbconvert_exporter": "python",
   "pygments_lexer": "ipython3",
   "version": "3.5.1"
  }
 },
 "nbformat": 4,
 "nbformat_minor": 0
}
