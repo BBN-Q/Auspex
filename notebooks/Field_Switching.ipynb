{
 "cells": [
  {
   "cell_type": "code",
   "execution_count": 1,
   "metadata": {
    "collapsed": false
   },
   "outputs": [
    {
     "name": "stdout",
     "output_type": "stream",
     "text": [
      "C:\\Users\\qlab\\Documents\\GitHub\\pycontrol\n"
     ]
    }
   ],
   "source": [
    "cd .."
   ]
  },
  {
   "cell_type": "code",
   "execution_count": 2,
   "metadata": {
    "collapsed": false
   },
   "outputs": [],
   "source": [
    "from experiments.Field_Switching import FieldSwitchingExperiment, extract_data\n",
    "from pycontrol.filters.io import WriteToHDF5\n",
    "import numpy as np\n",
    "import matplotlib.pyplot as plt"
   ]
  },
  {
   "cell_type": "code",
   "execution_count": 3,
   "metadata": {
    "collapsed": true
   },
   "outputs": [],
   "source": [
    "#%matplotlib inline"
   ]
  },
  {
   "cell_type": "code",
   "execution_count": 3,
   "metadata": {
    "collapsed": false
   },
   "outputs": [],
   "source": [
    "exp = FieldSwitchingExperiment()\n",
    "exp.sample = \"CSHE-2 C4R7\"\n",
    "exp.comment = \"Field Sweep\"\n",
    "wr = WriteToHDF5(\"data\\CSHE-Switching\\CSHE-Die2-C4R7\\CSHE2-C4R7-FieldSwitch_2016-06-24.h5\")\n",
    "edges = [(exp.resistance, wr.data)]\n",
    "exp.set_graph(edges)\n",
    "exp.init_instruments()\n",
    "\n",
    "fields = np.linspace(-0.005,0.025,100)\n",
    "fields = np.append(fields, np.flipud(fields))\n",
    "main_sweep = exp.add_sweep(exp.field,fields)\n",
    "exp.run_sweeps()\n",
    "exp.shutdown_instruments()"
   ]
  },
  {
   "cell_type": "code",
   "execution_count": 4,
   "metadata": {
    "collapsed": true
   },
   "outputs": [],
   "source": [
    "field, res = extract_data(wr.filename)"
   ]
  },
  {
   "cell_type": "code",
   "execution_count": 5,
   "metadata": {
    "collapsed": false,
    "scrolled": true
   },
   "outputs": [],
   "source": [
    "fig = plt.figure()\n",
    "plt.plot(field, res/1e3,'-o')\n",
    "plt.xlabel('Field (T)', size=16)\n",
    "plt.ylabel('Resistance (kOhm)', size=16)\n",
    "plt.title('Field Sweep - CSHE2-C4R7', size=16)\n",
    "plt.show()"
   ]
  },
  {
   "cell_type": "code",
   "execution_count": null,
   "metadata": {
    "collapsed": true
   },
   "outputs": [],
   "source": [
    "# Estimate TMR\n",
    "mid = np.mean(res)\n",
    "TMR = (np.max(res)-np.min(res))/np.min(res)\n",
    "\n",
    "# Coercivity\n"
   ]
  }
 ],
 "metadata": {
  "kernelspec": {
   "display_name": "Python 3",
   "language": "python",
   "name": "python3"
  },
  "language_info": {
   "codemirror_mode": {
    "name": "ipython",
    "version": 3
   },
   "file_extension": ".py",
   "mimetype": "text/x-python",
   "name": "python",
   "nbconvert_exporter": "python",
   "pygments_lexer": "ipython3",
   "version": "3.5.1"
  }
 },
 "nbformat": 4,
 "nbformat_minor": 0
}
