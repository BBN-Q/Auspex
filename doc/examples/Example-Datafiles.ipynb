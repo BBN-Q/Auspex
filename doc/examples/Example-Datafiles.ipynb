{
 "cells": [
  {
   "cell_type": "markdown",
   "metadata": {},
   "source": [
    "# Data writers in QGL, Auspex, libaps2"
   ]
  },
  {
   "cell_type": "markdown",
   "metadata": {},
   "source": [
    "It would be nice to have some documentation on how data is stored, processed, and passed around between the three software packages.  I see four situations where data is passed into or out of files.\n",
    "  * Data written to `.aps2` files by `QGL`\n",
    "  * Data read by `libaps2` and set to the APS2\n",
    "  * Data written by `Auspex` into `.auspex` data files\n",
    "  * Data read by `Auspex`/`Qlab.jl` for analysis\n",
    "\n",
    "These cover ~99% of the situations I can imagine in our normal data flow.  The rest of this document is an exploration and note-to-future-self about how this process works and how it could be changed in the future."
   ]
  },
  {
   "cell_type": "markdown",
   "metadata": {},
   "source": [
    "## QGL to .aps2 files"
   ]
  },
  {
   "cell_type": "markdown",
   "metadata": {},
   "source": [
    "The first situation will require `QGL` to create sequence files for the APS2.  Here, we'll create these files and read them back into the workspace to see how they are packed. "
   ]
  },
  {
   "cell_type": "code",
   "execution_count": 1,
   "metadata": {},
   "outputs": [],
   "source": [
    "import QGL.config\n",
    "from QGL import *"
   ]
  },
  {
   "cell_type": "code",
   "execution_count": 2,
   "metadata": {},
   "outputs": [],
   "source": [
    "# a minimal example of a qubit control chain\n",
    "cl = ChannelLibrary(\":memory:\")\n",
    "q2 = cl.new_qubit(\"q2\")\n",
    "\n",
    "# specify the particulars for a rack of APS2s\n",
    "ip_addresses = [f\"192.168.1.{i}\" for i in [23, 24, 25, 28]]\n",
    "aps2 = cl.new_APS2_rack(\"Maxwell\", ip_addresses, tdm_ip=\"192.168.1.11\")\n",
    "aps2.px(\"TDM\").trigger_interval = 500e-6\n",
    "cl.set_master(aps2.px(\"TDM\"))\n",
    "\n",
    "# initialize all four APS2 to linear regime\n",
    "for i in range(1,4):\n",
    "    aps2.tx(i).ch(1).I_channel_amp_factor = 0.5\n",
    "    aps2.tx(i).ch(1).Q_channel_amp_factor = 0.5\n",
    "    aps2.tx(i).ch(1).amp_factor = 1\n",
    "\n",
    "# create a digitizer - X6 in this case\n",
    "dig_1  = cl.new_X6(\"MyX6\", address=0)\n",
    "dig_1.record_length = 1024 + 256\n",
    "\n",
    "AM2 = cl.new_source(\"AutodyneM2\", \"HolzworthHS9000\", \"HS9004A-492-1\", \n",
    "                     power=16.0, frequency= 6.74621e9, reference=\"10MHz\")\n",
    "q2src = cl.new_source(\"q2source\", \"HolzworthHS9000\", \"HS9004A-492-2\", \n",
    "                     power=16.0, frequency=5.0122e9, reference=\"10MHz\")\n",
    "\n",
    "cl.set_measure(q2, aps2.tx(2), dig_1.channels[1], gate=False, trig_channel=aps2.tx(2).ch(\"m2\"), generator=AM2)\n",
    "cl.set_control(q2, aps2.tx(4), generator=q2src)\n"
   ]
  },
  {
   "cell_type": "code",
   "execution_count": 3,
   "metadata": {},
   "outputs": [],
   "source": [
    "seqs = [[X(q2),Y(q2),X(q2),MEAS(q2)]]"
   ]
  },
  {
   "cell_type": "code",
   "execution_count": 4,
   "metadata": {},
   "outputs": [
    {
     "name": "stdout",
     "output_type": "stream",
     "text": [
      "Compiled 1 sequences.\n"
     ]
    }
   ],
   "source": [
    "mf = compile_to_hardware(seqs, 'utils/file_doc')"
   ]
  },
  {
   "cell_type": "markdown",
   "metadata": {},
   "source": [
    "So now we have `.aps2` files in the utils/file_doc folder, along with a .json metafile.  __mf__ is a file path to the .json metafile that holds metadata about the sequence and where the .aps2 files are stored.  Note, the file extension is set byt the dirver used in QGL.  If you were using an APS1 or a APS3, you would see `.aps1` or `.aps3` files.  Not these files are structurally the same, just name differently for clarity."
   ]
  },
  {
   "cell_type": "code",
   "execution_count": 5,
   "metadata": {},
   "outputs": [
    {
     "data": {
      "text/plain": [
       "'/Users/mware/Github/AWGDir/utils/file_doc-meta.json'"
      ]
     },
     "execution_count": 5,
     "metadata": {},
     "output_type": "execute_result"
    }
   ],
   "source": [
    "mf"
   ]
  },
  {
   "cell_type": "code",
   "execution_count": 6,
   "metadata": {},
   "outputs": [],
   "source": [
    "import json"
   ]
  },
  {
   "cell_type": "code",
   "execution_count": 7,
   "metadata": {},
   "outputs": [
    {
     "data": {
      "text/plain": [
       "{'axis_descriptor': [{'name': 'segment',\n",
       "   'partition': 1,\n",
       "   'points': [1],\n",
       "   'unit': None}],\n",
       " 'database_info': {'db_provider': 'sqlite',\n",
       "  'db_resource_name': ':memory:',\n",
       "  'library_id': 1,\n",
       "  'library_name': 'working'},\n",
       " 'edges': [],\n",
       " 'instruments': {'Maxwell_U2': '/Users/mware/Github/AWGDir/utils/file_doc-Maxwell_U2.aps2',\n",
       "  'Maxwell_U4': '/Users/mware/Github/AWGDir/utils/file_doc-Maxwell_U4.aps2'},\n",
       " 'measurements': ['M-q2'],\n",
       " 'num_measurements': 1,\n",
       " 'num_sequences': 1,\n",
       " 'qubits': ['q2'],\n",
       " 'receivers': {'RecvChan-MyX6-2': 1}}"
      ]
     },
     "execution_count": 7,
     "metadata": {},
     "output_type": "execute_result"
    }
   ],
   "source": [
    "md = json.load(open(mf, \"r\"))\n",
    "md"
   ]
  },
  {
   "cell_type": "code",
   "execution_count": 8,
   "metadata": {},
   "outputs": [],
   "source": [
    "APS2_control_file = md[\"instruments\"][\"Maxwell_U4\"]\n",
    "APS2_measure_file = md[\"instruments\"][\"Maxwell_U2\"]"
   ]
  },
  {
   "cell_type": "markdown",
   "metadata": {},
   "source": [
    "The metafile is just there for house-keeping across multiple `.aps2` files.  It also provides a record of what `QGL` created for each experiment.  The point of this notebook is to dive into the `.aps2` file structure itself.  We can start by looking at the function that creates the file: `QGL/QGL/drivers/APS2Pattern.py` and the `write_sequence_file()`.  The relevant code is only ~20 lines long:\n",
    "```python\n",
    "with open(fileName, 'wb') as FID:\n",
    "    FID.write(b'APS2')                     # target hardware\n",
    "    FID.write(np.float32(4.0).tobytes())   # Version\n",
    "    FID.write(np.float32(4.0).tobytes())   # minimum firmware version\n",
    "    FID.write(np.uint16(2).tobytes())      # number of channels\n",
    "    # FID.write(np.uint16([1, 2]).tobytes()) # channelDataFor\n",
    "    FID.write(np.uint64(instructions.size).tobytes()) # instructions length\n",
    "    FID.write(instructions.tobytes()) # instructions in uint64 form\n",
    "\n",
    "    #Create the groups and datasets\n",
    "    for chanct in range(2):\n",
    "        #Write the waveformLib to file\n",
    "        if wfInfo[chanct][0].size == 0:\n",
    "            #If there are no waveforms, ensure that there is some element\n",
    "            #so that the waveform group gets written to file.\n",
    "            #TODO: Fix this in libaps2\n",
    "            data = np.array([0], dtype=np.int16)\n",
    "        else:\n",
    "            data = wfInfo[chanct][0]\n",
    "        FID.write(np.uint64(data.size).tobytes()) # waveform data length for channel\n",
    "        FID.write(data.tobytes())\n",
    "```\n",
    "Here we can see the data is just byte encoded and written to file in a particular order.  First some basic information about the hardware and minimum firmware."
   ]
  },
  {
   "cell_type": "code",
   "execution_count": 9,
   "metadata": {},
   "outputs": [
    {
     "name": "stdout",
     "output_type": "stream",
     "text": [
      "b'APS2'\n"
     ]
    }
   ],
   "source": [
    "print(b'APS2')"
   ]
  },
  {
   "cell_type": "code",
   "execution_count": 10,
   "metadata": {},
   "outputs": [
    {
     "data": {
      "text/plain": [
       "b'\\x00\\x00\\x80@'"
      ]
     },
     "execution_count": 10,
     "metadata": {},
     "output_type": "execute_result"
    }
   ],
   "source": [
    "np.float32(4.0).tobytes()"
   ]
  },
  {
   "cell_type": "code",
   "execution_count": 11,
   "metadata": {},
   "outputs": [
    {
     "data": {
      "text/plain": [
       "b'\\x02\\x00'"
      ]
     },
     "execution_count": 11,
     "metadata": {},
     "output_type": "execute_result"
    }
   ],
   "source": [
    "np.uint16(2).tobytes()"
   ]
  },
  {
   "cell_type": "code",
   "execution_count": 12,
   "metadata": {},
   "outputs": [
    {
     "name": "stdout",
     "output_type": "stream",
     "text": [
      "b'APS2\\x00\\x00\\x80@\\x00\\x00\\x80@\\x02\\x00\\x0b\\x00\\x00\\x00\\x00\\x00\\x00\\x00\\x00\\x00\\x00\\x00\\x00\\x80\\x00\\x91\\x00\\x00\\x00\\x00\\x00/\\x00\\xa1\\x00\\x00\\x00@\\x00a\\x00\\xa1\\x00\\x00\\x00\\x00\\x00@\\x00!\\x00\\x00\\x00\\x05\\x00\\x00\\x00\\r\\x0b\\x00\\x00\\x00\\x00\\x01\\x00\\xa1\\x06\\x00\\x00\\x05\\x00\\x00\\x00\\r\\x00\\x00\\x00\\x05\\x00\\x00\\x00\\r#\\x00\\x00\\x00\\x00\\x01\\x00\\xa1\\x0c\\x00\\x00\\x1d\\x00 \\x00\\r\\x00\\x00\\x00\\x00\\x00\\x00\\x00`4\\x00\\x00\\x00\\x00\\x00\\x00\\x00t\\x01W\\x03\\xb2\\x05\\x84\\x08\\xc2\\x0bQ\\x0f\\x07\\x13\\xad\\x16\\x05\\x1a\\xcf\\x1c\\xd0\\x1e\\xdc\\x1f\\xdc\\x1f\\xd0\\x1e\\xcf\\x1c\\x05\\x1a\\xad\\x16\\x07\\x13Q\\x0f\\xc2\\x0b\\x84\\x08\\xb2\\x05W\\x03t\\x01\\x00\\x00\\x00\\x00\\x00\\x00\\x00\\x00\\x00\\x00\\x00\\x00\\x00\\x00\\x00\\x00\\x00\\x00\\x00\\x00\\x00\\x00\\x00\\x00\\x00\\x00\\x00\\x00\\x00\\x00\\x00\\x00\\x00\\x00\\x00\\x00\\x00\\x00\\x00\\x00\\x00\\x00\\x00\\x00\\x00\\x00\\x00\\x00\\x00\\x00\\x00\\x00\\x00\\x00\\x00\\x004\\x00\\x00\\x00\\x00\\x00\\x00\\x00\\x00\\x00\\x00\\x00\\x00\\x00\\x00\\x00\\x00\\x00\\x00\\x00\\x00\\x00\\x00\\x00\\x00\\x00\\x00\\x00\\x00\\x00\\x00\\x00\\x00\\x00\\x00\\x00\\x00\\x00\\x00\\x00\\x00\\x00\\x00\\x00\\x00\\x00\\x00\\x00\\x00\\x00\\x00\\x00\\x00\\x00\\x00\\x00t\\x01W\\x03\\xb2\\x05\\x84\\x08\\xc2\\x0bQ\\x0f\\x07\\x13\\xad\\x16\\x05\\x1a\\xcf\\x1c\\xd0\\x1e\\xdc\\x1f\\xdc\\x1f\\xd0\\x1e\\xcf\\x1c\\x05\\x1a\\xad\\x16\\x07\\x13Q\\x0f\\xc2\\x0b\\x84\\x08\\xb2\\x05W\\x03t\\x01\\x00\\x00\\x00\\x00\\x00\\x00\\x00\\x00'\n"
     ]
    }
   ],
   "source": [
    "with open(APS2_control_file, \"rb\") as f:\n",
    "    print(f.read())"
   ]
  },
  {
   "cell_type": "markdown",
   "metadata": {},
   "source": [
    "Of course, this is just the most basic look at what's in the file.  To pull out more useful information, `QGL` has some other function for exploring the data inside."
   ]
  },
  {
   "cell_type": "code",
   "execution_count": 13,
   "metadata": {},
   "outputs": [
    {
     "data": {
      "text/plain": [
       "{'ch1': [[(1, 0.04541570015871078),\n",
       "   (1, 0.10438285923574656),\n",
       "   (1, 0.17800024417043095),\n",
       "   (1, 0.2661457697472836),\n",
       "   (1, 0.36747649859602),\n",
       "   (1, 0.4786961298986693),\n",
       "   (1, 0.5946770846050543),\n",
       "   (1, 0.7087046758637529),\n",
       "   (1, 0.8132096203149799),\n",
       "   (1, 0.9003784641679893),\n",
       "   (1, 0.9630081797094372),\n",
       "   (1, 0.9957270174581858),\n",
       "   (1, 0.9957270174581858),\n",
       "   (1, 0.9630081797094372),\n",
       "   (1, 0.9003784641679893),\n",
       "   (1, 0.8132096203149799),\n",
       "   (1, 0.7087046758637529),\n",
       "   (1, 0.5946770846050543),\n",
       "   (1, 0.4786961298986693),\n",
       "   (1, 0.36747649859602),\n",
       "   (1, 0.2661457697472836),\n",
       "   (1, 0.17800024417043095),\n",
       "   (1, 0.10438285923574656),\n",
       "   (1, 0.04541570015871078),\n",
       "   (1, 3.1146187425024613e-16),\n",
       "   (1, -2.5844387463462135e-19),\n",
       "   (1, -1.2216110335518833e-15),\n",
       "   (1, 3.911873736643366e-15),\n",
       "   (1, 2.8801850737119535e-15),\n",
       "   (1, 4.678017320548365e-16),\n",
       "   (1, 1.3403101491459762e-14),\n",
       "   (1, 1.1111039982203213e-14),\n",
       "   (1, 7.170440821592936e-15),\n",
       "   (1, 1.7620036993235762e-15),\n",
       "   (1, -4.722148206664456e-15),\n",
       "   (1, 1.6586494447636563e-14),\n",
       "   (1, 9.755311238037664e-15),\n",
       "   (1, -2.454229527286706e-14),\n",
       "   (1, -3.5329244680058904e-15),\n",
       "   (1, 1.4342895087219723e-14),\n",
       "   (1, 2.7780232002336545e-14),\n",
       "   (1, 3.6132468274928846e-14),\n",
       "   (1, -1.5014693578307762e-14),\n",
       "   (1, -3.6029608721843285e-15),\n",
       "   (1, 3.1289718242651454e-15),\n",
       "   (1, 5.930580220618218e-15),\n",
       "   (1, 5.728430286558786e-15),\n",
       "   (1, -1.6915801519360628e-15),\n",
       "   (1, 0.04541570015871078),\n",
       "   (1, 0.10438285923574656),\n",
       "   (1, 0.17800024417043095),\n",
       "   (1, 0.2661457697472836),\n",
       "   (1, 0.36747649859602),\n",
       "   (1, 0.4786961298986693),\n",
       "   (1, 0.5946770846050543),\n",
       "   (1, 0.7087046758637529),\n",
       "   (1, 0.8132096203149799),\n",
       "   (1, 0.9003784641679893),\n",
       "   (1, 0.9630081797094372),\n",
       "   (1, 0.9957270174581858),\n",
       "   (1, 0.9957270174581858),\n",
       "   (1, 0.9630081797094372),\n",
       "   (1, 0.9003784641679893),\n",
       "   (1, 0.8132096203149799),\n",
       "   (1, 0.7087046758637529),\n",
       "   (1, 0.5946770846050543),\n",
       "   (1, 0.4786961298986693),\n",
       "   (1, 0.36747649859602),\n",
       "   (1, 0.2661457697472836),\n",
       "   (1, 0.17800024417043095),\n",
       "   (1, 0.10438285923574656),\n",
       "   (1, 0.04541570015871078),\n",
       "   (120, 0.0)]],\n",
       " 'ch2': [[(1, -4.449455346432087e-17),\n",
       "   (1, -1.2783213444890575e-16),\n",
       "   (1, -2.615849151249187e-16),\n",
       "   (1, -4.56308391038667e-16),\n",
       "   (1, -7.200462684279884e-16),\n",
       "   (1, -1.0552206298403356e-15),\n",
       "   (1, -1.456538776375719e-15),\n",
       "   (1, -6.945058000584136e-15),\n",
       "   (1, -2.390146940530979e-15),\n",
       "   (1, 3.5306952006662057e-15),\n",
       "   (1, -3.302165677534868e-15),\n",
       "   (1, -1.0733307704813967e-14),\n",
       "   (1, -3.902124495215065e-15),\n",
       "   (1, 2.8328120572657805e-15),\n",
       "   (1, -3.969524174992337e-15),\n",
       "   (1, -9.562601206157764e-15),\n",
       "   (1, -3.47165165134923e-15),\n",
       "   (1, 1.1667033955021486e-15),\n",
       "   (1, -9.38210936099583e-15),\n",
       "   (1, -4.6812105881300534e-15),\n",
       "   (1, -1.5644859121325727e-15),\n",
       "   (1, 1.7483065823441045e-16),\n",
       "   (1, -2.148096746490886e-15),\n",
       "   (1, -6.230361942564736e-16),\n",
       "   (1, 0.04541570015871078),\n",
       "   (1, 0.10438285923574656),\n",
       "   (1, 0.17800024417043095),\n",
       "   (1, 0.2661457697472836),\n",
       "   (1, 0.36747649859602),\n",
       "   (1, 0.4786961298986693),\n",
       "   (1, 0.5946770846050543),\n",
       "   (1, 0.7087046758637529),\n",
       "   (1, 0.8132096203149799),\n",
       "   (1, 0.9003784641679893),\n",
       "   (1, 0.9630081797094372),\n",
       "   (1, 0.9957270174581858),\n",
       "   (1, 0.9957270174581858),\n",
       "   (1, 0.9630081797094372),\n",
       "   (1, 0.9003784641679893),\n",
       "   (1, 0.8132096203149799),\n",
       "   (1, 0.7087046758637529),\n",
       "   (1, 0.5946770846050543),\n",
       "   (1, 0.4786961298986693),\n",
       "   (1, 0.36747649859602),\n",
       "   (1, 0.2661457697472836),\n",
       "   (1, 0.17800024417043095),\n",
       "   (1, 0.10438285923574656),\n",
       "   (1, 0.04541570015871078),\n",
       "   (1, 7.123626384530595e-16),\n",
       "   (1, -6.13335801480113e-16),\n",
       "   (1, 5.234342591405162e-15),\n",
       "   (1, 2.0879580851125654e-15),\n",
       "   (1, 1.5848296652200776e-14),\n",
       "   (1, 1.0323638897809846e-14),\n",
       "   (1, 2.9447488031467613e-18),\n",
       "   (1, 2.5008174774914194e-14),\n",
       "   (1, 1.1162072831946632e-14),\n",
       "   (1, -7.054702599313358e-15),\n",
       "   (1, 2.6431631422265732e-14),\n",
       "   (1, 5.860582771740212e-15),\n",
       "   (1, -1.560849798086026e-14),\n",
       "   (1, 1.888143982566443e-14),\n",
       "   (1, -1.7597744319838915e-15),\n",
       "   (1, 2.7102426100921372e-14),\n",
       "   (1, 8.338982754780859e-15),\n",
       "   (1, -5.824682731101303e-15),\n",
       "   (1, 1.2200771898733532e-14),\n",
       "   (1, 1.4428220669003632e-15),\n",
       "   (1, 1.043517773137929e-14),\n",
       "   (1, 3.1412225555880143e-15),\n",
       "   (1, -4.0854594248722917e-16),\n",
       "   (1, -1.156970835828324e-15),\n",
       "   (120, 0.0)]],\n",
       " 'm1': [[]],\n",
       " 'm2': [[]],\n",
       " 'm3': [[]],\n",
       " 'm4': [[]]}"
      ]
     },
     "execution_count": 13,
     "metadata": {},
     "output_type": "execute_result"
    }
   ],
   "source": [
    "QGL.drivers.APS2Pattern.read_sequence_file(APS2_control_file)"
   ]
  },
  {
   "cell_type": "code",
   "execution_count": 14,
   "metadata": {},
   "outputs": [
    {
     "data": {
      "text/plain": [
       "{'ch1': [[(24, 0.0),\n",
       "   (24, 0.0),\n",
       "   (24, 0.0),\n",
       "   (1, 0.017946526675619582),\n",
       "   (1, 0.0894884629471371),\n",
       "   (1, 0.34550115980954704),\n",
       "   (1, 0.7392259797338542),\n",
       "   (1, 0.9383469661823953),\n",
       "   (1, 0.9877914784519595),\n",
       "   (1, 0.9976803809058723),\n",
       "   (1, 0.9995116591380784),\n",
       "   (1, 0.9998779147845196),\n",
       "   (1, 0.9998779147845196),\n",
       "   (1, 0.9998779147845196),\n",
       "   (1, 0.9998779147845196),\n",
       "   (1, 0.9998779147845196),\n",
       "   (1, 0.9998779147845196),\n",
       "   (1, 0.9998779147845196),\n",
       "   (1, 0.9998779147845196),\n",
       "   (1, 0.9998779147845196),\n",
       "   (1, 0.9998779147845196),\n",
       "   (1, 0.9998779147845196),\n",
       "   (1, 0.9998779147845196),\n",
       "   (1, 0.9998779147845196),\n",
       "   (1, 0.9998779147845196),\n",
       "   (1, 0.9998779147845196),\n",
       "   (1, 0.9998779147845196),\n",
       "   (1, 0.9998779147845196),\n",
       "   (1, 1.0),\n",
       "   (1, 1.0),\n",
       "   (1, 1.0),\n",
       "   (1, 1.0),\n",
       "   (1, 1.0),\n",
       "   (1, 1.0),\n",
       "   (1, 1.0),\n",
       "   (1, 1.0),\n",
       "   (1, 1.0),\n",
       "   (1, 1.0),\n",
       "   (1, 1.0),\n",
       "   (1, 1.0),\n",
       "   (1, 1.0),\n",
       "   (1, 1.0),\n",
       "   (1, 1.0),\n",
       "   (1, 1.0),\n",
       "   (1, 1.0),\n",
       "   (1, 1.0),\n",
       "   (1, 1.0),\n",
       "   (1, 1.0),\n",
       "   (1, 1.0),\n",
       "   (1, 1.0),\n",
       "   (1, 1.0),\n",
       "   (1, 1.0),\n",
       "   (1, 1.0),\n",
       "   (1, 1.0),\n",
       "   (1, 1.0),\n",
       "   (1, 1.0),\n",
       "   (1, 1.0),\n",
       "   (1, 1.0),\n",
       "   (1, 1.0),\n",
       "   (1, 1.0),\n",
       "   (1, 1.0),\n",
       "   (1, 1.0),\n",
       "   (1, 1.0),\n",
       "   (1, 1.0),\n",
       "   (1, 1.0),\n",
       "   (1, 1.0),\n",
       "   (1, 1.0),\n",
       "   (1, 1.0),\n",
       "   (1, 1.0),\n",
       "   (1, 1.0),\n",
       "   (1, 1.0),\n",
       "   (1, 1.0),\n",
       "   (1, 1.0),\n",
       "   (1, 1.0),\n",
       "   (1, 1.0),\n",
       "   (1, 1.0),\n",
       "   (1, 1.0),\n",
       "   (1, 1.0),\n",
       "   (1, 1.0),\n",
       "   (1, 1.0),\n",
       "   (1, 1.0),\n",
       "   (1, 1.0),\n",
       "   (1, 1.0),\n",
       "   (1, 1.0),\n",
       "   (1, 1.0),\n",
       "   (1, 1.0),\n",
       "   (1, 1.0),\n",
       "   (1, 1.0),\n",
       "   (1, 1.0),\n",
       "   (1, 1.0),\n",
       "   (1, 1.0),\n",
       "   (1, 1.0),\n",
       "   (1, 1.0),\n",
       "   (1, 1.0),\n",
       "   (1, 1.0),\n",
       "   (1, 1.0),\n",
       "   (1, 1.0),\n",
       "   (1, 1.0),\n",
       "   (1, 0.9998779147845196),\n",
       "   (1, 0.9998779147845196),\n",
       "   (1, 0.9998779147845196),\n",
       "   (1, 0.9998779147845196),\n",
       "   (1, 0.9998779147845196),\n",
       "   (1, 0.9998779147845196),\n",
       "   (1, 0.9998779147845196),\n",
       "   (1, 0.9998779147845196),\n",
       "   (1, 0.9998779147845196),\n",
       "   (1, 0.9998779147845196),\n",
       "   (1, 0.9998779147845196),\n",
       "   (1, 0.9998779147845196),\n",
       "   (1, 0.9998779147845196),\n",
       "   (1, 0.9998779147845196),\n",
       "   (1, 0.9998779147845196),\n",
       "   (1, 0.9998779147845196),\n",
       "   (1, 0.9998779147845196),\n",
       "   (1, 0.9995116591380784),\n",
       "   (1, 0.9976803809058723),\n",
       "   (1, 0.9877914784519595),\n",
       "   (1, 0.9383469661823953),\n",
       "   (1, 0.7392259797338542),\n",
       "   (1, 0.34550115980954704),\n",
       "   (1, 0.0894884629471371),\n",
       "   (1, 0.017946526675619582)]],\n",
       " 'ch2': [[(24, 0.0),\n",
       "   (24, 0.0),\n",
       "   (24, 0.0),\n",
       "   (1, 0.0),\n",
       "   (1, 0.0),\n",
       "   (1, 0.0),\n",
       "   (1, 0.0),\n",
       "   (1, 0.0),\n",
       "   (1, 0.0),\n",
       "   (1, 0.0),\n",
       "   (1, 0.0),\n",
       "   (1, 0.0),\n",
       "   (1, 0.0),\n",
       "   (1, 0.0),\n",
       "   (1, 0.0),\n",
       "   (1, 0.0),\n",
       "   (1, 0.0),\n",
       "   (1, 0.0),\n",
       "   (1, 0.0),\n",
       "   (1, 0.0),\n",
       "   (1, 0.0),\n",
       "   (1, 0.0),\n",
       "   (1, 0.0),\n",
       "   (1, 0.0),\n",
       "   (1, 0.0),\n",
       "   (1, 0.0),\n",
       "   (1, 0.0),\n",
       "   (1, 0.0),\n",
       "   (1, 0.0),\n",
       "   (1, 0.0),\n",
       "   (1, 0.0),\n",
       "   (1, 0.0),\n",
       "   (1, 0.0),\n",
       "   (1, 0.0),\n",
       "   (1, 0.0),\n",
       "   (1, 0.0),\n",
       "   (1, 0.0),\n",
       "   (1, 0.0),\n",
       "   (1, 0.0),\n",
       "   (1, 0.0),\n",
       "   (1, 0.0),\n",
       "   (1, 0.0),\n",
       "   (1, 0.0),\n",
       "   (1, 0.0),\n",
       "   (1, 0.0),\n",
       "   (1, 0.0),\n",
       "   (1, 0.0),\n",
       "   (1, 0.0),\n",
       "   (1, 0.0),\n",
       "   (1, 0.0),\n",
       "   (1, 0.0),\n",
       "   (1, 0.0),\n",
       "   (1, 0.0),\n",
       "   (1, 0.0),\n",
       "   (1, 0.0),\n",
       "   (1, 0.0),\n",
       "   (1, 0.0),\n",
       "   (1, 0.0),\n",
       "   (1, 0.0),\n",
       "   (1, 0.0),\n",
       "   (1, 0.0),\n",
       "   (1, 0.0),\n",
       "   (1, 0.0),\n",
       "   (1, 0.0),\n",
       "   (1, 0.0),\n",
       "   (1, 0.0),\n",
       "   (1, 0.0),\n",
       "   (1, 0.0),\n",
       "   (1, 0.0),\n",
       "   (1, 0.0),\n",
       "   (1, 0.0),\n",
       "   (1, 0.0),\n",
       "   (1, 0.0),\n",
       "   (1, 0.0),\n",
       "   (1, 0.0),\n",
       "   (1, 0.0),\n",
       "   (1, 0.0),\n",
       "   (1, 0.0),\n",
       "   (1, 0.0),\n",
       "   (1, 0.0),\n",
       "   (1, 0.0),\n",
       "   (1, 0.0),\n",
       "   (1, 0.0),\n",
       "   (1, 0.0),\n",
       "   (1, 0.0),\n",
       "   (1, 0.0),\n",
       "   (1, 0.0),\n",
       "   (1, 0.0),\n",
       "   (1, 0.0),\n",
       "   (1, 0.0),\n",
       "   (1, 0.0),\n",
       "   (1, 0.0),\n",
       "   (1, 0.0),\n",
       "   (1, 0.0),\n",
       "   (1, 0.0),\n",
       "   (1, 0.0),\n",
       "   (1, 0.0),\n",
       "   (1, 0.0),\n",
       "   (1, 0.0),\n",
       "   (1, 0.0),\n",
       "   (1, 0.0),\n",
       "   (1, 0.0),\n",
       "   (1, 0.0),\n",
       "   (1, 0.0),\n",
       "   (1, 0.0),\n",
       "   (1, 0.0),\n",
       "   (1, 0.0),\n",
       "   (1, 0.0),\n",
       "   (1, 0.0),\n",
       "   (1, 0.0),\n",
       "   (1, 0.0),\n",
       "   (1, 0.0),\n",
       "   (1, 0.0),\n",
       "   (1, 0.0),\n",
       "   (1, 0.0),\n",
       "   (1, 0.0),\n",
       "   (1, 0.0),\n",
       "   (1, 0.0),\n",
       "   (1, 0.0),\n",
       "   (1, 0.0),\n",
       "   (1, 0.0),\n",
       "   (1, 0.0),\n",
       "   (1, 0.0)]],\n",
       " 'm1': [[]],\n",
       " 'm2': [[(72, 0), (120, 1)]],\n",
       " 'm3': [[]],\n",
       " 'm4': [[]]}"
      ]
     },
     "execution_count": 14,
     "metadata": {},
     "output_type": "execute_result"
    }
   ],
   "source": [
    "QGL.drivers.APS2Pattern.read_sequence_file(APS2_measure_file)"
   ]
  },
  {
   "cell_type": "markdown",
   "metadata": {},
   "source": [
    "It might be instructive to see what the pulses should look like so we can confirm the data in the files is what was intended."
   ]
  },
  {
   "cell_type": "code",
   "execution_count": 15,
   "metadata": {},
   "outputs": [
    {
     "data": {
      "application/vnd.jupyter.widget-view+json": {
       "model_id": "d9b2963904c24f42800a1da46c41b79c",
       "version_major": 2,
       "version_minor": 0
      },
      "text/plain": [
       "VBox(children=(IntSlider(value=1, description='Segment', max=1, min=1), Figure(animation_duration=50, axes=[Ax…"
      ]
     },
     "metadata": {},
     "output_type": "display_data"
    }
   ],
   "source": [
    "plot_pulse_files(mf)"
   ]
  },
  {
   "cell_type": "markdown",
   "metadata": {},
   "source": [
    "Note here, the data returned in the read_sequence_file methods and in plotting is just the waveform data and not the sequence instruction data.  `QGL` has a variety of functions you can use to inspect the sequence data:"
   ]
  },
  {
   "cell_type": "code",
   "execution_count": 16,
   "metadata": {},
   "outputs": [
    {
     "data": {
      "text/plain": [
       "array([10448491872987906048, 11601324317152903168, 11601379293808033792,\n",
       "        2377970971995799552,   936748722576949248, 11601273739618025483,\n",
       "         936748722576949254,   936748722576949248, 11601273739618025507,\n",
       "         936783907351691276,  6917529027641081856], dtype=uint64)"
      ]
     },
     "execution_count": 16,
     "metadata": {},
     "output_type": "execute_result"
    }
   ],
   "source": [
    "QGL.drivers.APS2Pattern.raw_instructions(APS2_control_file)"
   ]
  },
  {
   "cell_type": "code",
   "execution_count": 17,
   "metadata": {},
   "outputs": [
    {
     "data": {
      "text/plain": [
       "[SYNC,\n",
       " MODULATION; write=1 | RESET_PHASE; nco_select=0xf,\n",
       " MODULATION; write=1 | SET_FREQ; nco_select=0x1, increment=0x40000000,\n",
       " WAIT,\n",
       " WFM; engine=3, write=1 | PLAY; TA_bit=0, count=5, addr=0,\n",
       " MODULATION; write=1 | MODULATE; nco_select=0x1, count=11,\n",
       " WFM; engine=3, write=1 | PLAY; TA_bit=0, count=5, addr=6,\n",
       " WFM; engine=3, write=1 | PLAY; TA_bit=0, count=5, addr=0,\n",
       " MODULATION; write=1 | MODULATE; nco_select=0x1, count=35,\n",
       " WFM; engine=3, write=1 | PLAY; TA_bit=1, count=29, addr=12,\n",
       " GOTO | target_addr=0]"
      ]
     },
     "execution_count": 17,
     "metadata": {},
     "output_type": "execute_result"
    }
   ],
   "source": [
    "QGL.drivers.APS2Pattern.read_instructions(APS2_control_file)"
   ]
  },
  {
   "cell_type": "markdown",
   "metadata": {},
   "source": [
    "Users will likely never need to inspect .aps2 files in this detail but the above is illustrative of what information is in the files.  See the documentations for more details on what the instructions actually do when decoded by the hardware.  The above is a representation of our simple X,Y,X sequence created above."
   ]
  },
  {
   "cell_type": "markdown",
   "metadata": {},
   "source": [
    "## Data read by libaps2"
   ]
  },
  {
   "cell_type": "markdown",
   "metadata": {},
   "source": [
    "The data read by `libaps2` can be specified by the user manually or read from files like `.aps2` above with the `load_sequence_file()` function inside libaps2:\n",
    "```cpp\n",
    "// Read the header information\n",
    "char junk[100];\n",
    "uint64_t buff_length;\n",
    "uint16_t num_chans;\n",
    "\n",
    "std::fstream file(seqFile, std::ios::binary | std::ios::in);\n",
    "if( !file ) throw APS2_SEQFILE_FAIL;\n",
    "\n",
    "file.read(junk, 12); // Don't need this info\n",
    "file.read(reinterpret_cast<char *> (&num_chans), sizeof(uint16_t));\n",
    "\n",
    "// Start anew\n",
    "clear_channel_data();\n",
    "\n",
    "// Read the instructions\n",
    "file.read(reinterpret_cast<char *> (&buff_length), sizeof(uint64_t));\n",
    "vector<uint64_t> instructions;\n",
    "instructions.resize(buff_length);\n",
    "file.read(reinterpret_cast<char *> (instructions.data()), buff_length*sizeof(uint64_t));\n",
    "write_sequence(instructions);\n",
    "\n",
    "// Read the waveforms\n",
    "vector<int16_t> waveform;\n",
    "for (int chanct = 0; chanct < num_chans; chanct++) {\n",
    "  file.read(reinterpret_cast<char *> (&buff_length), sizeof(uint64_t));\n",
    "  waveform.resize(buff_length);\n",
    "  file.read(reinterpret_cast<char *> (waveform.data()), buff_length*sizeof(int16_t));\n",
    "  set_waveform(chanct, waveform);\n",
    "}\n",
    "```\n",
    "To manually set the values a user could use the `write_sequence` function to write sequence instruction information and the `set_waveform` function to write the waveform data."
   ]
  },
  {
   "cell_type": "markdown",
   "metadata": {},
   "source": [
    "## Data written by `Auspex`"
   ]
  },
  {
   "cell_type": "markdown",
   "metadata": {},
   "source": [
    "The other end of the data taking process involves saving experimental data to file.  This data could have a very rich structure and will depend on how the data pipeline was constructed in `Auspex` and what was saved to file using the pipeline `Writer`.  The writer uses a data structure called __AuspexDataContainer__ specified in `auspex/data_format`.  It creates a directory structure with a `.auspex` extension where the data files are stored.  This choice to use directories was intentionally made to allow for multiple file writers to work at once.  The files inside the folder have the following structure:\n",
    "```\n",
    "folder/data_set_name/\n",
    "                        data.dat\n",
    "                        data_meta.json\n",
    "```\n",
    "Where the .dat contains the actual data and the JSON file holds meta data about data in the .dat file.  The data files are `numpy` memmaps as explained in more detail in the next section."
   ]
  },
  {
   "cell_type": "markdown",
   "metadata": {},
   "source": [
    "## Data read by `Auspex`"
   ]
  },
  {
   "cell_type": "markdown",
   "metadata": {},
   "source": [
    "The last situation is where data needs to be read from file after the experiment is over.  This could be necessary for plotting, analysis, etc...  Auspex has two main functions for doing this: `open_data` and `load_data`."
   ]
  },
  {
   "cell_type": "code",
   "execution_count": 18,
   "metadata": {},
   "outputs": [],
   "source": [
    "from auspex.analysis.helpers import open_data, load_data"
   ]
  },
  {
   "cell_type": "code",
   "execution_count": 19,
   "metadata": {},
   "outputs": [],
   "source": [
    "auspex_data = load_data('../../test/data/test_data-0000.auspex')"
   ]
  },
  {
   "cell_type": "code",
   "execution_count": 20,
   "metadata": {},
   "outputs": [
    {
     "data": {
      "text/plain": [
       "{'q2-raw_int': {'data': {'data': array([-0.03480155+0.07538876j, -0.0365286 +0.07124131j,\n",
       "          -0.0347432 +0.0652775j , -0.03676876+0.06965215j,\n",
       "          -0.03290481+0.06655533j, -0.03316881+0.05601843j,\n",
       "          -0.03321098+0.04771077j, -0.04027801+0.04940713j,\n",
       "          -0.03636705+0.04388169j, -0.03038527+0.04576108j,\n",
       "          -0.03787801+0.04439955j, -0.03236112+0.04230543j,\n",
       "          -0.04050779+0.04489688j, -0.03577601+0.03958429j,\n",
       "          -0.0406527 +0.03691186j, -0.04130238+0.03809405j,\n",
       "          -0.0371349 +0.03233574j, -0.04126542+0.02633132j,\n",
       "          -0.04183918+0.02636424j, -0.04314072+0.02570276j,\n",
       "          -0.03159363+0.03175351j, -0.03809416+0.02639723j,\n",
       "          -0.04292881+0.02568283j, -0.03711685+0.02149215j,\n",
       "          -0.03787809+0.03078357j, -0.03833073+0.0198887j ,\n",
       "          -0.03942336+0.02429585j, -0.03922277+0.01124447j,\n",
       "          -0.03651746+0.01885406j, -0.04246189+0.01818306j,\n",
       "          -0.04411308+0.02368582j, -0.03961586+0.01782727j,\n",
       "          -0.03935266+0.01531323j, -0.04433473+0.01292302j,\n",
       "          -0.04045838+0.0166872j , -0.04288147+0.01179237j,\n",
       "          -0.03893812+0.01322665j, -0.04580873+0.01976834j,\n",
       "          -0.0354858 +0.0188018j , -0.03558416+0.01550809j,\n",
       "          -0.04687808+0.01556531j, -0.03996974+0.01355006j,\n",
       "          -0.03573726+0.01741335j, -0.04397508+0.00931415j,\n",
       "          -0.04551779+0.01635065j, -0.04687501+0.00895975j,\n",
       "          -0.03458718+0.01311569j, -0.03841558+0.01047171j,\n",
       "          -0.04258917+0.00910061j, -0.03948617+0.01182697j,\n",
       "          -0.04467226+0.0072093j , -0.04309372+0.01434342j,\n",
       "          -0.04284658+0.00459964j, -0.04153653+0.01049169j,\n",
       "          -0.04557097+0.00650584j, -0.0404346 +0.00692518j,\n",
       "          -0.04371908+0.00722908j, -0.03640441+0.01235616j,\n",
       "          -0.03819477+0.00638416j, -0.03709298+0.00281938j,\n",
       "          -0.04418598+0.01067704j, -0.04196066+0.00994303j,\n",
       "          -0.04285414+0.01200638j, -0.04153651+0.01083936j,\n",
       "          -0.03820521+0.00259102j, -0.04466618+0.00507353j,\n",
       "          -0.03948722+0.00564439j, -0.03861988+0.01177545j,\n",
       "          -0.04082053+0.00552459j, -0.03926749+0.00880394j,\n",
       "          -0.03263902+0.00508089j, -0.03851758+0.00503399j,\n",
       "          -0.04512433+0.01480351j, -0.0382643 +0.00798813j,\n",
       "          -0.03633226+0.00958326j, -0.03884519+0.00265284j,\n",
       "          -0.04373022+0.00995175j, -0.04417085+0.00860814j,\n",
       "          -0.03612702+0.0066801j , -0.04085327+0.00715064j,\n",
       "          -0.04316802+0.00865209j, -0.04035072+0.00664616j,\n",
       "          -0.03820367+0.00549516j, -0.03788753+0.0063437j ,\n",
       "          -0.04372138+0.00300529j, -0.04270401+0.00789903j,\n",
       "          -0.04419421+0.00257307j, -0.04529695+0.00500938j,\n",
       "          -0.03719152+0.00442191j, -0.04561918+0.00299782j,\n",
       "          -0.04368044+0.00309481j, -0.04095042+0.00883289j,\n",
       "          -0.04433146+0.00270763j, -0.03665237+0.01226496j,\n",
       "          -0.04113992+0.00855285j, -0.03999054+0.00120436j,\n",
       "          -0.04467138+0.00812365j, -0.04367835+0.00289398j,\n",
       "          -0.04203465+0.00101844j, -0.04409031+0.00489007j,\n",
       "          -0.03282906+0.01226064j, -0.03620682+0.00666338j,\n",
       "          -0.03707858+0.005007j  , -0.0376645 +0.08110193j,\n",
       "          -0.03251856+0.0765975j ]),\n",
       "   'descriptor': <DataStreamDescriptor(num_dims=1, num_points=105)>}}}"
      ]
     },
     "execution_count": 20,
     "metadata": {},
     "output_type": "execute_result"
    }
   ],
   "source": [
    "auspex_data"
   ]
  },
  {
   "cell_type": "code",
   "execution_count": 21,
   "metadata": {},
   "outputs": [],
   "source": [
    "# You can be more specific with the data and group name if you'd like with the open_data function\n",
    "\n",
    "data, desc, _ = open_data(0,'../../test/data/', groupname=\"q2-raw_int\", datasetname=\"data\", date = \"\")\n",
    "\n",
    "# you can also pass no arguments and select the data with a window (tested on MacOS)\n",
    "# dat = open_data()"
   ]
  },
  {
   "cell_type": "code",
   "execution_count": 22,
   "metadata": {},
   "outputs": [
    {
     "data": {
      "text/plain": [
       "array([-0.03480155+0.07538876j, -0.0365286 +0.07124131j,\n",
       "       -0.0347432 +0.0652775j , -0.03676876+0.06965215j,\n",
       "       -0.03290481+0.06655533j, -0.03316881+0.05601843j,\n",
       "       -0.03321098+0.04771077j, -0.04027801+0.04940713j,\n",
       "       -0.03636705+0.04388169j, -0.03038527+0.04576108j,\n",
       "       -0.03787801+0.04439955j, -0.03236112+0.04230543j,\n",
       "       -0.04050779+0.04489688j, -0.03577601+0.03958429j,\n",
       "       -0.0406527 +0.03691186j, -0.04130238+0.03809405j,\n",
       "       -0.0371349 +0.03233574j, -0.04126542+0.02633132j,\n",
       "       -0.04183918+0.02636424j, -0.04314072+0.02570276j,\n",
       "       -0.03159363+0.03175351j, -0.03809416+0.02639723j,\n",
       "       -0.04292881+0.02568283j, -0.03711685+0.02149215j,\n",
       "       -0.03787809+0.03078357j, -0.03833073+0.0198887j ,\n",
       "       -0.03942336+0.02429585j, -0.03922277+0.01124447j,\n",
       "       -0.03651746+0.01885406j, -0.04246189+0.01818306j,\n",
       "       -0.04411308+0.02368582j, -0.03961586+0.01782727j,\n",
       "       -0.03935266+0.01531323j, -0.04433473+0.01292302j,\n",
       "       -0.04045838+0.0166872j , -0.04288147+0.01179237j,\n",
       "       -0.03893812+0.01322665j, -0.04580873+0.01976834j,\n",
       "       -0.0354858 +0.0188018j , -0.03558416+0.01550809j,\n",
       "       -0.04687808+0.01556531j, -0.03996974+0.01355006j,\n",
       "       -0.03573726+0.01741335j, -0.04397508+0.00931415j,\n",
       "       -0.04551779+0.01635065j, -0.04687501+0.00895975j,\n",
       "       -0.03458718+0.01311569j, -0.03841558+0.01047171j,\n",
       "       -0.04258917+0.00910061j, -0.03948617+0.01182697j,\n",
       "       -0.04467226+0.0072093j , -0.04309372+0.01434342j,\n",
       "       -0.04284658+0.00459964j, -0.04153653+0.01049169j,\n",
       "       -0.04557097+0.00650584j, -0.0404346 +0.00692518j,\n",
       "       -0.04371908+0.00722908j, -0.03640441+0.01235616j,\n",
       "       -0.03819477+0.00638416j, -0.03709298+0.00281938j,\n",
       "       -0.04418598+0.01067704j, -0.04196066+0.00994303j,\n",
       "       -0.04285414+0.01200638j, -0.04153651+0.01083936j,\n",
       "       -0.03820521+0.00259102j, -0.04466618+0.00507353j,\n",
       "       -0.03948722+0.00564439j, -0.03861988+0.01177545j,\n",
       "       -0.04082053+0.00552459j, -0.03926749+0.00880394j,\n",
       "       -0.03263902+0.00508089j, -0.03851758+0.00503399j,\n",
       "       -0.04512433+0.01480351j, -0.0382643 +0.00798813j,\n",
       "       -0.03633226+0.00958326j, -0.03884519+0.00265284j,\n",
       "       -0.04373022+0.00995175j, -0.04417085+0.00860814j,\n",
       "       -0.03612702+0.0066801j , -0.04085327+0.00715064j,\n",
       "       -0.04316802+0.00865209j, -0.04035072+0.00664616j,\n",
       "       -0.03820367+0.00549516j, -0.03788753+0.0063437j ,\n",
       "       -0.04372138+0.00300529j, -0.04270401+0.00789903j,\n",
       "       -0.04419421+0.00257307j, -0.04529695+0.00500938j,\n",
       "       -0.03719152+0.00442191j, -0.04561918+0.00299782j,\n",
       "       -0.04368044+0.00309481j, -0.04095042+0.00883289j,\n",
       "       -0.04433146+0.00270763j, -0.03665237+0.01226496j,\n",
       "       -0.04113992+0.00855285j, -0.03999054+0.00120436j,\n",
       "       -0.04467138+0.00812365j, -0.04367835+0.00289398j,\n",
       "       -0.04203465+0.00101844j, -0.04409031+0.00489007j,\n",
       "       -0.03282906+0.01226064j, -0.03620682+0.00666338j,\n",
       "       -0.03707858+0.005007j  , -0.0376645 +0.08110193j,\n",
       "       -0.03251856+0.0765975j ])"
      ]
     },
     "execution_count": 22,
     "metadata": {},
     "output_type": "execute_result"
    }
   ],
   "source": [
    "data"
   ]
  },
  {
   "cell_type": "code",
   "execution_count": 23,
   "metadata": {},
   "outputs": [],
   "source": [
    "# In some cases, you have a specific 'data' folder and all data is organized by date. In that case, you can use open data\n",
    "# in a way similar to:\n",
    "#\n",
    "# dat, desc, _ = open_data(25, '/Users/mware/IpythonNotebooks/explorations/Tomography/', groupname=\"q2-main\", datasetname=\"data\", date=\"200428\")\n",
    "#\n",
    "# where the the function looks for a folder named with the data and pulls out the '25' numbered dataset"
   ]
  },
  {
   "cell_type": "markdown",
   "metadata": {},
   "source": [
    "The `.dat` files themselves are binary packed memmaps.  They can be accessed amnually with `numpy.memmap`.  "
   ]
  },
  {
   "cell_type": "code",
   "execution_count": 24,
   "metadata": {},
   "outputs": [],
   "source": [
    "test_file = '../../test/data/test_data-0000.auspex/q2-raw_int/data.dat'"
   ]
  },
  {
   "cell_type": "code",
   "execution_count": 25,
   "metadata": {},
   "outputs": [],
   "source": [
    "test_data = np.memmap(test_file, dtype=complex, mode='r')"
   ]
  },
  {
   "cell_type": "code",
   "execution_count": 26,
   "metadata": {},
   "outputs": [
    {
     "data": {
      "text/plain": [
       "memmap([-0.03480155+0.07538876j, -0.0365286 +0.07124131j,\n",
       "        -0.0347432 +0.0652775j , -0.03676876+0.06965215j,\n",
       "        -0.03290481+0.06655533j, -0.03316881+0.05601843j,\n",
       "        -0.03321098+0.04771077j, -0.04027801+0.04940713j,\n",
       "        -0.03636705+0.04388169j, -0.03038527+0.04576108j,\n",
       "        -0.03787801+0.04439955j, -0.03236112+0.04230543j,\n",
       "        -0.04050779+0.04489688j, -0.03577601+0.03958429j,\n",
       "        -0.0406527 +0.03691186j, -0.04130238+0.03809405j,\n",
       "        -0.0371349 +0.03233574j, -0.04126542+0.02633132j,\n",
       "        -0.04183918+0.02636424j, -0.04314072+0.02570276j,\n",
       "        -0.03159363+0.03175351j, -0.03809416+0.02639723j,\n",
       "        -0.04292881+0.02568283j, -0.03711685+0.02149215j,\n",
       "        -0.03787809+0.03078357j, -0.03833073+0.0198887j ,\n",
       "        -0.03942336+0.02429585j, -0.03922277+0.01124447j,\n",
       "        -0.03651746+0.01885406j, -0.04246189+0.01818306j,\n",
       "        -0.04411308+0.02368582j, -0.03961586+0.01782727j,\n",
       "        -0.03935266+0.01531323j, -0.04433473+0.01292302j,\n",
       "        -0.04045838+0.0166872j , -0.04288147+0.01179237j,\n",
       "        -0.03893812+0.01322665j, -0.04580873+0.01976834j,\n",
       "        -0.0354858 +0.0188018j , -0.03558416+0.01550809j,\n",
       "        -0.04687808+0.01556531j, -0.03996974+0.01355006j,\n",
       "        -0.03573726+0.01741335j, -0.04397508+0.00931415j,\n",
       "        -0.04551779+0.01635065j, -0.04687501+0.00895975j,\n",
       "        -0.03458718+0.01311569j, -0.03841558+0.01047171j,\n",
       "        -0.04258917+0.00910061j, -0.03948617+0.01182697j,\n",
       "        -0.04467226+0.0072093j , -0.04309372+0.01434342j,\n",
       "        -0.04284658+0.00459964j, -0.04153653+0.01049169j,\n",
       "        -0.04557097+0.00650584j, -0.0404346 +0.00692518j,\n",
       "        -0.04371908+0.00722908j, -0.03640441+0.01235616j,\n",
       "        -0.03819477+0.00638416j, -0.03709298+0.00281938j,\n",
       "        -0.04418598+0.01067704j, -0.04196066+0.00994303j,\n",
       "        -0.04285414+0.01200638j, -0.04153651+0.01083936j,\n",
       "        -0.03820521+0.00259102j, -0.04466618+0.00507353j,\n",
       "        -0.03948722+0.00564439j, -0.03861988+0.01177545j,\n",
       "        -0.04082053+0.00552459j, -0.03926749+0.00880394j,\n",
       "        -0.03263902+0.00508089j, -0.03851758+0.00503399j,\n",
       "        -0.04512433+0.01480351j, -0.0382643 +0.00798813j,\n",
       "        -0.03633226+0.00958326j, -0.03884519+0.00265284j,\n",
       "        -0.04373022+0.00995175j, -0.04417085+0.00860814j,\n",
       "        -0.03612702+0.0066801j , -0.04085327+0.00715064j,\n",
       "        -0.04316802+0.00865209j, -0.04035072+0.00664616j,\n",
       "        -0.03820367+0.00549516j, -0.03788753+0.0063437j ,\n",
       "        -0.04372138+0.00300529j, -0.04270401+0.00789903j,\n",
       "        -0.04419421+0.00257307j, -0.04529695+0.00500938j,\n",
       "        -0.03719152+0.00442191j, -0.04561918+0.00299782j,\n",
       "        -0.04368044+0.00309481j, -0.04095042+0.00883289j,\n",
       "        -0.04433146+0.00270763j, -0.03665237+0.01226496j,\n",
       "        -0.04113992+0.00855285j, -0.03999054+0.00120436j,\n",
       "        -0.04467138+0.00812365j, -0.04367835+0.00289398j,\n",
       "        -0.04203465+0.00101844j, -0.04409031+0.00489007j,\n",
       "        -0.03282906+0.01226064j, -0.03620682+0.00666338j,\n",
       "        -0.03707858+0.005007j  , -0.0376645 +0.08110193j,\n",
       "        -0.03251856+0.0765975j ])"
      ]
     },
     "execution_count": 26,
     "metadata": {},
     "output_type": "execute_result"
    }
   ],
   "source": [
    "test_data"
   ]
  },
  {
   "cell_type": "code",
   "execution_count": 27,
   "metadata": {},
   "outputs": [
    {
     "data": {
      "text/plain": [
       "105"
      ]
     },
     "execution_count": 27,
     "metadata": {},
     "output_type": "execute_result"
    }
   ],
   "source": [
    "np.size(test_data)"
   ]
  },
  {
   "cell_type": "markdown",
   "metadata": {},
   "source": [
    "Anyone using `Auspex` should never have to work at this level.  This breakdown of the file structures is presented only for reference."
   ]
  },
  {
   "cell_type": "code",
   "execution_count": null,
   "metadata": {},
   "outputs": [],
   "source": []
  }
 ],
 "metadata": {
  "kernelspec": {
   "display_name": "Python 3",
   "language": "python",
   "name": "python3"
  },
  "language_info": {
   "codemirror_mode": {
    "name": "ipython",
    "version": 3
   },
   "file_extension": ".py",
   "mimetype": "text/x-python",
   "name": "python",
   "nbconvert_exporter": "python",
   "pygments_lexer": "ipython3",
   "version": "3.7.7"
  },
  "latex_envs": {
   "bibliofile": "biblio.bib",
   "cite_by": "apalike",
   "current_citInitial": 1,
   "eqLabelWithNumbers": true,
   "eqNumInitial": 0
  },
  "nav_menu": {},
  "toc": {
   "navigate_menu": true,
   "number_sections": true,
   "sideBar": true,
   "threshold": 6,
   "toc_cell": false,
   "toc_section_display": "block",
   "toc_window_display": false
  }
 },
 "nbformat": 4,
 "nbformat_minor": 4
}
