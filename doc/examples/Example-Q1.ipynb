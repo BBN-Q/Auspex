{
 "cells": [
  {
   "cell_type": "markdown",
   "metadata": {},
   "source": [
    "## Example Q1: Configuring a Channel Library from Scratch  \n",
    "This example notebook shows how, using QGL, one can configure a measurement system. All configuration occurs within the notebook, but interfaces with the QGL `ChannelLibrary` object that uses the `bbndb` package database backend.\n",
    "\n",
    "(c) Raytheon BBN Technologies 2018"
   ]
  },
  {
   "cell_type": "markdown",
   "metadata": {},
   "source": [
    "### Creating a Channel Library "
   ]
  },
  {
   "cell_type": "markdown",
   "metadata": {},
   "source": [
    "The `AWGDir` environment variable is used to indicate where QGL will store it's output sequence files. First we load the QGL module. It defaults to a temporary directory as provided by Python's `tempfile` module."
   ]
  },
  {
   "cell_type": "code",
   "execution_count": 1,
   "metadata": {},
   "outputs": [],
   "source": [
    "from QGL import *"
   ]
  },
  {
   "cell_type": "markdown",
   "metadata": {},
   "source": [
    "Next we instantiate the channel library. By default `bbndb` will use an sqlite database at the location specified by the `BBN_DB` environment variabe, but we override this behavior below in order to use a temporary in memory database for testing purposes."
   ]
  },
  {
   "cell_type": "code",
   "execution_count": 2,
   "metadata": {},
   "outputs": [],
   "source": [
    "cl = ChannelLibrary(db_resource_name=\":memory:\")"
   ]
  },
  {
   "cell_type": "markdown",
   "metadata": {},
   "source": [
    "The channel library has a number of convenience functions defined for create instruments and qubits, as well as functions to define the relationships between them. Let us create a qubit first:"
   ]
  },
  {
   "cell_type": "code",
   "execution_count": 3,
   "metadata": {},
   "outputs": [],
   "source": [
    "q1 = cl.new_qubit(\"q1\")"
   ]
  },
  {
   "cell_type": "markdown",
   "metadata": {},
   "source": [
    "Later on we will see how to save and load other versions of the channel library, so remember that *this reference will become stale if other library versions are loaded*. After creation it is safest to refer to channels using keyword syntax on the channel library, i.e. `cl[\"q1\"]`. We'll discuss this more later. Now we create some instrumentation: AWGs, a digitizer, and some microwave sources"
   ]
  },
  {
   "cell_type": "code",
   "execution_count": 4,
   "metadata": {},
   "outputs": [],
   "source": [
    "# Most calls required label and address\n",
    "aps2_1 = cl.new_APS2(\"BBNAPS1\", address=\"192.168.5.101\") \n",
    "aps2_2 = cl.new_APS2(\"BBNAPS2\", address=\"192.168.5.102\")\n",
    "dig_1  = cl.new_X6(\"X6_1\", address=0)"
   ]
  },
  {
   "cell_type": "markdown",
   "metadata": {},
   "source": [
    "There is more general syntax for arbitrary instruments:"
   ]
  },
  {
   "cell_type": "code",
   "execution_count": 5,
   "metadata": {},
   "outputs": [],
   "source": [
    "# Label, instrument type, address, and an additional config parameter\n",
    "h1 = cl.new_source(\"Holz1\", \"HolzworthHS9000\", \"HS9004A-009-1\", power=-30)\n",
    "h2 = cl.new_source(\"Holz2\", \"HolzworthHS9000\", \"HS9004A-009-2\", power=-30) "
   ]
  },
  {
   "cell_type": "markdown",
   "metadata": {},
   "source": [
    "Now we want to define which instruments control what."
   ]
  },
  {
   "cell_type": "code",
   "execution_count": 6,
   "metadata": {},
   "outputs": [],
   "source": [
    "# Qubit q1 is controlled by AWG aps2_1, and uses microwave source h1\n",
    "cl.set_control(q1, aps2_1, generator=h1)\n",
    "# Qubit q1 is measured by AWG aps2_2 and digitizer dig_1, and uses microwave source h2\n",
    "cl.set_measure(q1, aps2_2, dig_1[\"raw-1-1\"], generator=h2)\n",
    "# The AWG aps2_1 is the master AWG, and distributes a synchronization trigger on its second marker channel\n",
    "cl.set_master(aps2_1, aps2_1.ch(\"m2\"))"
   ]
  },
  {
   "cell_type": "markdown",
   "metadata": {},
   "source": [
    "These objects are linked to one another, and belong to a relational database. Therefore once can easily drill through the heirarchy using typical \"dot\" attribute access. i.e. we can configure the sidebanding of q1 using the following:"
   ]
  },
  {
   "cell_type": "code",
   "execution_count": 7,
   "metadata": {},
   "outputs": [],
   "source": [
    "cl[\"q1\"].measure_chan.frequency = 10e6"
   ]
  },
  {
   "cell_type": "markdown",
   "metadata": {},
   "source": [
    "All of the object above have been added to the current database session, but must be committed in order to be made permanent. That can be done as follows:"
   ]
  },
  {
   "cell_type": "code",
   "execution_count": 8,
   "metadata": {},
   "outputs": [],
   "source": [
    "cl.commit()"
   ]
  },
  {
   "cell_type": "markdown",
   "metadata": {},
   "source": [
    "At this point the channel database is automatically saved to the \"working\" copy. All of the current channel libraries can be listed  (along with their ID and date stamp) with:"
   ]
  },
  {
   "cell_type": "code",
   "execution_count": 9,
   "metadata": {},
   "outputs": [
    {
     "data": {
      "text/html": [
       "<table><tr><th>id</th><th>Year</th><th>Date</th><th>Time</th><th>Name</th></tr><tr><tr><td>1</td><td>2019</td><td>Feb. 27</td><td>01:37:18 PM</td><td>working</td></tr></tr></table>"
      ],
      "text/plain": [
       "<IPython.core.display.HTML object>"
      ]
     },
     "metadata": {},
     "output_type": "display_data"
    }
   ],
   "source": [
    "cl.ls()"
   ]
  },
  {
   "cell_type": "markdown",
   "metadata": {},
   "source": [
    "The channel library will attempt to prevent you from creating redundant objects, e.g.:"
   ]
  },
  {
   "cell_type": "code",
   "execution_count": 10,
   "metadata": {},
   "outputs": [
    {
     "name": "stderr",
     "output_type": "stream",
     "text": [
      "A database item with the name q1 already exists. Returning this existing item instead.\n"
     ]
    }
   ],
   "source": [
    "q1 = cl.new_qubit(\"q1\")"
   ]
  },
  {
   "cell_type": "code",
   "execution_count": 11,
   "metadata": {},
   "outputs": [
    {
     "name": "stderr",
     "output_type": "stream",
     "text": [
      "The measurement M-q1 already exists: using this measurement.\n",
      "The Receiver trigger ReceiverTrig-q1 already exists: using this channel.\n"
     ]
    }
   ],
   "source": [
    "cl.set_measure(q1, aps2_2, dig_1[\"demodulated-1-1\"], generator=h2)"
   ]
  },
  {
   "cell_type": "markdown",
   "metadata": {},
   "source": [
    "Let's plot the pulse files for a Rabi sequence (giving a directory for storing AWG information)."
   ]
  },
  {
   "cell_type": "code",
   "execution_count": 12,
   "metadata": {},
   "outputs": [
    {
     "name": "stdout",
     "output_type": "stream",
     "text": [
      "Compiled 11 sequences.\n"
     ]
    },
    {
     "data": {
      "application/vnd.jupyter.widget-view+json": {
       "model_id": "9fb70f8f45384f1ba1e16d20f9119865",
       "version_major": 2,
       "version_minor": 0
      },
      "text/plain": [
       "VBox(children=(IntSlider(value=1, description='Segment', max=11, min=1), Figure(animation_duration=50, axes=[A…"
      ]
     },
     "metadata": {},
     "output_type": "display_data"
    }
   ],
   "source": [
    "plot_pulse_files(RabiAmp(cl[\"q1\"], np.linspace(-1, 1, 11)), time=True)"
   ]
  },
  {
   "cell_type": "code",
   "execution_count": null,
   "metadata": {},
   "outputs": [],
   "source": []
  }
 ],
 "metadata": {
  "kernelspec": {
   "display_name": "Python 3",
   "language": "python",
   "name": "python3"
  },
  "language_info": {
   "codemirror_mode": {
    "name": "ipython",
    "version": 3
   },
   "file_extension": ".py",
   "mimetype": "text/x-python",
   "name": "python",
   "nbconvert_exporter": "python",
   "pygments_lexer": "ipython3",
   "version": "3.7.1"
  }
 },
 "nbformat": 4,
 "nbformat_minor": 2
}
