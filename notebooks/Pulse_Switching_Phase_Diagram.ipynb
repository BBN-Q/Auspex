{
 "cells": [
  {
   "cell_type": "code",
   "execution_count": null,
   "metadata": {
    "collapsed": true
   },
   "outputs": [],
   "source": [
    "# Experimental Topology\n",
    "# lockin AO 2 -> Analog Attenuator Vdd\n",
    "# lockin AO 3 -> Analog Attenuator Vc (Control Voltages)\n",
    "# Keithley Output -> Voltage divider with 1 MOhm, DAQmx AI1\n",
    "# AWG Sync Marker Out -> DAQmx PFI0\n",
    "# AWG Samp. Marker Out -> PSPL Trigger"
   ]
  },
  {
   "cell_type": "code",
   "execution_count": 1,
   "metadata": {
    "collapsed": false
   },
   "outputs": [
    {
     "name": "stdout",
     "output_type": "stream",
     "text": [
      "C:\\Users\\qlab\\Documents\\GitHub\\pycontrol\n"
     ]
    }
   ],
   "source": [
    "cd .."
   ]
  },
  {
   "cell_type": "code",
   "execution_count": 2,
   "metadata": {
    "collapsed": true
   },
   "outputs": [],
   "source": [
    "from pycontrol.filters.io import WriteToHDF5\n",
    "import numpy as np\n",
    "import itertools\n",
    "import time\n",
    "import matplotlib.pyplot as plt\n",
    "import analysis.switching as sw\n",
    "from adapt import refine\n",
    "from analysis.h5shell import h5shell"
   ]
  },
  {
   "cell_type": "code",
   "execution_count": 3,
   "metadata": {
    "collapsed": false
   },
   "outputs": [],
   "source": [
    "from experiments.Pulse_Switching_CSHE import SwitchingExperiment"
   ]
  },
  {
   "cell_type": "code",
   "execution_count": 4,
   "metadata": {
    "collapsed": false
   },
   "outputs": [],
   "source": [
    "exp = SwitchingExperiment()\n",
    "exp.sample = \"CSHE5-C2R3\"\n",
    "exp.comment = \"Phase Diagram -  P to AP - Field at 8.1mT - Interations = 14 - Settle delay = 200us - Reset 0.7V 5ns\"\n",
    "exp.polarity = -1 # 1: AP to P; -1: P to AP\n",
    "exp.iteration = 14\n",
    "exp.field.value = 0.0081\n",
    "exp.measure_current = 3e-6\n",
    "exp.reset_amplitude = 0.7\n",
    "exp.reset_duration  = 5.0e-9\n",
    "exp.settle_delay    = 200e-6\n",
    "exp.pspl_atten      = 5\n",
    "exp.init_instruments()"
   ]
  },
  {
   "cell_type": "code",
   "execution_count": 5,
   "metadata": {
    "collapsed": false
   },
   "outputs": [],
   "source": [
    "wr = WriteToHDF5(\"data\\CSHE-Switching\\CSHE-Die5-C2R3\\CSHE5-C2R3-P2AP_81Oe_2016-07-27.h5\")\n",
    "edges = [(exp.daq_buffer, wr.data)]\n",
    "exp.set_graph(edges)"
   ]
  },
  {
   "cell_type": "code",
   "execution_count": 6,
   "metadata": {
    "collapsed": true
   },
   "outputs": [],
   "source": [
    "coarse_ts = 1e-9*np.linspace(0.1, 10, 10) # List of durations\n",
    "coarse_vs = np.linspace(0.3, 1.0, 10)\n",
    "points    = [coarse_ts, coarse_vs]\n",
    "points    = list(itertools.product(*points))\n",
    "\n",
    "main_sweep = exp.add_unstructured_sweep([exp.pulse_duration, exp.pulse_voltage], points)"
   ]
  },
  {
   "cell_type": "code",
   "execution_count": 7,
   "metadata": {
    "collapsed": false
   },
   "outputs": [
    {
     "name": "stdout",
     "output_type": "stream",
     "text": [
      "28 new points added.\n",
      "Elapsed time: 1.4301918983459472 min.\n",
      "\n",
      "52 new points added.\n",
      "Elapsed time: 1.844086241722107 min.\n",
      "\n",
      "71 new points added.\n",
      "Elapsed time: 2.589890130360921 min.\n",
      "\n",
      "101 new points added.\n",
      "Elapsed time: 3.598311642805735 min.\n",
      "\n",
      "184 new points added.\n",
      "Elapsed time: 5.020888102054596 min.\n",
      "\n",
      "229 new points added.\n",
      "Elapsed time: 7.593802392482758 min.\n",
      "\n",
      "314 new points added.\n",
      "Elapsed time: 10.820241196950276 min.\n",
      "\n",
      "507 new points added.\n",
      "Elapsed time: 15.254851055145263 min.\n",
      "\n",
      "749 new points added.\n",
      "Elapsed time: 22.60021251042684 min.\n",
      "\n",
      "1012 new points added.\n",
      "Elapsed time: 33.6762815117836 min.\n",
      "\n",
      "1502 new points added.\n",
      "Elapsed time: 48.97390834093094 min.\n",
      "\n",
      "2223 new points added.\n",
      "Elapsed time: 71.13639059464137 min.\n",
      "\n",
      "3213 new points added.\n",
      "Elapsed time: 105.21855354309082 min.\n",
      "\n",
      "4525 new points added.\n",
      "Elapsed time: 156.62569984197617 min.\n",
      "Warning: failed to stop task (this normally happens with no consequences when taking multiple samples per trigger).\n",
      "Total points: 10285\n",
      "Total elapsed time: 156.62571605443955 min.\n"
     ]
    }
   ],
   "source": [
    "figs = []\n",
    "t1 = time.time()\n",
    "for i in range(exp.iteration):\n",
    "    exp.init_progressbar(1, notebook=True)\n",
    "    exp.reset()\n",
    "    exp.run_sweeps()\n",
    "    points, mean = sw.load_switching_data(wr.filename, threshold=0.36)\n",
    "    figs.append(sw.phase_diagram_mesh(points, mean, title=\"Iteration={}\".format(i)))\n",
    "    new_points = refine.refine_scalar_field(points, mean, all_points=False,\n",
    "                                criterion=\"integral\", threshold = \"one_sigma\")\n",
    "    if new_points is None:\n",
    "        print(\"No more points can be added.\")\n",
    "        break\n",
    "    #\n",
    "    print(\"Elapsed time: {} min.\".format((time.time()-t1)/60))\n",
    "    main_sweep.update_values(new_points)\n",
    "\n",
    "t2 = time.time()\n",
    "exp.shutdown_instruments()\n",
    "print(\"Total points: {}\".format(len(points)))\n",
    "print(\"Total elapsed time: {} min.\".format((t2-t1)/60))"
   ]
  },
  {
   "cell_type": "code",
   "execution_count": 8,
   "metadata": {
    "collapsed": true
   },
   "outputs": [],
   "source": [
    "plt.show()"
   ]
  },
  {
   "cell_type": "code",
   "execution_count": 8,
   "metadata": {
    "collapsed": false
   },
   "outputs": [],
   "source": [
    "points, mean = sw.load_switching_data(wr.filename, start_state=0, display=True, threshold=0.36)\n",
    "fig_sw = sw.phase_diagram_mesh(points, mean)"
   ]
  },
  {
   "cell_type": "code",
   "execution_count": 9,
   "metadata": {
    "collapsed": false
   },
   "outputs": [
    {
     "name": "stderr",
     "output_type": "stream",
     "text": [
      "C:\\Users\\qlab\\Anaconda3\\lib\\site-packages\\sklearn\\cluster\\k_means_.py:821: RuntimeWarning: Explicit initial center position passed: performing only one init in k-means instead of n_init=10\n",
      "  n_jobs=self.n_jobs)\n"
     ]
    }
   ],
   "source": [
    "# Reset failures\n",
    "points, fails = sw.load_switching_data(wr.filename, failure=True)\n",
    "fig_fail = sw.phase_diagram_mesh(points, fails)\n",
    "plt.show()"
   ]
  },
  {
   "cell_type": "code",
   "execution_count": 11,
   "metadata": {
    "collapsed": false
   },
   "outputs": [],
   "source": [
    "# For evaluation of adaptive method, plot the mesh\n",
    "mesh, scale_factors = sw.scaled_Delaunay(points)\n",
    "fig_mesh = sw.phase_diagram_mesh(points, mean, shading='gouraud')\n",
    "plt.triplot(mesh.points[:,0]/scale_factors[0],\n",
    "            mesh.points[:,1]/scale_factors[1], mesh.simplices.copy());\n",
    "plt.show()"
   ]
  },
  {
   "cell_type": "code",
   "execution_count": null,
   "metadata": {
    "collapsed": false
   },
   "outputs": [
    {
     "name": "stderr",
     "output_type": "stream",
     "text": [
      "C:\\Users\\qlab\\Anaconda3\\lib\\site-packages\\sklearn\\cluster\\k_means_.py:821: RuntimeWarning: Explicit initial center position passed: performing only one init in k-means instead of n_init=10\n",
      "  n_jobs=self.n_jobs)\n"
     ]
    }
   ],
   "source": [
    "points2, mean2 = sw.load_switching_data(wr.filename, start_state=1) # threshold = 130e+3*3e-6)\n",
    "fig2 = sw.phase_diagram_mesh(points2, mean2)\n",
    "plt.show()"
   ]
  },
  {
   "cell_type": "code",
   "execution_count": 10,
   "metadata": {
    "collapsed": false
   },
   "outputs": [
    {
     "data": {
      "text/plain": [
       "<module 'analysis.switching' from 'C:\\\\Users\\\\qlab\\\\Documents\\\\GitHub\\\\pycontrol\\\\analysis\\\\switching.py'>"
      ]
     },
     "execution_count": 10,
     "metadata": {},
     "output_type": "execute_result"
    }
   ],
   "source": [
    "import importlib\n",
    "importlib.reload(sw)"
   ]
  },
  {
   "cell_type": "code",
   "execution_count": null,
   "metadata": {
    "collapsed": true
   },
   "outputs": [],
   "source": []
  }
 ],
 "metadata": {
  "kernelspec": {
   "display_name": "Python 3",
   "language": "python",
   "name": "python3"
  },
  "language_info": {
   "codemirror_mode": {
    "name": "ipython",
    "version": 3
   },
   "file_extension": ".py",
   "mimetype": "text/x-python",
   "name": "python",
   "nbconvert_exporter": "python",
   "pygments_lexer": "ipython3",
   "version": "3.5.1"
  }
 },
 "nbformat": 4,
 "nbformat_minor": 0
}
