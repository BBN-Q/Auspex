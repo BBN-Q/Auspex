{
 "cells": [
  {
   "cell_type": "code",
   "execution_count": null,
   "metadata": {
    "collapsed": true
   },
   "outputs": [],
   "source": [
    "# Experimental Topology\n",
    "# lockin AO 2 -> Analog Attenuator Vdd\n",
    "# lockin AO 3 -> Analog Attenuator Vc (Control Voltages)\n",
    "# Keithley Output -> Voltage divider with 1 MOhm, DAQmx AI1\n",
    "# AWG Sync Marker Out -> DAQmx PFI0\n",
    "# AWG Samp. Marker Out -> PSPL Trigger"
   ]
  },
  {
   "cell_type": "code",
   "execution_count": 1,
   "metadata": {
    "collapsed": false
   },
   "outputs": [
    {
     "name": "stdout",
     "output_type": "stream",
     "text": [
      "C:\\Users\\qlab\\Documents\\GitHub\\pycontrol\n"
     ]
    }
   ],
   "source": [
    "cd .."
   ]
  },
  {
   "cell_type": "code",
   "execution_count": 2,
   "metadata": {
    "collapsed": true
   },
   "outputs": [],
   "source": [
    "from pycontrol.filters.io import WriteToHDF5, ProgressBar\n",
    "import numpy as np\n",
    "import itertools\n",
    "import time\n",
    "import matplotlib.pyplot as plt\n",
    "import analysis.switching as sw\n",
    "from adapt import refine\n",
    "from analysis.h5shell import h5shell"
   ]
  },
  {
   "cell_type": "code",
   "execution_count": 3,
   "metadata": {
    "collapsed": false
   },
   "outputs": [],
   "source": [
    "from experiments.Pulse_Switching_CSHE import SwitchingExperiment"
   ]
  },
  {
   "cell_type": "code",
   "execution_count": 4,
   "metadata": {
    "collapsed": false
   },
   "outputs": [],
   "source": [
    "exp = SwitchingExperiment()\n",
    "exp.sample = \"CSHE2-C4R3\"\n",
    "exp.comment = \"Phase Diagram -  P to AP - Interations = 5 - Settle delay = 50us - Reset 0.75V 6ns\"\n",
    "exp.polarity = -1 # 1: AP to P; -1: P to AP\n",
    "exp.iteration = 5\n",
    "exp.field.value = 0.0133\n",
    "exp.measure_current = 3e-6\n",
    "exp.reset_amplitude = 0.75\n",
    "exp.reset_duration  = 6.0e-9\n",
    "exp.settle_delay    = 50e-6\n",
    "exp.init_instruments()"
   ]
  },
  {
   "cell_type": "code",
   "execution_count": 5,
   "metadata": {
    "collapsed": true
   },
   "outputs": [],
   "source": [
    "wr = WriteToHDF5(\"data\\CSHE-Switching\\CSHE-Die2-C4R3\\CSHE2-C4R3-P2AP_2016-07-05.h5\")\n",
    "pbar = ProgressBar(num=1, notebook=True)\n",
    "edges = [(exp.daq_buffer, wr.data), (exp.daq_buffer, pbar.data)]\n",
    "# edges = [(exp.daq_buffer, wr.data)]\n",
    "exp.set_graph(edges)"
   ]
  },
  {
   "cell_type": "code",
   "execution_count": 6,
   "metadata": {
    "collapsed": true
   },
   "outputs": [],
   "source": [
    "coarse_ts = 1e-9*np.linspace(0.1, 5, 10) # List of durations\n",
    "coarse_vs = np.linspace(0.4, 0.8, 10)\n",
    "points    = [coarse_ts, coarse_vs]\n",
    "points    = list(itertools.product(*points))\n",
    "\n",
    "main_sweep = exp.add_unstructured_sweep([exp.pulse_duration, exp.pulse_voltage], points)"
   ]
  },
  {
   "cell_type": "code",
   "execution_count": 7,
   "metadata": {
    "collapsed": false
   },
   "outputs": [
    {
     "name": "stderr",
     "output_type": "stream",
     "text": [
      "C:\\Users\\qlab\\Anaconda3\\lib\\site-packages\\sklearn\\cluster\\k_means_.py:821: RuntimeWarning: Explicit initial center position passed: performing only one init in k-means instead of n_init=10\n",
      "  n_jobs=self.n_jobs)\n"
     ]
    },
    {
     "name": "stdout",
     "output_type": "stream",
     "text": [
      "15 new points added.\n",
      "Elapsed time: 0.8608402689297994 min.\n",
      "\n",
      "31 new points added.\n",
      "Elapsed time: 1.0128604809443156 min.\n",
      "\n",
      "53 new points added.\n",
      "Elapsed time: 1.29448610941569 min.\n",
      "\n",
      "73 new points added.\n",
      "Elapsed time: 1.7651567419370016 min.\n",
      "\n",
      "115 new points added.\n",
      "Elapsed time: 2.3959474563598633 min.\n",
      "Warning: failed to stop task (this normally happens with no consequences when taking multiple samples per trigger).\n"
     ]
    }
   ],
   "source": [
    "figs = []\n",
    "t1 = time.time()\n",
    "for i in range(exp.iteration):\n",
    "    exp.reset()\n",
    "    exp.run_sweeps()\n",
    "    points, mean = sw.load_switching_data(wr.filename)\n",
    "    figs.append(sw.phase_diagram_mesh(points, mean, title=\"Iteration={}\".format(i)))\n",
    "    new_points = refine.refine_scalar_field(points, mean, all_points=False,\n",
    "                                criterion=\"integral\", threshold = \"one_sigma\")\n",
    "    if new_points is None:\n",
    "        print(\"No more points can be added.\")\n",
    "        break\n",
    "    #\n",
    "    print(\"Elapsed time: {} min.\".format((time.time()-t1)/60))\n",
    "    main_sweep.update_values(new_points)\n",
    "\n",
    "t2 = time.time()\n",
    "exp.shutdown_instruments()"
   ]
  },
  {
   "cell_type": "code",
   "execution_count": 8,
   "metadata": {
    "collapsed": false
   },
   "outputs": [
    {
     "name": "stdout",
     "output_type": "stream",
     "text": [
      "Total points: 272\n",
      "Total elapsed time: 2.3959474563598633 min.\n"
     ]
    }
   ],
   "source": [
    "print(\"Total points: {}\".format(len(points)))\n",
    "print(\"Total elapsed time: {} min.\".format((t2-t1)/60))"
   ]
  },
  {
   "cell_type": "code",
   "execution_count": 9,
   "metadata": {
    "collapsed": true
   },
   "outputs": [],
   "source": [
    "plt.show()"
   ]
  },
  {
   "cell_type": "code",
   "execution_count": 10,
   "metadata": {
    "collapsed": false
   },
   "outputs": [
    {
     "name": "stderr",
     "output_type": "stream",
     "text": [
      "C:\\Users\\qlab\\Anaconda3\\lib\\site-packages\\sklearn\\cluster\\k_means_.py:821: RuntimeWarning: Explicit initial center position passed: performing only one init in k-means instead of n_init=10\n",
      "  n_jobs=self.n_jobs)\n"
     ]
    }
   ],
   "source": [
    "points, mean = sw.load_switching_data(wr.filename, start_state=0)\n",
    "fig_sw = sw.phase_diagram_mesh(points, mean)"
   ]
  },
  {
   "cell_type": "code",
   "execution_count": 13,
   "metadata": {
    "collapsed": false
   },
   "outputs": [
    {
     "name": "stderr",
     "output_type": "stream",
     "text": [
      "C:\\Users\\qlab\\Anaconda3\\lib\\site-packages\\sklearn\\cluster\\k_means_.py:821: RuntimeWarning: Explicit initial center position passed: performing only one init in k-means instead of n_init=10\n",
      "  n_jobs=self.n_jobs)\n"
     ]
    }
   ],
   "source": [
    "# Reset failures\n",
    "points, fails = sw.load_switching_data(wr.filename, failure=True)\n",
    "fig_fail = sw.phase_diagram_mesh(points, fails)\n",
    "plt.show()"
   ]
  },
  {
   "cell_type": "code",
   "execution_count": 10,
   "metadata": {
    "collapsed": false
   },
   "outputs": [],
   "source": [
    "# For evaluation of adaptive method, plot the mesh\n",
    "mesh, scale_factors = sw.scaled_Delaunay(points)\n",
    "fig_mesh = sw.phase_diagram_mesh(points, mean, shading='gouraud')\n",
    "plt.triplot(mesh.points[:,0]/scale_factors[0],\n",
    "            mesh.points[:,1]/scale_factors[1], mesh.simplices.copy());"
   ]
  }
 ],
 "metadata": {
  "kernelspec": {
   "display_name": "Python 3",
   "language": "python",
   "name": "python3"
  },
  "language_info": {
   "codemirror_mode": {
    "name": "ipython",
    "version": 3
   },
   "file_extension": ".py",
   "mimetype": "text/x-python",
   "name": "python",
   "nbconvert_exporter": "python",
   "pygments_lexer": "ipython3",
   "version": "3.5.1"
  }
 },
 "nbformat": 4,
 "nbformat_minor": 0
}
