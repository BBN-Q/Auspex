{
 "cells": [
  {
   "cell_type": "markdown",
   "metadata": {},
   "source": [
    "### Auspex + QGL, qubit characterization example"
   ]
  },
  {
   "cell_type": "code",
   "execution_count": null,
   "metadata": {
    "scrolled": true
   },
   "outputs": [],
   "source": [
    "from auspex.exp_factory import QubitExpFactory, quince\n",
    "import auspex.pulse_calibration as cal\n",
    "from auspex.single_shot_fidelity import SingleShotFidelityExperiment\n",
    "from QGL import *\n",
    "import os\n",
    "from auspex.instruments.utils import pulse_marker\n",
    "seq_path = 'C:\\\\Users\\\\qlab_user\\\\Documents\\\\awg'\n",
    "ChannelLibrary()\n",
    "output_notebook()"
   ]
  },
  {
   "cell_type": "code",
   "execution_count": null,
   "metadata": {},
   "outputs": [],
   "source": [
    "# Define qubits\n",
    "q1 = QubitFactory('q1')\n",
    "#q2 = QubitFactory(\"q2\")\n",
    "#q3 = QubitFactory(\"q3\")\n",
    "#q4 = QubitFactory(\"q4\")\n",
    "#q5 = QubitFactory(\"q5\")\n",
    "q = q1"
   ]
  },
  {
   "cell_type": "markdown",
   "metadata": {},
   "source": [
    "Measurement settings are found in the following file and the included instruments and filters files"
   ]
  },
  {
   "cell_type": "code",
   "execution_count": 10,
   "metadata": {},
   "outputs": [
    {
     "data": {
      "text/plain": [
       "'C:\\\\Users\\\\qlab_user\\\\Documents\\\\config\\\\yaml\\\\measure.yml'"
      ]
     },
     "execution_count": 10,
     "metadata": {},
     "output_type": "execute_result"
    },
    {
     "name": "stdout",
     "output_type": "stream",
     "text": [
      "Updated library\n",
      "Updated library\n"
     ]
    }
   ],
   "source": [
    "config.meas_file"
   ]
  },
  {
   "cell_type": "markdown",
   "metadata": {},
   "source": [
    "Relevant config. directories are also included:\n",
    "* AWGDir: path of APS sequences\n",
    "* KernelDir: path of saved kernels for Integrated X6 streams (see filters)\n",
    "* LogDir: path of experiment and calibration log files\n",
    "* PulsePrimitiveLibrary: standard/all90 for definition of a pi pulse as X(q) / [X90(q), X90(q)]"
   ]
  },
  {
   "cell_type": "markdown",
   "metadata": {},
   "source": [
    "Filters can also be displayed and set using Quince:"
   ]
  },
  {
   "cell_type": "code",
   "execution_count": null,
   "metadata": {},
   "outputs": [],
   "source": [
    "quince()"
   ]
  },
  {
   "cell_type": "markdown",
   "metadata": {},
   "source": [
    "### Pulsed spectroscopy\n",
    "A single sequence with a long saturating pulse to find qubit transitions. The ``specOn`` option turns the saturation pulse on/off as this sequence is also useful with just a readout pulse for cavity spectroscopy."
   ]
  },
  {
   "cell_type": "code",
   "execution_count": null,
   "metadata": {},
   "outputs": [],
   "source": [
    "fstart = 6.2e9\n",
    "fstop = 6.5e9\n",
    "nsteps = 51\n",
    "\n",
    "# compiling a sequence in QGL produces the metafile with the info on sequences, APS, axes, and number of segments.\n",
    "meta_file = PulsedSpec(q,specOn=False, showPlot=True)\n",
    "\n",
    "# you can then create an Auspex experiment based on such metafile\n",
    "exp = QubitExpFactory.create(meta_file, expname = 'Spec', cw_mode = True)\n",
    "\n",
    "# You can also combine sequence generation and experiment creation in one line:\n",
    "# exp = QubitExpFactory.create(PulsedSpec(q,specOn=False, showPlot=True), expname = 'Spec', cw_mode = True)\n",
    "\n",
    "# add sweep\n",
    "# exp.add_qubit_sweep(\"q measure frequency\", np.linspace(fstart, fstop, nsteps))\n",
    "# Parsing sweep following the structure in meas.yml. See exp_factory.py#L85\n",
    "\n",
    "# Other examples: \n",
    "# exp.add_qubit_sweep(\"q control frequency\", np.linspace(5e9, 5.2e9, nsteps)) #sweep qubit drive frequency, \n",
    "# exp.add_qubit_sweep(\"q measure amplitude\", np.linspace(0,1.,0,8,8))  #to sweep measure pulse amplitude, ...\n",
    "# you can also directly specify an instrument defined in instruments.yml, e.g. 'Yoko_JPA value'\n",
    "\n",
    "# run sweep\n",
    "#exp.run_sweeps()"
   ]
  },
  {
   "cell_type": "markdown",
   "metadata": {},
   "source": [
    "### Rabi\n",
    "Once you find the resonance in spectroscopy, a good starting point is to measure Rabi oscillations vs frequency to have a sense of driving amplitude and a slightly more accurate qubit frequency."
   ]
  },
  {
   "cell_type": "code",
   "execution_count": null,
   "metadata": {},
   "outputs": [],
   "source": [
    "fstart = 5e9\n",
    "fstop = 5.1e9\n",
    "nsteps = 51\n",
    "exp = QubitExpFactory.create(RabiWidth(q,1e-9*np.arange(20, 2000, 40), showPlot=False), expname = 'Rabi_width.h5')\n",
    "# Alternatively, sweep amplitude:\n",
    "#exp = QubitExpFactory.create(RabiAmp(q,np.linspace(0,1,51), showPlot=False), expname = 'Rabi_amp.h5')\n",
    "#exp.add_qubit_sweep(\"q measure frequency\", np.linspace(fstart, fstop, nsteps))\n",
    "exp.run_sweeps()\n",
    "\n",
    "# Note that if no sweep is added, one can create and run the experiment in one line:\n",
    "# exp = QubitExpFactory.run(RabiWidth(q,1e-9*np.arange(20, 2000, 40)), expname = 'Rabi_width.h5')"
   ]
  },
  {
   "cell_type": "markdown",
   "metadata": {},
   "source": [
    "### Readout kernel calibration (optional)\n",
    "\n",
    "If using an integrated stream (as opposed to demodulated) on the X6, this step is recommended early in the process. Go back to this step for a better calibration once the pulses are tuned."
   ]
  },
  {
   "cell_type": "code",
   "execution_count": null,
   "metadata": {
    "collapsed": true
   },
   "outputs": [],
   "source": [
    "# This experiment requires a SingleShotMeasurement filter for q\n",
    "exp = SingleShotFidelityExperiment(q.label, num_shots=40000, optimize=True)\n",
    "\n",
    "# You can add sweeps to optimize over any instrument parameter (if the optimize flag above is True)\n",
    "# example: \n",
    "# exp.add_qubit_sweep(\"q1 measure amplitude\", np.linspace(0.2,0.4,8))\n",
    "\n",
    "exp.run_sweeps()"
   ]
  },
  {
   "cell_type": "markdown",
   "metadata": {},
   "source": [
    "### Frequency calibration (Ramsey)\n",
    "\n",
    "Once pulses and qubit frequencies are *roughly* calibrated, one should fine tune them. First, get the qubit frequency correctly. Use shorter delays for larger detunings, longer delays for fine tuning."
   ]
  },
  {
   "cell_type": "code",
   "execution_count": null,
   "metadata": {
    "collapsed": true
   },
   "outputs": [],
   "source": [
    "RamseyStart = 0; RamseyStop= 10e-6;RamseyPoints = 101; #sweep for total Ramsey delay\n",
    "exp = QubitExpFactory.run(Ramsey(q,np.linspace(RamseyStart,RamseyStop,RamseyPoints), TPPIFreq = 0.0e6), expname = 'Ramsey_{}.h5'.format(q.label))"
   ]
  },
  {
   "cell_type": "markdown",
   "metadata": {},
   "source": [
    "If the qubit frequency is close enough (~<1 MHz detuning), use the calibration routine.\n",
    "\n",
    "`set_source = True` to calibrate the generator frequency\n",
    "\n",
    "`set_source = False` to calibrate the qubit pulse modulation instead. "
   ]
  },
  {
   "cell_type": "code",
   "execution_count": null,
   "metadata": {
    "collapsed": true
   },
   "outputs": [],
   "source": [
    "cal.calibrate([cal.RamseyCalibration(q.label, set_source = False, delays = np.linspace(0,50,51)*1e-6, added_detuning=0e3, two_freqs = False, AIC=False, quad=\"real\")])"
   ]
  },
  {
   "cell_type": "markdown",
   "metadata": {},
   "source": [
    "### Pulse calibration"
   ]
  },
  {
   "cell_type": "code",
   "execution_count": null,
   "metadata": {
    "collapsed": true
   },
   "outputs": [],
   "source": [
    "cal.calibrate([cal.Pi2Calibration(q.label)])\n",
    "cal.calibrate([cal.PiCalibration(q.label)]) # not necessary if using PulsePrimitiveLibrary: all90"
   ]
  },
  {
   "cell_type": "markdown",
   "metadata": {},
   "source": [
    "### Coherence measurements"
   ]
  },
  {
   "cell_type": "code",
   "execution_count": null,
   "metadata": {
    "collapsed": true
   },
   "outputs": [],
   "source": [
    "T1Start = 0e-6; T1Step = 2000e-9; T1Stop = 200e-6;\n",
    "\n",
    "RamseyStart = 0; RamseyStop= 50e-6;RamseyPoints = 101; #sweep for total Ramsey delay\n",
    "\n",
    "EchoStart = 0; EchoStop = 100e-6; EchoPoints = 101; #sweep for total Echo delay\n",
    "\n",
    "#T1\n",
    "#exp = QubitExpFactory.create(InversionRecovery(q,np.arange(T1Start,T1Stop,T1Step)), expname = 'T1-{}.h5'.format(q.label))\n",
    "\n",
    "#T2*\n",
    "#exp = QubitExpFactory.run(Ramsey(q,np.linspace(RamseyStart,RamseyStop,RamseyPoints), TPPIFreq = 0.0e6), expname = 'Ramsey_{}.h5'.format(q.label))\n",
    "\n",
    "#T2 (periods indicate the number of artificial full oscillations baked into the 2nd pi/2 phase)\n",
    "#exp = QubitExpFactory.run(HahnEcho(q2, np.linspace(EchoStart/2, EchoStop/2, EchoPoints), showPlot = False, periods = 3, calRepeats = 2) , expname = \"Echo.h5\")"
   ]
  },
  {
   "cell_type": "markdown",
   "metadata": {},
   "source": [
    "Loading and analyzing data can be done in Qlab.jl (https://github.com/BBN-Q/Qlab.jl) or using the fit functions available in Auspex\\analysis\\fits.py"
   ]
  },
  {
   "cell_type": "markdown",
   "metadata": {
    "collapsed": true
   },
   "source": [
    "### Mixer calibration\n",
    "\n",
    "Calibrate mixer routine. Switches may be present to direct the signal to the SA. In that case, switches are defined within the marker section in `meas.yaml`:\n",
    "\n",
    "```\n",
    "markers:\n",
    "  digitizerTrig: APSII4 12m1\n",
    "  digitizer2Trig: APSII4 12m4\n",
    "  switch_M1: APSII1 12m3\n",
    "  switch_q1: APSII3 12m1\n",
    "```"
   ]
  },
  {
   "cell_type": "code",
   "execution_count": null,
   "metadata": {},
   "outputs": [],
   "source": [
    "switch_target = 'q1'\n",
    "switch_type = 'c' # m or c for control or measurement\n",
    "toggle_switch = True # toggle switch to SA before and after mixer calibration\n",
    "\n",
    "if switch_type == \"m\":\n",
    "    switch_type = \"measure\"\n",
    "    switch_name = switch_target.replace(\"q\",\"M\")\n",
    "elif switch_type == \"c\":\n",
    "    switch_type = \"control\"\n",
    "    switch_name = switch_target\n",
    "\n",
    "if toggle_switch:\n",
    "    pulse_marker('switch_'+switch_name)\n",
    "\n",
    "exp = QubitExpFactory.calibrate_mixer(switch_target,mixer=switch_type,write_to_file=True, nsteps=21, offset_range = (-0.2,0.2))\n",
    "\n",
    "if toggle_switch:\n",
    "    pulse_marker('switch_'+switch_name)"
   ]
  },
  {
   "cell_type": "code",
   "execution_count": 13,
   "metadata": {},
   "outputs": [],
   "source": [
    "# You can get the docstrings of any of the above functions using:\n",
    "? QubitExpFactory.calibrate_mixer"
   ]
  },
  {
   "cell_type": "code",
   "execution_count": null,
   "metadata": {
    "collapsed": true
   },
   "outputs": [],
   "source": []
  }
 ],
 "metadata": {
  "kernelspec": {
   "display_name": "Python 3",
   "language": "python",
   "name": "python3"
  },
  "language_info": {
   "codemirror_mode": {
    "name": "ipython",
    "version": 3
   },
   "file_extension": ".py",
   "mimetype": "text/x-python",
   "name": "python",
   "nbconvert_exporter": "python",
   "pygments_lexer": "ipython3",
   "version": "3.6.2"
  }
 },
 "nbformat": 4,
 "nbformat_minor": 2
}
