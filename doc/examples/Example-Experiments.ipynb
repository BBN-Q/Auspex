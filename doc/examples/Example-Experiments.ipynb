{
 "cells": [
  {
   "cell_type": "markdown",
   "metadata": {},
   "source": [
    "# Example Q4: Running a Basic Experiment\n",
    "This example notebook shows how run Auspex qubit experiments using the fake data interface.\n",
    "\n",
    "© Raytheon BBN Technologies 2021\n",
    "\n",
    "First we ask auspex to run in dummy mode, which avoids loading instrument drivers."
   ]
  },
  {
   "cell_type": "code",
   "execution_count": 1,
   "metadata": {},
   "outputs": [],
   "source": [
    "import auspex.config as config\n",
    "config.auspex_dummy_mode = True"
   ]
  },
  {
   "cell_type": "code",
   "execution_count": 2,
   "metadata": {},
   "outputs": [
    {
     "name": "stdout",
     "output_type": "stream",
     "text": [
      "auspex-WARNING: 2021-04-14 17:59:32,451 ----> Could not load channelizer library; falling back to python methods.\n"
     ]
    }
   ],
   "source": [
    "from QGL import *\n",
    "from auspex.qubit import *\n",
    "import matplotlib.pyplot as plt\n",
    "%matplotlib inline"
   ]
  },
  {
   "cell_type": "markdown",
   "metadata": {},
   "source": [
    "Channel library setup"
   ]
  },
  {
   "cell_type": "code",
   "execution_count": 3,
   "metadata": {},
   "outputs": [
    {
     "name": "stdout",
     "output_type": "stream",
     "text": [
      "auspex-INFO: 2021-04-14 17:59:33,243 ----> Could not find an existing pipeline. Creating a blank pipeline.\n"
     ]
    }
   ],
   "source": [
    "cl = ChannelLibrary(\":memory:\")\n",
    "pl = PipelineManager()\n",
    "\n",
    "q1 = cl.new_qubit(\"q1\")\n",
    "aps2_1 = cl.new_APS2(\"BBNAPSa\", address=\"192.168.2.4\", trigger_interval=200e-6) \n",
    "aps2_2 = cl.new_APS2(\"BBNAPSb\", address=\"192.168.2.2\")\n",
    "dig_1  = cl.new_X6(\"Dig_1\", address=\"1\", sampling_rate=500e6, record_length=1024)\n",
    "h1 = cl.new_source(\"Holz_1\", \"HolzworthHS9000\", \"HS9004A-009-1\", reference='10MHz', power=-30)\n",
    "h2 = cl.new_source(\"Holz_2\", \"HolzworthHS9000\", \"HS9004A-009-2\", reference='10MHz', power=-30)\n",
    "\n",
    "cl.set_measure(q1, aps2_1, dig_1.ch(1), trig_channel=aps2_1.ch(\"m2\"), gate=False, generator=h1)\n",
    "cl.set_control(q1, aps2_2, generator=h2)\n",
    "cl.set_master(aps2_1, aps2_1.ch(\"m1\"))\n",
    "cl[\"q1\"].measure_chan.frequency = 0e6\n",
    "cl[\"q1\"].measure_chan.autodyne_freq = 10e6"
   ]
  },
  {
   "cell_type": "markdown",
   "metadata": {},
   "source": [
    "Pipeline setup"
   ]
  },
  {
   "cell_type": "code",
   "execution_count": 4,
   "metadata": {},
   "outputs": [],
   "source": [
    "pl.create_default_pipeline()"
   ]
  },
  {
   "cell_type": "code",
   "execution_count": null,
   "metadata": {},
   "outputs": [],
   "source": [
    "pl[\"q1\"].stream_type = \"raw\"\n",
    "pl.recreate_pipeline(buffers=False)\n",
    "pl.show_pipeline()"
   ]
  },
  {
   "cell_type": "code",
   "execution_count": null,
   "metadata": {
    "scrolled": true
   },
   "outputs": [],
   "source": [
    "pl[\"q1\"][\"Demodulate\"][\"Integrate\"][\"Average\"].add(Display(label=\"Plot Average\", plot_dims=1), connector_out=\"partial_average\")\n",
    "pl[\"q1\"][\"Demodulate\"][\"Integrate\"].add(Display(label=\"Plot Integrate\", plot_dims=1))\n",
    "pl.show_pipeline()"
   ]
  },
  {
   "cell_type": "markdown",
   "metadata": {},
   "source": [
    "Initialize software demodulation parameters. If these are not properly configured than the `Channelizer` filter will report 'insufficient decimation' or other errors. The integration boxcar parameters are then defined."
   ]
  },
  {
   "cell_type": "code",
   "execution_count": 7,
   "metadata": {},
   "outputs": [],
   "source": [
    "demod = pl[\"q1\"][\"Demodulate\"]\n",
    "demod.frequency = cl[\"q1\"].measure_chan.frequency\n",
    "demod.decimation_factor = 16"
   ]
  },
  {
   "cell_type": "code",
   "execution_count": 8,
   "metadata": {},
   "outputs": [],
   "source": [
    "integ = pl[\"q1\"][\"Demodulate\"][\"Integrate\"]\n",
    "integ.box_car_start = 0.2e-6\n",
    "integ.box_car_stop= 1.9e-6"
   ]
  },
  {
   "cell_type": "markdown",
   "metadata": {},
   "source": [
    "## Taking Fake Data"
   ]
  },
  {
   "cell_type": "markdown",
   "metadata": {},
   "source": [
    "Now we create a simple experiment, but ask the digitizer to emit fake data of our choosing. This is useful for debugging one's configuration without having access to hardware. The `set_fake_data` method loads the fake dataset into the indicated digitizer's driver. The digitizer driver automatically chooses the nature of it's output depending on whether receiver channels are raw, demodulated, or integrated."
   ]
  },
  {
   "cell_type": "code",
   "execution_count": 9,
   "metadata": {
    "scrolled": false
   },
   "outputs": [
    {
     "name": "stdout",
     "output_type": "stream",
     "text": [
      "Compiled 51 sequences.\n"
     ]
    },
    {
     "data": {
      "application/vnd.jupyter.widget-view+json": {
       "model_id": "062f1d437470402680ca2acdbb078dd2",
       "version_major": 2,
       "version_minor": 0
      },
      "text/plain": [
       "VBox(children=(IntProgress(value=0, bar_style='success', description='Digitizer Data q1-raw:', max=652800, sty…"
      ]
     },
     "metadata": {},
     "output_type": "display_data"
    },
    {
     "name": "stdout",
     "output_type": "stream",
     "text": [
      "auspex-INFO: 2021-04-14 17:59:59,544 ----> Plot Server did not respond.\n"
     ]
    }
   ],
   "source": [
    "amps = np.linspace(-1,1,51)\n",
    "exp = QubitExperiment(RabiAmp(q1,amps),averages=50)\n",
    "exp.set_fake_data(dig_1, np.cos(np.linspace(0, 2*np.pi,51)))\n",
    "exp.run_sweeps() "
   ]
  },
  {
   "cell_type": "markdown",
   "metadata": {},
   "source": [
    "## Plotting the Results in the Notebook"
   ]
  },
  {
   "cell_type": "code",
   "execution_count": null,
   "metadata": {
    "scrolled": true
   },
   "outputs": [],
   "source": [
    "exp.get_final_plots()"
   ]
  },
  {
   "cell_type": "markdown",
   "metadata": {},
   "source": [
    "## Loading the Data Files and Plot Manually"
   ]
  },
  {
   "cell_type": "code",
   "execution_count": 11,
   "metadata": {},
   "outputs": [],
   "source": [
    "data, desc, _ = exp.outputs_by_qubit[\"q1\"][0].get_data()"
   ]
  },
  {
   "cell_type": "code",
   "execution_count": null,
   "metadata": {
    "scrolled": true
   },
   "outputs": [],
   "source": [
    "plt.plot(desc[\"amplitude\"], np.abs(data))\n",
    "plt.xlabel(\"Amplitude\"); plt.ylabel(\"Data\");"
   ]
  },
  {
   "cell_type": "markdown",
   "metadata": {},
   "source": [
    "## Plotting and the Plot Server & Client\n",
    "The `Display` nodes in the filter pipeline are turned into live plotters. In the `auspex/utils` directory once can find `auspex-plot-server.py` and `auspex-plot-client.py`. The server, which should be executed first, acts as a data router and can accept multiple clients (and even multiple concurrent Auspex runs). The client polls the server to see whether any plots are available. If so, it grabs their descriptions and constructs a tab for each `Display` filter. The plots are updated as new data becomes available, and will look something like this:"
   ]
  },
  {
   "cell_type": "markdown",
   "metadata": {},
   "source": [
    "For every execution of `run_sweeps` on an experiment, a new plot will be opened. In the plot client menus, however, the user can close all previous plots as well as choose to 'Auto Close Plots', which closes any previous plots before opening another."
   ]
  },
  {
   "cell_type": "markdown",
   "metadata": {},
   "source": [
    "### Remote Usage\n",
    "The plot server and client can be run remotely, as can the Jupyter notebooks one expects to run. By running the following ssh port-forwarding command:\n",
    "```bash\n",
    "ssh -R 7761:localhost:7761 -R 7762:localhost:7762 -L 8889:my.host.com:8888 -l username my.host.com\n",
    "```\n",
    "You could connect to a remotely running Jupyter notebook on port 8888 locally at port 8889, and then (after starting `auspex-plot-server.py` and `auspex-plot-client.py` on your local machine) watch new plots appear in a live window on your local machine.\n",
    "\n",
    "This presumes one does not have unfettered network access to the remote host, in which case ssh tunneling is not necessary. Currently the plotter and client assume they are all connecting on localhost, but we will create a convenient interface for their configuration soon."
   ]
  },
  {
   "cell_type": "markdown",
   "metadata": {},
   "source": [
    "## Monitoring Changes in the Channel Library\n",
    "\n",
    "The session keeps track of what values have changed without being committed, e.g.:"
   ]
  },
  {
   "cell_type": "code",
   "execution_count": 13,
   "metadata": {},
   "outputs": [
    {
     "data": {
      "text/plain": [
       "IdentitySet([])"
      ]
     },
     "execution_count": 13,
     "metadata": {},
     "output_type": "execute_result"
    }
   ],
   "source": [
    "cl.session.commit()\n",
    "cl.session.dirty"
   ]
  },
  {
   "cell_type": "markdown",
   "metadata": {},
   "source": [
    "Everything is in sync with the database. Now we modify some property:"
   ]
  },
  {
   "cell_type": "code",
   "execution_count": 14,
   "metadata": {},
   "outputs": [
    {
     "data": {
      "text/plain": [
       "IdentitySet([PhysicalQuadratureChannel('BBNAPSa-1')])"
      ]
     },
     "execution_count": 14,
     "metadata": {},
     "output_type": "execute_result"
    }
   ],
   "source": [
    "aps2_1.ch(1).amp_factor = 0.95\n",
    "cl.session.dirty"
   ]
  },
  {
   "cell_type": "markdown",
   "metadata": {},
   "source": [
    "We see that things have changed that haven't been committed to the database. This can be rectified with another `commit`, or optionally a `rollback`!"
   ]
  },
  {
   "cell_type": "code",
   "execution_count": 15,
   "metadata": {},
   "outputs": [
    {
     "data": {
      "text/plain": [
       "1.0"
      ]
     },
     "execution_count": 15,
     "metadata": {},
     "output_type": "execute_result"
    }
   ],
   "source": [
    "cl.session.rollback()\n",
    "aps2_1.ch(1).amp_factor"
   ]
  },
  {
   "cell_type": "code",
   "execution_count": null,
   "metadata": {},
   "outputs": [],
   "source": []
  }
 ],
 "metadata": {
  "kernelspec": {
   "display_name": "Python 3",
   "language": "python",
   "name": "python3"
  },
  "language_info": {
   "codemirror_mode": {
    "name": "ipython",
    "version": 3
   },
   "file_extension": ".py",
   "mimetype": "text/x-python",
   "name": "python",
   "nbconvert_exporter": "python",
   "pygments_lexer": "ipython3",
   "version": "3.7.7"
  },
  "latex_envs": {
   "bibliofile": "biblio.bib",
   "cite_by": "apalike",
   "current_citInitial": 1,
   "eqLabelWithNumbers": true,
   "eqNumInitial": 0
  },
  "nav_menu": {},
  "toc": {
   "navigate_menu": true,
   "number_sections": false,
   "sideBar": false,
   "threshold": 6,
   "toc_cell": false,
   "toc_section_display": false,
   "toc_window_display": false
  }
 },
 "nbformat": 4,
 "nbformat_minor": 2
}
