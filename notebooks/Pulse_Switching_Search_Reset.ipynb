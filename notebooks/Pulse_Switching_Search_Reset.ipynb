{
 "cells": [
  {
   "cell_type": "markdown",
   "metadata": {
    "collapsed": true
   },
   "source": [
    "# Search for Pulse Reset\n",
    "Using the Keysight AWG"
   ]
  },
  {
   "cell_type": "code",
   "execution_count": 1,
   "metadata": {
    "collapsed": false
   },
   "outputs": [
    {
     "name": "stdout",
     "output_type": "stream",
     "text": [
      "C:\\Users\\qlab\\Documents\\GitHub\\Auspex\n"
     ]
    }
   ],
   "source": [
    "cd .."
   ]
  },
  {
   "cell_type": "code",
   "execution_count": 2,
   "metadata": {
    "collapsed": false
   },
   "outputs": [],
   "source": [
    "from experiments.Pulse_Switching_Search_Reset import ResetSearchExperiment\n",
    "from auspex.filters.io import WriteToHDF5\n",
    "from auspex.filters.plot import Plotter\n",
    "from auspex.filters.average import Averager\n",
    "import datetime\n",
    "import h5py\n",
    "import numpy as np\n",
    "import matplotlib.pyplot as plt"
   ]
  },
  {
   "cell_type": "code",
   "execution_count": 3,
   "metadata": {
    "collapsed": false
   },
   "outputs": [],
   "source": [
    "sample_name = \"CSHE-Die7-C3R7\"\n",
    "date = datetime.datetime.today().strftime('%Y-%m-%d')\n",
    "file_path = \"data\\CSHE-Switching\\{samp:}\\{samp:}-ResetSearch_{date:}.h5\".format(samp=sample_name, date=date)\n",
    "\n",
    "exp = ResetSearchExperiment()\n",
    "exp.field.value     = 0.009\n",
    "exp.duration.value  = 10e-9\n",
    "exp.measure_current = 3e-6\n",
    "amps = np.linspace(-1.05, 1.05, 75)\n",
    "amps = np.append(amps, np.flipud(amps))\n",
    "exp.amplitudes = amps\n",
    "exp.init_streams()"
   ]
  },
  {
   "cell_type": "code",
   "execution_count": 4,
   "metadata": {
    "collapsed": false
   },
   "outputs": [
    {
     "name": "stderr",
     "output_type": "stream",
     "text": [
      "C:\\Users\\qlab\\Anaconda3\\lib\\site-packages\\bokeh\\util\\deprecation.py:33: BokehDeprecationWarning: bokeh.io.hplot() was deprecated in Bokeh 0.12.0 and will be removed, use bokeh.models.layouts.Row instead.\n",
      "  warn(message)\n"
     ]
    },
    {
     "data": {
      "text/html": [
       "\n",
       "    <div class=\"bk-root\">\n",
       "        <a href=\"http://bokeh.pydata.org\" target=\"_blank\" class=\"bk-logo bk-logo-small bk-logo-notebook\"></a>\n",
       "        <span id=\"28588adb-0efb-4074-944c-1b48efc23a76\">Loading BokehJS ...</span>\n",
       "    </div>"
      ]
     },
     "metadata": {},
     "output_type": "display_data"
    },
    {
     "data": {
      "application/javascript": [
       "\n",
       "(function(global) {\n",
       "  function now() {\n",
       "    return new Date();\n",
       "  }\n",
       "\n",
       "  var force = \"1\";\n",
       "\n",
       "  if (typeof (window._bokeh_onload_callbacks) === \"undefined\" || force !== \"\") {\n",
       "    window._bokeh_onload_callbacks = [];\n",
       "    window._bokeh_is_loading = undefined;\n",
       "  }\n",
       "\n",
       "\n",
       "  \n",
       "  if (typeof (window._bokeh_timeout) === \"undefined\" || force !== \"\") {\n",
       "    window._bokeh_timeout = Date.now() + 5000;\n",
       "    window._bokeh_failed_load = false;\n",
       "  }\n",
       "\n",
       "  var NB_LOAD_WARNING = {'data': {'text/html':\n",
       "     \"<div style='background-color: #fdd'>\\n\"+\n",
       "     \"<p>\\n\"+\n",
       "     \"BokehJS does not appear to have successfully loaded. If loading BokehJS from CDN, this \\n\"+\n",
       "     \"may be due to a slow or bad network connection. Possible fixes:\\n\"+\n",
       "     \"</p>\\n\"+\n",
       "     \"<ul>\\n\"+\n",
       "     \"<li>re-rerun `output_notebook()` to attempt to load from CDN again, or</li>\\n\"+\n",
       "     \"<li>use INLINE resources instead, as so:</li>\\n\"+\n",
       "     \"</ul>\\n\"+\n",
       "     \"<code>\\n\"+\n",
       "     \"from bokeh.resources import INLINE\\n\"+\n",
       "     \"output_notebook(resources=INLINE)\\n\"+\n",
       "     \"</code>\\n\"+\n",
       "     \"</div>\"}};\n",
       "\n",
       "  function display_loaded() {\n",
       "    if (window.Bokeh !== undefined) {\n",
       "      Bokeh.$(\"#28588adb-0efb-4074-944c-1b48efc23a76\").text(\"BokehJS successfully loaded.\");\n",
       "    } else if (Date.now() < window._bokeh_timeout) {\n",
       "      setTimeout(display_loaded, 100)\n",
       "    }\n",
       "  }\n",
       "\n",
       "  function run_callbacks() {\n",
       "    window._bokeh_onload_callbacks.forEach(function(callback) { callback() });\n",
       "    delete window._bokeh_onload_callbacks\n",
       "    console.info(\"Bokeh: all callbacks have finished\");\n",
       "  }\n",
       "\n",
       "  function load_libs(js_urls, callback) {\n",
       "    window._bokeh_onload_callbacks.push(callback);\n",
       "    if (window._bokeh_is_loading > 0) {\n",
       "      console.log(\"Bokeh: BokehJS is being loaded, scheduling callback at\", now());\n",
       "      return null;\n",
       "    }\n",
       "    if (js_urls == null || js_urls.length === 0) {\n",
       "      run_callbacks();\n",
       "      return null;\n",
       "    }\n",
       "    console.log(\"Bokeh: BokehJS not loaded, scheduling load and callback at\", now());\n",
       "    window._bokeh_is_loading = js_urls.length;\n",
       "    for (var i = 0; i < js_urls.length; i++) {\n",
       "      var url = js_urls[i];\n",
       "      var s = document.createElement('script');\n",
       "      s.src = url;\n",
       "      s.async = false;\n",
       "      s.onreadystatechange = s.onload = function() {\n",
       "        window._bokeh_is_loading--;\n",
       "        if (window._bokeh_is_loading === 0) {\n",
       "          console.log(\"Bokeh: all BokehJS libraries loaded\");\n",
       "          run_callbacks()\n",
       "        }\n",
       "      };\n",
       "      s.onerror = function() {\n",
       "        console.warn(\"failed to load library \" + url);\n",
       "      };\n",
       "      console.log(\"Bokeh: injecting script tag for BokehJS library: \", url);\n",
       "      document.getElementsByTagName(\"head\")[0].appendChild(s);\n",
       "    }\n",
       "  };var element = document.getElementById(\"28588adb-0efb-4074-944c-1b48efc23a76\");\n",
       "  if (element == null) {\n",
       "    console.log(\"Bokeh: ERROR: autoload.js configured with elementid '28588adb-0efb-4074-944c-1b48efc23a76' but no matching script tag was found. \")\n",
       "    return false;\n",
       "  }\n",
       "\n",
       "  var js_urls = ['https://cdn.pydata.org/bokeh/release/bokeh-0.12.3.min.js', 'https://cdn.pydata.org/bokeh/release/bokeh-widgets-0.12.3.min.js'];\n",
       "\n",
       "  var inline_js = [\n",
       "    function(Bokeh) {\n",
       "      Bokeh.set_log_level(\"info\");\n",
       "    },\n",
       "    \n",
       "    function(Bokeh) {\n",
       "      \n",
       "      Bokeh.$(\"#28588adb-0efb-4074-944c-1b48efc23a76\").text(\"BokehJS is loading...\");\n",
       "    },\n",
       "    function(Bokeh) {\n",
       "      console.log(\"Bokeh: injecting CSS: https://cdn.pydata.org/bokeh/release/bokeh-0.12.3.min.css\");\n",
       "      Bokeh.embed.inject_css(\"https://cdn.pydata.org/bokeh/release/bokeh-0.12.3.min.css\");\n",
       "      console.log(\"Bokeh: injecting CSS: https://cdn.pydata.org/bokeh/release/bokeh-widgets-0.12.3.min.css\");\n",
       "      Bokeh.embed.inject_css(\"https://cdn.pydata.org/bokeh/release/bokeh-widgets-0.12.3.min.css\");\n",
       "    }\n",
       "  ];\n",
       "\n",
       "  function run_inline_js() {\n",
       "    \n",
       "    if ((window.Bokeh !== undefined) || (force === \"1\")) {\n",
       "      for (var i = 0; i < inline_js.length; i++) {\n",
       "        inline_js[i](window.Bokeh);\n",
       "      }if (force === \"1\") {\n",
       "        display_loaded();\n",
       "      }} else if (Date.now() < window._bokeh_timeout) {\n",
       "      setTimeout(run_inline_js, 100);\n",
       "    } else if (!window._bokeh_failed_load) {\n",
       "      console.log(\"Bokeh: BokehJS failed to load within specified timeout.\");\n",
       "      window._bokeh_failed_load = true;\n",
       "    } else if (!force) {\n",
       "      var cell = $(\"#28588adb-0efb-4074-944c-1b48efc23a76\").parents('.cell').data().cell;\n",
       "      cell.output_area.append_execute_result(NB_LOAD_WARNING)\n",
       "    }\n",
       "\n",
       "  }\n",
       "\n",
       "  if (window._bokeh_is_loading === 0) {\n",
       "    console.log(\"Bokeh: BokehJS loaded, going straight to plotting\");\n",
       "    run_inline_js();\n",
       "  } else {\n",
       "    load_libs(js_urls, function() {\n",
       "      console.log(\"Bokeh: BokehJS plotting callback run at\", now());\n",
       "      run_inline_js();\n",
       "    });\n",
       "  }\n",
       "}(this));"
      ]
     },
     "metadata": {},
     "output_type": "display_data"
    },
    {
     "data": {
      "text/html": [
       "\n",
       "                        <html>\n",
       "                        <head></head>\n",
       "                        <body>\n",
       "                        \n",
       "<script\n",
       "    src=\"http://localhost:5006/autoload.js?bokeh-autoload-element=aee9c635-1e9a-4ae6-a770-a8305fb2d611&bokeh-session-id=FwahG9vz8CsL0c38g8no1GLiu1t7eW7uphe4mjlJE6yr\"\n",
       "    id=\"aee9c635-1e9a-4ae6-a770-a8305fb2d611\"\n",
       "    data-bokeh-model-id=\"\"\n",
       "    data-bokeh-doc-id=\"\"\n",
       "></script>\n",
       "                        </body>\n",
       "                        </html>\n",
       "                        "
      ],
      "text/plain": [
       "<IPython.core.display.HTML object>"
      ]
     },
     "metadata": {},
     "output_type": "display_data"
    },
    {
     "name": "stdout",
     "output_type": "stream",
     "text": [
      "Killing bokeh server thread 2512\n"
     ]
    },
    {
     "name": "stderr",
     "output_type": "stream",
     "text": [
      "Exception ignored in: <bound method BokehServerThread.__del__ of <BokehServerThread(Thread-6, stopped daemon 6860)>>\n",
      "Traceback (most recent call last):\n",
      "  File \"c:\\users\\qlab\\documents\\github\\auspex\\src\\auspex\\plotting.py\", line 24, in __del__\n",
      "    self.join()\n",
      "  File \"c:\\users\\qlab\\documents\\github\\auspex\\src\\auspex\\plotting.py\", line 35, in join\n",
      "    for child_proc in psutil.Process(self.p.pid).children():\n",
      "  File \"C:\\Users\\qlab\\Anaconda3\\lib\\site-packages\\psutil\\__init__.py\", line 364, in __init__\n",
      "    self._init(pid)\n",
      "  File \"C:\\Users\\qlab\\Anaconda3\\lib\\site-packages\\psutil\\__init__.py\", line 404, in _init\n",
      "    raise NoSuchProcess(pid, None, msg)\n",
      "psutil.NoSuchProcess: psutil.NoSuchProcess no process found with pid 2512\n"
     ]
    }
   ],
   "source": [
    "wr = WriteToHDF5(file_path)\n",
    "avg_sample = Averager('sample')\n",
    "fig1       = Plotter(name=\"Pulse Reset Search\", plot_dims=1, notebook=True)\n",
    "edges = [(exp.voltage, avg_sample.sink),\n",
    "         (avg_sample.final_average, wr.sink),\n",
    "         (avg_sample.partial_average, fig1.sink)]\n",
    "exp.set_graph(edges)\n",
    "exp.run_sweeps()"
   ]
  },
  {
   "cell_type": "code",
   "execution_count": 5,
   "metadata": {
    "collapsed": false
   },
   "outputs": [
    {
     "data": {
      "image/png": "[encoded data removed]",
      "text/plain": [
       "<matplotlib.figure.Figure at 0x11c616a30b8>"
      ]
     },
     "metadata": {},
     "output_type": "display_data"
    }
   ],
   "source": [
    "%matplotlib inline\n",
    "with h5py.File(wr.filename) as f:\n",
    "    amps = f['amplitude'].value[:]\n",
    "    reps = f['repeat'].value[:]\n",
    "    Vs   = f['data'].value['voltage'][:]\n",
    "    Vs = Vs.reshape(reps.size, amps.size)\n",
    "    Vs = Vs>(0.5*(Vs.max()+Vs.min()))\n",
    "    Vs = 2*Vs-1\n",
    "    fig = plt.figure(figsize=(4,4))\n",
    "    plt.ylim(Vs.min()*1.1, Vs.max()*1.1)\n",
    "    plt.xlabel('Reset Amplitude (V)', size=16)\n",
    "    plt.ylabel('Final State', size=16)\n",
    "    plt.title('Reset Pulse Search\\n{}'.format(sample_name), size=16)\n",
    "    plt.plot(amps, Vs.mean(axis=0))\n",
    "    img_path = \"data\\CSHE-Switching\\{samp:}\\{samp:}-ResetSearch_{date:}.png\".format(samp=sample_name, date=date)\n",
    "    plt.savefig(img_path, dpi=150, bbox_inches='tight')\n",
    "    plt.show()"
   ]
  },
  {
   "cell_type": "markdown",
   "metadata": {},
   "source": [
    "## Add a Field Sweep to Identify the Field-Dependence"
   ]
  },
  {
   "cell_type": "code",
   "execution_count": 3,
   "metadata": {
    "collapsed": false
   },
   "outputs": [
    {
     "data": {
      "text/plain": [
       "<SweepAxis(name=field,length=11,unit=T,value=0.004,unstructured=False>"
      ]
     },
     "execution_count": 3,
     "metadata": {},
     "output_type": "execute_result"
    }
   ],
   "source": [
    "sample_name = \"CSHE-Die7-C3R7\"\n",
    "date = datetime.datetime.today().strftime('%Y-%m-%d')\n",
    "file_path = \"data\\CSHE-Switching\\{samp:}\\{samp:}-ResetSearch-vs-Field_{date:}.h5\".format(samp=sample_name, date=date)\n",
    "\n",
    "exp = ResetSearchExperiment()\n",
    "exp.duration.value  = 5e-9\n",
    "exp.measure_current = 3e-6\n",
    "amps = np.linspace(-1.05, 1.05, 75)\n",
    "amps = np.append(amps, np.flipud(amps))\n",
    "exp.amplitudes = amps\n",
    "exp.init_streams()\n",
    "exp.add_sweep(exp.field, np.arange(0.004, 0.015, 0.001))"
   ]
  },
  {
   "cell_type": "code",
   "execution_count": 4,
   "metadata": {
    "collapsed": false
   },
   "outputs": [
    {
     "name": "stderr",
     "output_type": "stream",
     "text": [
      "C:\\Users\\qlab\\Anaconda3\\lib\\site-packages\\bokeh\\util\\deprecation.py:33: BokehDeprecationWarning: bokeh.io.hplot() was deprecated in Bokeh 0.12.0 and will be removed, use bokeh.models.layouts.Row instead.\n",
      "  warn(message)\n"
     ]
    },
    {
     "data": {
      "text/html": [
       "\n",
       "    <div class=\"bk-root\">\n",
       "        <a href=\"http://bokeh.pydata.org\" target=\"_blank\" class=\"bk-logo bk-logo-small bk-logo-notebook\"></a>\n",
       "        <span id=\"01185aab-7d01-42cb-a979-76f7660c5219\">Loading BokehJS ...</span>\n",
       "    </div>"
      ]
     },
     "metadata": {},
     "output_type": "display_data"
    },
    {
     "data": {
      "application/javascript": [
       "\n",
       "(function(global) {\n",
       "  function now() {\n",
       "    return new Date();\n",
       "  }\n",
       "\n",
       "  var force = \"1\";\n",
       "\n",
       "  if (typeof (window._bokeh_onload_callbacks) === \"undefined\" || force !== \"\") {\n",
       "    window._bokeh_onload_callbacks = [];\n",
       "    window._bokeh_is_loading = undefined;\n",
       "  }\n",
       "\n",
       "\n",
       "  \n",
       "  if (typeof (window._bokeh_timeout) === \"undefined\" || force !== \"\") {\n",
       "    window._bokeh_timeout = Date.now() + 5000;\n",
       "    window._bokeh_failed_load = false;\n",
       "  }\n",
       "\n",
       "  var NB_LOAD_WARNING = {'data': {'text/html':\n",
       "     \"<div style='background-color: #fdd'>\\n\"+\n",
       "     \"<p>\\n\"+\n",
       "     \"BokehJS does not appear to have successfully loaded. If loading BokehJS from CDN, this \\n\"+\n",
       "     \"may be due to a slow or bad network connection. Possible fixes:\\n\"+\n",
       "     \"</p>\\n\"+\n",
       "     \"<ul>\\n\"+\n",
       "     \"<li>re-rerun `output_notebook()` to attempt to load from CDN again, or</li>\\n\"+\n",
       "     \"<li>use INLINE resources instead, as so:</li>\\n\"+\n",
       "     \"</ul>\\n\"+\n",
       "     \"<code>\\n\"+\n",
       "     \"from bokeh.resources import INLINE\\n\"+\n",
       "     \"output_notebook(resources=INLINE)\\n\"+\n",
       "     \"</code>\\n\"+\n",
       "     \"</div>\"}};\n",
       "\n",
       "  function display_loaded() {\n",
       "    if (window.Bokeh !== undefined) {\n",
       "      Bokeh.$(\"#01185aab-7d01-42cb-a979-76f7660c5219\").text(\"BokehJS successfully loaded.\");\n",
       "    } else if (Date.now() < window._bokeh_timeout) {\n",
       "      setTimeout(display_loaded, 100)\n",
       "    }\n",
       "  }\n",
       "\n",
       "  function run_callbacks() {\n",
       "    window._bokeh_onload_callbacks.forEach(function(callback) { callback() });\n",
       "    delete window._bokeh_onload_callbacks\n",
       "    console.info(\"Bokeh: all callbacks have finished\");\n",
       "  }\n",
       "\n",
       "  function load_libs(js_urls, callback) {\n",
       "    window._bokeh_onload_callbacks.push(callback);\n",
       "    if (window._bokeh_is_loading > 0) {\n",
       "      console.log(\"Bokeh: BokehJS is being loaded, scheduling callback at\", now());\n",
       "      return null;\n",
       "    }\n",
       "    if (js_urls == null || js_urls.length === 0) {\n",
       "      run_callbacks();\n",
       "      return null;\n",
       "    }\n",
       "    console.log(\"Bokeh: BokehJS not loaded, scheduling load and callback at\", now());\n",
       "    window._bokeh_is_loading = js_urls.length;\n",
       "    for (var i = 0; i < js_urls.length; i++) {\n",
       "      var url = js_urls[i];\n",
       "      var s = document.createElement('script');\n",
       "      s.src = url;\n",
       "      s.async = false;\n",
       "      s.onreadystatechange = s.onload = function() {\n",
       "        window._bokeh_is_loading--;\n",
       "        if (window._bokeh_is_loading === 0) {\n",
       "          console.log(\"Bokeh: all BokehJS libraries loaded\");\n",
       "          run_callbacks()\n",
       "        }\n",
       "      };\n",
       "      s.onerror = function() {\n",
       "        console.warn(\"failed to load library \" + url);\n",
       "      };\n",
       "      console.log(\"Bokeh: injecting script tag for BokehJS library: \", url);\n",
       "      document.getElementsByTagName(\"head\")[0].appendChild(s);\n",
       "    }\n",
       "  };var element = document.getElementById(\"01185aab-7d01-42cb-a979-76f7660c5219\");\n",
       "  if (element == null) {\n",
       "    console.log(\"Bokeh: ERROR: autoload.js configured with elementid '01185aab-7d01-42cb-a979-76f7660c5219' but no matching script tag was found. \")\n",
       "    return false;\n",
       "  }\n",
       "\n",
       "  var js_urls = ['https://cdn.pydata.org/bokeh/release/bokeh-0.12.3.min.js', 'https://cdn.pydata.org/bokeh/release/bokeh-widgets-0.12.3.min.js'];\n",
       "\n",
       "  var inline_js = [\n",
       "    function(Bokeh) {\n",
       "      Bokeh.set_log_level(\"info\");\n",
       "    },\n",
       "    \n",
       "    function(Bokeh) {\n",
       "      \n",
       "      Bokeh.$(\"#01185aab-7d01-42cb-a979-76f7660c5219\").text(\"BokehJS is loading...\");\n",
       "    },\n",
       "    function(Bokeh) {\n",
       "      console.log(\"Bokeh: injecting CSS: https://cdn.pydata.org/bokeh/release/bokeh-0.12.3.min.css\");\n",
       "      Bokeh.embed.inject_css(\"https://cdn.pydata.org/bokeh/release/bokeh-0.12.3.min.css\");\n",
       "      console.log(\"Bokeh: injecting CSS: https://cdn.pydata.org/bokeh/release/bokeh-widgets-0.12.3.min.css\");\n",
       "      Bokeh.embed.inject_css(\"https://cdn.pydata.org/bokeh/release/bokeh-widgets-0.12.3.min.css\");\n",
       "    }\n",
       "  ];\n",
       "\n",
       "  function run_inline_js() {\n",
       "    \n",
       "    if ((window.Bokeh !== undefined) || (force === \"1\")) {\n",
       "      for (var i = 0; i < inline_js.length; i++) {\n",
       "        inline_js[i](window.Bokeh);\n",
       "      }if (force === \"1\") {\n",
       "        display_loaded();\n",
       "      }} else if (Date.now() < window._bokeh_timeout) {\n",
       "      setTimeout(run_inline_js, 100);\n",
       "    } else if (!window._bokeh_failed_load) {\n",
       "      console.log(\"Bokeh: BokehJS failed to load within specified timeout.\");\n",
       "      window._bokeh_failed_load = true;\n",
       "    } else if (!force) {\n",
       "      var cell = $(\"#01185aab-7d01-42cb-a979-76f7660c5219\").parents('.cell').data().cell;\n",
       "      cell.output_area.append_execute_result(NB_LOAD_WARNING)\n",
       "    }\n",
       "\n",
       "  }\n",
       "\n",
       "  if (window._bokeh_is_loading === 0) {\n",
       "    console.log(\"Bokeh: BokehJS loaded, going straight to plotting\");\n",
       "    run_inline_js();\n",
       "  } else {\n",
       "    load_libs(js_urls, function() {\n",
       "      console.log(\"Bokeh: BokehJS plotting callback run at\", now());\n",
       "      run_inline_js();\n",
       "    });\n",
       "  }\n",
       "}(this));"
      ]
     },
     "metadata": {},
     "output_type": "display_data"
    },
    {
     "data": {
      "text/html": [
       "\n",
       "                        <html>\n",
       "                        <head></head>\n",
       "                        <body>\n",
       "                        \n",
       "<script\n",
       "    src=\"http://localhost:5006/autoload.js?bokeh-autoload-element=da681c36-99b6-46b8-b7f7-7769b6f782ec&bokeh-session-id=p0yhJXyjLpY5TUXNMndpPLR3ZpyEOyN3fTX6OK6WXE6Y\"\n",
       "    id=\"da681c36-99b6-46b8-b7f7-7769b6f782ec\"\n",
       "    data-bokeh-model-id=\"\"\n",
       "    data-bokeh-doc-id=\"\"\n",
       "></script>\n",
       "                        </body>\n",
       "                        </html>\n",
       "                        "
      ],
      "text/plain": [
       "<IPython.core.display.HTML object>"
      ]
     },
     "metadata": {},
     "output_type": "display_data"
    },
    {
     "name": "stdout",
     "output_type": "stream",
     "text": [
      "Killing bokeh server thread 6792\n"
     ]
    },
    {
     "name": "stderr",
     "output_type": "stream",
     "text": [
      "Exception ignored in: <bound method BokehServerThread.__del__ of <BokehServerThread(Thread-6, stopped daemon 12716)>>\n",
      "Traceback (most recent call last):\n",
      "  File \"c:\\users\\qlab\\documents\\github\\auspex\\src\\auspex\\plotting.py\", line 24, in __del__\n",
      "    self.join()\n",
      "  File \"c:\\users\\qlab\\documents\\github\\auspex\\src\\auspex\\plotting.py\", line 35, in join\n",
      "    for child_proc in psutil.Process(self.p.pid).children():\n",
      "  File \"C:\\Users\\qlab\\Anaconda3\\lib\\site-packages\\psutil\\__init__.py\", line 364, in __init__\n",
      "    self._init(pid)\n",
      "  File \"C:\\Users\\qlab\\Anaconda3\\lib\\site-packages\\psutil\\__init__.py\", line 404, in _init\n",
      "    raise NoSuchProcess(pid, None, msg)\n",
      "psutil.NoSuchProcess: psutil.NoSuchProcess no process found with pid 6792\n"
     ]
    }
   ],
   "source": [
    "wr = WriteToHDF5(file_path)\n",
    "avg_sample = Averager('sample')\n",
    "fig1       = Plotter(name=\"Pulse Reset Search vs. Field\", plot_dims=1, notebook=True)\n",
    "edges = [(exp.voltage, avg_sample.sink),\n",
    "         (avg_sample.final_average, wr.sink),\n",
    "         (avg_sample.partial_average, fig1.sink)]\n",
    "exp.set_graph(edges)\n",
    "exp.run_sweeps()"
   ]
  },
  {
   "cell_type": "code",
   "execution_count": 5,
   "metadata": {
    "collapsed": false
   },
   "outputs": [
    {
     "data": {
      "image/png": "[encoded data removed]",
      "text/plain": [
       "<matplotlib.figure.Figure at 0x18e4cffcd68>"
      ]
     },
     "metadata": {},
     "output_type": "display_data"
    }
   ],
   "source": [
    "%matplotlib inline\n",
    "with h5py.File(wr.filename) as f:\n",
    "    amps   = f['amplitude'].value[:]\n",
    "    reps   = f['repeat'].value[:]\n",
    "    fields = f['field'].value[:]\n",
    "    Vs     = f['data'].value['voltage'][:]\n",
    "    Vs = Vs.reshape(fields.size, reps.size, amps.size)\n",
    "    Vs = Vs>(0.5*(Vs.max()+Vs.min()))\n",
    "    Vs = 2*Vs-1\n",
    "    fig = plt.figure(figsize=(4,8))\n",
    "    plt.xlabel('Reset Amplitude (V)', size=16)\n",
    "    plt.ylabel('Final State', size=16)\n",
    "    plt.title('Reset Pulse Search\\n{}'.format(sample_name), size=16)\n",
    "    \n",
    "    for i, trace in enumerate(Vs.mean(axis=1)):\n",
    "        plt.plot(amps, trace + 2.2*i)\n",
    "    img_path = \"data\\CSHE-Switching\\{samp:}\\{samp:}-ResetSearch-vs-Field_{date:}.png\".format(samp=sample_name, date=date)\n",
    "    plt.savefig(img_path, dpi=150, bbox_inches='tight')\n",
    "    plt.show()"
   ]
  },
  {
   "cell_type": "code",
   "execution_count": 6,
   "metadata": {
    "collapsed": false
   },
   "outputs": [
    {
     "data": {
      "image/png": "[encoded data removed]",
      "text/plain": [
       "<matplotlib.figure.Figure at 0x18e4d0487f0>"
      ]
     },
     "metadata": {},
     "output_type": "display_data"
    }
   ],
   "source": [
    "%matplotlib inline\n",
    "with h5py.File(wr.filename) as f:\n",
    "    amps   = f['amplitude'].value[:]\n",
    "    reps   = f['repeat'].value[:]\n",
    "    fields = f['field'].value[:]*1e4\n",
    "    Vs     = f['data'].value['voltage'][:]\n",
    "    Vs = Vs.reshape(fields.size, reps.size, amps.size)\n",
    "    Vs = Vs>(0.5*(Vs.max()+Vs.min()))\n",
    "    Vs = 2*Vs-1\n",
    "    fig = plt.figure(figsize=(4,4))\n",
    "    plt.xlabel('Bias Field (Oe)', size=16)\n",
    "    plt.ylabel('Transition Voltage (V)', size=16)\n",
    "    plt.title('Reset Pulse Search\\n{}'.format(sample_name), size=16)\n",
    "    \n",
    "    def interp_thresh(xs, ys, i, t=0):\n",
    "        x1, x2, y1, y2 = xs[i], xs[i+1], ys[i], ys[i+1]\n",
    "        return x1 + (t-y1)*(x2-x1)/(y2-y1)\n",
    "    \n",
    "    trans_pos = []\n",
    "    trans_neg = []\n",
    "    for i, trace in enumerate(Vs.mean(axis=1)):\n",
    "        where_pos = np.where(np.diff(np.sign(trace)))[0][0]\n",
    "        where_neg = np.where(np.diff(np.sign(trace)))[0][-1]\n",
    "        trans_pos.append(interp_thresh(amps,trace,where_pos))\n",
    "        trans_neg.append(interp_thresh(amps,trace,where_neg))\n",
    "    \n",
    "    plt.plot(fields, trans_pos, '.-', lw=1.5, label='Positive Transition')\n",
    "    plt.plot(fields, np.abs(trans_neg), '.-', lw=1.5, label='Negative Transition')\n",
    "    plt.legend()\n",
    "    img_path = \"data\\CSHE-Switching\\{samp:}\\{samp:}-ResetSearch-vs-Field-Summary_{date:}.png\".format(samp=sample_name, date=date)\n",
    "    plt.savefig(img_path, dpi=150, bbox_inches='tight')\n",
    "    plt.show()"
   ]
  },
  {
   "cell_type": "code",
   "execution_count": null,
   "metadata": {
    "collapsed": true
   },
   "outputs": [],
   "source": []
  }
 ],
 "metadata": {
  "kernelspec": {
   "display_name": "Python 3",
   "language": "python",
   "name": "python3"
  },
  "language_info": {
   "codemirror_mode": {
    "name": "ipython",
    "version": 3
   },
   "file_extension": ".py",
   "mimetype": "text/x-python",
   "name": "python",
   "nbconvert_exporter": "python",
   "pygments_lexer": "ipython3",
   "version": "3.5.2"
  }
 },
 "nbformat": 4,
 "nbformat_minor": 0
}
