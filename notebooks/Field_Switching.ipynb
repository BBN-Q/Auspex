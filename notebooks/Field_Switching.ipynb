{
 "cells": [
  {
   "cell_type": "code",
   "execution_count": 1,
   "metadata": {
    "collapsed": false
   },
   "outputs": [
    {
     "name": "stdout",
     "output_type": "stream",
     "text": [
      "C:\\Users\\qlab\\Documents\\GitHub\\pycontrol\n"
     ]
    }
   ],
   "source": [
    "cd .."
   ]
  },
  {
   "cell_type": "code",
   "execution_count": 2,
   "metadata": {
    "collapsed": false
   },
   "outputs": [],
   "source": [
    "from experiments.Field_Switching import FieldSwitchingExperiment, extract_data\n",
    "from pycontrol.filters.io import WriteToHDF5\n",
    "from pycontrol.filters.plot import Plotter\n",
    "import numpy as np\n",
    "import matplotlib.pyplot as plt"
   ]
  },
  {
   "cell_type": "code",
   "execution_count": 3,
   "metadata": {
    "collapsed": false
   },
   "outputs": [],
   "source": [
    "exp = FieldSwitchingExperiment()\n",
    "exp.sample = \"CSHE-5 C2R3\"\n",
    "exp.comment = \"Field Sweep\"\n",
    "exp.measure_current.value = 3e-6\n",
    "fields = np.linspace(-0.005,0.03,200)\n",
    "fields = np.append(fields, np.flipud(fields))\n",
    "main_sweep = exp.add_sweep(exp.field,fields)\n",
    "exp.init_instruments()"
   ]
  },
  {
   "cell_type": "code",
   "execution_count": 4,
   "metadata": {
    "collapsed": true
   },
   "outputs": [],
   "source": [
    "wr = WriteToHDF5(\"data\\CSHE-Switching\\CSHE-Die5-C2R3\\CSHE5-C2R3-FieldSweep_2016-07-26.h5\")\n",
    "fig = Plotter(name=\"CSHE5-C2R3 - Field Sweep\", plot_dims=1)\n",
    "edges = [(exp.resistance, wr.data), (exp.resistance, fig.data)]\n",
    "exp.set_graph(edges)"
   ]
  },
  {
   "cell_type": "code",
   "execution_count": 5,
   "metadata": {
    "collapsed": false
   },
   "outputs": [
    {
     "name": "stdout",
     "output_type": "stream",
     "text": [
      "No more data for plotter\n",
      "Killing bokeh server thread 7492\n",
      "Killing child process 5240\n"
     ]
    }
   ],
   "source": [
    "exp.init_progressbar(num=1,notebook=True)\n",
    "exp.run_sweeps()\n",
    "exp.shutdown_instruments()"
   ]
  },
  {
   "cell_type": "code",
   "execution_count": 6,
   "metadata": {
    "collapsed": true
   },
   "outputs": [],
   "source": [
    "field, res = extract_data(wr.filename)"
   ]
  },
  {
   "cell_type": "code",
   "execution_count": 7,
   "metadata": {
    "collapsed": false,
    "scrolled": true
   },
   "outputs": [],
   "source": [
    "fig = plt.figure()\n",
    "plt.plot(field, res/1e3,'-o')\n",
    "plt.xlabel('Field (T)', size=16)\n",
    "plt.ylabel('Resistance (kOhm)', size=16)\n",
    "plt.title('Field Sweep - CSHE5 - C2R3', size=16)\n",
    "plt.show()"
   ]
  },
  {
   "cell_type": "code",
   "execution_count": 8,
   "metadata": {
    "collapsed": false
   },
   "outputs": [
    {
     "name": "stdout",
     "output_type": "stream",
     "text": [
      "TMR = 59%\n"
     ]
    }
   ],
   "source": [
    "# Estimate TMR\n",
    "TMR = (np.max(res)-np.min(res))/np.min(res)\n",
    "print(\"TMR = {:.0f}%\".format(100*TMR))"
   ]
  },
  {
   "cell_type": "code",
   "execution_count": 9,
   "metadata": {
    "collapsed": false
   },
   "outputs": [
    {
     "name": "stdout",
     "output_type": "stream",
     "text": [
      "0.0171608040201\n",
      "-0.000954773869347\n",
      "Center is at 81.0 G\n",
      "Coercivity is 90.6 G\n"
     ]
    }
   ],
   "source": [
    "# Find the center of the loop of coercivity\n",
    "mid = np.mean([np.max(res),np.min(res)])\n",
    "transition_pos = field[np.where(np.diff(np.sign(res - mid)))[0][0]]\n",
    "transition_neg = field[np.where(np.diff(np.sign(res - mid)))[0][-1]]\n",
    "print(transition_pos)\n",
    "print(transition_neg)\n",
    "print(\"Center is at {:.1f} G\".format(1e4*(transition_neg + transition_pos)*0.5))\n",
    "print(\"Coercivity is {:.1f} G\".format(1e4*(transition_pos - transition_neg)*0.5))"
   ]
  },
  {
   "cell_type": "code",
   "execution_count": null,
   "metadata": {
    "collapsed": true
   },
   "outputs": [],
   "source": []
  }
 ],
 "metadata": {
  "kernelspec": {
   "display_name": "Python 3",
   "language": "python",
   "name": "python3"
  },
  "language_info": {
   "codemirror_mode": {
    "name": "ipython",
    "version": 3
   },
   "file_extension": ".py",
   "mimetype": "text/x-python",
   "name": "python",
   "nbconvert_exporter": "python",
   "pygments_lexer": "ipython3",
   "version": "3.5.1"
  }
 },
 "nbformat": 4,
 "nbformat_minor": 0
}
