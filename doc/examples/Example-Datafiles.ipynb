{
 "cells": [
  {
   "cell_type": "markdown",
   "metadata": {},
   "source": [
    "# Data writers in QGL, Auspex, libaps2"
   ]
  },
  {
   "cell_type": "markdown",
   "metadata": {},
   "source": [
    "It would be nice to have some documentation on how data is stored, processed, and passed around between the three software packages.  I see four situations where data is passed into or out of files.\n",
    "  * Data written to `.aps2` files by `QGL`\n",
    "  * Data read by `libaps2` and set to the APS2\n",
    "  * Data written by `Auspex` into `.auspex` data files\n",
    "  * Data read by `Auspex`/`Qlab.jl` for analysis\n",
    "\n",
    "These cover ~99% of the situations I can imagine in our normal data flow.  The rest of this document is an exploration and note-to-future-self about how this process works and how it could be changed in the future."
   ]
  },
  {
   "cell_type": "markdown",
   "metadata": {},
   "source": [
    "## QGL to .aps2 files"
   ]
  },
  {
   "cell_type": "markdown",
   "metadata": {},
   "source": [
    "The first situation will require `QGL` to create sequence files for the APS2.  Here, we'll create these files and read them back into the workspace to see how they are packed. "
   ]
  },
  {
   "cell_type": "code",
   "execution_count": 1,
   "metadata": {
    "execution": {
     "iopub.execute_input": "2021-04-15T02:44:41.633488Z",
     "iopub.status.busy": "2021-04-15T02:44:41.632721Z",
     "iopub.status.idle": "2021-04-15T02:44:43.103957Z",
     "shell.execute_reply": "2021-04-15T02:44:43.104365Z"
    }
   },
   "outputs": [],
   "source": [
    "import QGL.config\n",
    "from QGL import *"
   ]
  },
  {
   "cell_type": "code",
   "execution_count": 2,
   "metadata": {
    "execution": {
     "iopub.execute_input": "2021-04-15T02:44:43.111274Z",
     "iopub.status.busy": "2021-04-15T02:44:43.110707Z",
     "iopub.status.idle": "2021-04-15T02:44:43.381982Z",
     "shell.execute_reply": "2021-04-15T02:44:43.382457Z"
    }
   },
   "outputs": [],
   "source": [
    "# a minimal example of a qubit control chain\n",
    "cl = ChannelLibrary(\":memory:\")\n",
    "q2 = cl.new_qubit(\"q2\")\n",
    "\n",
    "# specify the particulars for a rack of APS2s\n",
    "ip_addresses = [f\"192.168.1.{i}\" for i in [23, 24, 25, 28]]\n",
    "aps2 = cl.new_APS2_rack(\"Maxwell\", ip_addresses, tdm_ip=\"192.168.1.11\")\n",
    "aps2.px(\"TDM\").trigger_interval = 500e-6\n",
    "cl.set_master(aps2.px(\"TDM\"))\n",
    "\n",
    "# initialize all four APS2 to linear regime\n",
    "for i in range(1,4):\n",
    "    aps2.tx(i).ch(1).I_channel_amp_factor = 0.5\n",
    "    aps2.tx(i).ch(1).Q_channel_amp_factor = 0.5\n",
    "    aps2.tx(i).ch(1).amp_factor = 1\n",
    "\n",
    "# create a digitizer - X6 in this case\n",
    "dig_1  = cl.new_X6(\"MyX6\", address=0)\n",
    "dig_1.record_length = 1024 + 256\n",
    "\n",
    "AM2 = cl.new_source(\"AutodyneM2\", \"HolzworthHS9000\", \"HS9004A-492-1\", \n",
    "                     power=16.0, frequency= 6.74621e9, reference=\"10MHz\")\n",
    "q2src = cl.new_source(\"q2source\", \"HolzworthHS9000\", \"HS9004A-492-2\", \n",
    "                     power=16.0, frequency=5.0122e9, reference=\"10MHz\")\n",
    "\n",
    "cl.set_measure(q2, aps2.tx(2), dig_1.channels[1], gate=False, trig_channel=aps2.tx(2).ch(\"m2\"), generator=AM2)\n",
    "cl.set_control(q2, aps2.tx(4), generator=q2src)\n"
   ]
  },
  {
   "cell_type": "code",
   "execution_count": 3,
   "metadata": {
    "execution": {
     "iopub.execute_input": "2021-04-15T02:44:43.386169Z",
     "iopub.status.busy": "2021-04-15T02:44:43.385617Z",
     "iopub.status.idle": "2021-04-15T02:44:43.388426Z",
     "shell.execute_reply": "2021-04-15T02:44:43.388843Z"
    }
   },
   "outputs": [],
   "source": [
    "seqs = [[X(q2),Y(q2),X(q2),MEAS(q2)]]"
   ]
  },
  {
   "cell_type": "code",
   "execution_count": 4,
   "metadata": {
    "execution": {
     "iopub.execute_input": "2021-04-15T02:44:43.392029Z",
     "iopub.status.busy": "2021-04-15T02:44:43.391505Z",
     "iopub.status.idle": "2021-04-15T02:44:43.528834Z",
     "shell.execute_reply": "2021-04-15T02:44:43.529234Z"
    }
   },
   "outputs": [
    {
     "name": "stdout",
     "output_type": "stream",
     "text": [
      "Compiled 1 sequences.\n"
     ]
    }
   ],
   "source": [
    "mf = compile_to_hardware(seqs, 'utils/file_doc')"
   ]
  },
  {
   "cell_type": "markdown",
   "metadata": {},
   "source": [
    "So now we have `.aps2` files in the utils/file_doc folder, along with a .json metafile.  __mf__ is a file path to the .json metafile that holds metadata about the sequence and where the .aps2 files are stored.  Note, the file extension is set byt the dirver used in QGL.  If you were using an APS1 or a APS3, you would see `.aps1` or `.aps3` files.  Not these files are structurally the same, just name differently for clarity."
   ]
  },
  {
   "cell_type": "code",
   "execution_count": 5,
   "metadata": {
    "execution": {
     "iopub.execute_input": "2021-04-15T02:44:43.537455Z",
     "iopub.status.busy": "2021-04-15T02:44:43.536870Z",
     "iopub.status.idle": "2021-04-15T02:44:43.539131Z",
     "shell.execute_reply": "2021-04-15T02:44:43.539510Z"
    }
   },
   "outputs": [
    {
     "data": {
      "text/plain": [
       "'/Users/mware/Github/AWGDir/utils/file_doc-meta.json'"
      ]
     },
     "execution_count": 5,
     "metadata": {},
     "output_type": "execute_result"
    }
   ],
   "source": [
    "mf"
   ]
  },
  {
   "cell_type": "code",
   "execution_count": 6,
   "metadata": {
    "execution": {
     "iopub.execute_input": "2021-04-15T02:44:43.542320Z",
     "iopub.status.busy": "2021-04-15T02:44:43.541798Z",
     "iopub.status.idle": "2021-04-15T02:44:43.543687Z",
     "shell.execute_reply": "2021-04-15T02:44:43.543260Z"
    }
   },
   "outputs": [],
   "source": [
    "import json"
   ]
  },
  {
   "cell_type": "code",
   "execution_count": 7,
   "metadata": {
    "execution": {
     "iopub.execute_input": "2021-04-15T02:44:43.546345Z",
     "iopub.status.busy": "2021-04-15T02:44:43.545848Z",
     "iopub.status.idle": "2021-04-15T02:44:43.548879Z",
     "shell.execute_reply": "2021-04-15T02:44:43.549243Z"
    }
   },
   "outputs": [
    {
     "data": {
      "text/plain": [
       "{'axis_descriptor': [{'name': 'segment',\n",
       "   'partition': 1,\n",
       "   'points': [1],\n",
       "   'unit': None}],\n",
       " 'database_info': {'db_provider': 'sqlite',\n",
       "  'db_resource_name': ':memory:',\n",
       "  'library_id': 1,\n",
       "  'library_name': 'working'},\n",
       " 'edges': [],\n",
       " 'instruments': {'Maxwell_U2': '/Users/mware/Github/AWGDir/utils/file_doc-Maxwell_U2.aps2',\n",
       "  'Maxwell_U4': '/Users/mware/Github/AWGDir/utils/file_doc-Maxwell_U4.aps2'},\n",
       " 'measurements': ['M-q2'],\n",
       " 'num_measurements': 1,\n",
       " 'num_sequences': 1,\n",
       " 'qubits': ['q2'],\n",
       " 'receivers': {'RecvChan-MyX6-2': 1}}"
      ]
     },
     "execution_count": 7,
     "metadata": {},
     "output_type": "execute_result"
    }
   ],
   "source": [
    "md = json.load(open(mf, \"r\"))\n",
    "md"
   ]
  },
  {
   "cell_type": "code",
   "execution_count": 8,
   "metadata": {
    "execution": {
     "iopub.execute_input": "2021-04-15T02:44:43.552185Z",
     "iopub.status.busy": "2021-04-15T02:44:43.551686Z",
     "iopub.status.idle": "2021-04-15T02:44:43.553203Z",
     "shell.execute_reply": "2021-04-15T02:44:43.553670Z"
    }
   },
   "outputs": [],
   "source": [
    "APS2_control_file = md[\"instruments\"][\"Maxwell_U4\"]\n",
    "APS2_measure_file = md[\"instruments\"][\"Maxwell_U2\"]"
   ]
  },
  {
   "cell_type": "markdown",
   "metadata": {},
   "source": [
    "The metafile is just there for house-keeping across multiple `.aps2` files.  It also provides a record of what `QGL` created for each experiment.  The point of this notebook is to dive into the `.aps2` file structure itself.  We can start by looking at the function that creates the file: `QGL/QGL/drivers/APS2Pattern.py` and the `write_sequence_file()`.  The relevant code is only ~20 lines long:\n",
    "```python\n",
    "with open(fileName, 'wb') as FID:\n",
    "    FID.write(b'APS2')                     # target hardware\n",
    "    FID.write(np.float32(4.0).tobytes())   # Version\n",
    "    FID.write(np.float32(4.0).tobytes())   # minimum firmware version\n",
    "    FID.write(np.uint16(2).tobytes())      # number of channels\n",
    "    # FID.write(np.uint16([1, 2]).tobytes()) # channelDataFor\n",
    "    FID.write(np.uint64(instructions.size).tobytes()) # instructions length\n",
    "    FID.write(instructions.tobytes()) # instructions in uint64 form\n",
    "\n",
    "    #Create the groups and datasets\n",
    "    for chanct in range(2):\n",
    "        #Write the waveformLib to file\n",
    "        if wfInfo[chanct][0].size == 0:\n",
    "            #If there are no waveforms, ensure that there is some element\n",
    "            #so that the waveform group gets written to file.\n",
    "            #TODO: Fix this in libaps2\n",
    "            data = np.array([0], dtype=np.int16)\n",
    "        else:\n",
    "            data = wfInfo[chanct][0]\n",
    "        FID.write(np.uint64(data.size).tobytes()) # waveform data length for channel\n",
    "        FID.write(data.tobytes())\n",
    "```\n",
    "Here we can see the data is just byte encoded and written to file in a particular order.  First some basic information about the hardware and minimum firmware."
   ]
  },
  {
   "cell_type": "code",
   "execution_count": 9,
   "metadata": {
    "execution": {
     "iopub.execute_input": "2021-04-15T02:44:43.556393Z",
     "iopub.status.busy": "2021-04-15T02:44:43.555850Z",
     "iopub.status.idle": "2021-04-15T02:44:43.557751Z",
     "shell.execute_reply": "2021-04-15T02:44:43.558104Z"
    }
   },
   "outputs": [
    {
     "name": "stdout",
     "output_type": "stream",
     "text": [
      "b'APS2'\n"
     ]
    }
   ],
   "source": [
    "print(b'APS2')"
   ]
  },
  {
   "cell_type": "code",
   "execution_count": 10,
   "metadata": {
    "execution": {
     "iopub.execute_input": "2021-04-15T02:44:43.561025Z",
     "iopub.status.busy": "2021-04-15T02:44:43.560491Z",
     "iopub.status.idle": "2021-04-15T02:44:43.562564Z",
     "shell.execute_reply": "2021-04-15T02:44:43.562917Z"
    }
   },
   "outputs": [
    {
     "data": {
      "text/plain": [
       "b'\\x00\\x00\\x80@'"
      ]
     },
     "execution_count": 10,
     "metadata": {},
     "output_type": "execute_result"
    }
   ],
   "source": [
    "np.float32(4.0).tobytes()"
   ]
  },
  {
   "cell_type": "code",
   "execution_count": 11,
   "metadata": {
    "execution": {
     "iopub.execute_input": "2021-04-15T02:44:43.566035Z",
     "iopub.status.busy": "2021-04-15T02:44:43.565474Z",
     "iopub.status.idle": "2021-04-15T02:44:43.567660Z",
     "shell.execute_reply": "2021-04-15T02:44:43.568019Z"
    }
   },
   "outputs": [
    {
     "data": {
      "text/plain": [
       "b'\\x02\\x00'"
      ]
     },
     "execution_count": 11,
     "metadata": {},
     "output_type": "execute_result"
    }
   ],
   "source": [
    "np.uint16(2).tobytes()"
   ]
  },
  {
   "cell_type": "code",
   "execution_count": 12,
   "metadata": {
    "execution": {
     "iopub.execute_input": "2021-04-15T02:44:43.571067Z",
     "iopub.status.busy": "2021-04-15T02:44:43.570519Z",
     "iopub.status.idle": "2021-04-15T02:44:43.573116Z",
     "shell.execute_reply": "2021-04-15T02:44:43.572756Z"
    }
   },
   "outputs": [
    {
     "name": "stdout",
     "output_type": "stream",
     "text": [
      "b'APS2\\x00\\x00\\x80@\\x00\\x00\\x80@\\x02\\x00\\x0b\\x00\\x00\\x00\\x00\\x00\\x00\\x00\\x00\\x00\\x00\\x00\\x00\\x80\\x00\\x91\\x00\\x00\\x00\\x00\\x00/\\x00\\xa1\\x00\\x00\\x00@\\x00a\\x00\\xa1\\x00\\x00\\x00\\x00\\x00@\\x00!\\x00\\x00\\x00\\x05\\x00\\x00\\x00\\r\\x0b\\x00\\x00\\x00\\x00\\x01\\x00\\xa1\\x06\\x00\\x00\\x05\\x00\\x00\\x00\\r\\x00\\x00\\x00\\x05\\x00\\x00\\x00\\r#\\x00\\x00\\x00\\x00\\x01\\x00\\xa1\\x0c\\x00\\x00\\x1d\\x00 \\x00\\r\\x00\\x00\\x00\\x00\\x00\\x00\\x00`4\\x00\\x00\\x00\\x00\\x00\\x00\\x00t\\x01W\\x03\\xb2\\x05\\x84\\x08\\xc2\\x0bQ\\x0f\\x07\\x13\\xad\\x16\\x05\\x1a\\xcf\\x1c\\xd0\\x1e\\xdc\\x1f\\xdc\\x1f\\xd0\\x1e\\xcf\\x1c\\x05\\x1a\\xad\\x16\\x07\\x13Q\\x0f\\xc2\\x0b\\x84\\x08\\xb2\\x05W\\x03t\\x01\\x00\\x00\\x00\\x00\\x00\\x00\\x00\\x00\\x00\\x00\\x00\\x00\\x00\\x00\\x00\\x00\\x00\\x00\\x00\\x00\\x00\\x00\\x00\\x00\\x00\\x00\\x00\\x00\\x00\\x00\\x00\\x00\\x00\\x00\\x00\\x00\\x00\\x00\\x00\\x00\\x00\\x00\\x00\\x00\\x00\\x00\\x00\\x00\\x00\\x00\\x00\\x00\\x00\\x00\\x00\\x004\\x00\\x00\\x00\\x00\\x00\\x00\\x00\\x00\\x00\\x00\\x00\\x00\\x00\\x00\\x00\\x00\\x00\\x00\\x00\\x00\\x00\\x00\\x00\\x00\\x00\\x00\\x00\\x00\\x00\\x00\\x00\\x00\\x00\\x00\\x00\\x00\\x00\\x00\\x00\\x00\\x00\\x00\\x00\\x00\\x00\\x00\\x00\\x00\\x00\\x00\\x00\\x00\\x00\\x00\\x00t\\x01W\\x03\\xb2\\x05\\x84\\x08\\xc2\\x0bQ\\x0f\\x07\\x13\\xad\\x16\\x05\\x1a\\xcf\\x1c\\xd0\\x1e\\xdc\\x1f\\xdc\\x1f\\xd0\\x1e\\xcf\\x1c\\x05\\x1a\\xad\\x16\\x07\\x13Q\\x0f\\xc2\\x0b\\x84\\x08\\xb2\\x05W\\x03t\\x01\\x00\\x00\\x00\\x00\\x00\\x00\\x00\\x00'\n"
     ]
    }
   ],
   "source": [
    "with open(APS2_control_file, \"rb\") as f:\n",
    "    print(f.read())"
   ]
  },
  {
   "cell_type": "markdown",
   "metadata": {},
   "source": [
    "Of course, this is just the most basic look at what's in the file.  To pull out more useful information, `QGL` has some other function for exploring the data inside."
   ]
  },
  {
   "cell_type": "code",
   "execution_count": 13,
   "metadata": {
    "execution": {
     "iopub.execute_input": "2021-04-15T02:44:43.576199Z",
     "iopub.status.busy": "2021-04-15T02:44:43.575435Z",
     "iopub.status.idle": "2021-04-15T02:44:43.584298Z",
     "shell.execute_reply": "2021-04-15T02:44:43.584718Z"
    }
   },
   "outputs": [
    {
     "data": {
      "text/plain": [
       "{'ch1': [[(1, 0.04541570015871078),\n",
       "   (1, 0.10438285923574656),\n",
       "   (1, 0.17800024417043095),\n",
       "   (1, 0.2661457697472836),\n",
       "   (1, 0.36747649859602),\n",
       "   (1, 0.4786961298986693),\n",
       "   (1, 0.5946770846050543),\n",
       "   (1, 0.7087046758637529),\n",
       "   (1, 0.8132096203149799),\n",
       "   (1, 0.9003784641679893),\n",
       "   (1, 0.9630081797094372),\n",
       "   (1, 0.9957270174581858),\n",
       "   (1, 0.9957270174581858),\n",
       "   (1, 0.9630081797094372),\n",
       "   (1, 0.9003784641679893),\n",
       "   (1, 0.8132096203149799),\n",
       "   (1, 0.7087046758637529),\n",
       "   (1, 0.5946770846050543),\n",
       "   (1, 0.4786961298986693),\n",
       "   (1, 0.36747649859602),\n",
       "   (1, 0.2661457697472836),\n",
       "   (1, 0.17800024417043095),\n",
       "   (1, 0.10438285923574656),\n",
       "   (1, 0.04541570015871078),\n",
       "   (1, 3.1146187425024613e-16),\n",
       "   (1, -2.5844387463462135e-19),\n",
       "   (1, -1.2216110335518833e-15),\n",
       "   (1, 3.911873736643366e-15),\n",
       "   (1, 2.8801850737119535e-15),\n",
       "   (1, 4.678017320548365e-16),\n",
       "   (1, 1.3403101491459762e-14),\n",
       "   (1, 1.1111039982203213e-14),\n",
       "   (1, 7.170440821592936e-15),\n",
       "   (1, 1.7620036993235762e-15),\n",
       "   (1, -4.722148206664456e-15),\n",
       "   (1, 1.6586494447636563e-14),\n",
       "   (1, 9.755311238037664e-15),\n",
       "   (1, -2.454229527286706e-14),\n",
       "   (1, -3.5329244680058904e-15),\n",
       "   (1, 1.4342895087219723e-14),\n",
       "   (1, 2.7780232002336545e-14),\n",
       "   (1, 3.6132468274928846e-14),\n",
       "   (1, -1.5014693578307762e-14),\n",
       "   (1, -3.6029608721843285e-15),\n",
       "   (1, 3.1289718242651454e-15),\n",
       "   (1, 5.930580220618218e-15),\n",
       "   (1, 5.728430286558786e-15),\n",
       "   (1, -1.6915801519360628e-15),\n",
       "   (1, 0.04541570015871078),\n",
       "   (1, 0.10438285923574656),\n",
       "   (1, 0.17800024417043095),\n",
       "   (1, 0.2661457697472836),\n",
       "   (1, 0.36747649859602),\n",
       "   (1, 0.4786961298986693),\n",
       "   (1, 0.5946770846050543),\n",
       "   (1, 0.7087046758637529),\n",
       "   (1, 0.8132096203149799),\n",
       "   (1, 0.9003784641679893),\n",
       "   (1, 0.9630081797094372),\n",
       "   (1, 0.9957270174581858),\n",
       "   (1, 0.9957270174581858),\n",
       "   (1, 0.9630081797094372),\n",
       "   (1, 0.9003784641679893),\n",
       "   (1, 0.8132096203149799),\n",
       "   (1, 0.7087046758637529),\n",
       "   (1, 0.5946770846050543),\n",
       "   (1, 0.4786961298986693),\n",
       "   (1, 0.36747649859602),\n",
       "   (1, 0.2661457697472836),\n",
       "   (1, 0.17800024417043095),\n",
       "   (1, 0.10438285923574656),\n",
       "   (1, 0.04541570015871078),\n",
       "   (120, 0.0)]],\n",
       " 'ch2': [[(1, -4.449455346432087e-17),\n",
       "   (1, -1.2783213444890575e-16),\n",
       "   (1, -2.615849151249187e-16),\n",
       "   (1, -4.56308391038667e-16),\n",
       "   (1, -7.200462684279884e-16),\n",
       "   (1, -1.0552206298403356e-15),\n",
       "   (1, -1.456538776375719e-15),\n",
       "   (1, -6.945058000584136e-15),\n",
       "   (1, -2.390146940530979e-15),\n",
       "   (1, 3.5306952006662057e-15),\n",
       "   (1, -3.302165677534868e-15),\n",
       "   (1, -1.0733307704813967e-14),\n",
       "   (1, -3.902124495215065e-15),\n",
       "   (1, 2.8328120572657805e-15),\n",
       "   (1, -3.969524174992337e-15),\n",
       "   (1, -9.562601206157764e-15),\n",
       "   (1, -3.47165165134923e-15),\n",
       "   (1, 1.1667033955021486e-15),\n",
       "   (1, -9.38210936099583e-15),\n",
       "   (1, -4.6812105881300534e-15),\n",
       "   (1, -1.5644859121325727e-15),\n",
       "   (1, 1.7483065823441045e-16),\n",
       "   (1, -2.148096746490886e-15),\n",
       "   (1, -6.230361942564736e-16),\n",
       "   (1, 0.04541570015871078),\n",
       "   (1, 0.10438285923574656),\n",
       "   (1, 0.17800024417043095),\n",
       "   (1, 0.2661457697472836),\n",
       "   (1, 0.36747649859602),\n",
       "   (1, 0.4786961298986693),\n",
       "   (1, 0.5946770846050543),\n",
       "   (1, 0.7087046758637529),\n",
       "   (1, 0.8132096203149799),\n",
       "   (1, 0.9003784641679893),\n",
       "   (1, 0.9630081797094372),\n",
       "   (1, 0.9957270174581858),\n",
       "   (1, 0.9957270174581858),\n",
       "   (1, 0.9630081797094372),\n",
       "   (1, 0.9003784641679893),\n",
       "   (1, 0.8132096203149799),\n",
       "   (1, 0.7087046758637529),\n",
       "   (1, 0.5946770846050543),\n",
       "   (1, 0.4786961298986693),\n",
       "   (1, 0.36747649859602),\n",
       "   (1, 0.2661457697472836),\n",
       "   (1, 0.17800024417043095),\n",
       "   (1, 0.10438285923574656),\n",
       "   (1, 0.04541570015871078),\n",
       "   (1, 7.123626384530595e-16),\n",
       "   (1, -6.13335801480113e-16),\n",
       "   (1, 5.234342591405162e-15),\n",
       "   (1, 2.0879580851125654e-15),\n",
       "   (1, 1.5848296652200776e-14),\n",
       "   (1, 1.0323638897809846e-14),\n",
       "   (1, 2.9447488031467613e-18),\n",
       "   (1, 2.5008174774914194e-14),\n",
       "   (1, 1.1162072831946632e-14),\n",
       "   (1, -7.054702599313358e-15),\n",
       "   (1, 2.6431631422265732e-14),\n",
       "   (1, 5.860582771740212e-15),\n",
       "   (1, -1.560849798086026e-14),\n",
       "   (1, 1.888143982566443e-14),\n",
       "   (1, -1.7597744319838915e-15),\n",
       "   (1, 2.7102426100921372e-14),\n",
       "   (1, 8.338982754780859e-15),\n",
       "   (1, -5.824682731101303e-15),\n",
       "   (1, 1.2200771898733532e-14),\n",
       "   (1, 1.4428220669003632e-15),\n",
       "   (1, 1.043517773137929e-14),\n",
       "   (1, 3.1412225555880143e-15),\n",
       "   (1, -4.0854594248722917e-16),\n",
       "   (1, -1.156970835828324e-15),\n",
       "   (120, 0.0)]],\n",
       " 'm1': [[]],\n",
       " 'm2': [[]],\n",
       " 'm3': [[]],\n",
       " 'm4': [[]]}"
      ]
     },
     "execution_count": 13,
     "metadata": {},
     "output_type": "execute_result"
    }
   ],
   "source": [
    "QGL.drivers.APS2Pattern.read_sequence_file(APS2_control_file)"
   ]
  },
  {
   "cell_type": "code",
   "execution_count": 14,
   "metadata": {
    "execution": {
     "iopub.execute_input": "2021-04-15T02:44:43.595661Z",
     "iopub.status.busy": "2021-04-15T02:44:43.586901Z",
     "iopub.status.idle": "2021-04-15T02:44:43.598319Z",
     "shell.execute_reply": "2021-04-15T02:44:43.598793Z"
    }
   },
   "outputs": [
    {
     "data": {
      "text/plain": [
       "{'ch1': [[(24, 0.0),\n",
       "   (24, 0.0),\n",
       "   (24, 0.0),\n",
       "   (1, 0.017946526675619582),\n",
       "   (1, 0.0894884629471371),\n",
       "   (1, 0.34550115980954704),\n",
       "   (1, 0.7392259797338542),\n",
       "   (1, 0.9383469661823953),\n",
       "   (1, 0.9877914784519595),\n",
       "   (1, 0.9976803809058723),\n",
       "   (1, 0.9995116591380784),\n",
       "   (1, 0.9998779147845196),\n",
       "   (1, 0.9998779147845196),\n",
       "   (1, 0.9998779147845196),\n",
       "   (1, 0.9998779147845196),\n",
       "   (1, 0.9998779147845196),\n",
       "   (1, 0.9998779147845196),\n",
       "   (1, 0.9998779147845196),\n",
       "   (1, 0.9998779147845196),\n",
       "   (1, 0.9998779147845196),\n",
       "   (1, 0.9998779147845196),\n",
       "   (1, 0.9998779147845196),\n",
       "   (1, 0.9998779147845196),\n",
       "   (1, 0.9998779147845196),\n",
       "   (1, 0.9998779147845196),\n",
       "   (1, 0.9998779147845196),\n",
       "   (1, 0.9998779147845196),\n",
       "   (1, 0.9998779147845196),\n",
       "   (1, 1.0),\n",
       "   (1, 1.0),\n",
       "   (1, 1.0),\n",
       "   (1, 1.0),\n",
       "   (1, 1.0),\n",
       "   (1, 1.0),\n",
       "   (1, 1.0),\n",
       "   (1, 1.0),\n",
       "   (1, 1.0),\n",
       "   (1, 1.0),\n",
       "   (1, 1.0),\n",
       "   (1, 1.0),\n",
       "   (1, 1.0),\n",
       "   (1, 1.0),\n",
       "   (1, 1.0),\n",
       "   (1, 1.0),\n",
       "   (1, 1.0),\n",
       "   (1, 1.0),\n",
       "   (1, 1.0),\n",
       "   (1, 1.0),\n",
       "   (1, 1.0),\n",
       "   (1, 1.0),\n",
       "   (1, 1.0),\n",
       "   (1, 1.0),\n",
       "   (1, 1.0),\n",
       "   (1, 1.0),\n",
       "   (1, 1.0),\n",
       "   (1, 1.0),\n",
       "   (1, 1.0),\n",
       "   (1, 1.0),\n",
       "   (1, 1.0),\n",
       "   (1, 1.0),\n",
       "   (1, 1.0),\n",
       "   (1, 1.0),\n",
       "   (1, 1.0),\n",
       "   (1, 1.0),\n",
       "   (1, 1.0),\n",
       "   (1, 1.0),\n",
       "   (1, 1.0),\n",
       "   (1, 1.0),\n",
       "   (1, 1.0),\n",
       "   (1, 1.0),\n",
       "   (1, 1.0),\n",
       "   (1, 1.0),\n",
       "   (1, 1.0),\n",
       "   (1, 1.0),\n",
       "   (1, 1.0),\n",
       "   (1, 1.0),\n",
       "   (1, 1.0),\n",
       "   (1, 1.0),\n",
       "   (1, 1.0),\n",
       "   (1, 1.0),\n",
       "   (1, 1.0),\n",
       "   (1, 1.0),\n",
       "   (1, 1.0),\n",
       "   (1, 1.0),\n",
       "   (1, 1.0),\n",
       "   (1, 1.0),\n",
       "   (1, 1.0),\n",
       "   (1, 1.0),\n",
       "   (1, 1.0),\n",
       "   (1, 1.0),\n",
       "   (1, 1.0),\n",
       "   (1, 1.0),\n",
       "   (1, 1.0),\n",
       "   (1, 1.0),\n",
       "   (1, 1.0),\n",
       "   (1, 1.0),\n",
       "   (1, 1.0),\n",
       "   (1, 1.0),\n",
       "   (1, 0.9998779147845196),\n",
       "   (1, 0.9998779147845196),\n",
       "   (1, 0.9998779147845196),\n",
       "   (1, 0.9998779147845196),\n",
       "   (1, 0.9998779147845196),\n",
       "   (1, 0.9998779147845196),\n",
       "   (1, 0.9998779147845196),\n",
       "   (1, 0.9998779147845196),\n",
       "   (1, 0.9998779147845196),\n",
       "   (1, 0.9998779147845196),\n",
       "   (1, 0.9998779147845196),\n",
       "   (1, 0.9998779147845196),\n",
       "   (1, 0.9998779147845196),\n",
       "   (1, 0.9998779147845196),\n",
       "   (1, 0.9998779147845196),\n",
       "   (1, 0.9998779147845196),\n",
       "   (1, 0.9998779147845196),\n",
       "   (1, 0.9995116591380784),\n",
       "   (1, 0.9976803809058723),\n",
       "   (1, 0.9877914784519595),\n",
       "   (1, 0.9383469661823953),\n",
       "   (1, 0.7392259797338542),\n",
       "   (1, 0.34550115980954704),\n",
       "   (1, 0.0894884629471371),\n",
       "   (1, 0.017946526675619582)]],\n",
       " 'ch2': [[(24, 0.0),\n",
       "   (24, 0.0),\n",
       "   (24, 0.0),\n",
       "   (1, 0.0),\n",
       "   (1, 0.0),\n",
       "   (1, 0.0),\n",
       "   (1, 0.0),\n",
       "   (1, 0.0),\n",
       "   (1, 0.0),\n",
       "   (1, 0.0),\n",
       "   (1, 0.0),\n",
       "   (1, 0.0),\n",
       "   (1, 0.0),\n",
       "   (1, 0.0),\n",
       "   (1, 0.0),\n",
       "   (1, 0.0),\n",
       "   (1, 0.0),\n",
       "   (1, 0.0),\n",
       "   (1, 0.0),\n",
       "   (1, 0.0),\n",
       "   (1, 0.0),\n",
       "   (1, 0.0),\n",
       "   (1, 0.0),\n",
       "   (1, 0.0),\n",
       "   (1, 0.0),\n",
       "   (1, 0.0),\n",
       "   (1, 0.0),\n",
       "   (1, 0.0),\n",
       "   (1, 0.0),\n",
       "   (1, 0.0),\n",
       "   (1, 0.0),\n",
       "   (1, 0.0),\n",
       "   (1, 0.0),\n",
       "   (1, 0.0),\n",
       "   (1, 0.0),\n",
       "   (1, 0.0),\n",
       "   (1, 0.0),\n",
       "   (1, 0.0),\n",
       "   (1, 0.0),\n",
       "   (1, 0.0),\n",
       "   (1, 0.0),\n",
       "   (1, 0.0),\n",
       "   (1, 0.0),\n",
       "   (1, 0.0),\n",
       "   (1, 0.0),\n",
       "   (1, 0.0),\n",
       "   (1, 0.0),\n",
       "   (1, 0.0),\n",
       "   (1, 0.0),\n",
       "   (1, 0.0),\n",
       "   (1, 0.0),\n",
       "   (1, 0.0),\n",
       "   (1, 0.0),\n",
       "   (1, 0.0),\n",
       "   (1, 0.0),\n",
       "   (1, 0.0),\n",
       "   (1, 0.0),\n",
       "   (1, 0.0),\n",
       "   (1, 0.0),\n",
       "   (1, 0.0),\n",
       "   (1, 0.0),\n",
       "   (1, 0.0),\n",
       "   (1, 0.0),\n",
       "   (1, 0.0),\n",
       "   (1, 0.0),\n",
       "   (1, 0.0),\n",
       "   (1, 0.0),\n",
       "   (1, 0.0),\n",
       "   (1, 0.0),\n",
       "   (1, 0.0),\n",
       "   (1, 0.0),\n",
       "   (1, 0.0),\n",
       "   (1, 0.0),\n",
       "   (1, 0.0),\n",
       "   (1, 0.0),\n",
       "   (1, 0.0),\n",
       "   (1, 0.0),\n",
       "   (1, 0.0),\n",
       "   (1, 0.0),\n",
       "   (1, 0.0),\n",
       "   (1, 0.0),\n",
       "   (1, 0.0),\n",
       "   (1, 0.0),\n",
       "   (1, 0.0),\n",
       "   (1, 0.0),\n",
       "   (1, 0.0),\n",
       "   (1, 0.0),\n",
       "   (1, 0.0),\n",
       "   (1, 0.0),\n",
       "   (1, 0.0),\n",
       "   (1, 0.0),\n",
       "   (1, 0.0),\n",
       "   (1, 0.0),\n",
       "   (1, 0.0),\n",
       "   (1, 0.0),\n",
       "   (1, 0.0),\n",
       "   (1, 0.0),\n",
       "   (1, 0.0),\n",
       "   (1, 0.0),\n",
       "   (1, 0.0),\n",
       "   (1, 0.0),\n",
       "   (1, 0.0),\n",
       "   (1, 0.0),\n",
       "   (1, 0.0),\n",
       "   (1, 0.0),\n",
       "   (1, 0.0),\n",
       "   (1, 0.0),\n",
       "   (1, 0.0),\n",
       "   (1, 0.0),\n",
       "   (1, 0.0),\n",
       "   (1, 0.0),\n",
       "   (1, 0.0),\n",
       "   (1, 0.0),\n",
       "   (1, 0.0),\n",
       "   (1, 0.0),\n",
       "   (1, 0.0),\n",
       "   (1, 0.0),\n",
       "   (1, 0.0),\n",
       "   (1, 0.0),\n",
       "   (1, 0.0),\n",
       "   (1, 0.0),\n",
       "   (1, 0.0),\n",
       "   (1, 0.0)]],\n",
       " 'm1': [[]],\n",
       " 'm2': [[(72, 0), (120, 1)]],\n",
       " 'm3': [[]],\n",
       " 'm4': [[]]}"
      ]
     },
     "execution_count": 14,
     "metadata": {},
     "output_type": "execute_result"
    }
   ],
   "source": [
    "QGL.drivers.APS2Pattern.read_sequence_file(APS2_measure_file)"
   ]
  },
  {
   "cell_type": "markdown",
   "metadata": {},
   "source": [
    "It might be instructive to see what the pulses should look like so we can confirm the data in the files is what was intended."
   ]
  },
  {
   "cell_type": "code",
   "execution_count": 15,
   "metadata": {
    "execution": {
     "iopub.execute_input": "2021-04-15T02:44:43.601584Z",
     "iopub.status.busy": "2021-04-15T02:44:43.601086Z",
     "iopub.status.idle": "2021-04-15T02:44:43.656612Z",
     "shell.execute_reply": "2021-04-15T02:44:43.651553Z"
    }
   },
   "outputs": [
    {
     "data": {
      "application/vnd.jupyter.widget-view+json": {
       "model_id": "b6cbe0c9e6be4c539e975950964fa4ff",
       "version_major": 2,
       "version_minor": 0
      },
      "text/plain": [
       "VBox(children=(IntSlider(value=1, description='Segment', max=1, min=1), Figure(animation_duration=50, axes=[Ax…"
      ]
     },
     "metadata": {},
     "output_type": "display_data"
    }
   ],
   "source": [
    "plot_pulse_files(mf)"
   ]
  },
  {
   "cell_type": "markdown",
   "metadata": {},
   "source": [
    "Note here, the data returned in the read_sequence_file methods and in plotting is just the waveform data and not the sequence instruction data.  `QGL` has a variety of functions you can use to inspect the sequence data:"
   ]
  },
  {
   "cell_type": "code",
   "execution_count": 16,
   "metadata": {
    "execution": {
     "iopub.execute_input": "2021-04-15T02:44:43.659610Z",
     "iopub.status.busy": "2021-04-15T02:44:43.659037Z",
     "iopub.status.idle": "2021-04-15T02:44:43.661906Z",
     "shell.execute_reply": "2021-04-15T02:44:43.662330Z"
    }
   },
   "outputs": [
    {
     "data": {
      "text/plain": [
       "array([10448491872987906048, 11601324317152903168, 11601379293808033792,\n",
       "        2377970971995799552,   936748722576949248, 11601273739618025483,\n",
       "         936748722576949254,   936748722576949248, 11601273739618025507,\n",
       "         936783907351691276,  6917529027641081856], dtype=uint64)"
      ]
     },
     "execution_count": 16,
     "metadata": {},
     "output_type": "execute_result"
    }
   ],
   "source": [
    "QGL.drivers.APS2Pattern.raw_instructions(APS2_control_file)"
   ]
  },
  {
   "cell_type": "code",
   "execution_count": 17,
   "metadata": {
    "execution": {
     "iopub.execute_input": "2021-04-15T02:44:43.665837Z",
     "iopub.status.busy": "2021-04-15T02:44:43.665164Z",
     "iopub.status.idle": "2021-04-15T02:44:43.667699Z",
     "shell.execute_reply": "2021-04-15T02:44:43.668174Z"
    }
   },
   "outputs": [
    {
     "data": {
      "text/plain": [
       "[SYNC,\n",
       " MODULATION; write=1 | RESET_PHASE; nco_select=0xf,\n",
       " MODULATION; write=1 | SET_FREQ; nco_select=0x1, increment=0x40000000,\n",
       " WAIT,\n",
       " WFM; engine=3, write=1 | PLAY; TA_bit=0, count=5, addr=0,\n",
       " MODULATION; write=1 | MODULATE; nco_select=0x1, count=11,\n",
       " WFM; engine=3, write=1 | PLAY; TA_bit=0, count=5, addr=6,\n",
       " WFM; engine=3, write=1 | PLAY; TA_bit=0, count=5, addr=0,\n",
       " MODULATION; write=1 | MODULATE; nco_select=0x1, count=35,\n",
       " WFM; engine=3, write=1 | PLAY; TA_bit=1, count=29, addr=12,\n",
       " GOTO | target_addr=0]"
      ]
     },
     "execution_count": 17,
     "metadata": {},
     "output_type": "execute_result"
    }
   ],
   "source": [
    "QGL.drivers.APS2Pattern.read_instructions(APS2_control_file)"
   ]
  },
  {
   "cell_type": "markdown",
   "metadata": {},
   "source": [
    "Users will likely never need to inspect .aps2 files in this detail but the above is illustrative of what information is in the files.  See the documentations for more details on what the instructions actually do when decoded by the hardware.  The above is a representation of our simple X,Y,X sequence created above."
   ]
  },
  {
   "cell_type": "markdown",
   "metadata": {},
   "source": [
    "## Data read by libaps2"
   ]
  },
  {
   "cell_type": "markdown",
   "metadata": {},
   "source": [
    "The data read by `libaps2` can be specified by the user manually or read from files like `.aps2` above with the `load_sequence_file()` function inside libaps2:\n",
    "```cpp\n",
    "// Read the header information\n",
    "char junk[100];\n",
    "uint64_t buff_length;\n",
    "uint16_t num_chans;\n",
    "\n",
    "std::fstream file(seqFile, std::ios::binary | std::ios::in);\n",
    "if( !file ) throw APS2_SEQFILE_FAIL;\n",
    "\n",
    "file.read(junk, 12); // Don't need this info\n",
    "file.read(reinterpret_cast<char *> (&num_chans), sizeof(uint16_t));\n",
    "\n",
    "// Start anew\n",
    "clear_channel_data();\n",
    "\n",
    "// Read the instructions\n",
    "file.read(reinterpret_cast<char *> (&buff_length), sizeof(uint64_t));\n",
    "vector<uint64_t> instructions;\n",
    "instructions.resize(buff_length);\n",
    "file.read(reinterpret_cast<char *> (instructions.data()), buff_length*sizeof(uint64_t));\n",
    "write_sequence(instructions);\n",
    "\n",
    "// Read the waveforms\n",
    "vector<int16_t> waveform;\n",
    "for (int chanct = 0; chanct < num_chans; chanct++) {\n",
    "  file.read(reinterpret_cast<char *> (&buff_length), sizeof(uint64_t));\n",
    "  waveform.resize(buff_length);\n",
    "  file.read(reinterpret_cast<char *> (waveform.data()), buff_length*sizeof(int16_t));\n",
    "  set_waveform(chanct, waveform);\n",
    "}\n",
    "```\n",
    "To manually set the values a user could use the `write_sequence` function to write sequence instruction information and the `set_waveform` function to write the waveform data."
   ]
  },
  {
   "cell_type": "markdown",
   "metadata": {},
   "source": [
    "## Data written by `Auspex`"
   ]
  },
  {
   "cell_type": "markdown",
   "metadata": {},
   "source": [
    "The other end of the data taking process involves saving experimental data to file.  This data could have a very rich structure and will depend on how the data pipeline was constructed in `Auspex` and what was saved to file using the pipeline `Writer`.  The writer uses a data structure called __AuspexDataContainer__ specified in `auspex/data_format`.  It creates a directory structure with a `.auspex` extension where the data files are stored.  This choice to use directories was intentionally made to allow for multiple file writers to work at once.  The files inside the folder have the following structure:\n",
    "```\n",
    "folder/data_set_name/\n",
    "                        data.dat\n",
    "                        data_meta.json\n",
    "```\n",
    "Where the .dat contains the actual data and the JSON file holds meta data about data in the .dat file.  The data files are `numpy` memmaps as explained in more detail in the next section."
   ]
  },
  {
   "cell_type": "markdown",
   "metadata": {},
   "source": [
    "## Data read by `Auspex`"
   ]
  },
  {
   "cell_type": "markdown",
   "metadata": {},
   "source": [
    "The last situation is where data needs to be read from file after the experiment is over.  This could be necessary for plotting, analysis, etc...  Auspex has two main functions for doing this: `open_data` and `load_data`."
   ]
  },
  {
   "cell_type": "code",
   "execution_count": 18,
   "metadata": {
    "execution": {
     "iopub.execute_input": "2021-04-15T02:44:43.671527Z",
     "iopub.status.busy": "2021-04-15T02:44:43.670937Z",
     "iopub.status.idle": "2021-04-15T02:44:43.917701Z",
     "shell.execute_reply": "2021-04-15T02:44:43.918077Z"
    }
   },
   "outputs": [],
   "source": [
    "from auspex.analysis.helpers import open_data, load_data"
   ]
  },
  {
   "cell_type": "code",
   "execution_count": 19,
   "metadata": {
    "execution": {
     "iopub.execute_input": "2021-04-15T02:44:43.922009Z",
     "iopub.status.busy": "2021-04-15T02:44:43.921370Z",
     "iopub.status.idle": "2021-04-15T02:44:43.967464Z",
     "shell.execute_reply": "2021-04-15T02:44:43.968187Z"
    }
   },
   "outputs": [],
   "source": [
    "auspex_data = load_data('../../test/data/test_data-0000.auspex')"
   ]
  },
  {
   "cell_type": "code",
   "execution_count": 20,
   "metadata": {
    "execution": {
     "iopub.execute_input": "2021-04-15T02:44:43.975311Z",
     "iopub.status.busy": "2021-04-15T02:44:43.974617Z",
     "iopub.status.idle": "2021-04-15T02:44:43.977012Z",
     "shell.execute_reply": "2021-04-15T02:44:43.977603Z"
    }
   },
   "outputs": [
    {
     "data": {
      "text/plain": [
       "{'q2-raw_int': {'data': {'data': array([-0.03480155+0.07538876j, -0.0365286 +0.07124131j,\n",
       "          -0.0347432 +0.0652775j , -0.03676876+0.06965215j,\n",
       "          -0.03290481+0.06655533j, -0.03316881+0.05601843j,\n",
       "          -0.03321098+0.04771077j, -0.04027801+0.04940713j,\n",
       "          -0.03636705+0.04388169j, -0.03038527+0.04576108j,\n",
       "          -0.03787801+0.04439955j, -0.03236112+0.04230543j,\n",
       "          -0.04050779+0.04489688j, -0.03577601+0.03958429j,\n",
       "          -0.0406527 +0.03691186j, -0.04130238+0.03809405j,\n",
       "          -0.0371349 +0.03233574j, -0.04126542+0.02633132j,\n",
       "          -0.04183918+0.02636424j, -0.04314072+0.02570276j,\n",
       "          -0.03159363+0.03175351j, -0.03809416+0.02639723j,\n",
       "          -0.04292881+0.02568283j, -0.03711685+0.02149215j,\n",
       "          -0.03787809+0.03078357j, -0.03833073+0.0198887j ,\n",
       "          -0.03942336+0.02429585j, -0.03922277+0.01124447j,\n",
       "          -0.03651746+0.01885406j, -0.04246189+0.01818306j,\n",
       "          -0.04411308+0.02368582j, -0.03961586+0.01782727j,\n",
       "          -0.03935266+0.01531323j, -0.04433473+0.01292302j,\n",
       "          -0.04045838+0.0166872j , -0.04288147+0.01179237j,\n",
       "          -0.03893812+0.01322665j, -0.04580873+0.01976834j,\n",
       "          -0.0354858 +0.0188018j , -0.03558416+0.01550809j,\n",
       "          -0.04687808+0.01556531j, -0.03996974+0.01355006j,\n",
       "          -0.03573726+0.01741335j, -0.04397508+0.00931415j,\n",
       "          -0.04551779+0.01635065j, -0.04687501+0.00895975j,\n",
       "          -0.03458718+0.01311569j, -0.03841558+0.01047171j,\n",
       "          -0.04258917+0.00910061j, -0.03948617+0.01182697j,\n",
       "          -0.04467226+0.0072093j , -0.04309372+0.01434342j,\n",
       "          -0.04284658+0.00459964j, -0.04153653+0.01049169j,\n",
       "          -0.04557097+0.00650584j, -0.0404346 +0.00692518j,\n",
       "          -0.04371908+0.00722908j, -0.03640441+0.01235616j,\n",
       "          -0.03819477+0.00638416j, -0.03709298+0.00281938j,\n",
       "          -0.04418598+0.01067704j, -0.04196066+0.00994303j,\n",
       "          -0.04285414+0.01200638j, -0.04153651+0.01083936j,\n",
       "          -0.03820521+0.00259102j, -0.04466618+0.00507353j,\n",
       "          -0.03948722+0.00564439j, -0.03861988+0.01177545j,\n",
       "          -0.04082053+0.00552459j, -0.03926749+0.00880394j,\n",
       "          -0.03263902+0.00508089j, -0.03851758+0.00503399j,\n",
       "          -0.04512433+0.01480351j, -0.0382643 +0.00798813j,\n",
       "          -0.03633226+0.00958326j, -0.03884519+0.00265284j,\n",
       "          -0.04373022+0.00995175j, -0.04417085+0.00860814j,\n",
       "          -0.03612702+0.0066801j , -0.04085327+0.00715064j,\n",
       "          -0.04316802+0.00865209j, -0.04035072+0.00664616j,\n",
       "          -0.03820367+0.00549516j, -0.03788753+0.0063437j ,\n",
       "          -0.04372138+0.00300529j, -0.04270401+0.00789903j,\n",
       "          -0.04419421+0.00257307j, -0.04529695+0.00500938j,\n",
       "          -0.03719152+0.00442191j, -0.04561918+0.00299782j,\n",
       "          -0.04368044+0.00309481j, -0.04095042+0.00883289j,\n",
       "          -0.04433146+0.00270763j, -0.03665237+0.01226496j,\n",
       "          -0.04113992+0.00855285j, -0.03999054+0.00120436j,\n",
       "          -0.04467138+0.00812365j, -0.04367835+0.00289398j,\n",
       "          -0.04203465+0.00101844j, -0.04409031+0.00489007j,\n",
       "          -0.03282906+0.01226064j, -0.03620682+0.00666338j,\n",
       "          -0.03707858+0.005007j  , -0.0376645 +0.08110193j,\n",
       "          -0.03251856+0.0765975j ]),\n",
       "   'descriptor': <DataStreamDescriptor(num_dims=1, num_points=105)>}}}"
      ]
     },
     "execution_count": 20,
     "metadata": {},
     "output_type": "execute_result"
    }
   ],
   "source": [
    "auspex_data"
   ]
  },
  {
   "cell_type": "code",
   "execution_count": 21,
   "metadata": {
    "execution": {
     "iopub.execute_input": "2021-04-15T02:44:43.981157Z",
     "iopub.status.busy": "2021-04-15T02:44:43.980520Z",
     "iopub.status.idle": "2021-04-15T02:44:44.008967Z",
     "shell.execute_reply": "2021-04-15T02:44:44.009622Z"
    }
   },
   "outputs": [],
   "source": [
    "# You can be more specific with the data and group name if you'd like with the open_data function\n",
    "\n",
    "#data, desc, _ = open_data(0,'../../test/data/', groupname=\"q2-raw_int\", datasetname=\"data\", date = \"\")\n",
    "\n",
    "# you can also pass no arguments and select the data with a window (tested on MacOS)\n",
    "# data = open_data()"
   ]
  },
  {
   "cell_type": "code",
   "execution_count": 22,
   "metadata": {
    "execution": {
     "iopub.execute_input": "2021-04-15T02:44:44.019154Z",
     "iopub.status.busy": "2021-04-15T02:44:44.017914Z",
     "iopub.status.idle": "2021-04-15T02:44:44.021511Z",
     "shell.execute_reply": "2021-04-15T02:44:44.021976Z"
    }
   },
   "outputs": [
    {
     "data": {
      "text/plain": [
       "array([-0.03480155+0.07538876j, -0.0365286 +0.07124131j,\n",
       "       -0.0347432 +0.0652775j , -0.03676876+0.06965215j,\n",
       "       -0.03290481+0.06655533j, -0.03316881+0.05601843j,\n",
       "       -0.03321098+0.04771077j, -0.04027801+0.04940713j,\n",
       "       -0.03636705+0.04388169j, -0.03038527+0.04576108j,\n",
       "       -0.03787801+0.04439955j, -0.03236112+0.04230543j,\n",
       "       -0.04050779+0.04489688j, -0.03577601+0.03958429j,\n",
       "       -0.0406527 +0.03691186j, -0.04130238+0.03809405j,\n",
       "       -0.0371349 +0.03233574j, -0.04126542+0.02633132j,\n",
       "       -0.04183918+0.02636424j, -0.04314072+0.02570276j,\n",
       "       -0.03159363+0.03175351j, -0.03809416+0.02639723j,\n",
       "       -0.04292881+0.02568283j, -0.03711685+0.02149215j,\n",
       "       -0.03787809+0.03078357j, -0.03833073+0.0198887j ,\n",
       "       -0.03942336+0.02429585j, -0.03922277+0.01124447j,\n",
       "       -0.03651746+0.01885406j, -0.04246189+0.01818306j,\n",
       "       -0.04411308+0.02368582j, -0.03961586+0.01782727j,\n",
       "       -0.03935266+0.01531323j, -0.04433473+0.01292302j,\n",
       "       -0.04045838+0.0166872j , -0.04288147+0.01179237j,\n",
       "       -0.03893812+0.01322665j, -0.04580873+0.01976834j,\n",
       "       -0.0354858 +0.0188018j , -0.03558416+0.01550809j,\n",
       "       -0.04687808+0.01556531j, -0.03996974+0.01355006j,\n",
       "       -0.03573726+0.01741335j, -0.04397508+0.00931415j,\n",
       "       -0.04551779+0.01635065j, -0.04687501+0.00895975j,\n",
       "       -0.03458718+0.01311569j, -0.03841558+0.01047171j,\n",
       "       -0.04258917+0.00910061j, -0.03948617+0.01182697j,\n",
       "       -0.04467226+0.0072093j , -0.04309372+0.01434342j,\n",
       "       -0.04284658+0.00459964j, -0.04153653+0.01049169j,\n",
       "       -0.04557097+0.00650584j, -0.0404346 +0.00692518j,\n",
       "       -0.04371908+0.00722908j, -0.03640441+0.01235616j,\n",
       "       -0.03819477+0.00638416j, -0.03709298+0.00281938j,\n",
       "       -0.04418598+0.01067704j, -0.04196066+0.00994303j,\n",
       "       -0.04285414+0.01200638j, -0.04153651+0.01083936j,\n",
       "       -0.03820521+0.00259102j, -0.04466618+0.00507353j,\n",
       "       -0.03948722+0.00564439j, -0.03861988+0.01177545j,\n",
       "       -0.04082053+0.00552459j, -0.03926749+0.00880394j,\n",
       "       -0.03263902+0.00508089j, -0.03851758+0.00503399j,\n",
       "       -0.04512433+0.01480351j, -0.0382643 +0.00798813j,\n",
       "       -0.03633226+0.00958326j, -0.03884519+0.00265284j,\n",
       "       -0.04373022+0.00995175j, -0.04417085+0.00860814j,\n",
       "       -0.03612702+0.0066801j , -0.04085327+0.00715064j,\n",
       "       -0.04316802+0.00865209j, -0.04035072+0.00664616j,\n",
       "       -0.03820367+0.00549516j, -0.03788753+0.0063437j ,\n",
       "       -0.04372138+0.00300529j, -0.04270401+0.00789903j,\n",
       "       -0.04419421+0.00257307j, -0.04529695+0.00500938j,\n",
       "       -0.03719152+0.00442191j, -0.04561918+0.00299782j,\n",
       "       -0.04368044+0.00309481j, -0.04095042+0.00883289j,\n",
       "       -0.04433146+0.00270763j, -0.03665237+0.01226496j,\n",
       "       -0.04113992+0.00855285j, -0.03999054+0.00120436j,\n",
       "       -0.04467138+0.00812365j, -0.04367835+0.00289398j,\n",
       "       -0.04203465+0.00101844j, -0.04409031+0.00489007j,\n",
       "       -0.03282906+0.01226064j, -0.03620682+0.00666338j,\n",
       "       -0.03707858+0.005007j  , -0.0376645 +0.08110193j,\n",
       "       -0.03251856+0.0765975j ])"
      ]
     },
     "execution_count": 22,
     "metadata": {},
     "output_type": "execute_result"
    }
   ],
   "source": [
    "data"
   ]
  },
  {
   "cell_type": "code",
   "execution_count": 23,
   "metadata": {
    "execution": {
     "iopub.execute_input": "2021-04-15T02:44:44.025743Z",
     "iopub.status.busy": "2021-04-15T02:44:44.024784Z",
     "iopub.status.idle": "2021-04-15T02:44:44.027747Z",
     "shell.execute_reply": "2021-04-15T02:44:44.028120Z"
    }
   },
   "outputs": [],
   "source": [
    "# In some cases, you have a specific 'data' folder and all data is organized by date. In that case, you can use open data\n",
    "# in a way similar to:\n",
    "#\n",
    "# dat, desc, _ = open_data(25, '/Users/mware/IpythonNotebooks/explorations/Tomography/', groupname=\"q2-main\", datasetname=\"data\", date=\"200428\")\n",
    "#\n",
    "# where the the function looks for a folder named with the data and pulls out the '25' numbered dataset"
   ]
  },
  {
   "cell_type": "markdown",
   "metadata": {},
   "source": [
    "The `.dat` files themselves are binary packed memmaps.  They can be accessed amnually with `numpy.memmap`.  "
   ]
  },
  {
   "cell_type": "code",
   "execution_count": 24,
   "metadata": {
    "execution": {
     "iopub.execute_input": "2021-04-15T02:44:44.031775Z",
     "iopub.status.busy": "2021-04-15T02:44:44.031034Z",
     "iopub.status.idle": "2021-04-15T02:44:44.032666Z",
     "shell.execute_reply": "2021-04-15T02:44:44.033036Z"
    }
   },
   "outputs": [],
   "source": [
    "test_file = '../../test/data/test_data-0000.auspex/q2-raw_int/data.dat'"
   ]
  },
  {
   "cell_type": "code",
   "execution_count": 25,
   "metadata": {
    "execution": {
     "iopub.execute_input": "2021-04-15T02:44:44.050292Z",
     "iopub.status.busy": "2021-04-15T02:44:44.049387Z",
     "iopub.status.idle": "2021-04-15T02:44:44.051790Z",
     "shell.execute_reply": "2021-04-15T02:44:44.052329Z"
    }
   },
   "outputs": [],
   "source": [
    "test_data = np.memmap(test_file, dtype=complex, mode='r')"
   ]
  },
  {
   "cell_type": "code",
   "execution_count": 26,
   "metadata": {
    "execution": {
     "iopub.execute_input": "2021-04-15T02:44:44.059211Z",
     "iopub.status.busy": "2021-04-15T02:44:44.058321Z",
     "iopub.status.idle": "2021-04-15T02:44:44.061591Z",
     "shell.execute_reply": "2021-04-15T02:44:44.062023Z"
    }
   },
   "outputs": [
    {
     "data": {
      "text/plain": [
       "memmap([-0.03480155+0.07538876j, -0.0365286 +0.07124131j,\n",
       "        -0.0347432 +0.0652775j , -0.03676876+0.06965215j,\n",
       "        -0.03290481+0.06655533j, -0.03316881+0.05601843j,\n",
       "        -0.03321098+0.04771077j, -0.04027801+0.04940713j,\n",
       "        -0.03636705+0.04388169j, -0.03038527+0.04576108j,\n",
       "        -0.03787801+0.04439955j, -0.03236112+0.04230543j,\n",
       "        -0.04050779+0.04489688j, -0.03577601+0.03958429j,\n",
       "        -0.0406527 +0.03691186j, -0.04130238+0.03809405j,\n",
       "        -0.0371349 +0.03233574j, -0.04126542+0.02633132j,\n",
       "        -0.04183918+0.02636424j, -0.04314072+0.02570276j,\n",
       "        -0.03159363+0.03175351j, -0.03809416+0.02639723j,\n",
       "        -0.04292881+0.02568283j, -0.03711685+0.02149215j,\n",
       "        -0.03787809+0.03078357j, -0.03833073+0.0198887j ,\n",
       "        -0.03942336+0.02429585j, -0.03922277+0.01124447j,\n",
       "        -0.03651746+0.01885406j, -0.04246189+0.01818306j,\n",
       "        -0.04411308+0.02368582j, -0.03961586+0.01782727j,\n",
       "        -0.03935266+0.01531323j, -0.04433473+0.01292302j,\n",
       "        -0.04045838+0.0166872j , -0.04288147+0.01179237j,\n",
       "        -0.03893812+0.01322665j, -0.04580873+0.01976834j,\n",
       "        -0.0354858 +0.0188018j , -0.03558416+0.01550809j,\n",
       "        -0.04687808+0.01556531j, -0.03996974+0.01355006j,\n",
       "        -0.03573726+0.01741335j, -0.04397508+0.00931415j,\n",
       "        -0.04551779+0.01635065j, -0.04687501+0.00895975j,\n",
       "        -0.03458718+0.01311569j, -0.03841558+0.01047171j,\n",
       "        -0.04258917+0.00910061j, -0.03948617+0.01182697j,\n",
       "        -0.04467226+0.0072093j , -0.04309372+0.01434342j,\n",
       "        -0.04284658+0.00459964j, -0.04153653+0.01049169j,\n",
       "        -0.04557097+0.00650584j, -0.0404346 +0.00692518j,\n",
       "        -0.04371908+0.00722908j, -0.03640441+0.01235616j,\n",
       "        -0.03819477+0.00638416j, -0.03709298+0.00281938j,\n",
       "        -0.04418598+0.01067704j, -0.04196066+0.00994303j,\n",
       "        -0.04285414+0.01200638j, -0.04153651+0.01083936j,\n",
       "        -0.03820521+0.00259102j, -0.04466618+0.00507353j,\n",
       "        -0.03948722+0.00564439j, -0.03861988+0.01177545j,\n",
       "        -0.04082053+0.00552459j, -0.03926749+0.00880394j,\n",
       "        -0.03263902+0.00508089j, -0.03851758+0.00503399j,\n",
       "        -0.04512433+0.01480351j, -0.0382643 +0.00798813j,\n",
       "        -0.03633226+0.00958326j, -0.03884519+0.00265284j,\n",
       "        -0.04373022+0.00995175j, -0.04417085+0.00860814j,\n",
       "        -0.03612702+0.0066801j , -0.04085327+0.00715064j,\n",
       "        -0.04316802+0.00865209j, -0.04035072+0.00664616j,\n",
       "        -0.03820367+0.00549516j, -0.03788753+0.0063437j ,\n",
       "        -0.04372138+0.00300529j, -0.04270401+0.00789903j,\n",
       "        -0.04419421+0.00257307j, -0.04529695+0.00500938j,\n",
       "        -0.03719152+0.00442191j, -0.04561918+0.00299782j,\n",
       "        -0.04368044+0.00309481j, -0.04095042+0.00883289j,\n",
       "        -0.04433146+0.00270763j, -0.03665237+0.01226496j,\n",
       "        -0.04113992+0.00855285j, -0.03999054+0.00120436j,\n",
       "        -0.04467138+0.00812365j, -0.04367835+0.00289398j,\n",
       "        -0.04203465+0.00101844j, -0.04409031+0.00489007j,\n",
       "        -0.03282906+0.01226064j, -0.03620682+0.00666338j,\n",
       "        -0.03707858+0.005007j  , -0.0376645 +0.08110193j,\n",
       "        -0.03251856+0.0765975j ])"
      ]
     },
     "execution_count": 1,
     "metadata": {},
     "output_type": "execute_result"
    }
   ],
   "source": [
    "test_data"
   ]
  },
  {
   "cell_type": "code",
   "execution_count": 27,
   "metadata": {
    "execution": {
     "iopub.execute_input": "2021-04-15T02:44:44.066218Z",
     "iopub.status.busy": "2021-04-15T02:44:44.065543Z",
     "iopub.status.idle": "2021-04-15T02:44:44.067879Z",
     "shell.execute_reply": "2021-04-15T02:44:44.068306Z"
    }
   },
   "outputs": [
    {
     "data": {
      "text/plain": [
       "105"
      ]
     },
     "execution_count": 1,
     "metadata": {},
     "output_type": "execute_result"
    }
   ],
   "source": [
    "np.size(test_data)"
   ]
  },
  {
   "cell_type": "markdown",
   "metadata": {},
   "source": [
    "Anyone using `Auspex` should never have to work at this level.  This breakdown of the file structures is presented only for reference."
   ]
  },
  {
   "cell_type": "code",
   "execution_count": null,
   "metadata": {},
   "outputs": [],
   "source": []
  }
 ],
 "metadata": {
  "kernelspec": {
   "display_name": "Python 3",
   "language": "python",
   "name": "python3"
  },
  "language_info": {
   "codemirror_mode": {
    "name": "ipython",
    "version": 3
   },
   "file_extension": ".py",
   "mimetype": "text/x-python",
   "name": "python",
   "nbconvert_exporter": "python",
   "pygments_lexer": "ipython3",
   "version": "3.7.7"
  },
  "latex_envs": {
   "bibliofile": "biblio.bib",
   "cite_by": "apalike",
   "current_citInitial": 1,
   "eqLabelWithNumbers": true,
   "eqNumInitial": 0
  },
  "nav_menu": {},
  "toc": {
   "navigate_menu": true,
   "number_sections": true,
   "sideBar": true,
   "threshold": 6,
   "toc_cell": false,
   "toc_section_display": "block",
   "toc_window_display": false
  },
  "widgets": {
   "application/vnd.jupyter.widget-state+json": {
    "state": {
     "02c48e8a713644078b6d70b5c29325cb": {
      "model_module": "bqplot",
      "model_module_version": "^0.5.19",
      "model_name": "AxisModel",
      "state": {
       "_model_module": "bqplot",
       "_model_module_version": "^0.5.19",
       "_model_name": "AxisModel",
       "_view_count": null,
       "_view_module": "bqplot",
       "_view_module_version": "^0.5.19",
       "_view_name": "Axis",
       "color": null,
       "grid_color": null,
       "grid_lines": "solid",
       "label": "Time (ns)",
       "label_color": null,
       "label_location": "middle",
       "label_offset": null,
       "num_ticks": null,
       "offset": {},
       "orientation": "horizontal",
       "scale": "IPY_MODEL_26037837fc2b4b02b76eceb2e5d21131",
       "side": null,
       "tick_format": null,
       "tick_rotate": 0,
       "tick_style": {},
       "tick_values": null,
       "visible": true
      }
     },
     "0596a05169274df4bcf243975a7e2c27": {
      "model_module": "bqplot",
      "model_module_version": "^0.5.19",
      "model_name": "LinearScaleModel",
      "state": {
       "_model_module": "bqplot",
       "_model_module_version": "^0.5.19",
       "_model_name": "LinearScaleModel",
       "_view_count": null,
       "_view_module": "bqplot",
       "_view_module_version": "^0.5.19",
       "_view_name": "LinearScale",
       "allow_padding": true,
       "max": 7,
       "mid_range": 0.8,
       "min": -1,
       "min_range": 0.6,
       "reverse": false,
       "stabilized": false
      }
     },
     "1cb3ef397df4446fa7af5ae342f9fddd": {
      "model_module": "bqplot",
      "model_module_version": "^0.5.19",
      "model_name": "AxisModel",
      "state": {
       "_model_module": "bqplot",
       "_model_module_version": "^0.5.19",
       "_model_name": "AxisModel",
       "_view_count": null,
       "_view_module": "bqplot",
       "_view_module_version": "^0.5.19",
       "_view_name": "Axis",
       "color": null,
       "grid_color": null,
       "grid_lines": "solid",
       "label": "Amplitude",
       "label_color": null,
       "label_location": "middle",
       "label_offset": null,
       "num_ticks": null,
       "offset": {},
       "orientation": "vertical",
       "scale": "IPY_MODEL_0596a05169274df4bcf243975a7e2c27",
       "side": null,
       "tick_format": null,
       "tick_rotate": 0,
       "tick_style": {},
       "tick_values": null,
       "visible": true
      }
     },
     "239cc36888b3414b99c0bd55c3280c0f": {
      "model_module": "bqplot",
      "model_module_version": "^0.5.19",
      "model_name": "LinearScaleModel",
      "state": {
       "_model_module": "bqplot",
       "_model_module_version": "^0.5.19",
       "_model_name": "LinearScaleModel",
       "_view_count": null,
       "_view_module": "bqplot",
       "_view_module_version": "^0.5.19",
       "_view_name": "LinearScale",
       "allow_padding": false,
       "max": 1,
       "mid_range": 0.8,
       "min": 0,
       "min_range": 0.6,
       "reverse": false,
       "stabilized": false
      }
     },
     "26037837fc2b4b02b76eceb2e5d21131": {
      "model_module": "bqplot",
      "model_module_version": "^0.5.19",
      "model_name": "LinearScaleModel",
      "state": {
       "_model_module": "bqplot",
       "_model_module_version": "^0.5.19",
       "_model_name": "LinearScaleModel",
       "_view_count": null,
       "_view_module": "bqplot",
       "_view_module_version": "^0.5.19",
       "_view_name": "LinearScale",
       "allow_padding": true,
       "max": null,
       "mid_range": 0.8,
       "min": null,
       "min_range": 0.6,
       "reverse": false,
       "stabilized": false
      }
     },
     "29feca96bbaa478391a80212b8863b32": {
      "model_module": "@jupyter-widgets/controls",
      "model_module_version": "1.5.0",
      "model_name": "VBoxModel",
      "state": {
       "_dom_classes": [],
       "_model_module": "@jupyter-widgets/controls",
       "_model_module_version": "1.5.0",
       "_model_name": "VBoxModel",
       "_view_count": null,
       "_view_module": "@jupyter-widgets/controls",
       "_view_module_version": "1.5.0",
       "_view_name": "VBoxView",
       "box_style": "",
       "children": [
        "IPY_MODEL_efe0abd0c9f747ea9d2175a5b202dc7c",
        "IPY_MODEL_e9fa7a538f68463e8b50e948a3bb8819"
       ],
       "layout": "IPY_MODEL_f113e450d3e64255808b3194e167db0c"
      }
     },
     "36b0cb5cd8b24fa2b951aa725e213f54": {
      "model_module": "bqplot",
      "model_module_version": "^0.5.19",
      "model_name": "TooltipModel",
      "state": {
       "_dom_classes": [],
       "_model_module": "bqplot",
       "_model_module_version": "^0.5.19",
       "_model_name": "TooltipModel",
       "_view_count": null,
       "_view_module": "bqplot",
       "_view_module_version": "^0.5.19",
       "_view_name": "Tooltip",
       "fields": [
        "name"
       ],
       "formats": [],
       "labels": [
        "Channel"
       ],
       "layout": "IPY_MODEL_e7b29a68822a4579be31233d33ab8a02",
       "show_labels": true
      }
     },
     "39aee14e8a45441ca34ea373c058c578": {
      "buffers": [
       {
        "data": "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",
        "encoding": "base64",
        "path": [
         "x",
         "value"
        ]
       },
       {
        "data": "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",
        "encoding": "base64",
        "path": [
         "y",
         "value"
        ]
       }
      ],
      "model_module": "bqplot",
      "model_module_version": "^0.5.19",
      "model_name": "LinesModel",
      "state": {
       "_model_module": "bqplot",
       "_model_module_version": "^0.5.19",
       "_model_name": "LinesModel",
       "_view_count": null,
       "_view_module": "bqplot",
       "_view_module_version": "^0.5.19",
       "_view_name": "Lines",
       "apply_clip": true,
       "close_path": false,
       "color": null,
       "colors": [
        "#1f77b4"
       ],
       "curves_subset": [],
       "display_legend": false,
       "enable_hover": true,
       "fill": "none",
       "fill_colors": [],
       "fill_opacities": [],
       "interactions": {
        "hover": "tooltip"
       },
       "interpolation": "linear",
       "labels": [
        "Maxwell_U2_ch1"
       ],
       "labels_visibility": "none",
       "line_style": "solid",
       "marker": null,
       "marker_size": 64,
       "opacities": [],
       "preserve_domain": {},
       "scales": {
        "x": "IPY_MODEL_26037837fc2b4b02b76eceb2e5d21131",
        "y": "IPY_MODEL_0596a05169274df4bcf243975a7e2c27"
       },
       "scales_metadata": {
        "color": {
         "dimension": "color"
        },
        "x": {
         "dimension": "x",
         "orientation": "horizontal"
        },
        "y": {
         "dimension": "y",
         "orientation": "vertical"
        }
       },
       "selected": null,
       "selected_style": {},
       "stroke_width": 2,
       "tooltip": "IPY_MODEL_36b0cb5cd8b24fa2b951aa725e213f54",
       "tooltip_location": "mouse",
       "tooltip_style": {
        "opacity": 0.9
       },
       "unselected_style": {},
       "visible": true,
       "x": {
        "dtype": "float64",
        "shape": [
         246
        ],
        "type": null,
        "value": {}
       },
       "y": {
        "dtype": "float64",
        "shape": [
         246
        ],
        "type": null,
        "value": {}
       }
      }
     },
     "45002632a6234e36a21a288bd856229d": {
      "model_module": "@jupyter-widgets/base",
      "model_module_version": "1.2.0",
      "model_name": "LayoutModel",
      "state": {
       "_model_module": "@jupyter-widgets/base",
       "_model_module_version": "1.2.0",
       "_model_name": "LayoutModel",
       "_view_count": null,
       "_view_module": "@jupyter-widgets/base",
       "_view_module_version": "1.2.0",
       "_view_name": "LayoutView",
       "align_content": null,
       "align_items": null,
       "align_self": null,
       "border": null,
       "bottom": null,
       "display": null,
       "flex": null,
       "flex_flow": null,
       "grid_area": null,
       "grid_auto_columns": null,
       "grid_auto_flow": null,
       "grid_auto_rows": null,
       "grid_column": null,
       "grid_gap": null,
       "grid_row": null,
       "grid_template_areas": null,
       "grid_template_columns": null,
       "grid_template_rows": null,
       "height": null,
       "justify_content": null,
       "justify_items": null,
       "left": null,
       "margin": null,
       "max_height": null,
       "max_width": null,
       "min_height": null,
       "min_width": null,
       "object_fit": null,
       "object_position": null,
       "order": null,
       "overflow": null,
       "overflow_x": null,
       "overflow_y": null,
       "padding": null,
       "right": null,
       "top": null,
       "visibility": null,
       "width": null
      }
     },
     "78023406cfb64c8d960c209c4996ada0": {
      "model_module": "@jupyter-widgets/base",
      "model_module_version": "1.2.0",
      "model_name": "LayoutModel",
      "state": {
       "_model_module": "@jupyter-widgets/base",
       "_model_module_version": "1.2.0",
       "_model_name": "LayoutModel",
       "_view_count": null,
       "_view_module": "@jupyter-widgets/base",
       "_view_module_version": "1.2.0",
       "_view_name": "LayoutView",
       "align_content": null,
       "align_items": null,
       "align_self": null,
       "border": null,
       "bottom": null,
       "display": null,
       "flex": null,
       "flex_flow": null,
       "grid_area": null,
       "grid_auto_columns": null,
       "grid_auto_flow": null,
       "grid_auto_rows": null,
       "grid_column": null,
       "grid_gap": null,
       "grid_row": null,
       "grid_template_areas": null,
       "grid_template_columns": null,
       "grid_template_rows": null,
       "height": null,
       "justify_content": null,
       "justify_items": null,
       "left": null,
       "margin": null,
       "max_height": null,
       "max_width": null,
       "min_height": null,
       "min_width": null,
       "object_fit": null,
       "object_position": null,
       "order": null,
       "overflow": null,
       "overflow_x": null,
       "overflow_y": null,
       "padding": null,
       "right": null,
       "top": null,
       "visibility": null,
       "width": null
      }
     },
     "86d8bb35beae4eec9b2e2229de3835ec": {
      "model_module": "bqplot",
      "model_module_version": "^0.5.19",
      "model_name": "LinearScaleModel",
      "state": {
       "_model_module": "bqplot",
       "_model_module_version": "^0.5.19",
       "_model_name": "LinearScaleModel",
       "_view_count": null,
       "_view_module": "bqplot",
       "_view_module_version": "^0.5.19",
       "_view_name": "LinearScale",
       "allow_padding": false,
       "max": 1,
       "mid_range": 0.8,
       "min": 0,
       "min_range": 0.6,
       "reverse": false,
       "stabilized": false
      }
     },
     "a775ab3ebbfd47c98bb959573bbc2f4f": {
      "buffers": [
       {
        "data": "AAAAAAAAAAABAAAAAABOQAEAAAAAAE5AAAAAAAAAZEA=",
        "encoding": "base64",
        "path": [
         "x",
         "value"
        ]
       },
       {
        "data": "AgAAAAIAAAADAAAAAwAAAA==",
        "encoding": "base64",
        "path": [
         "y",
         "value"
        ]
       }
      ],
      "model_module": "bqplot",
      "model_module_version": "^0.5.19",
      "model_name": "LinesModel",
      "state": {
       "_model_module": "bqplot",
       "_model_module_version": "^0.5.19",
       "_model_name": "LinesModel",
       "_view_count": null,
       "_view_module": "bqplot",
       "_view_module_version": "^0.5.19",
       "_view_name": "Lines",
       "apply_clip": true,
       "close_path": false,
       "color": null,
       "colors": [
        "#ff7f0e"
       ],
       "curves_subset": [],
       "display_legend": false,
       "enable_hover": true,
       "fill": "none",
       "fill_colors": [],
       "fill_opacities": [],
       "interactions": {
        "hover": "tooltip"
       },
       "interpolation": "linear",
       "labels": [
        "Maxwell_U2_m2"
       ],
       "labels_visibility": "none",
       "line_style": "solid",
       "marker": null,
       "marker_size": 64,
       "opacities": [],
       "preserve_domain": {},
       "scales": {
        "x": "IPY_MODEL_26037837fc2b4b02b76eceb2e5d21131",
        "y": "IPY_MODEL_0596a05169274df4bcf243975a7e2c27"
       },
       "scales_metadata": {
        "color": {
         "dimension": "color"
        },
        "x": {
         "dimension": "x",
         "orientation": "horizontal"
        },
        "y": {
         "dimension": "y",
         "orientation": "vertical"
        }
       },
       "selected": null,
       "selected_style": {},
       "stroke_width": 2,
       "tooltip": "IPY_MODEL_36b0cb5cd8b24fa2b951aa725e213f54",
       "tooltip_location": "mouse",
       "tooltip_style": {
        "opacity": 0.9
       },
       "unselected_style": {},
       "visible": true,
       "x": {
        "dtype": "float64",
        "shape": [
         4
        ],
        "type": null,
        "value": {}
       },
       "y": {
        "dtype": "int32",
        "shape": [
         4
        ],
        "type": null,
        "value": {}
       }
      }
     },
     "ce15e35091d94fed8d9189125eb2d9cb": {
      "buffers": [
       {
        "data": "AAAAAAAAAACrqqqqqqrqP6uqqqqqquo/q6qqqqqq+j+rqqqqqqr6PwAAAAAAAARAAAAAAAAABECrqqqqqqoKQKuqqqqqqgpAq6qqqqqqEECrqqqqqqoQQAAAAAAAABRAAAAAAAAAFEBVVVVVVVUXQFVVVVVVVRdAq6qqqqqqGkCrqqqqqqoaQAEAAAAAAB5AAQAAAAAAHkCrqqqqqqogQKuqqqqqqiBAVVVVVVVVIkBVVVVVVVUiQAAAAAAAACRAAAAAAAAAJECrqqqqqqolQKuqqqqqqiVAVVVVVVVVJ0BVVVVVVVUnQAAAAAAAAClAAAAAAAAAKUCrqqqqqqoqQKuqqqqqqipAVlVVVVVVLEBWVVVVVVUsQAEAAAAAAC5AAQAAAAAALkCqqqqqqqovQKqqqqqqqi9Aq6qqqqqqMECrqqqqqqowQAAAAAAAgDFAAAAAAACAMUBVVVVVVVUyQFVVVVVVVTJAq6qqqqoqM0CrqqqqqiozQAAAAAAAADRAAAAAAAAANEBWVVVVVdU0QFZVVVVV1TRAq6qqqqqqNUCrqqqqqqo1QAAAAAAAgDZAAAAAAACANkBVVVVVVVU3QFVVVVVVVTdAq6qqqqoqOECrqqqqqio4QAAAAAAAADlAAAAAAAAAOUBVVVVVVdU5QFVVVVVV1TlAq6qqqqqqOkCrqqqqqqo6QAAAAAAAgDtAAAAAAACAO0BWVVVVVVU8QFZVVVVVVTxAq6qqqqoqPUCrqqqqqio9QAEAAAAAAD5AAQAAAAAAPkBVVVVVVdU+QFVVVVVV1T5AqqqqqqqqP0Cqqqqqqqo/QAAAAAAAQEBAAAAAAABAQECrqqqqqqpAQKuqqqqqqkBAVlVVVVUVQUBWVVVVVRVBQAAAAAAAgEFAAAAAAACAQUCrqqqqqupBQKuqqqqq6kFAVVVVVVVVQkBVVVVVVVVCQAAAAAAAwEJAAAAAAADAQkCrqqqqqipDQKuqqqqqKkNAVVVVVVWVQ0BVVVVVVZVDQAAAAAAAAERAAAAAAAAARECrqqqqqmpEQKuqqqqqakRAVlVVVVXVREBWVVVVVdVEQAAAAAAAQEVAAAAAAABARUCrqqqqqqpFQKuqqqqqqkVAVVVVVVUVRkBVVVVVVRVGQAAAAAAAgEZAAAAAAACARkCrqqqqqupGQKuqqqqq6kZAVVVVVVVVR0BVVVVVVVVHQAAAAAAAwEdAAAAAAADAR0CrqqqqqipIQKuqqqqqKkhAVlVVVVWVSEBWVVVVVZVIQAAAAAAAAElAAAAAAAAASUCqqqqqqmpJQKqqqqqqaklAVVVVVVXVSUBVVVVVVdVJQAAAAAAAQEpAAAAAAABASkCrqqqqqqpKQKuqqqqqqkpAVlVVVVUVS0BWVVVVVRVLQAAAAAAAgEtAAAAAAACAS0CrqqqqqupLQKuqqqqq6ktAVlVVVVVVTEBWVVVVVVVMQAAAAAAAwExAAAAAAADATECrqqqqqipNQKuqqqqqKk1AVVVVVVWVTUBVVVVVVZVNQAEAAAAAAE5AAQAAAAAATkAAAAAAAABkQA==",
        "encoding": "base64",
        "path": [
         "x",
         "value"
        ]
       },
       {
        "data": "XaALdIEuEEBdoAt0gS4QQNa4GlfjahBA1rgaV+NqEEBtkS2yRbYQQG2RLbJFthBAISJEhIgQEUAhIkSEiBARQPESXsJLeBFA8RJewkt4EUDUi3pRL+oRQNSLelEv6hFAwjyYB/NgEkDCPJgH82ASQKttta221RJAq221rbbVEkCCLtAFukATQIIu0AW6QBNANH/mz/yZE0A0f+bP/JkTQLSH9tAe2hNAtIf20B7aE0D35/7cn/sTQPfn/tyf+xNA9+f+3J/7E0D35/7cn/sTQLSH9tAe2hNAtIf20B7aE0A0f+bP/JkTQDR/5s/8mRNAgi7QBbpAE0CCLtAFukATQKttta221RJAq221rbbVEkDCPJgH82ASQMI8mAfzYBJA1It6US/qEUDUi3pRL+oRQPESXsJLeBFA8RJewkt4EUAhIkSEiBARQCEiRISIEBFAbZEtskW2EEBtkS2yRbYQQNa4GlfjahBA1rgaV+NqEEBdoAt0gS4QQF2gC3SBLhBAAAAAAAAAEEAAAAAAAAAQQAAAAAAAABBAAAAAAAAAEED9//////8PQP3//////w9ABAAAAAAAEEAEAAAAAAAQQAMAAAAAABBAAwAAAAAAEEABAAAAAAAQQAEAAAAAABBADwAAAAAAEEAPAAAAAAAQQA0AAAAAABBADQAAAAAAEEAIAAAAAAAQQAgAAAAAABBAAgAAAAAAEEACAAAAAAAQQPX//////w9A9f//////D0ATAAAAAAAQQBMAAAAAABBACwAAAAAAEEALAAAAAAAQQMn//////w9Ayf//////D0D4//////8PQPj//////w9AEAAAAAAAEEAQAAAAAAAQQB8AAAAAABBAHwAAAAAAEEApAAAAAAAQQCkAAAAAABBA3v//////D0De//////8PQPj//////w9A+P//////D0AEAAAAAAAQQAQAAAAAABBABwAAAAAAEEAHAAAAAAAQQAYAAAAAABBABgAAAAAAEED8//////8PQPz//////w9AXaALdIEuEEBdoAt0gS4QQNa4GlfjahBA1rgaV+NqEEBtkS2yRbYQQG2RLbJFthBAISJEhIgQEUAhIkSEiBARQPESXsJLeBFA8RJewkt4EUDUi3pRL+oRQNSLelEv6hFAwjyYB/NgEkDCPJgH82ASQKttta221RJAq221rbbVEkCCLtAFukATQIIu0AW6QBNANH/mz/yZE0A0f+bP/JkTQLSH9tAe2hNAtIf20B7aE0D35/7cn/sTQPfn/tyf+xNA9+f+3J/7E0D35/7cn/sTQLSH9tAe2hNAtIf20B7aE0A0f+bP/JkTQDR/5s/8mRNAgi7QBbpAE0CCLtAFukATQKttta221RJAq221rbbVEkDCPJgH82ASQMI8mAfzYBJA1It6US/qEUDUi3pRL+oRQPESXsJLeBFA8RJewkt4EUAhIkSEiBARQCEiRISIEBFAbZEtskW2EEBtkS2yRbYQQNa4GlfjahBA1rgaV+NqEEBdoAt0gS4QQF2gC3SBLhBAAAAAAAAAEEAAAAAAAAAQQA==",
        "encoding": "base64",
        "path": [
         "y",
         "value"
        ]
       }
      ],
      "model_module": "bqplot",
      "model_module_version": "^0.5.19",
      "model_name": "LinesModel",
      "state": {
       "_model_module": "bqplot",
       "_model_module_version": "^0.5.19",
       "_model_name": "LinesModel",
       "_view_count": null,
       "_view_module": "bqplot",
       "_view_module_version": "^0.5.19",
       "_view_name": "Lines",
       "apply_clip": true,
       "close_path": false,
       "color": null,
       "colors": [
        "#2ca02c"
       ],
       "curves_subset": [],
       "display_legend": false,
       "enable_hover": true,
       "fill": "none",
       "fill_colors": [],
       "fill_opacities": [],
       "interactions": {
        "hover": "tooltip"
       },
       "interpolation": "linear",
       "labels": [
        "Maxwell_U4_ch1"
       ],
       "labels_visibility": "none",
       "line_style": "solid",
       "marker": null,
       "marker_size": 64,
       "opacities": [],
       "preserve_domain": {},
       "scales": {
        "x": "IPY_MODEL_26037837fc2b4b02b76eceb2e5d21131",
        "y": "IPY_MODEL_0596a05169274df4bcf243975a7e2c27"
       },
       "scales_metadata": {
        "color": {
         "dimension": "color"
        },
        "x": {
         "dimension": "x",
         "orientation": "horizontal"
        },
        "y": {
         "dimension": "y",
         "orientation": "vertical"
        }
       },
       "selected": null,
       "selected_style": {},
       "stroke_width": 2,
       "tooltip": "IPY_MODEL_36b0cb5cd8b24fa2b951aa725e213f54",
       "tooltip_location": "mouse",
       "tooltip_style": {
        "opacity": 0.9
       },
       "unselected_style": {},
       "visible": true,
       "x": {
        "dtype": "float64",
        "shape": [
         146
        ],
        "type": null,
        "value": {}
       },
       "y": {
        "dtype": "float64",
        "shape": [
         146
        ],
        "type": null,
        "value": {}
       }
      }
     },
     "cfc99f2511ce4fd2bf27447eb17a2b02": {
      "model_module": "@jupyter-widgets/controls",
      "model_module_version": "1.5.0",
      "model_name": "SliderStyleModel",
      "state": {
       "_model_module": "@jupyter-widgets/controls",
       "_model_module_version": "1.5.0",
       "_model_name": "SliderStyleModel",
       "_view_count": null,
       "_view_module": "@jupyter-widgets/base",
       "_view_module_version": "1.2.0",
       "_view_name": "StyleView",
       "description_width": "",
       "handle_color": null
      }
     },
     "e7b29a68822a4579be31233d33ab8a02": {
      "model_module": "@jupyter-widgets/base",
      "model_module_version": "1.2.0",
      "model_name": "LayoutModel",
      "state": {
       "_model_module": "@jupyter-widgets/base",
       "_model_module_version": "1.2.0",
       "_model_name": "LayoutModel",
       "_view_count": null,
       "_view_module": "@jupyter-widgets/base",
       "_view_module_version": "1.2.0",
       "_view_name": "LayoutView",
       "align_content": null,
       "align_items": null,
       "align_self": null,
       "border": null,
       "bottom": null,
       "display": null,
       "flex": null,
       "flex_flow": null,
       "grid_area": null,
       "grid_auto_columns": null,
       "grid_auto_flow": null,
       "grid_auto_rows": null,
       "grid_column": null,
       "grid_gap": null,
       "grid_row": null,
       "grid_template_areas": null,
       "grid_template_columns": null,
       "grid_template_rows": null,
       "height": null,
       "justify_content": null,
       "justify_items": null,
       "left": null,
       "margin": null,
       "max_height": null,
       "max_width": null,
       "min_height": null,
       "min_width": null,
       "object_fit": null,
       "object_position": null,
       "order": null,
       "overflow": null,
       "overflow_x": null,
       "overflow_y": null,
       "padding": null,
       "right": null,
       "top": null,
       "visibility": null,
       "width": null
      }
     },
     "e7e7eed928194fdda7cfaaaaf2dd4bd3": {
      "buffers": [
       {
        "data": "AAAAAAAAAACrqqqqqqrqP6uqqqqqquo/q6qqqqqq+j+rqqqqqqr6PwAAAAAAAARAAAAAAAAABECrqqqqqqoKQKuqqqqqqgpAq6qqqqqqEECrqqqqqqoQQAAAAAAAABRAAAAAAAAAFEBVVVVVVVUXQFVVVVVVVRdAq6qqqqqqGkCrqqqqqqoaQAEAAAAAAB5AAQAAAAAAHkCrqqqqqqogQKuqqqqqqiBAVVVVVVVVIkBVVVVVVVUiQAAAAAAAACRAAAAAAAAAJECrqqqqqqolQKuqqqqqqiVAVVVVVVVVJ0BVVVVVVVUnQAAAAAAAAClAAAAAAAAAKUCrqqqqqqoqQKuqqqqqqipAVlVVVVVVLEBWVVVVVVUsQAEAAAAAAC5AAQAAAAAALkCqqqqqqqovQKqqqqqqqi9Aq6qqqqqqMECrqqqqqqowQAAAAAAAgDFAAAAAAACAMUBVVVVVVVUyQFVVVVVVVTJAq6qqqqoqM0CrqqqqqiozQAAAAAAAADRAAAAAAAAANEBWVVVVVdU0QFZVVVVV1TRAq6qqqqqqNUCrqqqqqqo1QAAAAAAAgDZAAAAAAACANkBVVVVVVVU3QFVVVVVVVTdAq6qqqqoqOECrqqqqqio4QAAAAAAAADlAAAAAAAAAOUBVVVVVVdU5QFVVVVVV1TlAq6qqqqqqOkCrqqqqqqo6QAAAAAAAgDtAAAAAAACAO0BWVVVVVVU8QFZVVVVVVTxAq6qqqqoqPUCrqqqqqio9QAEAAAAAAD5AAQAAAAAAPkBVVVVVVdU+QFVVVVVV1T5AqqqqqqqqP0Cqqqqqqqo/QAAAAAAAQEBAAAAAAABAQECrqqqqqqpAQKuqqqqqqkBAVlVVVVUVQUBWVVVVVRVBQAAAAAAAgEFAAAAAAACAQUCrqqqqqupBQKuqqqqq6kFAVVVVVVVVQkBVVVVVVVVCQAAAAAAAwEJAAAAAAADAQkCrqqqqqipDQKuqqqqqKkNAVVVVVVWVQ0BVVVVVVZVDQAAAAAAAAERAAAAAAAAARECrqqqqqmpEQKuqqqqqakRAVlVVVVXVREBWVVVVVdVEQAAAAAAAQEVAAAAAAABARUCrqqqqqqpFQKuqqqqqqkVAVVVVVVUVRkBVVVVVVRVGQAAAAAAAgEZAAAAAAACARkCrqqqqqupGQKuqqqqq6kZAVVVVVVVVR0BVVVVVVVVHQAAAAAAAwEdAAAAAAADAR0CrqqqqqipIQKuqqqqqKkhAVlVVVVWVSEBWVVVVVZVIQAAAAAAAAElAAAAAAAAASUCqqqqqqmpJQKqqqqqqaklAVVVVVVXVSUBVVVVVVdVJQAAAAAAAQEpAAAAAAABASkCrqqqqqqpKQKuqqqqqqkpAVlVVVVUVS0BWVVVVVRVLQAAAAAAAgEtAAAAAAACAS0CrqqqqqupLQKuqqqqq6ktAVlVVVVVVTEBWVVVVVVVMQAAAAAAAwExAAAAAAADATECrqqqqqipNQKuqqqqqKk1AVVVVVVWVTUBVVVVVVZVNQAEAAAAAAE5AAQAAAAAATkAAAAAAAABkQA==",
        "encoding": "base64",
        "path": [
         "x",
         "value"
        ]
       },
       {
        "data": "AAAAAAAAGEAAAAAAAAAYQAAAAAAAABhAAAAAAAAAGEAAAAAAAAAYQAAAAAAAABhA////////F0D///////8XQP///////xdA////////F0D///////8XQP///////xdA/v//////F0D+//////8XQPj//////xdA+P//////F0D9//////8XQP3//////xdABAAAAAAAGEAEAAAAAAAYQPz//////xdA/P//////F0D0//////8XQPT//////xdA/P//////F0D8//////8XQAMAAAAAABhAAwAAAAAAGED8//////8XQPz//////xdA9f//////F0D1//////8XQPz//////xdA/P//////F0ABAAAAAAAYQAEAAAAAABhA9f//////F0D1//////8XQPv//////xdA+///////F0D+//////8XQP7//////xdAAAAAAAAAGEAAAAAAAAAYQP7//////xdA/v//////F0D///////8XQP///////xdAXaALdIEuGEBdoAt0gS4YQNa4GlfjahhA1rgaV+NqGEBtkS2yRbYYQG2RLbJFthhAISJEhIgQGUAhIkSEiBAZQPESXsJLeBlA8RJewkt4GUDUi3pRL+oZQNSLelEv6hlAwjyYB/NgGkDCPJgH82AaQKttta221RpAq221rbbVGkCCLtAFukAbQIIu0AW6QBtANH/mz/yZG0A0f+bP/JkbQLSH9tAe2htAtIf20B7aG0D35/7cn/sbQPfn/tyf+xtA9+f+3J/7G0D35/7cn/sbQLSH9tAe2htAtIf20B7aG0A0f+bP/JkbQDR/5s/8mRtAgi7QBbpAG0CCLtAFukAbQKttta221RpAq221rbbVGkDCPJgH82AaQMI8mAfzYBpA1It6US/qGUDUi3pRL+oZQPESXsJLeBlA8RJewkt4GUAhIkSEiBAZQCEiRISIEBlAbZEtskW2GEBtkS2yRbYYQNa4GlfjahhA1rgaV+NqGEBdoAt0gS4YQF2gC3SBLhhAAQAAAAAAGEABAAAAAAAYQP///////xdA////////F0AGAAAAAAAYQAYAAAAAABhAAgAAAAAAGEACAAAAAAAYQBIAAAAAABhAEgAAAAAAGEAMAAAAAAAYQAwAAAAAABhAAAAAAAAAGEAAAAAAAAAYQBwAAAAAABhAHAAAAAAAGEANAAAAAAAYQA0AAAAAABhA+P//////F0D4//////8XQB4AAAAAABhAHgAAAAAAGEAHAAAAAAAYQAcAAAAAABhA7v//////F0Du//////8XQBUAAAAAABhAFQAAAAAAGED+//////8XQP7//////xdAHwAAAAAAGEAfAAAAAAAYQAkAAAAAABhACQAAAAAAGED5//////8XQPn//////xdADgAAAAAAGEAOAAAAAAAYQAIAAAAAABhAAgAAAAAAGEAMAAAAAAAYQAwAAAAAABhABAAAAAAAGEAEAAAAAAAYQAAAAAAAABhAAAAAAAAAGED///////8XQP///////xdAAAAAAAAAGEAAAAAAAAAYQA==",
        "encoding": "base64",
        "path": [
         "y",
         "value"
        ]
       }
      ],
      "model_module": "bqplot",
      "model_module_version": "^0.5.19",
      "model_name": "LinesModel",
      "state": {
       "_model_module": "bqplot",
       "_model_module_version": "^0.5.19",
       "_model_name": "LinesModel",
       "_view_count": null,
       "_view_module": "bqplot",
       "_view_module_version": "^0.5.19",
       "_view_name": "Lines",
       "apply_clip": true,
       "close_path": false,
       "color": null,
       "colors": [
        "#d62728"
       ],
       "curves_subset": [],
       "display_legend": false,
       "enable_hover": true,
       "fill": "none",
       "fill_colors": [],
       "fill_opacities": [],
       "interactions": {
        "hover": "tooltip"
       },
       "interpolation": "linear",
       "labels": [
        "Maxwell_U4_ch2"
       ],
       "labels_visibility": "none",
       "line_style": "solid",
       "marker": null,
       "marker_size": 64,
       "opacities": [],
       "preserve_domain": {},
       "scales": {
        "x": "IPY_MODEL_26037837fc2b4b02b76eceb2e5d21131",
        "y": "IPY_MODEL_0596a05169274df4bcf243975a7e2c27"
       },
       "scales_metadata": {
        "color": {
         "dimension": "color"
        },
        "x": {
         "dimension": "x",
         "orientation": "horizontal"
        },
        "y": {
         "dimension": "y",
         "orientation": "vertical"
        }
       },
       "selected": null,
       "selected_style": {},
       "stroke_width": 2,
       "tooltip": "IPY_MODEL_36b0cb5cd8b24fa2b951aa725e213f54",
       "tooltip_location": "mouse",
       "tooltip_style": {
        "opacity": 0.9
       },
       "unselected_style": {},
       "visible": true,
       "x": {
        "dtype": "float64",
        "shape": [
         146
        ],
        "type": null,
        "value": {}
       },
       "y": {
        "dtype": "float64",
        "shape": [
         146
        ],
        "type": null,
        "value": {}
       }
      }
     },
     "e9fa7a538f68463e8b50e948a3bb8819": {
      "model_module": "bqplot",
      "model_module_version": "^0.5.19",
      "model_name": "FigureModel",
      "state": {
       "_dom_classes": [],
       "_model_module": "bqplot",
       "_model_module_version": "^0.5.19",
       "_model_name": "FigureModel",
       "_view_count": null,
       "_view_module": "bqplot",
       "_view_module_version": "^0.5.19",
       "_view_name": "Figure",
       "animation_duration": 50,
       "axes": [
        "IPY_MODEL_02c48e8a713644078b6d70b5c29325cb",
        "IPY_MODEL_1cb3ef397df4446fa7af5ae342f9fddd"
       ],
       "background_style": {},
       "fig_margin": {
        "bottom": 60,
        "left": 60,
        "right": 60,
        "top": 60
       },
       "interaction": null,
       "layout": "IPY_MODEL_45002632a6234e36a21a288bd856229d",
       "legend_location": "top-right",
       "legend_style": {},
       "legend_text": {},
       "marks": [
        "IPY_MODEL_39aee14e8a45441ca34ea373c058c578",
        "IPY_MODEL_a775ab3ebbfd47c98bb959573bbc2f4f",
        "IPY_MODEL_ce15e35091d94fed8d9189125eb2d9cb",
        "IPY_MODEL_e7e7eed928194fdda7cfaaaaf2dd4bd3"
       ],
       "max_aspect_ratio": 100,
       "min_aspect_ratio": 0.01,
       "padding_x": 0,
       "padding_y": 0.025,
       "pixel_ratio": null,
       "scale_x": "IPY_MODEL_239cc36888b3414b99c0bd55c3280c0f",
       "scale_y": "IPY_MODEL_86d8bb35beae4eec9b2e2229de3835ec",
       "theme": "classic",
       "title": "Waveform Plotter",
       "title_style": {}
      }
     },
     "efe0abd0c9f747ea9d2175a5b202dc7c": {
      "model_module": "@jupyter-widgets/controls",
      "model_module_version": "1.5.0",
      "model_name": "IntSliderModel",
      "state": {
       "_dom_classes": [],
       "_model_module": "@jupyter-widgets/controls",
       "_model_module_version": "1.5.0",
       "_model_name": "IntSliderModel",
       "_view_count": null,
       "_view_module": "@jupyter-widgets/controls",
       "_view_module_version": "1.5.0",
       "_view_name": "IntSliderView",
       "continuous_update": true,
       "description": "Segment",
       "description_tooltip": null,
       "disabled": false,
       "layout": "IPY_MODEL_78023406cfb64c8d960c209c4996ada0",
       "max": 1,
       "min": 1,
       "orientation": "horizontal",
       "readout": true,
       "readout_format": "d",
       "step": 1,
       "style": "IPY_MODEL_cfc99f2511ce4fd2bf27447eb17a2b02",
       "value": 1
      }
     },
     "f113e450d3e64255808b3194e167db0c": {
      "model_module": "@jupyter-widgets/base",
      "model_module_version": "1.2.0",
      "model_name": "LayoutModel",
      "state": {
       "_model_module": "@jupyter-widgets/base",
       "_model_module_version": "1.2.0",
       "_model_name": "LayoutModel",
       "_view_count": null,
       "_view_module": "@jupyter-widgets/base",
       "_view_module_version": "1.2.0",
       "_view_name": "LayoutView",
       "align_content": null,
       "align_items": null,
       "align_self": null,
       "border": null,
       "bottom": null,
       "display": null,
       "flex": null,
       "flex_flow": null,
       "grid_area": null,
       "grid_auto_columns": null,
       "grid_auto_flow": null,
       "grid_auto_rows": null,
       "grid_column": null,
       "grid_gap": null,
       "grid_row": null,
       "grid_template_areas": null,
       "grid_template_columns": null,
       "grid_template_rows": null,
       "height": null,
       "justify_content": null,
       "justify_items": null,
       "left": null,
       "margin": null,
       "max_height": null,
       "max_width": null,
       "min_height": null,
       "min_width": null,
       "object_fit": null,
       "object_position": null,
       "order": null,
       "overflow": null,
       "overflow_x": null,
       "overflow_y": null,
       "padding": null,
       "right": null,
       "top": null,
       "visibility": null,
       "width": null
      }
     }
    },
    "version_major": 2,
    "version_minor": 0
   }
  }
 },
 "nbformat": 4,
 "nbformat_minor": 4
}
