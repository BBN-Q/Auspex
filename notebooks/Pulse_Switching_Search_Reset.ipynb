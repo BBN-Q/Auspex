{
 "cells": [
  {
   "cell_type": "code",
   "execution_count": null,
   "metadata": {
    "collapsed": true
   },
   "outputs": [],
   "source": [
    "# Experimental Topology\n",
    "# lockin AO 3 -> Analog Attenuator Vc (Control Voltages)\n",
    "# Keithley Output -> Voltage divider with 1 MOhm, DAQmx AI1\n",
    "# PSPL Trigger -> DAQmx PFI0"
   ]
  },
  {
   "cell_type": "code",
   "execution_count": 1,
   "metadata": {
    "collapsed": false
   },
   "outputs": [
    {
     "name": "stdout",
     "output_type": "stream",
     "text": [
      "C:\\Users\\qlab\\Documents\\GitHub\\pycontrol\n"
     ]
    }
   ],
   "source": [
    "cd .."
   ]
  },
  {
   "cell_type": "code",
   "execution_count": 2,
   "metadata": {
    "collapsed": false
   },
   "outputs": [],
   "source": [
    "from pycontrol.instruments.keysight import *\n",
    "from pycontrol.instruments.picosecond import Picosecond10070A\n",
    "from pycontrol.instruments.stanford import SR865\n",
    "from pycontrol.instruments.keithley import Keithley2400\n",
    "from pycontrol.instruments.ami import AMI430\n",
    "\n",
    "from PyDAQmx import *\n",
    "\n",
    "from pycontrol.experiment import FloatParameter, IntParameter, Experiment\n",
    "from pycontrol.stream import DataStream, DataAxis, DataStreamDescriptor, OutputConnector\n",
    "from pycontrol.filters.debug import Print\n",
    "from pycontrol.filters.io import WriteToHDF5, ProgressBar\n",
    "\n",
    "import asyncio\n",
    "import numpy as np\n",
    "import time\n",
    "import matplotlib.pyplot as plt\n",
    "from analysis.h5shell import h5shell"
   ]
  },
  {
   "cell_type": "code",
   "execution_count": 3,
   "metadata": {
    "collapsed": true
   },
   "outputs": [],
   "source": [
    "from experiments.Pulse_Switching_Search_Reset import ResetSearchExperiment"
   ]
  },
  {
   "cell_type": "code",
   "execution_count": 4,
   "metadata": {
    "collapsed": false
   },
   "outputs": [
    {
     "data": {
      "text/plain": [
       "<SweptParameter: reps_over>"
      ]
     },
     "execution_count": 4,
     "metadata": {},
     "output_type": "execute_result"
    }
   ],
   "source": [
    "exp = ResetSearchExperiment()\n",
    "exp.sample = \"CSHE2-C4R2\"\n",
    "exp.field.value = 0.0133\n",
    "exp.duration = 10e-9\n",
    "exp.measure_current = 3e-6\n",
    "amps = np.arange(-0.2, 0.21, 0.05)\n",
    "amps = np.append(amps, np.flipud(amps))\n",
    "exp.amplitudes = amps\n",
    "exp.init_streams()\n",
    "exp.add_sweep(exp.reps_over, np.linspace(0,9,2))"
   ]
  },
  {
   "cell_type": "code",
   "execution_count": 5,
   "metadata": {
    "collapsed": true
   },
   "outputs": [],
   "source": [
    "wr = WriteToHDF5(\"data\\CSHE-Switching\\CSHE-Die2-C4R2\\CSHE2-C4R2-Search_Reset_2016-06-29.h5\")\n",
    "pbar = ProgressBar(num=1, notebook=True)\n",
    "edges = [(exp.daq_buffer, wr.data), (exp.daq_buffer, pbar.data)]\n",
    "# edges = [(exp.daq_buffer, wr.data)]\n",
    "exp.set_graph(edges)\n",
    "exp.init_instruments()"
   ]
  },
  {
   "cell_type": "code",
   "execution_count": 6,
   "metadata": {
    "collapsed": false
   },
   "outputs": [
    {
     "name": "stdout",
     "output_type": "stream",
     "text": [
      "Prepare to read buffer.\n",
      "Done reading buffer: 92160 points\n",
      "Prepare to read buffer.\n",
      "Done reading buffer: 92160 points\n",
      "Warning failed to stop task.\n"
     ]
    }
   ],
   "source": [
    "exp.run_sweeps()\n",
    "exp.shutdown_instruments()"
   ]
  },
  {
   "cell_type": "code",
   "execution_count": 7,
   "metadata": {
    "collapsed": true
   },
   "outputs": [],
   "source": [
    "f = h5shell(wr.filename,'r')\n",
    "dset= f[f.grep('data')[-1]]\n",
    "buffers = dset.value\n",
    "f.close()\n",
    "# Plot the result\n",
    "NUM = len(amps)\n",
    "buff_mean = np.mean(buffers, axis=(2,3))\n",
    "mean_state = np.mean(buff_mean, axis=0)"
   ]
  },
  {
   "cell_type": "code",
   "execution_count": 8,
   "metadata": {
    "collapsed": true
   },
   "outputs": [],
   "source": [
    "fig = plt.figure()\n",
    "for i in range(NUM):\n",
    "    plt.plot(amps[i]*np.ones(buff_mean[:,i].size),\n",
    "            1e-3*buff_mean[:,i]/max(exp.measure_current,1e-7),\n",
    "                '.', color='blue')\n",
    "plt.plot(amps, 1e-3*mean_state/max(exp.measure_current,1e-7), '-', color='red')\n",
    "plt.xlabel(\"AWG amplitude (V)\", size=14);\n",
    "plt.ylabel(\"Resistance (kOhm)\", size=14);\n",
    "plt.title(\"AWG Reset Amplitude Search\")\n",
    "plt.show()"
   ]
  },
  {
   "cell_type": "code",
   "execution_count": null,
   "metadata": {
    "collapsed": true
   },
   "outputs": [],
   "source": []
  }
 ],
 "metadata": {
  "kernelspec": {
   "display_name": "Python 3",
   "language": "python",
   "name": "python3"
  },
  "language_info": {
   "codemirror_mode": {
    "name": "ipython",
    "version": 3
   },
   "file_extension": ".py",
   "mimetype": "text/x-python",
   "name": "python",
   "nbconvert_exporter": "python",
   "pygments_lexer": "ipython3",
   "version": "3.5.1"
  }
 },
 "nbformat": 4,
 "nbformat_minor": 0
}
