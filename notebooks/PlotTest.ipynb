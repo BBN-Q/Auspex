{
 "cells": [
  {
   "cell_type": "markdown",
   "metadata": {},
   "source": [
    "# Example Usage of Procedures within Jupyter #   \n",
    "Graham Rowlands  \n",
    "Raytheon BBN Technologies 2016\n",
    "\n",
    "By using the Bokeh server application we can construct plots within the pycontrol measurement loop and stream them back to plots within the Jupyter notebook environment. This is accomplished by providing the relevant flag to the sweep class:\n",
    "```python\n",
    "sweep.run(notebook=True)\n",
    "```\n",
    "This will produce, for the time being, an hplot containing the various requested elements. Presently other sorts of containers: e.g. tabs, present extreme performance setbacks compared to their exectuion outside of the Jupyter environment.\n"
   ]
  },
  {
   "cell_type": "code",
   "execution_count": 1,
   "metadata": {
    "collapsed": true
   },
   "outputs": [],
   "source": [
    "import sys\n",
    "sys.path.append(\"C:/Users/qlab/Documents/GitHub/pycontrol/src\")"
   ]
  },
  {
   "cell_type": "code",
   "execution_count": 2,
   "metadata": {
    "collapsed": false
   },
   "outputs": [
    {
     "name": "stdout",
     "output_type": "stream",
     "text": [
      "C:\\Users\\qlab\\Documents\\GitHub\\pycontrol\n"
     ]
    }
   ],
   "source": [
    "cd \"C:/Users/qlab/Documents/GitHub/pycontrol\""
   ]
  },
  {
   "cell_type": "code",
   "execution_count": null,
   "metadata": {
    "collapsed": false
   },
   "outputs": [],
   "source": [
    "from test.plotting_test import TestProcedure\n",
    "from pycontrol.sweep import Sweep\n",
    "from functools import partial\n",
    "import numpy as np\n",
    "\n",
    "# Create an instance of the procedure\n",
    "proc = TestProcedure()\n",
    "\n",
    "# Define a sweep over prarameters\n",
    "sweep1 = Sweep(proc)\n",
    "field_x = sweep1.add_parameter(proc.field_y, np.arange(-100, 101, 5))\n",
    "field_y = sweep1.add_parameter(proc.field_x, np.arange(-100, 101, 5))\n",
    "\n",
    "plot1 = sweep1.add_plotter(\"ResistanceL Vs Field\", proc.field_x, proc.resistance_long, color=\"firebrick\", line_width=2)\n",
    "plot2 = sweep1.add_multiplotter(\"Resistances Vs Field\", [proc.field_x, proc.field_x], [proc.resistance_trans, proc.resistance_long],\n",
    "                                line_color=[\"firebrick\",\"navy\"], line_width=2)\n",
    "\n",
    "# Have to pass sweep parmaters here in order that the plotter knows the x,y grid\n",
    "# plot3 = sweep1.add_plotter2d(\"A Whole New Dimension\", field_x, field_y, proc.resistance_trans, palette=\"Spectral11\")\n",
    "# This is presently broken\n",
    "\n",
    "# Hooks for clearing the plots at the end of a sub-sweep\n",
    "proc.field_y.add_post_push_hook(plot1.clear)\n",
    "proc.field_y.add_post_push_hook(plot2.clear)\n",
    "\n",
    "# Make sure we update the data at the end of a trace\n",
    "proc.field_y.add_pre_push_hook(partial(plot1.update, force=True))\n",
    "proc.field_y.add_pre_push_hook(partial(plot2.update, force=True))\n",
    "\n",
    "sweep1.run(notebook=True)"
   ]
  }
 ],
 "metadata": {
  "kernelspec": {
   "display_name": "Python 3",
   "language": "python",
   "name": "python3"
  },
  "language_info": {
   "codemirror_mode": {
    "name": "ipython",
    "version": 3
   },
   "file_extension": ".py",
   "mimetype": "text/x-python",
   "name": "python",
   "nbconvert_exporter": "python",
   "pygments_lexer": "ipython3",
   "version": "3.5.1"
  }
 },
 "nbformat": 4,
 "nbformat_minor": 0
}
