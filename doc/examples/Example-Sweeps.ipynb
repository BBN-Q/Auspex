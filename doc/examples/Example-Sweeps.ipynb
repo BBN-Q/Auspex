{
 "cells": [
  {
   "cell_type": "markdown",
   "metadata": {},
   "source": [
    "# Example Q5: Experiment Sweeps\n",
    "This example notebook shows how to add sweeps to Auspex qubit experiments\n",
    "\n",
    "© Raytheon BBN Technologies 2021"
   ]
  },
  {
   "cell_type": "code",
   "execution_count": 1,
   "metadata": {},
   "outputs": [],
   "source": [
    "import auspex.config as config\n",
    "config.auspex_dummy_mode = True"
   ]
  },
  {
   "cell_type": "code",
   "execution_count": 2,
   "metadata": {},
   "outputs": [
    {
     "name": "stdout",
     "output_type": "stream",
     "text": [
      "auspex-WARNING: 2021-04-14 18:07:27,259 ----> Could not load channelizer library; falling back to python methods.\n"
     ]
    }
   ],
   "source": [
    "from QGL import *\n",
    "from auspex.qubit import *"
   ]
  },
  {
   "cell_type": "markdown",
   "metadata": {},
   "source": [
    "Channel library setup"
   ]
  },
  {
   "cell_type": "code",
   "execution_count": 3,
   "metadata": {},
   "outputs": [
    {
     "name": "stdout",
     "output_type": "stream",
     "text": [
      "auspex-INFO: 2021-04-14 18:07:27,862 ----> Could not find an existing pipeline. Creating a blank pipeline.\n"
     ]
    }
   ],
   "source": [
    "cl = ChannelLibrary(\":memory:\")\n",
    "pl = PipelineManager()\n",
    "\n",
    "q1 = cl.new_qubit(\"q1\")\n",
    "aps2_1 = cl.new_APS2(\"BBNAPSa\", address=\"192.168.2.4\", trigger_interval=200e-6) \n",
    "aps2_2 = cl.new_APS2(\"BBNAPSb\", address=\"192.168.2.2\")\n",
    "dig_1  = cl.new_Alazar(\"Alazar_1\", address=\"1\", sampling_rate=500e6, record_length=1024)\n",
    "h1 = cl.new_source(\"Holz_1\", \"HolzworthHS9000\", \"HS9004A-009-1\", reference='10MHz', power=-30)\n",
    "h2 = cl.new_source(\"Holz_2\", \"HolzworthHS9000\", \"HS9004A-009-2\", reference='10MHz', power=-30)\n",
    "\n",
    "cl.set_measure(q1, aps2_1, dig_1.ch(\"1\"), trig_channel=aps2_1.ch(\"m2\"), gate=False, generator=h1)\n",
    "cl.set_control(q1, aps2_2, generator=h2)\n",
    "cl.set_master(aps2_1, aps2_1.ch(\"m1\"))\n",
    "cl[\"q1\"].measure_chan.frequency = 0e6\n",
    "cl[\"q1\"].measure_chan.autodyne_freq = 10e6"
   ]
  },
  {
   "cell_type": "markdown",
   "metadata": {},
   "source": [
    "Pipeline setup: **Take Note:** we use the `buffers` keyword argument to automatically generate buffers instead of writers. This is sometimes convenient if you don't require data to be written to file. It becomes immediately available in the notebook after running!"
   ]
  },
  {
   "cell_type": "code",
   "execution_count": 4,
   "metadata": {},
   "outputs": [
    {
     "data": {
      "text/html": [
       "\n",
       "            <style>\n",
       "                .hover_tooltip table { border-collapse: collapse; padding: 8px; }\n",
       "                .hover_tooltip th, .hover_tooltip td { text-align: left; padding: 8px; }\n",
       "                .hover_tooltip tr:nth-child(even) { background-color: #cccccc; padding: 8px; }\n",
       "            </style>\n",
       "            "
      ],
      "text/plain": [
       "<IPython.core.display.HTML object>"
      ]
     },
     "metadata": {},
     "output_type": "display_data"
    },
    {
     "data": {
      "application/vnd.jupyter.widget-view+json": {
       "model_id": "e51e68ff7e274f10983ecb827e06ff4d",
       "version_major": 2,
       "version_minor": 0
      },
      "text/plain": [
       "Figure(fig_margin={'top': 60, 'bottom': 60, 'left': 60, 'right': 60}, layout=Layout(height='500px', width='960…"
      ]
     },
     "metadata": {},
     "output_type": "display_data"
    }
   ],
   "source": [
    "pl.create_default_pipeline(buffers=True)\n",
    "pl[\"q1\"].add(Display(label=\"blub\"))\n",
    "pl[\"q1\"][\"Demodulate\"][\"Integrate\"].add(Display(label=\"int\", plot_dims=1))\n",
    "pl.show_pipeline()"
   ]
  },
  {
   "cell_type": "markdown",
   "metadata": {},
   "source": [
    "Initialize software demodulation parameters. If these are not properly configured than the `Channelizer` filter will report 'insufficient decimation' or other errors. The integration boxcar parameters are then defined."
   ]
  },
  {
   "cell_type": "code",
   "execution_count": 5,
   "metadata": {},
   "outputs": [],
   "source": [
    "demod = pl[\"q1\"][\"Demodulate\"]\n",
    "demod.frequency = cl[\"q1\"].measure_chan.frequency\n",
    "demod.decimation_factor = 16"
   ]
  },
  {
   "cell_type": "code",
   "execution_count": 6,
   "metadata": {},
   "outputs": [],
   "source": [
    "integ = pl[\"q1\"][\"Demodulate\"][\"Integrate\"]\n",
    "integ.box_car_start = 0.2e-6\n",
    "integ.box_car_stop= 1.9e-6"
   ]
  },
  {
   "cell_type": "markdown",
   "metadata": {},
   "source": [
    "## Adding experiment sweeps"
   ]
  },
  {
   "cell_type": "markdown",
   "metadata": {},
   "source": [
    "Once a `QubitExperiment` has been created, we can programmatically add sweeps as shown here. "
   ]
  },
  {
   "cell_type": "code",
   "execution_count": 7,
   "metadata": {
    "scrolled": false
   },
   "outputs": [
    {
     "name": "stdout",
     "output_type": "stream",
     "text": [
      "Compiled 31 sequences.\n"
     ]
    },
    {
     "data": {
      "application/vnd.jupyter.widget-view+json": {
       "model_id": "56142782f65745a9a7fbf95fca62380c",
       "version_major": 2,
       "version_minor": 0
      },
      "text/plain": [
       "VBox(children=(IntProgress(value=0, bar_style='success', description='Digitizer Data q1-raw:', max=17459200, s…"
      ]
     },
     "metadata": {},
     "output_type": "display_data"
    },
    {
     "name": "stdout",
     "output_type": "stream",
     "text": [
      "auspex-INFO: 2021-04-14 18:08:31,293 ----> Plot Server did not respond.\n",
      "auspex-INFO: 2021-04-14 18:08:33,219 ----> Digitizer Alazar_1 finished getting data when recv=1587200.0, exp=1587200.\n",
      "auspex-INFO: 2021-04-14 18:08:34,394 ----> Digitizer Alazar_1 finished getting data when recv=1587200.0, exp=1587200.\n",
      "auspex-INFO: 2021-04-14 18:08:35,563 ----> Digitizer Alazar_1 finished getting data when recv=1587200.0, exp=1587200.\n",
      "auspex-INFO: 2021-04-14 18:08:36,732 ----> Digitizer Alazar_1 finished getting data when recv=1587200.0, exp=1587200.\n",
      "auspex-INFO: 2021-04-14 18:08:37,905 ----> Digitizer Alazar_1 finished getting data when recv=1587200.0, exp=1587200.\n",
      "auspex-INFO: 2021-04-14 18:08:39,070 ----> Digitizer Alazar_1 finished getting data when recv=1587200.0, exp=1587200.\n",
      "auspex-INFO: 2021-04-14 18:08:40,237 ----> Digitizer Alazar_1 finished getting data when recv=1587200.0, exp=1587200.\n",
      "auspex-INFO: 2021-04-14 18:08:41,412 ----> Digitizer Alazar_1 finished getting data when recv=1587200.0, exp=1587200.\n",
      "auspex-INFO: 2021-04-14 18:08:42,583 ----> Digitizer Alazar_1 finished getting data when recv=1587200.0, exp=1587200.\n",
      "auspex-INFO: 2021-04-14 18:08:43,752 ----> Digitizer Alazar_1 finished getting data when recv=1587200.0, exp=1587200.\n",
      "auspex-INFO: 2021-04-14 18:08:44,918 ----> Digitizer Alazar_1 finished getting data when recv=1587200.0, exp=1587200.\n",
      "auspex-INFO: 2021-04-14 18:08:46,920 ----> Didn't find any data on socket within 2 seconds (this is normal during experiment shutdown).\n"
     ]
    }
   ],
   "source": [
    "lengths = np.linspace(40e-9, 2040e-9, 31) # start at 40ns to avoid issues with sigma of this tanh pulse\n",
    "exp = QubitExperiment(RabiWidth(q1,lengths),averages=50)\n",
    "exp.set_fake_data(dig_1, np.exp(-lengths/1e-6)*np.cos(1e7*lengths))\n",
    "exp.add_qubit_sweep(q1,\"measure\", \"frequency\", np.linspace(6.512e9, 6.522e9, 11))\n",
    "exp.run_sweeps()"
   ]
  },
  {
   "cell_type": "markdown",
   "metadata": {},
   "source": [
    "We fetch the data and data descriptor directly from the buffer. The data is automatically reshaped to match the experiment axes, and the descriptor enumerates all of the values of these axes for convenience plotting, etc.."
   ]
  },
  {
   "cell_type": "code",
   "execution_count": 8,
   "metadata": {},
   "outputs": [],
   "source": [
    "data, descriptor = exp.outputs_by_qubit[\"q1\"][0].get_data()"
   ]
  },
  {
   "cell_type": "code",
   "execution_count": 9,
   "metadata": {},
   "outputs": [
    {
     "data": {
      "text/plain": [
       "[<SweepAxis(name=q1 measure frequency,length=11,unit=None,value=6522000000.0,unstructured=False>,\n",
       " <DataAxis(name=delay, start=0.04, stop=2.04, num=31, unit=us)>]"
      ]
     },
     "execution_count": 9,
     "metadata": {},
     "output_type": "execute_result"
    }
   ],
   "source": [
    "descriptor.axes"
   ]
  },
  {
   "cell_type": "code",
   "execution_count": 10,
   "metadata": {},
   "outputs": [
    {
     "data": {
      "text/plain": [
       "(11, 31)"
      ]
     },
     "execution_count": 10,
     "metadata": {},
     "output_type": "execute_result"
    }
   ],
   "source": [
    "data.shape"
   ]
  },
  {
   "cell_type": "markdown",
   "metadata": {},
   "source": [
    "We even include a convenience `extent` function conforming to the infinitely forgettable matplotlib format."
   ]
  },
  {
   "cell_type": "code",
   "execution_count": 11,
   "metadata": {},
   "outputs": [
    {
     "data": {
      "image/png": "[encoded data removed]",
      "text/plain": [
       "<Figure size 432x288 with 1 Axes>"
      ]
     },
     "metadata": {
      "needs_background": "light"
     },
     "output_type": "display_data"
    }
   ],
   "source": [
    "import matplotlib.pyplot as plt\n",
    "%matplotlib inline\n",
    "\n",
    "plt.imshow(np.real(data), aspect='auto', extent=descriptor.extent())\n",
    "plt.xlabel(\"Delay (µs)\")\n",
    "plt.ylabel(\"Frequency (GHz)\");"
   ]
  },
  {
   "cell_type": "markdown",
   "metadata": {},
   "source": [
    "## Adding Multiple Sweeps\n",
    "\n",
    "An arbitrary number of sweeps can be added. For example:"
   ]
  },
  {
   "cell_type": "code",
   "execution_count": 12,
   "metadata": {},
   "outputs": [
    {
     "name": "stdout",
     "output_type": "stream",
     "text": [
      "Compiled 31 sequences.\n"
     ]
    }
   ],
   "source": [
    "exp = QubitExperiment(RabiWidth(q1,lengths),averages=50)\n",
    "exp.add_qubit_sweep(q1,\"measure\", \"frequency\", np.linspace(6.512e9, 6.522e9, 5))\n",
    "exp.add_qubit_sweep(q1,\"measure\", \"amplitude\", np.linspace(0.0, 1.0, 21))"
   ]
  },
  {
   "cell_type": "markdown",
   "metadata": {},
   "source": [
    "If we inspect the internal representation of the \"output connector\" into which the instrument driver will dump its data, we can see all of the axes it contains."
   ]
  },
  {
   "cell_type": "code",
   "execution_count": 13,
   "metadata": {},
   "outputs": [
    {
     "data": {
      "text/plain": [
       "[<SweepAxis(name=q1 measure amplitude,length=21,unit=None,value=0.0,unstructured=False>,\n",
       " <SweepAxis(name=q1 measure frequency,length=5,unit=None,value=6512000000.0,unstructured=False>,\n",
       " <DataAxis(name=averages, start=0, stop=49, num=50, unit=None)>,\n",
       " <DataAxis(name=delay, start=0.04, stop=2.04, num=31, unit=us)>,\n",
       " <DataAxis(name=time, start=0.0, stop=2.046e-06, num=1024, unit=None)>]"
      ]
     },
     "execution_count": 13,
     "metadata": {},
     "output_type": "execute_result"
    }
   ],
   "source": [
    "exp.output_connectors[\"q1-raw\"].descriptor.axes"
   ]
  },
  {
   "cell_type": "markdown",
   "metadata": {},
   "source": [
    "The `DataAxis` entries are \"baked in\" using hardware looping, while the `SweepAxis` entries are external software loops facilitated by Auspex."
   ]
  }
 ],
 "metadata": {
  "kernelspec": {
   "display_name": "Python 3",
   "language": "python",
   "name": "python3"
  },
  "language_info": {
   "codemirror_mode": {
    "name": "ipython",
    "version": 3
   },
   "file_extension": ".py",
   "mimetype": "text/x-python",
   "name": "python",
   "nbconvert_exporter": "python",
   "pygments_lexer": "ipython3",
   "version": "3.7.7"
  },
  "latex_envs": {
   "bibliofile": "biblio.bib",
   "cite_by": "apalike",
   "current_citInitial": 1,
   "eqLabelWithNumbers": true,
   "eqNumInitial": 0
  },
  "nav_menu": {},
  "toc": {
   "navigate_menu": true,
   "number_sections": true,
   "sideBar": true,
   "threshold": 6,
   "toc_cell": false,
   "toc_section_display": "block",
   "toc_window_display": false
  }
 },
 "nbformat": 4,
 "nbformat_minor": 2
}
