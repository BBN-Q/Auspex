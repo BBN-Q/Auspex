{
 "cells": [
  {
   "cell_type": "markdown",
   "metadata": {},
   "source": [
    "# Example Q3: Managing the Filter Pipeline\n",
    "This example notebook shows how to use the `PipelineManager` to modify the signal processing on qubit data.\n",
    "\n",
    "© Raytheon BBN Technologies 2021"
   ]
  },
  {
   "cell_type": "markdown",
   "metadata": {},
   "source": [
    "We initialize a slightly more advanced channel library:"
   ]
  },
  {
   "cell_type": "code",
   "execution_count": 1,
   "metadata": {},
   "outputs": [],
   "source": [
    "from QGL import *\n",
    "\n",
    "cl = ChannelLibrary(\":memory:\")\n",
    "\n",
    "# Create five qubits and supporting hardware\n",
    "for i in range(5):\n",
    "    q1 = cl.new_qubit(f\"q{i}\")\n",
    "    cl.new_APS2(f\"BBNAPS2-{2*i+1}\", address=f\"192.168.5.{101+2*i}\") \n",
    "    cl.new_APS2(f\"BBNAPS2-{2*i+2}\", address=f\"192.168.5.{102+2*i}\")\n",
    "    cl.new_X6(f\"X6_{i}\", address=0)\n",
    "    cl.new_source(f\"Holz{2*i+1}\", \"HolzworthHS9000\", f\"HS9004A-009-{2*i}\", power=-30)\n",
    "    cl.new_source(f\"Holz{2*i+2}\", \"HolzworthHS9000\", f\"HS9004A-009-{2*i+1}\", power=-30) \n",
    "    cl.set_control(cl[f\"q{i}\"], cl[f\"BBNAPS2-{2*i+1}\"], generator=cl[f\"Holz{2*i+1}\"])\n",
    "    cl.set_measure(cl[f\"q{i}\"], cl[f\"BBNAPS2-{2*i+2}\"], cl[f\"X6_{i}\"][1], generator=cl[f\"Holz{2*i+2}\"])\n",
    "\n",
    "cl.set_master(cl[\"BBNAPS2-1\"], cl[\"BBNAPS2-1\"].ch(\"m2\"))\n",
    "cl.commit()"
   ]
  },
  {
   "cell_type": "markdown",
   "metadata": {},
   "source": [
    "## Creating the Default Filter Pipeline"
   ]
  },
  {
   "cell_type": "code",
   "execution_count": 2,
   "metadata": {},
   "outputs": [
    {
     "name": "stdout",
     "output_type": "stream",
     "text": [
      "auspex-WARNING: 2021-04-14 17:57:23,934 ----> You may not have the libusb backend: please install it!\n",
      "auspex-WARNING: 2021-04-14 17:57:24,197 ----> Could not load channelizer library; falling back to python methods.\n"
     ]
    }
   ],
   "source": [
    "from auspex.qubit import *"
   ]
  },
  {
   "cell_type": "markdown",
   "metadata": {},
   "source": [
    "The `PipelineManager` is analogous to the `ChannelLibrary` insomuchas it provides the user with an interface to programmatically modify the filter pipeline, and to save and load different versions of the pipeline."
   ]
  },
  {
   "cell_type": "code",
   "execution_count": 3,
   "metadata": {},
   "outputs": [
    {
     "name": "stdout",
     "output_type": "stream",
     "text": [
      "auspex-INFO: 2021-04-14 17:57:25,146 ----> Could not find an existing pipeline. Creating a blank pipeline.\n"
     ]
    }
   ],
   "source": [
    "pl = PipelineManager()"
   ]
  },
  {
   "cell_type": "markdown",
   "metadata": {},
   "source": [
    "Pipelines are fairly predictable, and will provide some subset of the functionality of demodulating, integrating, average, and writing to file. Some of these can be done on hardware, some in software. The PipelineManager can guess what the user wants for a particular qubit by inspecting which equipment has been assigned to it using the `set_measure` command for the ChannelLibrary. For example, this ChannelLibrary has defined X6-1000M cards for readout, and the description of this instrument indicates that the highest level available stream is integrated. Thus, the PipelineManager automatically inserts the remaining averager and writer."
   ]
  },
  {
   "cell_type": "code",
   "execution_count": null,
   "metadata": {},
   "outputs": [],
   "source": [
    "pl.create_default_pipeline()\n",
    "pl.show_pipeline()"
   ]
  },
  {
   "cell_type": "markdown",
   "metadata": {},
   "source": [
    "Sometimes, for debugging purposes, one may wish to add multiple pipelines per qubit. Additional pipelines can be added explicitly by running:"
   ]
  },
  {
   "cell_type": "code",
   "execution_count": null,
   "metadata": {},
   "outputs": [],
   "source": [
    "pl.add_qubit_pipeline(\"q1\", \"demodulated\")\n",
    "pl.show_pipeline()"
   ]
  },
  {
   "cell_type": "code",
   "execution_count": 6,
   "metadata": {},
   "outputs": [
    {
     "data": {
      "text/html": [
       "<table><tr><th>id</th><th>Year</th><th>Date</th><th>Time</th><th>Name</th></tr><tr><tr><td>0</td><td>2021</td><td>Apr. 14</td><td>05:57:26 PM</td><td>working</td></tr></tr></table>"
      ],
      "text/plain": [
       "<IPython.core.display.HTML object>"
      ]
     },
     "metadata": {},
     "output_type": "display_data"
    }
   ],
   "source": [
    "pl.ls()"
   ]
  },
  {
   "cell_type": "markdown",
   "metadata": {},
   "source": [
    "We can print the properties of a single node"
   ]
  },
  {
   "cell_type": "code",
   "execution_count": 7,
   "metadata": {},
   "outputs": [
    {
     "data": {
      "text/html": [
       "<b>streamselect</b> (q1) <i>q1-demodulated</i></br><table style='{padding:0.5em;}'><tr><th>Attribute</th><th>Value</th><th>Changes?</th></tr><tr><tr><td>hash_val</td><td>4061763602</td><td></td></tr><tr><td>stream_type</td><td>demodulated</td><td></td></tr><tr><td>dsp_channel</td><td>1</td><td></td></tr><tr><td>if_freq</td><td>0.0</td><td></td></tr><tr><td>kernel_data</td><td>Binary Data of length 0</td><td></td></tr><tr><td>kernel_bias</td><td>0.0</td><td></td></tr><tr><td>threshold</td><td>0.0</td><td></td></tr><tr><td>threshold_invert</td><td>False</td><td></td></tr></tr></table>"
      ],
      "text/plain": [
       "<IPython.core.display.HTML object>"
      ]
     },
     "metadata": {},
     "output_type": "display_data"
    }
   ],
   "source": [
    "pl[\"q1 demodulated\"].print()"
   ]
  },
  {
   "cell_type": "markdown",
   "metadata": {},
   "source": [
    "We can print the properties of individual filters or subgraphs:"
   ]
  },
  {
   "cell_type": "code",
   "execution_count": 8,
   "metadata": {},
   "outputs": [
    {
     "data": {
      "text/html": [
       "<table><tr><th>Name</th><th>Attribute</th><th>Value</th><th>Uncommitted Changes</th></tr><tr><tr><td><b>average</b> (q1)</td><td></td><td><i>Unlabeled</i></td></td><td></tr><tr><td></td><td>hash_val</td><td>1209955171</td><td></td></tr><tr><td></td><td>axis</td><td>averages</td><td></td></tr><tr><td></td><td>threshold</td><td>0.5</td><td></td></tr><tr><td><b>demodulate</b> (q1)</td><td></td><td><i>Demodulate q1</i></td></td><td></tr><tr><td></td><td>hash_val</td><td>471875311</td><td></td></tr><tr><td></td><td>frequency</td><td>10000000.0</td><td></td></tr><tr><td></td><td>bandwidth</td><td>5000000.0</td><td></td></tr><tr><td></td><td>follow_axis</td><td>None</td><td></td></tr><tr><td></td><td>follow_freq_offset</td><td>None</td><td></td></tr><tr><td></td><td>decimation_factor</td><td>4</td><td></td></tr><tr><td><b>write</b> (q1)</td><td></td><td><i>Unlabeled</i></td></td><td></tr><tr><td></td><td>hash_val</td><td>1731684339</td><td></td></tr><tr><td></td><td>filename</td><td>output.auspex</td><td></td></tr><tr><td></td><td>groupname</td><td>q1-raw_int</td><td></td></tr><tr><td></td><td>datasetname</td><td>data</td><td></td></tr><tr><td></td><td>add_date</td><td>False</td><td></td></tr><tr><td><b>integrate</b> (q1)</td><td></td><td><i>Unlabeled</i></td></td><td></tr><tr><td></td><td>hash_val</td><td>2340765999</td><td></td></tr><tr><td></td><td>simple_kernel</td><td>True</td><td></td></tr><tr><td></td><td>kernel</td><td>None</td><td></td></tr><tr><td></td><td>bias</td><td>0.0</td><td></td></tr><tr><td></td><td>box_car_start</td><td>0.0</td><td></td></tr><tr><td></td><td>box_car_stop</td><td>1e-07</td><td></td></tr><tr><td></td><td>demod_frequency</td><td>0.0</td><td></td></tr><tr><td><b>streamselect</b> (q1)</td><td></td><td><i>q1</i></td></td><td></tr><tr><td></td><td>hash_val</td><td>4227182478</td><td></td></tr><tr><td></td><td>stream_type</td><td>raw</td><td></td></tr><tr><td></td><td>dsp_channel</td><td>1</td><td></td></tr><tr><td></td><td>if_freq</td><td>0.0</td><td></td></tr><tr><td></td><td>kernel_data</td><td>Binary Data of length 0</td><td></td></tr><tr><td></td><td>kernel_bias</td><td>0.0</td><td></td></tr><tr><td></td><td>threshold</td><td>0.0</td><td></td></tr><tr><td></td><td>threshold_invert</td><td>False</td><td></td></tr></tr></table>"
      ],
      "text/plain": [
       "<IPython.core.display.HTML object>"
      ]
     },
     "metadata": {},
     "output_type": "display_data"
    }
   ],
   "source": [
    "pl.print(\"q1 raw\")"
   ]
  },
  {
   "cell_type": "markdown",
   "metadata": {},
   "source": [
    "Dictionary access is provided to allow drilling down into the pipelines. One can use the specific label of a filter or simple its type in this access mode:"
   ]
  },
  {
   "cell_type": "code",
   "execution_count": 9,
   "metadata": {},
   "outputs": [
    {
     "data": {
      "text/html": [
       "<table><tr><th>Name</th><th>Attribute</th><th>Value</th><th>Uncommitted Changes</th></tr><tr><tr><td><b>average</b> (q1)</td><td></td><td><i>Unlabeled</i></td></td><td></tr><tr><td></td><td>hash_val</td><td>311424453</td><td></td></tr><tr><td></td><td>axis</td><td>averages</td><td></td></tr><tr><td></td><td>threshold</td><td>0.5</td><td></td></tr><tr><td><b>integrate</b> (q1)</td><td></td><td><i>Unlabeled</i></td></td><td></tr><tr><td></td><td>hash_val</td><td>1961646212</td><td></td></tr><tr><td></td><td>simple_kernel</td><td>True</td><td></td></tr><tr><td></td><td>kernel</td><td>None</td><td></td></tr><tr><td></td><td>bias</td><td>0.0</td><td></td></tr><tr><td></td><td>box_car_start</td><td>0.0</td><td></td></tr><tr><td></td><td>box_car_stop</td><td>1e-07</td><td></td></tr><tr><td></td><td>demod_frequency</td><td>0.0</td><td></td></tr><tr><td><b>write</b> (q1)</td><td></td><td><i>Unlabeled</i></td></td><td></tr><tr><td></td><td>hash_val</td><td>1380628045</td><td></td></tr><tr><td></td><td>filename</td><td>new.auspex</td><td>Yes</td></tr><tr><td></td><td>groupname</td><td>q1-demod_int</td><td></td></tr><tr><td></td><td>datasetname</td><td>data</td><td></td></tr><tr><td></td><td>add_date</td><td>False</td><td></td></tr><tr><td><b>streamselect</b> (q1)</td><td></td><td><i>q1-demodulated</i></td></td><td></tr><tr><td></td><td>hash_val</td><td>4061763602</td><td></td></tr><tr><td></td><td>stream_type</td><td>demodulated</td><td></td></tr><tr><td></td><td>dsp_channel</td><td>1</td><td></td></tr><tr><td></td><td>if_freq</td><td>0.0</td><td></td></tr><tr><td></td><td>kernel_data</td><td>Binary Data of length 0</td><td></td></tr><tr><td></td><td>kernel_bias</td><td>0.0</td><td></td></tr><tr><td></td><td>threshold</td><td>0.0</td><td></td></tr><tr><td></td><td>threshold_invert</td><td>False</td><td></td></tr></tr></table>"
      ],
      "text/plain": [
       "<IPython.core.display.HTML object>"
      ]
     },
     "metadata": {},
     "output_type": "display_data"
    }
   ],
   "source": [
    "pl[\"q1 demodulated\"][\"Integrate\"][\"Average\"][\"Write\"].filename = \"new.auspex\"\n",
    "pl.print(\"q1 demodulated\")"
   ]
  },
  {
   "cell_type": "markdown",
   "metadata": {},
   "source": [
    "Here uncommitted changes are shown. This can be rectified in the standard way:"
   ]
  },
  {
   "cell_type": "code",
   "execution_count": 10,
   "metadata": {},
   "outputs": [
    {
     "data": {
      "text/html": [
       "<table><tr><th>Name</th><th>Attribute</th><th>Value</th><th>Uncommitted Changes</th></tr><tr><tr><td><b>average</b> (q1)</td><td></td><td><i>Unlabeled</i></td></td><td></tr><tr><td></td><td>hash_val</td><td>311424453</td><td></td></tr><tr><td></td><td>axis</td><td>averages</td><td></td></tr><tr><td></td><td>threshold</td><td>0.5</td><td></td></tr><tr><td><b>integrate</b> (q1)</td><td></td><td><i>Unlabeled</i></td></td><td></tr><tr><td></td><td>hash_val</td><td>1961646212</td><td></td></tr><tr><td></td><td>simple_kernel</td><td>True</td><td></td></tr><tr><td></td><td>kernel</td><td>None</td><td></td></tr><tr><td></td><td>bias</td><td>0.0</td><td></td></tr><tr><td></td><td>box_car_start</td><td>0.0</td><td></td></tr><tr><td></td><td>box_car_stop</td><td>1e-07</td><td></td></tr><tr><td></td><td>demod_frequency</td><td>0.0</td><td></td></tr><tr><td><b>write</b> (q1)</td><td></td><td><i>Unlabeled</i></td></td><td></tr><tr><td></td><td>hash_val</td><td>1380628045</td><td></td></tr><tr><td></td><td>filename</td><td>new.auspex</td><td>Yes</td></tr><tr><td></td><td>groupname</td><td>q1-demod_int</td><td></td></tr><tr><td></td><td>datasetname</td><td>data</td><td></td></tr><tr><td></td><td>add_date</td><td>False</td><td></td></tr><tr><td><b>streamselect</b> (q1)</td><td></td><td><i>q1-demodulated</i></td></td><td></tr><tr><td></td><td>hash_val</td><td>4061763602</td><td></td></tr><tr><td></td><td>stream_type</td><td>demodulated</td><td></td></tr><tr><td></td><td>dsp_channel</td><td>1</td><td></td></tr><tr><td></td><td>if_freq</td><td>0.0</td><td></td></tr><tr><td></td><td>kernel_data</td><td>Binary Data of length 0</td><td></td></tr><tr><td></td><td>kernel_bias</td><td>0.0</td><td></td></tr><tr><td></td><td>threshold</td><td>0.0</td><td></td></tr><tr><td></td><td>threshold_invert</td><td>False</td><td></td></tr></tr></table>"
      ],
      "text/plain": [
       "<IPython.core.display.HTML object>"
      ]
     },
     "metadata": {},
     "output_type": "display_data"
    }
   ],
   "source": [
    "cl.commit()\n",
    "pl.print(\"q1 demodulated\")"
   ]
  },
  {
   "cell_type": "markdown",
   "metadata": {},
   "source": [
    "## Programmatic Modification of the Pipeline\n",
    "Some simple convenience functions allow the use to easily specify complex pipeline structures."
   ]
  },
  {
   "cell_type": "code",
   "execution_count": 11,
   "metadata": {},
   "outputs": [],
   "source": [
    "pl.commit()\n",
    "pl.save_as(\"simple\")\n",
    "pl[\"q1 demodulated\"].clear_pipeline()\n",
    "pl[\"q1 demodulated\"].stream_type = \"raw\"\n",
    "pl.recreate_pipeline()"
   ]
  },
  {
   "cell_type": "code",
   "execution_count": null,
   "metadata": {},
   "outputs": [],
   "source": [
    "pl.show_pipeline()"
   ]
  },
  {
   "cell_type": "markdown",
   "metadata": {},
   "source": [
    "Note the name change. We refer to the pipeline by the stream type of the first element."
   ]
  },
  {
   "cell_type": "code",
   "execution_count": null,
   "metadata": {},
   "outputs": [],
   "source": [
    "pl[\"q1 raw\"].show_pipeline()"
   ]
  },
  {
   "cell_type": "code",
   "execution_count": null,
   "metadata": {},
   "outputs": [],
   "source": [
    "pl[\"q1 raw\"].add(Display(label=\"Raw Plot\"))\n",
    "pl[\"q1 raw\"][\"Demodulate\"].add(Average(label=\"Demod Average\")).add(Display(label=\"Demod Plot\"))\n",
    "pl.show_pipeline()"
   ]
  },
  {
   "cell_type": "markdown",
   "metadata": {},
   "source": [
    "As with the `ChannelLibrary` we can list save, list, and load versions of the filter pipeline."
   ]
  },
  {
   "cell_type": "code",
   "execution_count": 15,
   "metadata": {},
   "outputs": [
    {
     "data": {
      "text/html": [
       "<table><tr><th>id</th><th>Year</th><th>Date</th><th>Time</th><th>Name</th></tr><tr><tr><td>0</td><td>2021</td><td>Apr. 14</td><td>05:57:32 PM</td><td>simple</td></tr><tr><td>1</td><td>2021</td><td>Apr. 14</td><td>05:57:32 PM</td><td>working</td></tr><tr><td>2</td><td>2021</td><td>Apr. 14</td><td>05:57:34 PM</td><td>custom</td></tr></tr></table>"
      ],
      "text/plain": [
       "<IPython.core.display.HTML object>"
      ]
     },
     "metadata": {},
     "output_type": "display_data"
    }
   ],
   "source": [
    "pl.session.commit()\n",
    "pl.save_as(\"custom\")\n",
    "pl.ls()"
   ]
  },
  {
   "cell_type": "code",
   "execution_count": null,
   "metadata": {},
   "outputs": [],
   "source": [
    "pl.load(\"simple\")\n",
    "pl.show_pipeline()"
   ]
  },
  {
   "cell_type": "code",
   "execution_count": 17,
   "metadata": {},
   "outputs": [
    {
     "data": {
      "text/html": [
       "<table><tr><th>id</th><th>Year</th><th>Date</th><th>Time</th><th>Name</th></tr><tr><tr><td>0</td><td>2021</td><td>Apr. 14</td><td>05:57:32 PM</td><td>simple</td></tr><tr><td>1</td><td>2021</td><td>Apr. 14</td><td>05:57:32 PM</td><td>working</td></tr><tr><td>2</td><td>2021</td><td>Apr. 14</td><td>05:57:34 PM</td><td>custom</td></tr></tr></table>"
      ],
      "text/plain": [
       "<IPython.core.display.HTML object>"
      ]
     },
     "metadata": {},
     "output_type": "display_data"
    }
   ],
   "source": [
    "pl.ls()"
   ]
  },
  {
   "cell_type": "markdown",
   "metadata": {},
   "source": [
    "## Pipeline examples:"
   ]
  },
  {
   "cell_type": "markdown",
   "metadata": {},
   "source": [
    "Below are some examples of how more complicated pipelines can be constructed.  Defining these as functions allows for quickly changing the structure of the data pipeline depending on the experiment being done.  It also improves reproducibility and documents pipeline parameters.  For example, to change the pipeline and check its construction,\n",
    "```python\n",
    "pl = create_tomo_pipeline(save_rr=True)\n",
    "pl.show_pipeline()\n",
    "```\n",
    "Hopefully the examples below will show you some of the more advanced things that can be done with the data pipelines in `Auspex`."
   ]
  },
  {
   "cell_type": "code",
   "execution_count": 18,
   "metadata": {},
   "outputs": [],
   "source": [
    "# a basic pipeline that uses 'raw' data a the beginning of the data processing\n",
    "def create_standard_pipeline():\n",
    "    pl = PipelineManager()\n",
    "    pl.create_default_pipeline(qubits=(cl['q2'],cl['q3']))\n",
    "    for ql in ['q2', 'q3']:\n",
    "        qb = cl[ql]\n",
    "        pl[ql].clear_pipeline()\n",
    "        pl[ql].stream_type = \"raw\"\n",
    "        pl[ql].create_default_pipeline(buffers=False)\n",
    "        pl[ql].if_freq = qb.measure_chan.autodyne_freq\n",
    "        pl[ql][\"Demodulate\"].frequency = qb.measure_chan.autodyne_freq\n",
    "        pl[ql][\"Demodulate\"][\"Integrate\"].simple_kernel = True\n",
    "        pl[ql][\"Demodulate\"][\"Integrate\"].box_car_start = 3e-7\n",
    "        pl[ql][\"Demodulate\"][\"Integrate\"].box_car_stop = 1.3e-6\n",
    "        #pl[ql][\"Demodulate\"][\"Integrate\"].add(Write(label=\"RR-Writer\", groupname=ql+\"-int\"))\n",
    "        pl[ql][\"Demodulate\"][\"Integrate\"][\"Average\"].add(Display(label=ql+\" - Final Average\", plot_dims=0))\n",
    "        pl[ql][\"Demodulate\"][\"Integrate\"][\"Average\"].add(Display(label=ql+\" - Partial Average\", plot_dims=0), connector_out=\"partial_average\")\n",
    "    return pl\n",
    "\n",
    "# if you only want to save data integrated with the single-shot filter \n",
    "def create_integrated_pipeline(save_rr=False, plotting=True):\n",
    "    pl = PipelineManager()\n",
    "    pl.create_default_pipeline(qubits=(cl['q2'],cl['q3']))\n",
    "    for ql in ['q2', 'q3']:\n",
    "        qb = cl[ql]\n",
    "        pl[ql].clear_pipeline()\n",
    "        pl[ql].stream_type = \"integrated\"\n",
    "        pl[ql].create_default_pipeline(buffers=False)\n",
    "        pl[ql].kernel = f\"{ql.upper()}_SSF_kernel.txt\"\n",
    "        if save_rr:\n",
    "            pl[ql].add(Write(label=\"RR-Writer\", groupname=ql+\"-rr\"))\n",
    "        if plotting:\n",
    "            pl[ql][\"Average\"].add(Display(label=ql+\" - Final Average\", plot_dims=0))\n",
    "            pl[ql][\"Average\"].add(Display(label=ql+\" - Partial Average\", plot_dims=0), connector_out=\"partial_average\")\n",
    "\n",
    "    return pl\n",
    "\n",
    "# create to single-shot fidelity pipelines for two qubits \n",
    "def create_fidelity_pipeline():\n",
    "    pl = PipelineManager()\n",
    "    pl.create_default_pipeline(qubits=(cl['q2'],cl['q3']))\n",
    "    for ql in ['q2', 'q3']:\n",
    "        qb = cl[ql]\n",
    "        pl[ql].clear_pipeline()\n",
    "        pl[ql].stream_type = \"raw\"\n",
    "        pl[ql].create_default_pipeline(buffers=False)\n",
    "        pl[ql].if_freq = qb.measure_chan.autodyne_freq\n",
    "        pl[ql][\"Demodulate\"].frequency = qb.measure_chan.autodyne_freq\n",
    "        pl[ql].add(FidelityKernel(save_kernel=True, logistic_regression=False, set_threshold=True, label=f\"Q{ql[-1]}_SSF\"))\n",
    "        pl[ql][\"Demodulate\"][\"Integrate\"].simple_kernel = True\n",
    "        pl[ql][\"Demodulate\"][\"Integrate\"].box_car_start = 3e-7\n",
    "        pl[ql][\"Demodulate\"][\"Integrate\"].box_car_stop = 1.3e-6\n",
    "        #pl[ql][\"Demodulate\"][\"Integrate\"].add(Write(label=\"RR-Writer\", groupname=ql+\"-int\"))\n",
    "        pl[ql][\"Demodulate\"][\"Integrate\"][\"Average\"].add(Display(label=ql+\" - Final Average\", plot_dims=0))\n",
    "        pl[ql][\"Demodulate\"][\"Integrate\"][\"Average\"].add(Display(label=ql+\" - Partial Average\", plot_dims=0), connector_out=\"partial_average\")\n",
    "    return pl\n",
    "\n",
    "# optionally save the demoded data\n",
    "def create_RR_pipeline(plot=False, write_demods=False):\n",
    "    pl = PipelineManager()\n",
    "    pl.create_default_pipeline(qubits=(cl['q2'],cl['q3']))\n",
    "    for ql in ['q2', 'q3']:\n",
    "        qb = cl[ql]\n",
    "        pl[ql].clear_pipeline()\n",
    "        pl[ql].stream_type = \"raw\"\n",
    "        pl[ql].create_default_pipeline(buffers=False)\n",
    "        pl[ql].if_freq = qb.measure_chan.autodyne_freq\n",
    "        pl[ql][\"Demodulate\"].frequency = qb.measure_chan.autodyne_freq\n",
    "        if write_demods:\n",
    "            pl[ql][\"Demodulate\"].add(Write(label=\"demod-writer\", groupname=ql+\"-demod\"))\n",
    "        pl[ql][\"Demodulate\"][\"Integrate\"].simple_kernel = True\n",
    "        pl[ql][\"Demodulate\"][\"Integrate\"].box_car_start = 3e-7\n",
    "        pl[ql][\"Demodulate\"][\"Integrate\"].box_car_stop = 1.3e-6\n",
    "        pl[ql][\"Demodulate\"][\"Integrate\"].add(Write(label=\"RR-Writer\", groupname=ql+\"-int\"))\n",
    "        if plot:\n",
    "            pl[ql][\"Demodulate\"][\"Integrate\"][\"Average\"].add(Display(label=ql+\" - Final Average\", plot_dims=0))\n",
    "            pl[ql][\"Demodulate\"][\"Integrate\"][\"Average\"].add(Display(label=ql+\" - Partial Average\", plot_dims=0), connector_out=\"partial_average\")\n",
    "    return pl\n",
    "\n",
    "# save everything... using data buffers instead of writing to file\n",
    "def create_full_pipeline(buffers=True):\n",
    "    pl = PipelineManager()\n",
    "    pl.create_default_pipeline(qubits=(cl['q2'],cl['q3']), buffers=True)\n",
    "    for ql in ['q2', 'q3']:\n",
    "        qb = cl[ql]\n",
    "        pl[ql].clear_pipeline()\n",
    "        pl[ql].stream_type = \"raw\"\n",
    "        pl[ql].create_default_pipeline(buffers=buffers)\n",
    "        if buffers:\n",
    "            pl[ql].add(Buffer(label=\"raw_buffer\"))\n",
    "        else:\n",
    "            pl[ql].add(Write(label=\"raw-write\", groupname=ql+\"-raw\"))\n",
    "        pl[ql].if_freq = qb.measure_chan.autodyne_freq\n",
    "        pl[ql][\"Demodulate\"].frequency = qb.measure_chan.autodyne_freq\n",
    "        if buffers:\n",
    "            pl[ql][\"Demodulate\"].add(Buffer(label=\"demod_buffer\"))\n",
    "        else:\n",
    "            pl[ql][\"Demodulate\"].add(Write(label=\"demod_write\", groupname=ql+\"-demod\"))\n",
    "        pl[ql][\"Demodulate\"][\"Integrate\"].simple_kernel = True\n",
    "        pl[ql][\"Demodulate\"][\"Integrate\"].box_car_start = 3e-7\n",
    "        pl[ql][\"Demodulate\"][\"Integrate\"].box_car_stop = 1.6e-6\n",
    "        if buffers:\n",
    "            pl[ql][\"Demodulate\"][\"Integrate\"].add(Buffer(label=\"integrator_buffer\"))\n",
    "        else:\n",
    "            pl[ql][\"Demodulate\"][\"Integrate\"].add(Write(label=\"int_write\", groupname=ql+\"-integrated\"))\n",
    "        pl[ql][\"Demodulate\"][\"Integrate\"][\"Average\"].add(Display(label=ql+\" - Final Average\", plot_dims=0))\n",
    "        pl[ql][\"Demodulate\"][\"Integrate\"][\"Average\"].add(Display(label=ql+\" - Partial Average\", plot_dims=0), connector_out=\"partial_average\")\n",
    "    return pl\n",
    "\n",
    "# A more complicated pipeline with a correlator\n",
    "# These have to be coded more manually because the correlator needs all the correlated channels specified.\n",
    "# Note that for tomography you're going to want to save the data variance as well, though this can be calculated \n",
    "# after the fact if you save the raw shots (save_rr).\n",
    "def create_tomo_pipeline(save_rr=False, plotting=True):\n",
    "    pl = PipelineManager()\n",
    "    pl.create_default_pipeline(qubits=(cl['q2'],cl['q3']))\n",
    "    \n",
    "    for ql in ['q2', 'q3']:\n",
    "        qb = cl[ql]\n",
    "        pl[ql].clear_pipeline()\n",
    "        pl[ql].stream_type = \"integrated\"\n",
    "        pl[ql].create_default_pipeline(buffers=False) \n",
    "        pl[ql].kernel = f\"{ql.upper()}_SSF_kernel.txt\"\n",
    "        pl[ql][\"Average\"].add(Write(label='var'), connector_out='final_variance')\n",
    "        pl[ql][\"Average\"][\"var\"].groupname = ql + '-main'\n",
    "        pl[ql][\"Average\"][\"var\"].datasetname = 'variance'\n",
    "        if save_rr:\n",
    "            pl[ql].add(Write(label=\"RR-Writer\", groupname=ql+\"-rr\"))\n",
    "        if plotting:\n",
    "            pl[ql][\"Average\"].add(Display(label=ql+\" - Final Average\", plot_dims=0))\n",
    "            pl[ql][\"Average\"].add(Display(label=ql+\" - Partial Average\", plot_dims=0), connector_out=\"partial_average\")\n",
    "        \n",
    "    # needed for two-qubit state reconstruction\n",
    "    pl.add_correlator(pl['q2'], pl['q3'])\n",
    "    pl['q2']['Correlate'].add(Average(label='corr'))\n",
    "    pl['q2']['Correlate']['Average'].add(Write(label='corr_write'))\n",
    "    pl['q2']['Correlate']['Average'].add(Write(label='corr_var'), connector_out='final_variance')\n",
    "    pl['q2']['Correlate']['Average']['corr_write'].groupname = 'correlate'\n",
    "    pl['q2']['Correlate']['Average']['corr_var'].groupname = 'correlate'\n",
    "    pl['q2']['Correlate']['Average']['corr_var'].datasetname = 'variance'\n",
    "        \n",
    "    return pl"
   ]
  },
  {
   "cell_type": "code",
   "execution_count": null,
   "metadata": {},
   "outputs": [],
   "source": []
  }
 ],
 "metadata": {
  "kernelspec": {
   "display_name": "Python 3",
   "language": "python",
   "name": "python3"
  },
  "language_info": {
   "codemirror_mode": {
    "name": "ipython",
    "version": 3
   },
   "file_extension": ".py",
   "mimetype": "text/x-python",
   "name": "python",
   "nbconvert_exporter": "python",
   "pygments_lexer": "ipython3",
   "version": "3.7.7"
  },
  "latex_envs": {
   "bibliofile": "biblio.bib",
   "cite_by": "apalike",
   "current_citInitial": 1,
   "eqLabelWithNumbers": true,
   "eqNumInitial": 0
  },
  "nav_menu": {},
  "toc": {
   "navigate_menu": true,
   "number_sections": false,
   "sideBar": false,
   "threshold": 6,
   "toc_cell": false,
   "toc_section_display": false,
   "toc_window_display": false
  }
 },
 "nbformat": 4,
 "nbformat_minor": 2
}
