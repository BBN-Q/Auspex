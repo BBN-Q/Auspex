{
 "cells": [
  {
   "cell_type": "code",
   "execution_count": null,
   "metadata": {
    "collapsed": true
   },
   "outputs": [],
   "source": [
    "# Experimental Topology\n",
    "# lockin AO 2 -> Analog Attenuator Vdd\n",
    "# lockin AO 3 -> Analog Attenuator Vc (Control Voltages)\n",
    "# Keithley Output -> Voltage divider with 1 MOhm, DAQmx AI1\n",
    "# AWG Sync Marker Out -> DAQmx PFI0\n",
    "# AWG Samp. Marker Out -> PSPL Trigger"
   ]
  },
  {
   "cell_type": "markdown",
   "metadata": {},
   "source": [
    "## CSHE Phase Diagram with nTron pulses ##"
   ]
  },
  {
   "cell_type": "code",
   "execution_count": 1,
   "metadata": {
    "collapsed": false
   },
   "outputs": [
    {
     "name": "stdout",
     "output_type": "stream",
     "text": [
      "C:\\Users\\qlab\\Documents\\GitHub\\pycontrol\n"
     ]
    }
   ],
   "source": [
    "cd .."
   ]
  },
  {
   "cell_type": "code",
   "execution_count": 2,
   "metadata": {
    "collapsed": true
   },
   "outputs": [],
   "source": [
    "from pycontrol.filters.io import WriteToHDF5, ProgressBar\n",
    "import numpy as np\n",
    "import itertools\n",
    "import time\n",
    "import importlib\n",
    "import matplotlib.pyplot as plt\n",
    "import analysis.switching as sw\n",
    "from adapt import refine\n",
    "from analysis.h5shell import h5shell"
   ]
  },
  {
   "cell_type": "code",
   "execution_count": 3,
   "metadata": {
    "collapsed": false
   },
   "outputs": [],
   "source": [
    "from experiments.Pulse_Switching_CSHE_nTron import nTronPhaseDiagramExperiment"
   ]
  },
  {
   "cell_type": "code",
   "execution_count": 4,
   "metadata": {
    "collapsed": false
   },
   "outputs": [],
   "source": [
    "exp = nTronPhaseDiagramExperiment()\n",
    "exp.sample = \"CSHE5-C1R3\"\n",
    "exp.comment = \"Phase Diagram -  P to AP - Interations = 13 - Settle delay = 200us - Reset 0.2V 5ns\"\n",
    "exp.polarity = 1 # -1: AP to P; 1: P to AP\n",
    "exp.iteration = 13\n",
    "exp.field.value = -0.0074\n",
    "exp.measure_current = 3e-6\n",
    "exp.reset_amplitude = 0.2\n",
    "exp.reset_duration  = 5.0e-9\n",
    "exp.settle_delay    = 200e-6"
   ]
  },
  {
   "cell_type": "code",
   "execution_count": 5,
   "metadata": {
    "collapsed": false
   },
   "outputs": [],
   "source": [
    "wr = WriteToHDF5(\"data\\CSHE-Switching\\CSHE-Die5-C1R3\\CSHE5-C1R3-nTron_P2AP_2016-07-19.h5\")\n",
    "edges = [(exp.daq_buffer, wr.data)]\n",
    "exp.set_graph(edges)"
   ]
  },
  {
   "cell_type": "code",
   "execution_count": 6,
   "metadata": {
    "collapsed": false
   },
   "outputs": [],
   "source": [
    "coarse_ts = 1e-9*np.linspace(0.1, 10, 10) # List of durations\n",
    "coarse_vs = np.linspace(0.5, 1.0, 10)\n",
    "\n",
    "points    = [coarse_ts, coarse_vs]\n",
    "points    = np.array(list(itertools.product(*points)))\n",
    "exp.nTron_durations = points[:,0]\n",
    "exp.nTron_voltages = points[:,1]\n",
    "exp.init_instruments()\n",
    "main_sweep = exp.add_unstructured_sweep([exp.nTron_duration, exp.nTron_voltage], points)"
   ]
  },
  {
   "cell_type": "code",
   "execution_count": 7,
   "metadata": {
    "collapsed": false
   },
   "outputs": [
    {
     "name": "stderr",
     "output_type": "stream",
     "text": [
      "C:\\Users\\qlab\\Anaconda3\\lib\\site-packages\\sklearn\\cluster\\k_means_.py:821: RuntimeWarning: Explicit initial center position passed: performing only one init in k-means instead of n_init=10\n",
      "  n_jobs=self.n_jobs)\n"
     ]
    },
    {
     "name": "stdout",
     "output_type": "stream",
     "text": [
      "21 new points added.\n",
      "Elapsed time: 1.162315599123637 min.\n",
      "\n",
      "45 new points added.\n",
      "Elapsed time: 1.4258579333623251 min.\n",
      "\n",
      "58 new points added.\n",
      "Elapsed time: 1.9693557381629945 min.\n",
      "\n",
      "92 new points added.\n",
      "Elapsed time: 2.6639538288116453 min.\n",
      "\n",
      "132 new points added.\n",
      "Elapsed time: 3.7447510957717896 min.\n",
      "\n",
      "215 new points added.\n",
      "Elapsed time: 5.292644361654918 min.\n",
      "\n",
      "261 new points added.\n",
      "Elapsed time: 7.813336634635926 min.\n",
      "\n",
      "338 new points added.\n",
      "Elapsed time: 10.896857110659282 min.\n",
      "\n",
      "628 new points added.\n",
      "Elapsed time: 14.924935992558797 min.\n",
      "\n",
      "761 new points added.\n",
      "Elapsed time: 22.63941003481547 min.\n",
      "\n",
      "1033 new points added.\n",
      "Elapsed time: 32.18842465082805 min.\n",
      "\n",
      "1805 new points added.\n",
      "Elapsed time: 45.578509187698366 min.\n",
      "\n",
      "2302 new points added.\n",
      "Elapsed time: 68.48931938807169 min.\n",
      "Warning: failed to stop task (this normally happens with no consequences when taking multiple samples per trigger).\n",
      "Total points: 5489\n",
      "Total elapsed time: 68.58105798959733 min.\n"
     ]
    }
   ],
   "source": [
    "figs = []\n",
    "t1 = time.time()\n",
    "for i in range(exp.iteration):\n",
    "    exp.init_progressbar(1,notebook=True)\n",
    "    exp.reset()\n",
    "    exp.run_sweeps()\n",
    "    points, mean = sw.load_switching_data(wr.filename)\n",
    "    figs.append(sw.phase_diagram_mesh(points, mean, title=\"Iteration={}\".format(i)))\n",
    "    new_points = refine.refine_scalar_field(points, mean, all_points=False,\n",
    "                                criterion=\"integral\", threshold = \"one_sigma\")\n",
    "    if new_points is None:\n",
    "        print(\"No more points can be added.\")\n",
    "        break\n",
    "    #\n",
    "    print(\"Elapsed time: {} min.\".format((time.time()-t1)/60))\n",
    "    main_sweep.update_values(new_points)\n",
    "    exp.nTron_durations = new_points[:,0]\n",
    "    exp.nTron_voltages = new_points[:,1]\n",
    "    exp.setup_arb()\n",
    "\n",
    "t2 = time.time()\n",
    "exp.shutdown_instruments()\n",
    "print(\"Total points: {}\".format(len(points)))\n",
    "print(\"Total elapsed time: {} min.\".format((t2-t1)/60))"
   ]
  },
  {
   "cell_type": "code",
   "execution_count": 8,
   "metadata": {
    "collapsed": true
   },
   "outputs": [],
   "source": [
    "plt.show()"
   ]
  },
  {
   "cell_type": "code",
   "execution_count": 8,
   "metadata": {
    "collapsed": false
   },
   "outputs": [
    {
     "name": "stderr",
     "output_type": "stream",
     "text": [
      "C:\\Users\\qlab\\Anaconda3\\lib\\site-packages\\sklearn\\cluster\\k_means_.py:821: RuntimeWarning: Explicit initial center position passed: performing only one init in k-means instead of n_init=10\n",
      "  n_jobs=self.n_jobs)\n"
     ]
    }
   ],
   "source": [
    "points, mean = sw.load_switching_data(wr.filename, start_state=0, display=True)\n",
    "fig_sw = sw.phase_diagram_mesh(points, mean,\n",
    "                              title = \"nTron - P to AP\",\n",
    "                              xlabel = \"Fall Time (s)\",\n",
    "                              ylabel = \"Peak Voltage (V)\")"
   ]
  },
  {
   "cell_type": "code",
   "execution_count": 9,
   "metadata": {
    "collapsed": false
   },
   "outputs": [
    {
     "name": "stderr",
     "output_type": "stream",
     "text": [
      "C:\\Users\\qlab\\Anaconda3\\lib\\site-packages\\sklearn\\cluster\\k_means_.py:821: RuntimeWarning: Explicit initial center position passed: performing only one init in k-means instead of n_init=10\n",
      "  n_jobs=self.n_jobs)\n"
     ]
    }
   ],
   "source": [
    "# Reset failures\n",
    "points, fails = sw.load_switching_data(wr.filename, failure=True, start_state=0)\n",
    "fig_fail = sw.phase_diagram_mesh(points, fails,\n",
    "                              title = \"nTron - P to AP - Failures\",\n",
    "                              xlabel = \"Fall Time (s)\",\n",
    "                              ylabel = \"Peak Voltage (V)\")\n",
    "plt.show()"
   ]
  },
  {
   "cell_type": "code",
   "execution_count": 11,
   "metadata": {
    "collapsed": false
   },
   "outputs": [],
   "source": [
    "# For evaluation of adaptive method, plot the mesh\n",
    "mesh, scale_factors = sw.scaled_Delaunay(points)\n",
    "fig_mesh = sw.phase_diagram_mesh(points, mean, shading='gouraud')\n",
    "plt.triplot(mesh.points[:,0]/scale_factors[0],\n",
    "            mesh.points[:,1]/scale_factors[1], mesh.simplices.copy());\n",
    "plt.show()"
   ]
  },
  {
   "cell_type": "code",
   "execution_count": null,
   "metadata": {
    "collapsed": false
   },
   "outputs": [
    {
     "name": "stderr",
     "output_type": "stream",
     "text": [
      "C:\\Users\\qlab\\Anaconda3\\lib\\site-packages\\sklearn\\cluster\\k_means_.py:821: RuntimeWarning: Explicit initial center position passed: performing only one init in k-means instead of n_init=10\n",
      "  n_jobs=self.n_jobs)\n"
     ]
    }
   ],
   "source": [
    "points2, mean2 = sw.load_switching_data(wr.filename, start_state=1) # threshold = 130e+3*3e-6)\n",
    "fig2 = sw.phase_diagram_mesh(points2, mean2)\n",
    "plt.show()"
   ]
  },
  {
   "cell_type": "code",
   "execution_count": 12,
   "metadata": {
    "collapsed": false
   },
   "outputs": [
    {
     "name": "stderr",
     "output_type": "stream",
     "text": [
      "C:\\Users\\qlab\\Anaconda3\\lib\\site-packages\\sklearn\\cluster\\k_means_.py:821: RuntimeWarning: Explicit initial center position passed: performing only one init in k-means instead of n_init=10\n",
      "  n_jobs=self.n_jobs)\n"
     ]
    }
   ],
   "source": [
    "clusters = sw.cluster(mean, display=True)"
   ]
  },
  {
   "cell_type": "code",
   "execution_count": 13,
   "metadata": {
    "collapsed": true
   },
   "outputs": [],
   "source": [
    "plt.show()"
   ]
  },
  {
   "cell_type": "code",
   "execution_count": 19,
   "metadata": {
    "collapsed": false
   },
   "outputs": [
    {
     "data": {
      "text/plain": [
       "<module 'analysis.switching' from 'C:\\\\Users\\\\qlab\\\\Documents\\\\GitHub\\\\pycontrol\\\\analysis\\\\switching.py'>"
      ]
     },
     "execution_count": 19,
     "metadata": {},
     "output_type": "execute_result"
    }
   ],
   "source": [
    "importlib.reload(sw)"
   ]
  },
  {
   "cell_type": "code",
   "execution_count": 8,
   "metadata": {
    "collapsed": true
   },
   "outputs": [],
   "source": [
    "f = h5shell(wr.filename,'r')\n",
    "f.close()"
   ]
  },
  {
   "cell_type": "code",
   "execution_count": 9,
   "metadata": {
    "collapsed": false
   },
   "outputs": [
    {
     "data": {
      "text/plain": [
       "<h5shell>-<Closed HDF5 file>"
      ]
     },
     "execution_count": 9,
     "metadata": {},
     "output_type": "execute_result"
    }
   ],
   "source": [
    "f"
   ]
  },
  {
   "cell_type": "code",
   "execution_count": null,
   "metadata": {
    "collapsed": true
   },
   "outputs": [],
   "source": []
  }
 ],
 "metadata": {
  "kernelspec": {
   "display_name": "Python 3",
   "language": "python",
   "name": "python3"
  },
  "language_info": {
   "codemirror_mode": {
    "name": "ipython",
    "version": 3
   },
   "file_extension": ".py",
   "mimetype": "text/x-python",
   "name": "python",
   "nbconvert_exporter": "python",
   "pygments_lexer": "ipython3",
   "version": "3.5.1"
  }
 },
 "nbformat": 4,
 "nbformat_minor": 0
}
