{
 "cells": [
  {
   "cell_type": "markdown",
   "metadata": {},
   "source": [
    "# Example Q3: Managing the Filter Pipeline\n",
    "This example notebook shows how to use the `PipelineManager` to modify the signal processing on qubit data.\n",
    "\n",
    "(c) Raytheon BBN Technologies 2018"
   ]
  },
  {
   "cell_type": "markdown",
   "metadata": {},
   "source": [
    "We initialize a slightly more advanced channel library:"
   ]
  },
  {
   "cell_type": "code",
   "execution_count": 1,
   "metadata": {},
   "outputs": [
    {
     "name": "stderr",
     "output_type": "stream",
     "text": [
      "Defaulting to temporary directory for AWG sequence file outputs.\n"
     ]
    }
   ],
   "source": [
    "from QGL import *\n",
    "\n",
    "cl = ChannelLibrary(db_resource_name=\":memory:\")\n",
    "\n",
    "# Create five qubits and supporting hardware\n",
    "for i in range(5):\n",
    "    q1 = cl.new_qubit(f\"q{i}\")\n",
    "    cl.new_APS2(f\"BBNAPS2-{2*i+1}\", address=f\"192.168.5.{101+2*i}\") \n",
    "    cl.new_APS2(f\"BBNAPS2-{2*i+2}\", address=f\"192.168.5.{102+2*i}\")\n",
    "    cl.new_X6(f\"X6_{i}\", address=0)\n",
    "    cl.new_source(f\"Holz{2*i+1}\", \"HolzworthHS9000\", f\"HS9004A-009-{2*i}\", power=-30)\n",
    "    cl.new_source(f\"Holz{2*i+2}\", \"HolzworthHS9000\", f\"HS9004A-009-{2*i+1}\", power=-30) \n",
    "    cl.set_control(cl[f\"q{i}\"], cl[f\"BBNAPS2-{2*i+1}\"], generator=cl[f\"Holz{2*i+1}\"])\n",
    "    cl.set_measure(cl[f\"q{i}\"], cl[f\"BBNAPS2-{2*i+2}\"], cl[f\"X6_{i}\"][\"raw-1-1\"], generator=cl[f\"Holz{2*i+2}\"])\n",
    "\n",
    "cl.set_master(cl[\"BBNAPS2-1\"], cl[\"BBNAPS2-1\"].ch(\"m2\"))\n",
    "cl.commit()"
   ]
  },
  {
   "cell_type": "markdown",
   "metadata": {},
   "source": [
    "## Creating the Default Filter Pipeline"
   ]
  },
  {
   "cell_type": "code",
   "execution_count": 2,
   "metadata": {},
   "outputs": [
    {
     "name": "stdout",
     "output_type": "stream",
     "text": [
      "auspex-WARNING: 2019-03-08 10:34:17,499 ----> Could not load channelizer library; falling back to python methods.\n"
     ]
    }
   ],
   "source": [
    "from auspex.qubit import *"
   ]
  },
  {
   "cell_type": "markdown",
   "metadata": {},
   "source": [
    "The `PipelineManager` is analogous to the `ChannelLibrary` insomuchas it provides the user with an interface to programmatically modify the filter pipeline, and to save and load different versions of the pipeline."
   ]
  },
  {
   "cell_type": "code",
   "execution_count": 3,
   "metadata": {},
   "outputs": [],
   "source": [
    "pl = PipelineManager()"
   ]
  },
  {
   "cell_type": "markdown",
   "metadata": {},
   "source": [
    "Pipelines are fairly predictable, and will provide some subset of the functionality of demodulating, integrating, average, and writing to file. Some of these can be done on hardware, some in software. The PipelineManager can guess what the user wants for a particular qubit by inspecting which equipment has been assigned to it using the `set_measure` command for the ChannelLibrary. For example, this ChannelLibrary has defined X6-1000M cards for readout, and the description of this instrument indicates that the highest level available stream is integrated. Thus, the PipelineManager automatically inserts the remaining averager and writer."
   ]
  },
  {
   "cell_type": "code",
   "execution_count": 4,
   "metadata": {},
   "outputs": [
    {
     "data": {
      "text/html": [
       "\n",
       "            <style>\n",
       "                .hover_tooltip table { border-collapse: collapse; padding: 8px; }\n",
       "                .hover_tooltip th, .hover_tooltip td { text-align: left; padding: 8px; }\n",
       "                .hover_tooltip tr:nth-child(even) { background-color: #cccccc; padding: 8px; }\n",
       "            </style>\n",
       "            "
      ],
      "text/plain": [
       "<IPython.core.display.HTML object>"
      ]
     },
     "metadata": {},
     "output_type": "display_data"
    },
    {
     "data": {
      "application/vnd.jupyter.widget-view+json": {
       "model_id": "4a74cc9c8c9345c59e954361e4499dfa",
       "version_major": 2,
       "version_minor": 0
      },
      "text/plain": [
       "Figure(fig_margin={'top': 60, 'bottom': 60, 'left': 60, 'right': 60}, layout=Layout(height='500px', width='960…"
      ]
     },
     "metadata": {},
     "output_type": "display_data"
    }
   ],
   "source": [
    "pl.create_default_pipeline()\n",
    "pl.show_pipeline()"
   ]
  },
  {
   "cell_type": "markdown",
   "metadata": {},
   "source": [
    "We can print the properties of individual filters or subgraphs:"
   ]
  },
  {
   "cell_type": "code",
   "execution_count": 5,
   "metadata": {},
   "outputs": [
    {
     "data": {
      "text/html": [
       "<table><tr><th>Name</th><th>Attribute</th><th>Value</th><th>Uncommitted Changes</th></tr><tr><tr><td><b>write</b> (q1)</td><td></td><td><i>Unlabeled</i></td></td><td></tr><tr><td></td><td>filename</td><td>output.auspex</td><td></td></tr><tr><td></td><td>groupname</td><td>q1-main</td><td></td></tr><tr><td></td><td>add_date</td><td>False</td><td></td></tr><tr><td><b>average</b> (q1)</td><td></td><td><i>Unlabeled</i></td></td><td></tr><tr><td></td><td>axis</td><td>averages</td><td></td></tr></tr></table>"
      ],
      "text/plain": [
       "<IPython.core.display.HTML object>"
      ]
     },
     "metadata": {},
     "output_type": "display_data"
    }
   ],
   "source": [
    "pl.print(\"q1\")"
   ]
  },
  {
   "cell_type": "markdown",
   "metadata": {},
   "source": [
    "Dictionary access is provided to allow drilling down into the pipelines. One can use the specific label of a filter or simple its type in this access mode:"
   ]
  },
  {
   "cell_type": "code",
   "execution_count": 6,
   "metadata": {},
   "outputs": [
    {
     "data": {
      "text/html": [
       "<table><tr><th>Name</th><th>Attribute</th><th>Value</th><th>Uncommitted Changes</th></tr><tr><tr><td><b>write</b> (q1)</td><td></td><td><i>Unlabeled</i></td></td><td></tr><tr><td></td><td>filename</td><td>new.h5</td><td>Yes</td></tr><tr><td></td><td>groupname</td><td>q1-main</td><td></td></tr><tr><td></td><td>add_date</td><td>False</td><td></td></tr><tr><td><b>average</b> (q1)</td><td></td><td><i>Unlabeled</i></td></td><td></tr><tr><td></td><td>axis</td><td>averages</td><td></td></tr></tr></table>"
      ],
      "text/plain": [
       "<IPython.core.display.HTML object>"
      ]
     },
     "metadata": {},
     "output_type": "display_data"
    }
   ],
   "source": [
    "pl[\"q1\"][\"Average\"][\"Write\"].filename = \"new.h5\"\n",
    "pl.print(\"q1\")"
   ]
  },
  {
   "cell_type": "markdown",
   "metadata": {},
   "source": [
    "Here uncommitted changes are shown. This can be rectified in the standard way:"
   ]
  },
  {
   "cell_type": "code",
   "execution_count": 7,
   "metadata": {},
   "outputs": [
    {
     "data": {
      "text/html": [
       "<table><tr><th>Name</th><th>Attribute</th><th>Value</th><th>Uncommitted Changes</th></tr><tr><tr><td><b>write</b> (q1)</td><td></td><td><i>Unlabeled</i></td></td><td></tr><tr><td></td><td>filename</td><td>new.h5</td><td></td></tr><tr><td></td><td>groupname</td><td>q1-main</td><td></td></tr><tr><td></td><td>add_date</td><td>False</td><td></td></tr><tr><td><b>average</b> (q1)</td><td></td><td><i>Unlabeled</i></td></td><td></tr><tr><td></td><td>axis</td><td>averages</td><td></td></tr></tr></table>"
      ],
      "text/plain": [
       "<IPython.core.display.HTML object>"
      ]
     },
     "metadata": {},
     "output_type": "display_data"
    }
   ],
   "source": [
    "cl.commit()\n",
    "pl.print(\"q1\")"
   ]
  },
  {
   "cell_type": "markdown",
   "metadata": {},
   "source": [
    "## Programmatic Modification of the Pipeline\n",
    "Some simple convenience functions allow the use to easily specify complex pipeline structures."
   ]
  },
  {
   "cell_type": "code",
   "execution_count": 8,
   "metadata": {},
   "outputs": [
    {
     "data": {
      "text/html": [
       "\n",
       "            <style>\n",
       "                .hover_tooltip table { border-collapse: collapse; padding: 8px; }\n",
       "                .hover_tooltip th, .hover_tooltip td { text-align: left; padding: 8px; }\n",
       "                .hover_tooltip tr:nth-child(even) { background-color: #cccccc; padding: 8px; }\n",
       "            </style>\n",
       "            "
      ],
      "text/plain": [
       "<IPython.core.display.HTML object>"
      ]
     },
     "metadata": {},
     "output_type": "display_data"
    },
    {
     "data": {
      "application/vnd.jupyter.widget-view+json": {
       "model_id": "40c2618e6c6c4dcd882f925d56fb9d0f",
       "version_major": 2,
       "version_minor": 0
      },
      "text/plain": [
       "Figure(fig_margin={'top': 60, 'bottom': 60, 'left': 60, 'right': 60}, layout=Layout(height='500px', width='960…"
      ]
     },
     "metadata": {},
     "output_type": "display_data"
    }
   ],
   "source": [
    "pl.save_as(\"simple\")\n",
    "pl[\"q1\"].clear_pipeline()\n",
    "pl[\"q1\"].set_stream_type(\"raw\")\n",
    "pl[\"q1\"].create_default_pipeline()\n",
    "pl[\"q1\"].show_pipeline()"
   ]
  },
  {
   "cell_type": "code",
   "execution_count": 9,
   "metadata": {},
   "outputs": [
    {
     "data": {
      "text/html": [
       "\n",
       "            <style>\n",
       "                .hover_tooltip table { border-collapse: collapse; padding: 8px; }\n",
       "                .hover_tooltip th, .hover_tooltip td { text-align: left; padding: 8px; }\n",
       "                .hover_tooltip tr:nth-child(even) { background-color: #cccccc; padding: 8px; }\n",
       "            </style>\n",
       "            "
      ],
      "text/plain": [
       "<IPython.core.display.HTML object>"
      ]
     },
     "metadata": {},
     "output_type": "display_data"
    },
    {
     "data": {
      "application/vnd.jupyter.widget-view+json": {
       "model_id": "e573e41dbc064df091b1aa91928eacbd",
       "version_major": 2,
       "version_minor": 0
      },
      "text/plain": [
       "Figure(fig_margin={'top': 60, 'bottom': 60, 'left': 60, 'right': 60}, layout=Layout(height='500px', width='960…"
      ]
     },
     "metadata": {},
     "output_type": "display_data"
    }
   ],
   "source": [
    "pl[\"q1\"].add(Display(label=\"Raw Plot\"))\n",
    "pl[\"q1\"][\"Demodulate\"].add(Average(label=\"Demod Average\")).add(Display(label=\"Demod Plot\"))\n",
    "pl.show_pipeline()"
   ]
  },
  {
   "cell_type": "markdown",
   "metadata": {},
   "source": [
    "As with the `ChannelLibrary` we can list save, list, and load versions of the filter pipeline."
   ]
  },
  {
   "cell_type": "code",
   "execution_count": 10,
   "metadata": {},
   "outputs": [
    {
     "data": {
      "text/html": [
       "<table><tr><th>id</th><th>Year</th><th>Date</th><th>Time</th><th>Name</th></tr><tr><tr><td>0</td><td>2019</td><td>Mar. 08</td><td>10:34:17 AM</td><td>working</td></tr><tr><td>1</td><td>2019</td><td>Mar. 08</td><td>10:34:18 AM</td><td>simple</td></tr><tr><td>2</td><td>2019</td><td>Mar. 08</td><td>10:34:18 AM</td><td>custom</td></tr></tr></table>"
      ],
      "text/plain": [
       "<IPython.core.display.HTML object>"
      ]
     },
     "metadata": {},
     "output_type": "display_data"
    }
   ],
   "source": [
    "pl.session.commit()\n",
    "pl.save_as(\"custom\")\n",
    "pl.ls()"
   ]
  },
  {
   "cell_type": "code",
   "execution_count": 11,
   "metadata": {},
   "outputs": [
    {
     "data": {
      "text/html": [
       "\n",
       "            <style>\n",
       "                .hover_tooltip table { border-collapse: collapse; padding: 8px; }\n",
       "                .hover_tooltip th, .hover_tooltip td { text-align: left; padding: 8px; }\n",
       "                .hover_tooltip tr:nth-child(even) { background-color: #cccccc; padding: 8px; }\n",
       "            </style>\n",
       "            "
      ],
      "text/plain": [
       "<IPython.core.display.HTML object>"
      ]
     },
     "metadata": {},
     "output_type": "display_data"
    },
    {
     "data": {
      "application/vnd.jupyter.widget-view+json": {
       "model_id": "8f54e4044e094d71b35671a069204c78",
       "version_major": 2,
       "version_minor": 0
      },
      "text/plain": [
       "Figure(fig_margin={'top': 60, 'bottom': 60, 'left': 60, 'right': 60}, layout=Layout(height='500px', width='960…"
      ]
     },
     "metadata": {},
     "output_type": "display_data"
    }
   ],
   "source": [
    "pl.load(\"simple\")\n",
    "pl.show_pipeline()"
   ]
  },
  {
   "cell_type": "code",
   "execution_count": 12,
   "metadata": {},
   "outputs": [
    {
     "data": {
      "text/html": [
       "\n",
       "            <style>\n",
       "                .hover_tooltip table { border-collapse: collapse; padding: 8px; }\n",
       "                .hover_tooltip th, .hover_tooltip td { text-align: left; padding: 8px; }\n",
       "                .hover_tooltip tr:nth-child(even) { background-color: #cccccc; padding: 8px; }\n",
       "            </style>\n",
       "            "
      ],
      "text/plain": [
       "<IPython.core.display.HTML object>"
      ]
     },
     "metadata": {},
     "output_type": "display_data"
    },
    {
     "data": {
      "application/vnd.jupyter.widget-view+json": {
       "model_id": "e1e0787f57a143e68db429bcc989436a",
       "version_major": 2,
       "version_minor": 0
      },
      "text/plain": [
       "Figure(fig_margin={'top': 60, 'bottom': 60, 'left': 60, 'right': 60}, layout=Layout(height='500px', width='960…"
      ]
     },
     "metadata": {},
     "output_type": "display_data"
    }
   ],
   "source": [
    "pl.load(\"custom\")\n",
    "pl.show_pipeline()"
   ]
  }
 ],
 "metadata": {
  "kernelspec": {
   "display_name": "Python 3",
   "language": "python",
   "name": "python3"
  },
  "language_info": {
   "codemirror_mode": {
    "name": "ipython",
    "version": 3
   },
   "file_extension": ".py",
   "mimetype": "text/x-python",
   "name": "python",
   "nbconvert_exporter": "python",
   "pygments_lexer": "ipython3",
   "version": "3.7.1"
  }
 },
 "nbformat": 4,
 "nbformat_minor": 2
}
